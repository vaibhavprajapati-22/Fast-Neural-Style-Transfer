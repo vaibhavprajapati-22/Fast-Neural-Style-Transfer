{
 "cells": [
  {
   "cell_type": "markdown",
   "id": "5e5bf849",
   "metadata": {
    "papermill": {
     "duration": 0.012929,
     "end_time": "2024-06-20T03:30:30.685744",
     "exception": false,
     "start_time": "2024-06-20T03:30:30.672815",
     "status": "completed"
    },
    "tags": []
   },
   "source": [
    "# Importing libraries"
   ]
  },
  {
   "cell_type": "code",
   "execution_count": 1,
   "id": "1359f11b",
   "metadata": {
    "execution": {
     "iopub.execute_input": "2024-06-20T03:30:30.711780Z",
     "iopub.status.busy": "2024-06-20T03:30:30.711396Z",
     "iopub.status.idle": "2024-06-20T03:30:36.723533Z",
     "shell.execute_reply": "2024-06-20T03:30:36.722339Z"
    },
    "papermill": {
     "duration": 6.02836,
     "end_time": "2024-06-20T03:30:36.726293",
     "exception": false,
     "start_time": "2024-06-20T03:30:30.697933",
     "status": "completed"
    },
    "tags": []
   },
   "outputs": [],
   "source": [
    "import os\n",
    "from torch.utils.data import Dataset, DataLoader\n",
    "from torchvision import transforms, models\n",
    "from PIL import Image\n",
    "import torch\n",
    "import torch.nn as nn\n",
    "from tqdm.autonotebook import tqdm\n",
    "from collections import namedtuple\n",
    "import matplotlib.pyplot as plt"
   ]
  },
  {
   "cell_type": "markdown",
   "id": "62767288",
   "metadata": {
    "papermill": {
     "duration": 0.012062,
     "end_time": "2024-06-20T03:30:36.751257",
     "exception": false,
     "start_time": "2024-06-20T03:30:36.739195",
     "status": "completed"
    },
    "tags": []
   },
   "source": [
    "# Loading the COCO dataset"
   ]
  },
  {
   "cell_type": "markdown",
   "id": "ccd45fd2",
   "metadata": {
    "papermill": {
     "duration": 0.013247,
     "end_time": "2024-06-20T03:30:36.778370",
     "exception": false,
     "start_time": "2024-06-20T03:30:36.765123",
     "status": "completed"
    },
    "tags": []
   },
   "source": [
    "**Function that return the path of training images**"
   ]
  },
  {
   "cell_type": "code",
   "execution_count": 2,
   "id": "d99574a4",
   "metadata": {
    "execution": {
     "iopub.execute_input": "2024-06-20T03:30:36.808220Z",
     "iopub.status.busy": "2024-06-20T03:30:36.805714Z",
     "iopub.status.idle": "2024-06-20T03:30:36.814068Z",
     "shell.execute_reply": "2024-06-20T03:30:36.812936Z"
    },
    "papermill": {
     "duration": 0.024769,
     "end_time": "2024-06-20T03:30:36.816269",
     "exception": false,
     "start_time": "2024-06-20T03:30:36.791500",
     "status": "completed"
    },
    "tags": []
   },
   "outputs": [],
   "source": [
    "def TrainImagesPath(path):\n",
    "    images_path = []\n",
    "    for file in os.listdir(path):\n",
    "        if file == \"test2017\":\n",
    "            file_path = os.path.join(path, file)\n",
    "            for f in os.listdir(file_path):\n",
    "                image_path = os.path.join(file_path, f)\n",
    "                images_path.append(image_path)\n",
    "                if len(images_path) == 40000:\n",
    "                    break\n",
    "    return images_path"
   ]
  },
  {
   "cell_type": "markdown",
   "id": "47e6a120",
   "metadata": {
    "papermill": {
     "duration": 0.012312,
     "end_time": "2024-06-20T03:30:36.841318",
     "exception": false,
     "start_time": "2024-06-20T03:30:36.829006",
     "status": "completed"
    },
    "tags": []
   },
   "source": [
    "**Getting images paths**"
   ]
  },
  {
   "cell_type": "code",
   "execution_count": 3,
   "id": "98e11e11",
   "metadata": {
    "execution": {
     "iopub.execute_input": "2024-06-20T03:30:36.868693Z",
     "iopub.status.busy": "2024-06-20T03:30:36.868305Z",
     "iopub.status.idle": "2024-06-20T03:30:37.425601Z",
     "shell.execute_reply": "2024-06-20T03:30:37.424658Z"
    },
    "papermill": {
     "duration": 0.574304,
     "end_time": "2024-06-20T03:30:37.428333",
     "exception": false,
     "start_time": "2024-06-20T03:30:36.854029",
     "status": "completed"
    },
    "tags": []
   },
   "outputs": [],
   "source": [
    "path = \"/kaggle/input/coco-2017-dataset/coco2017\"\n",
    "train_images_path = TrainImagesPath(path)"
   ]
  },
  {
   "cell_type": "markdown",
   "id": "a1a33bcd",
   "metadata": {
    "papermill": {
     "duration": 0.012902,
     "end_time": "2024-06-20T03:30:37.454889",
     "exception": false,
     "start_time": "2024-06-20T03:30:37.441987",
     "status": "completed"
    },
    "tags": []
   },
   "source": [
    "**Creating Custom Dataset and Dataloader**"
   ]
  },
  {
   "cell_type": "code",
   "execution_count": 4,
   "id": "e57c26b4",
   "metadata": {
    "execution": {
     "iopub.execute_input": "2024-06-20T03:30:37.481638Z",
     "iopub.status.busy": "2024-06-20T03:30:37.481238Z",
     "iopub.status.idle": "2024-06-20T03:30:37.488991Z",
     "shell.execute_reply": "2024-06-20T03:30:37.487888Z"
    },
    "papermill": {
     "duration": 0.024216,
     "end_time": "2024-06-20T03:30:37.491596",
     "exception": false,
     "start_time": "2024-06-20T03:30:37.467380",
     "status": "completed"
    },
    "tags": []
   },
   "outputs": [],
   "source": [
    "class CustomDataset(Dataset):\n",
    "    def __init__(self, images_path, labels, transform=None):\n",
    "        self.images_path = images_path\n",
    "        self.labels = labels\n",
    "        self.transform = transform\n",
    "        \n",
    "    def __len__(self):\n",
    "        return len(self.images_path)\n",
    "        \n",
    "    def __getitem__(self, idx):\n",
    "        image = Image.open(self.images_path[idx]).convert('RGB') \n",
    "        if self.transform:\n",
    "            image = self.transform(image)\n",
    "        label = self.labels[idx]\n",
    "        return image, label"
   ]
  },
  {
   "cell_type": "code",
   "execution_count": 5,
   "id": "641c0e02",
   "metadata": {
    "execution": {
     "iopub.execute_input": "2024-06-20T03:30:37.519274Z",
     "iopub.status.busy": "2024-06-20T03:30:37.518579Z",
     "iopub.status.idle": "2024-06-20T03:30:37.525040Z",
     "shell.execute_reply": "2024-06-20T03:30:37.523993Z"
    },
    "papermill": {
     "duration": 0.023145,
     "end_time": "2024-06-20T03:30:37.527516",
     "exception": false,
     "start_time": "2024-06-20T03:30:37.504371",
     "status": "completed"
    },
    "tags": []
   },
   "outputs": [],
   "source": [
    "train_transform = transforms.Compose([\n",
    "                                transforms.Resize((256, 256)),\n",
    "                                transforms.CenterCrop((256, 256)),\n",
    "                                transforms.ToTensor(),\n",
    "                                transforms.Lambda(lambda x: x.mul(255))\n",
    "                                    ])"
   ]
  },
  {
   "cell_type": "code",
   "execution_count": 6,
   "id": "70bc9a93",
   "metadata": {
    "execution": {
     "iopub.execute_input": "2024-06-20T03:30:37.554524Z",
     "iopub.status.busy": "2024-06-20T03:30:37.554139Z",
     "iopub.status.idle": "2024-06-20T03:30:37.559367Z",
     "shell.execute_reply": "2024-06-20T03:30:37.558334Z"
    },
    "papermill": {
     "duration": 0.020979,
     "end_time": "2024-06-20T03:30:37.561514",
     "exception": false,
     "start_time": "2024-06-20T03:30:37.540535",
     "status": "completed"
    },
    "tags": []
   },
   "outputs": [],
   "source": [
    "train_dataset = CustomDataset(train_images_path, [0]*len(train_images_path), train_transform)"
   ]
  },
  {
   "cell_type": "code",
   "execution_count": 7,
   "id": "63d58137",
   "metadata": {
    "execution": {
     "iopub.execute_input": "2024-06-20T03:30:37.587857Z",
     "iopub.status.busy": "2024-06-20T03:30:37.587443Z",
     "iopub.status.idle": "2024-06-20T03:30:37.595178Z",
     "shell.execute_reply": "2024-06-20T03:30:37.594001Z"
    },
    "papermill": {
     "duration": 0.024161,
     "end_time": "2024-06-20T03:30:37.598013",
     "exception": false,
     "start_time": "2024-06-20T03:30:37.573852",
     "status": "completed"
    },
    "tags": []
   },
   "outputs": [
    {
     "data": {
      "text/plain": [
       "40000"
      ]
     },
     "execution_count": 7,
     "metadata": {},
     "output_type": "execute_result"
    }
   ],
   "source": [
    "len(train_images_path)"
   ]
  },
  {
   "cell_type": "code",
   "execution_count": 8,
   "id": "c1f5e34b",
   "metadata": {
    "execution": {
     "iopub.execute_input": "2024-06-20T03:30:37.625404Z",
     "iopub.status.busy": "2024-06-20T03:30:37.625033Z",
     "iopub.status.idle": "2024-06-20T03:30:37.630049Z",
     "shell.execute_reply": "2024-06-20T03:30:37.629026Z"
    },
    "papermill": {
     "duration": 0.021518,
     "end_time": "2024-06-20T03:30:37.632444",
     "exception": false,
     "start_time": "2024-06-20T03:30:37.610926",
     "status": "completed"
    },
    "tags": []
   },
   "outputs": [],
   "source": [
    "batch_size = 4"
   ]
  },
  {
   "cell_type": "code",
   "execution_count": 9,
   "id": "d6490457",
   "metadata": {
    "execution": {
     "iopub.execute_input": "2024-06-20T03:30:37.659868Z",
     "iopub.status.busy": "2024-06-20T03:30:37.659436Z",
     "iopub.status.idle": "2024-06-20T03:30:37.664485Z",
     "shell.execute_reply": "2024-06-20T03:30:37.663504Z"
    },
    "papermill": {
     "duration": 0.021492,
     "end_time": "2024-06-20T03:30:37.666733",
     "exception": false,
     "start_time": "2024-06-20T03:30:37.645241",
     "status": "completed"
    },
    "tags": []
   },
   "outputs": [],
   "source": [
    "train_dataloader = DataLoader(train_dataset, batch_size=batch_size)"
   ]
  },
  {
   "cell_type": "markdown",
   "id": "b8661cfe",
   "metadata": {
    "papermill": {
     "duration": 0.01254,
     "end_time": "2024-06-20T03:30:37.691757",
     "exception": false,
     "start_time": "2024-06-20T03:30:37.679217",
     "status": "completed"
    },
    "tags": []
   },
   "source": [
    "# GPU configuration"
   ]
  },
  {
   "cell_type": "code",
   "execution_count": 10,
   "id": "699aec49",
   "metadata": {
    "execution": {
     "iopub.execute_input": "2024-06-20T03:30:37.718630Z",
     "iopub.status.busy": "2024-06-20T03:30:37.718238Z",
     "iopub.status.idle": "2024-06-20T03:30:37.774404Z",
     "shell.execute_reply": "2024-06-20T03:30:37.773407Z"
    },
    "papermill": {
     "duration": 0.072415,
     "end_time": "2024-06-20T03:30:37.776778",
     "exception": false,
     "start_time": "2024-06-20T03:30:37.704363",
     "status": "completed"
    },
    "tags": []
   },
   "outputs": [
    {
     "data": {
      "text/plain": [
       "device(type='cuda')"
      ]
     },
     "execution_count": 10,
     "metadata": {},
     "output_type": "execute_result"
    }
   ],
   "source": [
    "device = torch.device(\"cuda\" if torch.cuda.is_available() else \"cpu\")\n",
    "device"
   ]
  },
  {
   "cell_type": "markdown",
   "id": "7f63f924",
   "metadata": {
    "papermill": {
     "duration": 0.013148,
     "end_time": "2024-06-20T03:30:37.803308",
     "exception": false,
     "start_time": "2024-06-20T03:30:37.790160",
     "status": "completed"
    },
    "tags": []
   },
   "source": [
    "# Function to load style image"
   ]
  },
  {
   "cell_type": "code",
   "execution_count": 11,
   "id": "af979349",
   "metadata": {
    "execution": {
     "iopub.execute_input": "2024-06-20T03:30:37.831393Z",
     "iopub.status.busy": "2024-06-20T03:30:37.830663Z",
     "iopub.status.idle": "2024-06-20T03:30:37.835872Z",
     "shell.execute_reply": "2024-06-20T03:30:37.834890Z"
    },
    "papermill": {
     "duration": 0.021817,
     "end_time": "2024-06-20T03:30:37.838208",
     "exception": false,
     "start_time": "2024-06-20T03:30:37.816391",
     "status": "completed"
    },
    "tags": []
   },
   "outputs": [],
   "source": [
    "style_transform = transforms.Compose([\n",
    "                            transforms.ToTensor(),\n",
    "                            transforms.Lambda(lambda x: x.mul(255))\n",
    "                            ])"
   ]
  },
  {
   "cell_type": "code",
   "execution_count": 12,
   "id": "b2d0cc33",
   "metadata": {
    "execution": {
     "iopub.execute_input": "2024-06-20T03:30:37.866073Z",
     "iopub.status.busy": "2024-06-20T03:30:37.865666Z",
     "iopub.status.idle": "2024-06-20T03:30:37.872281Z",
     "shell.execute_reply": "2024-06-20T03:30:37.871186Z"
    },
    "papermill": {
     "duration": 0.023367,
     "end_time": "2024-06-20T03:30:37.874622",
     "exception": false,
     "start_time": "2024-06-20T03:30:37.851255",
     "status": "completed"
    },
    "tags": []
   },
   "outputs": [],
   "source": [
    "def LoadStyleImage(path, batch_size, device):\n",
    "    style = Image.open(path).convert('RGB')\n",
    "    style = style_transform(style)\n",
    "    style = style.repeat(batch_size, 1, 1, 1)\n",
    "    style = style.to(device) \n",
    "    return style"
   ]
  },
  {
   "cell_type": "markdown",
   "id": "42af6df7",
   "metadata": {
    "papermill": {
     "duration": 0.012638,
     "end_time": "2024-06-20T03:30:37.900277",
     "exception": false,
     "start_time": "2024-06-20T03:30:37.887639",
     "status": "completed"
    },
    "tags": []
   },
   "source": [
    "# Loading Pretained VGG16 model"
   ]
  },
  {
   "cell_type": "code",
   "execution_count": 13,
   "id": "13857f54",
   "metadata": {
    "execution": {
     "iopub.execute_input": "2024-06-20T03:30:37.927631Z",
     "iopub.status.busy": "2024-06-20T03:30:37.927268Z",
     "iopub.status.idle": "2024-06-20T03:30:37.939562Z",
     "shell.execute_reply": "2024-06-20T03:30:37.938601Z"
    },
    "papermill": {
     "duration": 0.02872,
     "end_time": "2024-06-20T03:30:37.941944",
     "exception": false,
     "start_time": "2024-06-20T03:30:37.913224",
     "status": "completed"
    },
    "tags": []
   },
   "outputs": [],
   "source": [
    "class VGG16(nn.Module):\n",
    "    def __init__(self, requires_grad=False):\n",
    "        super(VGG16, self).__init__()\n",
    "        vgg_pretrained_features = models.vgg16(pretrained=True).features\n",
    "        self.slice1 = nn.Sequential()\n",
    "        self.slice2 = nn.Sequential()\n",
    "        self.slice3 = nn.Sequential()\n",
    "        self.slice4 = nn.Sequential()\n",
    "        \n",
    "        for x in range(4):\n",
    "            self.slice1.add_module(str(x), vgg_pretrained_features[x])\n",
    "        for x in range(4, 9):\n",
    "            self.slice2.add_module(str(x), vgg_pretrained_features[x])\n",
    "        for x in range(9, 16):\n",
    "            self.slice3.add_module(str(x), vgg_pretrained_features[x])\n",
    "        for x in range(16, 23):\n",
    "            self.slice4.add_module(str(x), vgg_pretrained_features[x])\n",
    "            \n",
    "        if not requires_grad:\n",
    "            for param in self.parameters():\n",
    "                param.requires_grad = False\n",
    "\n",
    "    def forward(self, X):\n",
    "        h = self.slice1(X)\n",
    "        h_relu1_2 = h\n",
    "        h = self.slice2(h)\n",
    "        h_relu2_2 = h\n",
    "        h = self.slice3(h)\n",
    "        h_relu3_3 = h\n",
    "        h = self.slice4(h)\n",
    "        h_relu4_3 = h\n",
    "        vgg_outputs = namedtuple(\"VggOutputs\", [\"relu1_2\", \"relu2_2\", \"relu3_3\", \"relu4_3\"])\n",
    "        out = vgg_outputs(h_relu1_2, h_relu2_2, h_relu3_3, h_relu4_3)\n",
    "        return out"
   ]
  },
  {
   "cell_type": "code",
   "execution_count": 14,
   "id": "892e930b",
   "metadata": {
    "execution": {
     "iopub.execute_input": "2024-06-20T03:30:37.969346Z",
     "iopub.status.busy": "2024-06-20T03:30:37.968389Z",
     "iopub.status.idle": "2024-06-20T03:30:43.916033Z",
     "shell.execute_reply": "2024-06-20T03:30:43.914249Z"
    },
    "papermill": {
     "duration": 5.965261,
     "end_time": "2024-06-20T03:30:43.919796",
     "exception": false,
     "start_time": "2024-06-20T03:30:37.954535",
     "status": "completed"
    },
    "tags": []
   },
   "outputs": [
    {
     "name": "stderr",
     "output_type": "stream",
     "text": [
      "/opt/conda/lib/python3.10/site-packages/torchvision/models/_utils.py:208: UserWarning: The parameter 'pretrained' is deprecated since 0.13 and may be removed in the future, please use 'weights' instead.\n",
      "  warnings.warn(\n",
      "/opt/conda/lib/python3.10/site-packages/torchvision/models/_utils.py:223: UserWarning: Arguments other than a weight enum or `None` for 'weights' are deprecated since 0.13 and may be removed in the future. The current behavior is equivalent to passing `weights=VGG16_Weights.IMAGENET1K_V1`. You can also use `weights=VGG16_Weights.DEFAULT` to get the most up-to-date weights.\n",
      "  warnings.warn(msg)\n",
      "Downloading: \"https://download.pytorch.org/models/vgg16-397923af.pth\" to /root/.cache/torch/hub/checkpoints/vgg16-397923af.pth\n",
      "100%|██████████| 528M/528M [00:03<00:00, 145MB/s]\n"
     ]
    }
   ],
   "source": [
    "vgg = VGG16(requires_grad=False)"
   ]
  },
  {
   "cell_type": "code",
   "execution_count": 15,
   "id": "bf802773",
   "metadata": {
    "execution": {
     "iopub.execute_input": "2024-06-20T03:30:43.964992Z",
     "iopub.status.busy": "2024-06-20T03:30:43.963746Z",
     "iopub.status.idle": "2024-06-20T03:30:44.154126Z",
     "shell.execute_reply": "2024-06-20T03:30:44.152987Z"
    },
    "papermill": {
     "duration": 0.215981,
     "end_time": "2024-06-20T03:30:44.156860",
     "exception": false,
     "start_time": "2024-06-20T03:30:43.940879",
     "status": "completed"
    },
    "tags": []
   },
   "outputs": [],
   "source": [
    "vgg = vgg.to(device)"
   ]
  },
  {
   "cell_type": "markdown",
   "id": "d28c8808",
   "metadata": {
    "papermill": {
     "duration": 0.016699,
     "end_time": "2024-06-20T03:30:44.190794",
     "exception": false,
     "start_time": "2024-06-20T03:30:44.174095",
     "status": "completed"
    },
    "tags": []
   },
   "source": [
    "# Defining architecture of Transformernet model"
   ]
  },
  {
   "cell_type": "code",
   "execution_count": 16,
   "id": "e98e67f4",
   "metadata": {
    "execution": {
     "iopub.execute_input": "2024-06-20T03:30:44.226336Z",
     "iopub.status.busy": "2024-06-20T03:30:44.225941Z",
     "iopub.status.idle": "2024-06-20T03:30:44.232760Z",
     "shell.execute_reply": "2024-06-20T03:30:44.231748Z"
    },
    "papermill": {
     "duration": 0.027472,
     "end_time": "2024-06-20T03:30:44.235184",
     "exception": false,
     "start_time": "2024-06-20T03:30:44.207712",
     "status": "completed"
    },
    "tags": []
   },
   "outputs": [],
   "source": [
    "class ConvLayer(nn.Module):\n",
    "    def __init__(self, in_channels, out_channels, kernel_size, stride):\n",
    "        super(ConvLayer, self).__init__()\n",
    "        reflection_padding = kernel_size // 2\n",
    "        self.reflection_pad = nn.ReflectionPad2d(reflection_padding)\n",
    "        self.conv2d = nn.Conv2d(in_channels, out_channels, kernel_size, stride)\n",
    "\n",
    "    def forward(self, x):\n",
    "        out = self.reflection_pad(x)\n",
    "        out = self.conv2d(out)\n",
    "        return out"
   ]
  },
  {
   "cell_type": "code",
   "execution_count": 17,
   "id": "143ba579",
   "metadata": {
    "execution": {
     "iopub.execute_input": "2024-06-20T03:30:44.271727Z",
     "iopub.status.busy": "2024-06-20T03:30:44.270803Z",
     "iopub.status.idle": "2024-06-20T03:30:44.279121Z",
     "shell.execute_reply": "2024-06-20T03:30:44.278168Z"
    },
    "papermill": {
     "duration": 0.029515,
     "end_time": "2024-06-20T03:30:44.281524",
     "exception": false,
     "start_time": "2024-06-20T03:30:44.252009",
     "status": "completed"
    },
    "tags": []
   },
   "outputs": [],
   "source": [
    "class ResidualBlock(nn.Module):\n",
    "    def __init__(self, channels):\n",
    "        super(ResidualBlock, self).__init__()\n",
    "        self.conv1 = ConvLayer(channels, channels, kernel_size=3, stride=1)\n",
    "        self.in1 = nn.InstanceNorm2d(channels, affine=True)\n",
    "        self.conv2 = ConvLayer(channels, channels, kernel_size=3, stride=1)\n",
    "        self.in2 = nn.InstanceNorm2d(channels, affine=True)\n",
    "        self.relu = nn.ReLU()\n",
    "\n",
    "    def forward(self, x):\n",
    "        out = self.relu(self.in1(self.conv1(x)))\n",
    "        out = self.in2(self.conv2(out))\n",
    "        out = out + x\n",
    "        return out"
   ]
  },
  {
   "cell_type": "code",
   "execution_count": 18,
   "id": "b01bb44d",
   "metadata": {
    "execution": {
     "iopub.execute_input": "2024-06-20T03:30:44.316817Z",
     "iopub.status.busy": "2024-06-20T03:30:44.316160Z",
     "iopub.status.idle": "2024-06-20T03:30:44.324203Z",
     "shell.execute_reply": "2024-06-20T03:30:44.323179Z"
    },
    "papermill": {
     "duration": 0.028226,
     "end_time": "2024-06-20T03:30:44.326485",
     "exception": false,
     "start_time": "2024-06-20T03:30:44.298259",
     "status": "completed"
    },
    "tags": []
   },
   "outputs": [],
   "source": [
    "class UpsampleConvLayer(nn.Module):\n",
    "    def __init__(self, in_channels, out_channels, kernel_size, stride, upsample=None):\n",
    "        super(UpsampleConvLayer, self).__init__()\n",
    "        self.upsample = upsample\n",
    "        reflection_padding = kernel_size // 2\n",
    "        self.reflection_pad = nn.ReflectionPad2d(reflection_padding)\n",
    "        self.conv2d = nn.Conv2d(in_channels, out_channels, kernel_size, stride)\n",
    "\n",
    "    def forward(self, x):\n",
    "        if self.upsample:\n",
    "            x = nn.functional.interpolate(x, mode='nearest', scale_factor=self.upsample)\n",
    "        out = self.reflection_pad(x)\n",
    "        out = self.conv2d(out)\n",
    "        return out"
   ]
  },
  {
   "cell_type": "code",
   "execution_count": 19,
   "id": "86a2a065",
   "metadata": {
    "execution": {
     "iopub.execute_input": "2024-06-20T03:30:44.361995Z",
     "iopub.status.busy": "2024-06-20T03:30:44.361120Z",
     "iopub.status.idle": "2024-06-20T03:30:44.375275Z",
     "shell.execute_reply": "2024-06-20T03:30:44.374189Z"
    },
    "papermill": {
     "duration": 0.034193,
     "end_time": "2024-06-20T03:30:44.377427",
     "exception": false,
     "start_time": "2024-06-20T03:30:44.343234",
     "status": "completed"
    },
    "tags": []
   },
   "outputs": [],
   "source": [
    "class TransformerNet(nn.Module):\n",
    "    def __init__(self):\n",
    "        super(TransformerNet, self).__init__()\n",
    "        \n",
    "        self.conv1 = ConvLayer(3, 32, kernel_size=9, stride=1)\n",
    "        self.in1 = nn.InstanceNorm2d(32, affine=True)\n",
    "        self.conv2 = ConvLayer(32, 64, kernel_size=3, stride=2)\n",
    "        self.in2 = nn.InstanceNorm2d(64, affine=True)\n",
    "        self.conv3 = ConvLayer(64, 128, kernel_size=3, stride=2)\n",
    "        self.in3 = nn.InstanceNorm2d(128, affine=True)\n",
    "        \n",
    "        self.res1 = ResidualBlock(128)\n",
    "        self.res2 = ResidualBlock(128)\n",
    "        self.res3 = ResidualBlock(128)\n",
    "        self.res4 = ResidualBlock(128)\n",
    "        self.res5 = ResidualBlock(128)\n",
    "        \n",
    "        self.deconv1 = UpsampleConvLayer(128, 64, kernel_size=3, stride=1, upsample=2)\n",
    "        self.in4 = nn.InstanceNorm2d(64, affine=True)\n",
    "        self.deconv2 = UpsampleConvLayer(64, 32, kernel_size=3, stride=1, upsample=2)\n",
    "        self.in5 = nn.InstanceNorm2d(32, affine=True)\n",
    "        self.deconv3 = ConvLayer(32, 3, kernel_size=9, stride=1)\n",
    "        \n",
    "        self.relu = nn.ReLU()\n",
    "\n",
    "    def forward(self, X):\n",
    "        y = self.relu(self.in1(self.conv1(X)))\n",
    "        y = self.relu(self.in2(self.conv2(y)))\n",
    "        y = self.relu(self.in3(self.conv3(y)))\n",
    "        y = self.res1(y)\n",
    "        y = self.res2(y)\n",
    "        y = self.res3(y)\n",
    "        y = self.res4(y)\n",
    "        y = self.res5(y)\n",
    "        y = self.relu(self.in4(self.deconv1(y)))\n",
    "        y = self.relu(self.in5(self.deconv2(y)))\n",
    "        y = self.deconv3(y)\n",
    "        return y"
   ]
  },
  {
   "cell_type": "markdown",
   "id": "f1cb98a8",
   "metadata": {
    "papermill": {
     "duration": 0.016703,
     "end_time": "2024-06-20T03:30:44.411374",
     "exception": false,
     "start_time": "2024-06-20T03:30:44.394671",
     "status": "completed"
    },
    "tags": []
   },
   "source": [
    "# Defining training helper functions"
   ]
  },
  {
   "cell_type": "code",
   "execution_count": 20,
   "id": "ab4a24d1",
   "metadata": {
    "execution": {
     "iopub.execute_input": "2024-06-20T03:30:44.446475Z",
     "iopub.status.busy": "2024-06-20T03:30:44.446069Z",
     "iopub.status.idle": "2024-06-20T03:30:44.452462Z",
     "shell.execute_reply": "2024-06-20T03:30:44.451372Z"
    },
    "papermill": {
     "duration": 0.026781,
     "end_time": "2024-06-20T03:30:44.454683",
     "exception": false,
     "start_time": "2024-06-20T03:30:44.427902",
     "status": "completed"
    },
    "tags": []
   },
   "outputs": [],
   "source": [
    "def gram_matrix(y):\n",
    "    (b, c, h, w) = y.size()\n",
    "    features = y.view(b, c, w * h)\n",
    "    features_t = features.transpose(1, 2)\n",
    "    gram = features.bmm(features_t) / (c * h * w)\n",
    "    return gram"
   ]
  },
  {
   "cell_type": "code",
   "execution_count": 21,
   "id": "cd182b85",
   "metadata": {
    "execution": {
     "iopub.execute_input": "2024-06-20T03:30:44.545993Z",
     "iopub.status.busy": "2024-06-20T03:30:44.545202Z",
     "iopub.status.idle": "2024-06-20T03:30:44.551119Z",
     "shell.execute_reply": "2024-06-20T03:30:44.550173Z"
    },
    "papermill": {
     "duration": 0.026569,
     "end_time": "2024-06-20T03:30:44.553476",
     "exception": false,
     "start_time": "2024-06-20T03:30:44.526907",
     "status": "completed"
    },
    "tags": []
   },
   "outputs": [],
   "source": [
    "def normalize_batch(batch):\n",
    "    mean = batch.new_tensor([0.485, 0.456, 0.406]).view(-1, 1, 1)\n",
    "    std = batch.new_tensor([0.229, 0.224, 0.225]).view(-1, 1, 1)\n",
    "    batch = batch.div_(255.0)\n",
    "    return (batch - mean) / std"
   ]
  },
  {
   "cell_type": "markdown",
   "id": "34cde00e",
   "metadata": {
    "papermill": {
     "duration": 0.016566,
     "end_time": "2024-06-20T03:30:44.587103",
     "exception": false,
     "start_time": "2024-06-20T03:30:44.570537",
     "status": "completed"
    },
    "tags": []
   },
   "source": [
    "# Training on given style image"
   ]
  },
  {
   "cell_type": "code",
   "execution_count": 22,
   "id": "d826f9f8",
   "metadata": {
    "execution": {
     "iopub.execute_input": "2024-06-20T03:30:44.623468Z",
     "iopub.status.busy": "2024-06-20T03:30:44.622558Z",
     "iopub.status.idle": "2024-06-20T03:30:44.636584Z",
     "shell.execute_reply": "2024-06-20T03:30:44.635600Z"
    },
    "papermill": {
     "duration": 0.034618,
     "end_time": "2024-06-20T03:30:44.638864",
     "exception": false,
     "start_time": "2024-06-20T03:30:44.604246",
     "status": "completed"
    },
    "tags": []
   },
   "outputs": [],
   "source": [
    "def TrainTransformerNet(style_path, vgg, device, train_dataloader, batch_size, epochs=1, lr=1e-3, content_weight = 1e5, style_weight = 1e10):\n",
    "    \n",
    "    style_image = LoadStyleImage(style_path, batch_size, device) ## Getting style image\n",
    "    features_style = vgg(normalize_batch(style_image)) ## getting features maps of style image\n",
    "    gram_style = [gram_matrix(y) for y in features_style] ## creating gram matrix of style features\n",
    "    \n",
    "    transformer = TransformerNet()\n",
    "    transformer = transformer.to(device)\n",
    "    optimizer = torch.optim.Adam(transformer.parameters(), lr=lr)\n",
    "    criterion = nn.MSELoss()\n",
    "    \n",
    "    loss = []\n",
    "    style_loss_ = []\n",
    "    content_loss_ = []\n",
    "    \n",
    "    for epoch in range(epochs):\n",
    "        \n",
    "        transformer.train()\n",
    "        agg_content_loss = 0.\n",
    "        agg_style_loss = 0.\n",
    "        \n",
    "        for x, _ in tqdm(train_dataloader):\n",
    "            optimizer.zero_grad()\n",
    "\n",
    "            x = x.to(device)\n",
    "            y = transformer(x)\n",
    "\n",
    "            y = normalize_batch(y)\n",
    "            x = normalize_batch(x)\n",
    "\n",
    "            features_y = vgg(y)\n",
    "            features_x = vgg(x)\n",
    "\n",
    "            content_loss = content_weight * criterion(features_y.relu2_2, features_x.relu2_2)\n",
    "\n",
    "            style_loss = 0.\n",
    "            n_batch = len(x)\n",
    "            for ft_y, gm_s in zip(features_y, gram_style):\n",
    "                gm_y = gram_matrix(ft_y)\n",
    "                style_loss += criterion(gm_y, gm_s[:n_batch, :, :])\n",
    "            style_loss *= style_weight\n",
    "\n",
    "            total_loss_b = content_loss + style_loss\n",
    "            total_loss_b.backward()\n",
    "            optimizer.step()\n",
    "\n",
    "            agg_content_loss += content_loss.item()\n",
    "            agg_style_loss += style_loss.item() \n",
    "            \n",
    "            style_loss_.append(style_loss.item())\n",
    "            content_loss_.append(content_loss.item())\n",
    "            loss.append(style_loss.item() + content_loss.item())\n",
    "        \n",
    "        avg_content_loss = agg_content_loss / len(train_dataloader)\n",
    "        avg_style_loss = agg_style_loss / len(train_dataloader)\n",
    "        avg_loss = avg_content_loss + avg_style_loss\n",
    "        \n",
    "        print(f\" {epoch +1} / {epochs} Style Loss : {avg_style_loss:.4f}, Content Loss : {avg_content_loss:.4f}, Total Loss : {avg_loss:.4f}\")\n",
    "            \n",
    "        \n",
    "    return transformer, loss, style_loss_, content_loss_"
   ]
  },
  {
   "cell_type": "code",
   "execution_count": 23,
   "id": "b8447f73",
   "metadata": {
    "execution": {
     "iopub.execute_input": "2024-06-20T03:30:44.674810Z",
     "iopub.status.busy": "2024-06-20T03:30:44.673945Z",
     "iopub.status.idle": "2024-06-20T03:30:44.678516Z",
     "shell.execute_reply": "2024-06-20T03:30:44.677522Z"
    },
    "papermill": {
     "duration": 0.024923,
     "end_time": "2024-06-20T03:30:44.680852",
     "exception": false,
     "start_time": "2024-06-20T03:30:44.655929",
     "status": "completed"
    },
    "tags": []
   },
   "outputs": [],
   "source": [
    "style_name = \"Candy\""
   ]
  },
  {
   "cell_type": "code",
   "execution_count": 24,
   "id": "ee6c623a",
   "metadata": {
    "execution": {
     "iopub.execute_input": "2024-06-20T03:30:44.716945Z",
     "iopub.status.busy": "2024-06-20T03:30:44.716554Z",
     "iopub.status.idle": "2024-06-20T03:30:44.721374Z",
     "shell.execute_reply": "2024-06-20T03:30:44.720336Z"
    },
    "papermill": {
     "duration": 0.025637,
     "end_time": "2024-06-20T03:30:44.723612",
     "exception": false,
     "start_time": "2024-06-20T03:30:44.697975",
     "status": "completed"
    },
    "tags": []
   },
   "outputs": [],
   "source": [
    "input_dir = \"/kaggle/input/style-images-for-neural-style-transfer/Style Images for Neural Style Transfer\""
   ]
  },
  {
   "cell_type": "code",
   "execution_count": 25,
   "id": "f0735397",
   "metadata": {
    "execution": {
     "iopub.execute_input": "2024-06-20T03:30:44.759187Z",
     "iopub.status.busy": "2024-06-20T03:30:44.758460Z",
     "iopub.status.idle": "2024-06-20T03:30:44.763184Z",
     "shell.execute_reply": "2024-06-20T03:30:44.762243Z"
    },
    "papermill": {
     "duration": 0.024885,
     "end_time": "2024-06-20T03:30:44.765378",
     "exception": false,
     "start_time": "2024-06-20T03:30:44.740493",
     "status": "completed"
    },
    "tags": []
   },
   "outputs": [],
   "source": [
    "style_path = os.path.join(input_dir, style_name)\n",
    "style_path += \".jpg\""
   ]
  },
  {
   "cell_type": "code",
   "execution_count": 26,
   "id": "626703da",
   "metadata": {
    "execution": {
     "iopub.execute_input": "2024-06-20T03:30:44.801943Z",
     "iopub.status.busy": "2024-06-20T03:30:44.801435Z",
     "iopub.status.idle": "2024-06-20T04:05:59.669563Z",
     "shell.execute_reply": "2024-06-20T04:05:59.668518Z"
    },
    "papermill": {
     "duration": 2114.890089,
     "end_time": "2024-06-20T04:05:59.672305",
     "exception": false,
     "start_time": "2024-06-20T03:30:44.782216",
     "status": "completed"
    },
    "tags": []
   },
   "outputs": [
    {
     "data": {
      "application/vnd.jupyter.widget-view+json": {
       "model_id": "762c547a0e3843db8d195977a5911a9c",
       "version_major": 2,
       "version_minor": 0
      },
      "text/plain": [
       "  0%|          | 0/10000 [00:00<?, ?it/s]"
      ]
     },
     "metadata": {},
     "output_type": "display_data"
    },
    {
     "name": "stdout",
     "output_type": "stream",
     "text": [
      " 1 / 1 Style Loss : 207631.6445, Content Loss : 409279.6675, Total Loss : 616911.3120\n"
     ]
    }
   ],
   "source": [
    "trained_model, loss, style_loss, content_loss = TrainTransformerNet(style_path, vgg, device, train_dataloader, batch_size, epochs=1, lr=1e-3, content_weight = 1e5, style_weight = 1e10)"
   ]
  },
  {
   "cell_type": "markdown",
   "id": "22a3e333",
   "metadata": {
    "papermill": {
     "duration": 0.016538,
     "end_time": "2024-06-20T04:05:59.706272",
     "exception": false,
     "start_time": "2024-06-20T04:05:59.689734",
     "status": "completed"
    },
    "tags": []
   },
   "source": [
    "# Plotting losses"
   ]
  },
  {
   "cell_type": "code",
   "execution_count": 27,
   "id": "397c9f92",
   "metadata": {
    "execution": {
     "iopub.execute_input": "2024-06-20T04:05:59.740999Z",
     "iopub.status.busy": "2024-06-20T04:05:59.740208Z",
     "iopub.status.idle": "2024-06-20T04:05:59.746875Z",
     "shell.execute_reply": "2024-06-20T04:05:59.745905Z"
    },
    "papermill": {
     "duration": 0.02666,
     "end_time": "2024-06-20T04:05:59.749142",
     "exception": false,
     "start_time": "2024-06-20T04:05:59.722482",
     "status": "completed"
    },
    "tags": []
   },
   "outputs": [],
   "source": [
    "def plot_losses(loss, style_loss, content_loss):\n",
    "    plt.figure(figsize=(10, 5))\n",
    "    plt.plot(loss, label='Total Loss')\n",
    "    plt.plot(style_loss, label='Style Loss')\n",
    "    plt.plot(content_loss, label='Content Loss')\n",
    "    plt.title('Training Losses')\n",
    "    plt.xlabel('Per 4 samples')\n",
    "    plt.ylabel('Loss')\n",
    "    plt.legend()\n",
    "    plt.grid(True)\n",
    "    plt.show()"
   ]
  },
  {
   "cell_type": "code",
   "execution_count": 28,
   "id": "cee2e3f9",
   "metadata": {
    "execution": {
     "iopub.execute_input": "2024-06-20T04:05:59.784103Z",
     "iopub.status.busy": "2024-06-20T04:05:59.783157Z",
     "iopub.status.idle": "2024-06-20T04:06:00.228127Z",
     "shell.execute_reply": "2024-06-20T04:06:00.227162Z"
    },
    "papermill": {
     "duration": 0.465357,
     "end_time": "2024-06-20T04:06:00.230997",
     "exception": false,
     "start_time": "2024-06-20T04:05:59.765640",
     "status": "completed"
    },
    "tags": []
   },
   "outputs": [
    {
     "data": {
      "image/png": "[encoded data removed]",
      "text/plain": [
       "<Figure size 1000x500 with 1 Axes>"
      ]
     },
     "metadata": {},
     "output_type": "display_data"
    }
   ],
   "source": [
    "plot_losses(loss, style_loss, content_loss)"
   ]
  },
  {
   "cell_type": "markdown",
   "id": "896c0398",
   "metadata": {
    "papermill": {
     "duration": 0.017662,
     "end_time": "2024-06-20T04:06:00.266315",
     "exception": false,
     "start_time": "2024-06-20T04:06:00.248653",
     "status": "completed"
    },
    "tags": []
   },
   "source": [
    "# Saving the trained Model"
   ]
  },
  {
   "cell_type": "code",
   "execution_count": 29,
   "id": "01a8d13b",
   "metadata": {
    "execution": {
     "iopub.execute_input": "2024-06-20T04:06:00.304528Z",
     "iopub.status.busy": "2024-06-20T04:06:00.304155Z",
     "iopub.status.idle": "2024-06-20T04:06:00.318550Z",
     "shell.execute_reply": "2024-06-20T04:06:00.317715Z"
    },
    "papermill": {
     "duration": 0.037117,
     "end_time": "2024-06-20T04:06:00.321283",
     "exception": false,
     "start_time": "2024-06-20T04:06:00.284166",
     "status": "completed"
    },
    "tags": []
   },
   "outputs": [],
   "source": [
    "trained_model = trained_model.to(\"cpu\")"
   ]
  },
  {
   "cell_type": "code",
   "execution_count": 30,
   "id": "1be5245f",
   "metadata": {
    "execution": {
     "iopub.execute_input": "2024-06-20T04:06:00.357779Z",
     "iopub.status.busy": "2024-06-20T04:06:00.356742Z",
     "iopub.status.idle": "2024-06-20T04:06:00.361685Z",
     "shell.execute_reply": "2024-06-20T04:06:00.360724Z"
    },
    "papermill": {
     "duration": 0.025796,
     "end_time": "2024-06-20T04:06:00.363869",
     "exception": false,
     "start_time": "2024-06-20T04:06:00.338073",
     "status": "completed"
    },
    "tags": []
   },
   "outputs": [],
   "source": [
    "model_name = style_name + \".model\""
   ]
  },
  {
   "cell_type": "code",
   "execution_count": 31,
   "id": "0d7b70c2",
   "metadata": {
    "execution": {
     "iopub.execute_input": "2024-06-20T04:06:00.399734Z",
     "iopub.status.busy": "2024-06-20T04:06:00.399359Z",
     "iopub.status.idle": "2024-06-20T04:06:00.419715Z",
     "shell.execute_reply": "2024-06-20T04:06:00.418726Z"
    },
    "papermill": {
     "duration": 0.041288,
     "end_time": "2024-06-20T04:06:00.422329",
     "exception": false,
     "start_time": "2024-06-20T04:06:00.381041",
     "status": "completed"
    },
    "tags": []
   },
   "outputs": [],
   "source": [
    "torch.save(trained_model.state_dict(), model_name)"
   ]
  }
 ],
 "metadata": {
  "kaggle": {
   "accelerator": "gpu",
   "dataSources": [
    {
     "datasetId": 857191,
     "sourceId": 1462296,
     "sourceType": "datasetVersion"
    },
    {
     "datasetId": 5241921,
     "sourceId": 8733509,
     "sourceType": "datasetVersion"
    }
   ],
   "isGpuEnabled": true,
   "isInternetEnabled": true,
   "language": "python",
   "sourceType": "notebook"
  },
  "kernelspec": {
   "display_name": "Python 3",
   "language": "python",
   "name": "python3"
  },
  "language_info": {
   "codemirror_mode": {
    "name": "ipython",
    "version": 3
   },
   "file_extension": ".py",
   "mimetype": "text/x-python",
   "name": "python",
   "nbconvert_exporter": "python",
   "pygments_lexer": "ipython3",
   "version": "3.10.13"
  },
  "papermill": {
   "default_parameters": {},
   "duration": 2135.384019,
   "end_time": "2024-06-20T04:06:02.862303",
   "environment_variables": {},
   "exception": null,
   "input_path": "__notebook__.ipynb",
   "output_path": "__notebook__.ipynb",
   "parameters": {},
   "start_time": "2024-06-20T03:30:27.478284",
   "version": "2.5.0"
  },
  "widgets": {
   "application/vnd.jupyter.widget-state+json": {
    "state": {
     "072e9980a4f249ce98efccaf87e75883": {
      "model_module": "@jupyter-widgets/controls",
      "model_module_version": "1.5.0",
      "model_name": "HTMLModel",
      "state": {
       "_dom_classes": [],
       "_model_module": "@jupyter-widgets/controls",
       "_model_module_version": "1.5.0",
       "_model_name": "HTMLModel",
       "_view_count": null,
       "_view_module": "@jupyter-widgets/controls",
       "_view_module_version": "1.5.0",
       "_view_name": "HTMLView",
       "description": "",
       "description_tooltip": null,
       "layout": "IPY_MODEL_8d5b656f0aad46c3a1445532bde8be60",
       "placeholder": "​",
       "style": "IPY_MODEL_2936d24f8d4647a79e00f33fefc1ca85",
       "value": "100%"
      }
     },
     "179d54db2f1f4b5c89f284816eb9c7e1": {
      "model_module": "@jupyter-widgets/controls",
      "model_module_version": "1.5.0",
      "model_name": "DescriptionStyleModel",
      "state": {
       "_model_module": "@jupyter-widgets/controls",
       "_model_module_version": "1.5.0",
       "_model_name": "DescriptionStyleModel",
       "_view_count": null,
       "_view_module": "@jupyter-widgets/base",
       "_view_module_version": "1.2.0",
       "_view_name": "StyleView",
       "description_width": ""
      }
     },
     "20141aac92de4dfba4a186b8b762bba6": {
      "model_module": "@jupyter-widgets/base",
      "model_module_version": "1.2.0",
      "model_name": "LayoutModel",
      "state": {
       "_model_module": "@jupyter-widgets/base",
       "_model_module_version": "1.2.0",
       "_model_name": "LayoutModel",
       "_view_count": null,
       "_view_module": "@jupyter-widgets/base",
       "_view_module_version": "1.2.0",
       "_view_name": "LayoutView",
       "align_content": null,
       "align_items": null,
       "align_self": null,
       "border": null,
       "bottom": null,
       "display": null,
       "flex": null,
       "flex_flow": null,
       "grid_area": null,
       "grid_auto_columns": null,
       "grid_auto_flow": null,
       "grid_auto_rows": null,
       "grid_column": null,
       "grid_gap": null,
       "grid_row": null,
       "grid_template_areas": null,
       "grid_template_columns": null,
       "grid_template_rows": null,
       "height": null,
       "justify_content": null,
       "justify_items": null,
       "left": null,
       "margin": null,
       "max_height": null,
       "max_width": null,
       "min_height": null,
       "min_width": null,
       "object_fit": null,
       "object_position": null,
       "order": null,
       "overflow": null,
       "overflow_x": null,
       "overflow_y": null,
       "padding": null,
       "right": null,
       "top": null,
       "visibility": null,
       "width": null
      }
     },
     "22564fbe59e945ae93fc09e104072d18": {
      "model_module": "@jupyter-widgets/base",
      "model_module_version": "1.2.0",
      "model_name": "LayoutModel",
      "state": {
       "_model_module": "@jupyter-widgets/base",
       "_model_module_version": "1.2.0",
       "_model_name": "LayoutModel",
       "_view_count": null,
       "_view_module": "@jupyter-widgets/base",
       "_view_module_version": "1.2.0",
       "_view_name": "LayoutView",
       "align_content": null,
       "align_items": null,
       "align_self": null,
       "border": null,
       "bottom": null,
       "display": null,
       "flex": null,
       "flex_flow": null,
       "grid_area": null,
       "grid_auto_columns": null,
       "grid_auto_flow": null,
       "grid_auto_rows": null,
       "grid_column": null,
       "grid_gap": null,
       "grid_row": null,
       "grid_template_areas": null,
       "grid_template_columns": null,
       "grid_template_rows": null,
       "height": null,
       "justify_content": null,
       "justify_items": null,
       "left": null,
       "margin": null,
       "max_height": null,
       "max_width": null,
       "min_height": null,
       "min_width": null,
       "object_fit": null,
       "object_position": null,
       "order": null,
       "overflow": null,
       "overflow_x": null,
       "overflow_y": null,
       "padding": null,
       "right": null,
       "top": null,
       "visibility": null,
       "width": null
      }
     },
     "2936d24f8d4647a79e00f33fefc1ca85": {
      "model_module": "@jupyter-widgets/controls",
      "model_module_version": "1.5.0",
      "model_name": "DescriptionStyleModel",
      "state": {
       "_model_module": "@jupyter-widgets/controls",
       "_model_module_version": "1.5.0",
       "_model_name": "DescriptionStyleModel",
       "_view_count": null,
       "_view_module": "@jupyter-widgets/base",
       "_view_module_version": "1.2.0",
       "_view_name": "StyleView",
       "description_width": ""
      }
     },
     "4dae698684bc491c9aad6932c6585ad7": {
      "model_module": "@jupyter-widgets/controls",
      "model_module_version": "1.5.0",
      "model_name": "ProgressStyleModel",
      "state": {
       "_model_module": "@jupyter-widgets/controls",
       "_model_module_version": "1.5.0",
       "_model_name": "ProgressStyleModel",
       "_view_count": null,
       "_view_module": "@jupyter-widgets/base",
       "_view_module_version": "1.2.0",
       "_view_name": "StyleView",
       "bar_color": null,
       "description_width": ""
      }
     },
     "762c547a0e3843db8d195977a5911a9c": {
      "model_module": "@jupyter-widgets/controls",
      "model_module_version": "1.5.0",
      "model_name": "HBoxModel",
      "state": {
       "_dom_classes": [],
       "_model_module": "@jupyter-widgets/controls",
       "_model_module_version": "1.5.0",
       "_model_name": "HBoxModel",
       "_view_count": null,
       "_view_module": "@jupyter-widgets/controls",
       "_view_module_version": "1.5.0",
       "_view_name": "HBoxView",
       "box_style": "",
       "children": [
        "IPY_MODEL_072e9980a4f249ce98efccaf87e75883",
        "IPY_MODEL_d67169d15d3842899ecfe08c0cd39d51",
        "IPY_MODEL_e402db64edca48b4aa6cfe4f630d4cd0"
       ],
       "layout": "IPY_MODEL_e28fd1d57e824c1e89421789cb89c9b0"
      }
     },
     "8d5b656f0aad46c3a1445532bde8be60": {
      "model_module": "@jupyter-widgets/base",
      "model_module_version": "1.2.0",
      "model_name": "LayoutModel",
      "state": {
       "_model_module": "@jupyter-widgets/base",
       "_model_module_version": "1.2.0",
       "_model_name": "LayoutModel",
       "_view_count": null,
       "_view_module": "@jupyter-widgets/base",
       "_view_module_version": "1.2.0",
       "_view_name": "LayoutView",
       "align_content": null,
       "align_items": null,
       "align_self": null,
       "border": null,
       "bottom": null,
       "display": null,
       "flex": null,
       "flex_flow": null,
       "grid_area": null,
       "grid_auto_columns": null,
       "grid_auto_flow": null,
       "grid_auto_rows": null,
       "grid_column": null,
       "grid_gap": null,
       "grid_row": null,
       "grid_template_areas": null,
       "grid_template_columns": null,
       "grid_template_rows": null,
       "height": null,
       "justify_content": null,
       "justify_items": null,
       "left": null,
       "margin": null,
       "max_height": null,
       "max_width": null,
       "min_height": null,
       "min_width": null,
       "object_fit": null,
       "object_position": null,
       "order": null,
       "overflow": null,
       "overflow_x": null,
       "overflow_y": null,
       "padding": null,
       "right": null,
       "top": null,
       "visibility": null,
       "width": null
      }
     },
     "d67169d15d3842899ecfe08c0cd39d51": {
      "model_module": "@jupyter-widgets/controls",
      "model_module_version": "1.5.0",
      "model_name": "FloatProgressModel",
      "state": {
       "_dom_classes": [],
       "_model_module": "@jupyter-widgets/controls",
       "_model_module_version": "1.5.0",
       "_model_name": "FloatProgressModel",
       "_view_count": null,
       "_view_module": "@jupyter-widgets/controls",
       "_view_module_version": "1.5.0",
       "_view_name": "ProgressView",
       "bar_style": "success",
       "description": "",
       "description_tooltip": null,
       "layout": "IPY_MODEL_20141aac92de4dfba4a186b8b762bba6",
       "max": 10000.0,
       "min": 0.0,
       "orientation": "horizontal",
       "style": "IPY_MODEL_4dae698684bc491c9aad6932c6585ad7",
       "value": 10000.0
      }
     },
     "e28fd1d57e824c1e89421789cb89c9b0": {
      "model_module": "@jupyter-widgets/base",
      "model_module_version": "1.2.0",
      "model_name": "LayoutModel",
      "state": {
       "_model_module": "@jupyter-widgets/base",
       "_model_module_version": "1.2.0",
       "_model_name": "LayoutModel",
       "_view_count": null,
       "_view_module": "@jupyter-widgets/base",
       "_view_module_version": "1.2.0",
       "_view_name": "LayoutView",
       "align_content": null,
       "align_items": null,
       "align_self": null,
       "border": null,
       "bottom": null,
       "display": null,
       "flex": null,
       "flex_flow": null,
       "grid_area": null,
       "grid_auto_columns": null,
       "grid_auto_flow": null,
       "grid_auto_rows": null,
       "grid_column": null,
       "grid_gap": null,
       "grid_row": null,
       "grid_template_areas": null,
       "grid_template_columns": null,
       "grid_template_rows": null,
       "height": null,
       "justify_content": null,
       "justify_items": null,
       "left": null,
       "margin": null,
       "max_height": null,
       "max_width": null,
       "min_height": null,
       "min_width": null,
       "object_fit": null,
       "object_position": null,
       "order": null,
       "overflow": null,
       "overflow_x": null,
       "overflow_y": null,
       "padding": null,
       "right": null,
       "top": null,
       "visibility": null,
       "width": null
      }
     },
     "e402db64edca48b4aa6cfe4f630d4cd0": {
      "model_module": "@jupyter-widgets/controls",
      "model_module_version": "1.5.0",
      "model_name": "HTMLModel",
      "state": {
       "_dom_classes": [],
       "_model_module": "@jupyter-widgets/controls",
       "_model_module_version": "1.5.0",
       "_model_name": "HTMLModel",
       "_view_count": null,
       "_view_module": "@jupyter-widgets/controls",
       "_view_module_version": "1.5.0",
       "_view_name": "HTMLView",
       "description": "",
       "description_tooltip": null,
       "layout": "IPY_MODEL_22564fbe59e945ae93fc09e104072d18",
       "placeholder": "​",
       "style": "IPY_MODEL_179d54db2f1f4b5c89f284816eb9c7e1",
       "value": " 10000/10000 [35:13&lt;00:00,  4.59it/s]"
      }
     }
    },
    "version_major": 2,
    "version_minor": 0
   }
  }
 },
 "nbformat": 4,
 "nbformat_minor": 5
}

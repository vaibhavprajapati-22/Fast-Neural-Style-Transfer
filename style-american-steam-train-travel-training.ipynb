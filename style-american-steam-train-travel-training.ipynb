{
 "cells": [
  {
   "cell_type": "markdown",
   "id": "13304bfb",
   "metadata": {
    "papermill": {
     "duration": 0.010886,
     "end_time": "2024-06-20T03:06:11.130397",
     "exception": false,
     "start_time": "2024-06-20T03:06:11.119511",
     "status": "completed"
    },
    "tags": []
   },
   "source": [
    "# Importing libraries"
   ]
  },
  {
   "cell_type": "code",
   "execution_count": 1,
   "id": "89de22dd",
   "metadata": {
    "execution": {
     "iopub.execute_input": "2024-06-20T03:06:11.152557Z",
     "iopub.status.busy": "2024-06-20T03:06:11.152263Z",
     "iopub.status.idle": "2024-06-20T03:06:16.053581Z",
     "shell.execute_reply": "2024-06-20T03:06:16.052825Z"
    },
    "papermill": {
     "duration": 4.915066,
     "end_time": "2024-06-20T03:06:16.055991",
     "exception": false,
     "start_time": "2024-06-20T03:06:11.140925",
     "status": "completed"
    },
    "tags": []
   },
   "outputs": [],
   "source": [
    "import os\n",
    "from torch.utils.data import Dataset, DataLoader\n",
    "from torchvision import transforms, models\n",
    "from PIL import Image\n",
    "import torch\n",
    "import torch.nn as nn\n",
    "from tqdm.autonotebook import tqdm\n",
    "from collections import namedtuple\n",
    "import matplotlib.pyplot as plt"
   ]
  },
  {
   "cell_type": "markdown",
   "id": "1fef99fc",
   "metadata": {
    "papermill": {
     "duration": 0.010213,
     "end_time": "2024-06-20T03:06:16.077050",
     "exception": false,
     "start_time": "2024-06-20T03:06:16.066837",
     "status": "completed"
    },
    "tags": []
   },
   "source": [
    "# Loading the COCO dataset"
   ]
  },
  {
   "cell_type": "markdown",
   "id": "005431d5",
   "metadata": {
    "papermill": {
     "duration": 0.011085,
     "end_time": "2024-06-20T03:06:16.098560",
     "exception": false,
     "start_time": "2024-06-20T03:06:16.087475",
     "status": "completed"
    },
    "tags": []
   },
   "source": [
    "**Function that return the path of training images**"
   ]
  },
  {
   "cell_type": "code",
   "execution_count": 2,
   "id": "96695b0d",
   "metadata": {
    "execution": {
     "iopub.execute_input": "2024-06-20T03:06:16.121890Z",
     "iopub.status.busy": "2024-06-20T03:06:16.120273Z",
     "iopub.status.idle": "2024-06-20T03:06:16.126995Z",
     "shell.execute_reply": "2024-06-20T03:06:16.126157Z"
    },
    "papermill": {
     "duration": 0.019891,
     "end_time": "2024-06-20T03:06:16.128813",
     "exception": false,
     "start_time": "2024-06-20T03:06:16.108922",
     "status": "completed"
    },
    "tags": []
   },
   "outputs": [],
   "source": [
    "def TrainImagesPath(path):\n",
    "    images_path = []\n",
    "    for file in os.listdir(path):\n",
    "        if file == \"test2017\":\n",
    "            file_path = os.path.join(path, file)\n",
    "            for f in os.listdir(file_path):\n",
    "                image_path = os.path.join(file_path, f)\n",
    "                images_path.append(image_path)\n",
    "                if len(images_path) == 40000:\n",
    "                    break\n",
    "    return images_path"
   ]
  },
  {
   "cell_type": "markdown",
   "id": "a3e41abb",
   "metadata": {
    "papermill": {
     "duration": 0.010195,
     "end_time": "2024-06-20T03:06:16.149652",
     "exception": false,
     "start_time": "2024-06-20T03:06:16.139457",
     "status": "completed"
    },
    "tags": []
   },
   "source": [
    "**Getting images paths**"
   ]
  },
  {
   "cell_type": "code",
   "execution_count": 3,
   "id": "9d933de8",
   "metadata": {
    "execution": {
     "iopub.execute_input": "2024-06-20T03:06:16.171914Z",
     "iopub.status.busy": "2024-06-20T03:06:16.171576Z",
     "iopub.status.idle": "2024-06-20T03:06:17.247447Z",
     "shell.execute_reply": "2024-06-20T03:06:17.246448Z"
    },
    "papermill": {
     "duration": 1.089884,
     "end_time": "2024-06-20T03:06:17.249804",
     "exception": false,
     "start_time": "2024-06-20T03:06:16.159920",
     "status": "completed"
    },
    "tags": []
   },
   "outputs": [],
   "source": [
    "path = \"/kaggle/input/coco-2017-dataset/coco2017\"\n",
    "train_images_path = TrainImagesPath(path)"
   ]
  },
  {
   "cell_type": "markdown",
   "id": "696283fe",
   "metadata": {
    "papermill": {
     "duration": 0.010321,
     "end_time": "2024-06-20T03:06:17.270843",
     "exception": false,
     "start_time": "2024-06-20T03:06:17.260522",
     "status": "completed"
    },
    "tags": []
   },
   "source": [
    "**Creating Custom Dataset and Dataloader**"
   ]
  },
  {
   "cell_type": "code",
   "execution_count": 4,
   "id": "753b04fd",
   "metadata": {
    "execution": {
     "iopub.execute_input": "2024-06-20T03:06:17.292914Z",
     "iopub.status.busy": "2024-06-20T03:06:17.292596Z",
     "iopub.status.idle": "2024-06-20T03:06:17.298737Z",
     "shell.execute_reply": "2024-06-20T03:06:17.297893Z"
    },
    "papermill": {
     "duration": 0.019457,
     "end_time": "2024-06-20T03:06:17.300598",
     "exception": false,
     "start_time": "2024-06-20T03:06:17.281141",
     "status": "completed"
    },
    "tags": []
   },
   "outputs": [],
   "source": [
    "class CustomDataset(Dataset):\n",
    "    def __init__(self, images_path, labels, transform=None):\n",
    "        self.images_path = images_path\n",
    "        self.labels = labels\n",
    "        self.transform = transform\n",
    "        \n",
    "    def __len__(self):\n",
    "        return len(self.images_path)\n",
    "        \n",
    "    def __getitem__(self, idx):\n",
    "        image = Image.open(self.images_path[idx]).convert('RGB') \n",
    "        if self.transform:\n",
    "            image = self.transform(image)\n",
    "        label = self.labels[idx]\n",
    "        return image, label"
   ]
  },
  {
   "cell_type": "code",
   "execution_count": 5,
   "id": "41c668a1",
   "metadata": {
    "execution": {
     "iopub.execute_input": "2024-06-20T03:06:17.324191Z",
     "iopub.status.busy": "2024-06-20T03:06:17.323843Z",
     "iopub.status.idle": "2024-06-20T03:06:17.329355Z",
     "shell.execute_reply": "2024-06-20T03:06:17.328289Z"
    },
    "papermill": {
     "duration": 0.020935,
     "end_time": "2024-06-20T03:06:17.331814",
     "exception": false,
     "start_time": "2024-06-20T03:06:17.310879",
     "status": "completed"
    },
    "tags": []
   },
   "outputs": [],
   "source": [
    "train_transform = transforms.Compose([\n",
    "                                transforms.Resize((256, 256)),\n",
    "                                transforms.CenterCrop((256, 256)),\n",
    "                                transforms.ToTensor(),\n",
    "                                transforms.Lambda(lambda x: x.mul(255))\n",
    "                                    ])"
   ]
  },
  {
   "cell_type": "code",
   "execution_count": 6,
   "id": "9b08d560",
   "metadata": {
    "execution": {
     "iopub.execute_input": "2024-06-20T03:06:17.357235Z",
     "iopub.status.busy": "2024-06-20T03:06:17.356961Z",
     "iopub.status.idle": "2024-06-20T03:06:17.360918Z",
     "shell.execute_reply": "2024-06-20T03:06:17.360164Z"
    },
    "papermill": {
     "duration": 0.01892,
     "end_time": "2024-06-20T03:06:17.362876",
     "exception": false,
     "start_time": "2024-06-20T03:06:17.343956",
     "status": "completed"
    },
    "tags": []
   },
   "outputs": [],
   "source": [
    "train_dataset = CustomDataset(train_images_path, [0]*len(train_images_path), train_transform)"
   ]
  },
  {
   "cell_type": "code",
   "execution_count": 7,
   "id": "7befcf13",
   "metadata": {
    "execution": {
     "iopub.execute_input": "2024-06-20T03:06:17.384657Z",
     "iopub.status.busy": "2024-06-20T03:06:17.384394Z",
     "iopub.status.idle": "2024-06-20T03:06:17.390308Z",
     "shell.execute_reply": "2024-06-20T03:06:17.389507Z"
    },
    "papermill": {
     "duration": 0.018993,
     "end_time": "2024-06-20T03:06:17.392229",
     "exception": false,
     "start_time": "2024-06-20T03:06:17.373236",
     "status": "completed"
    },
    "tags": []
   },
   "outputs": [
    {
     "data": {
      "text/plain": [
       "40000"
      ]
     },
     "execution_count": 7,
     "metadata": {},
     "output_type": "execute_result"
    }
   ],
   "source": [
    "len(train_images_path)"
   ]
  },
  {
   "cell_type": "code",
   "execution_count": 8,
   "id": "01f69a51",
   "metadata": {
    "execution": {
     "iopub.execute_input": "2024-06-20T03:06:17.414336Z",
     "iopub.status.busy": "2024-06-20T03:06:17.414075Z",
     "iopub.status.idle": "2024-06-20T03:06:17.417572Z",
     "shell.execute_reply": "2024-06-20T03:06:17.416768Z"
    },
    "papermill": {
     "duration": 0.016772,
     "end_time": "2024-06-20T03:06:17.419405",
     "exception": false,
     "start_time": "2024-06-20T03:06:17.402633",
     "status": "completed"
    },
    "tags": []
   },
   "outputs": [],
   "source": [
    "batch_size = 4"
   ]
  },
  {
   "cell_type": "code",
   "execution_count": 9,
   "id": "c2f0eb48",
   "metadata": {
    "execution": {
     "iopub.execute_input": "2024-06-20T03:06:17.441239Z",
     "iopub.status.busy": "2024-06-20T03:06:17.440959Z",
     "iopub.status.idle": "2024-06-20T03:06:17.445858Z",
     "shell.execute_reply": "2024-06-20T03:06:17.445172Z"
    },
    "papermill": {
     "duration": 0.017856,
     "end_time": "2024-06-20T03:06:17.447656",
     "exception": false,
     "start_time": "2024-06-20T03:06:17.429800",
     "status": "completed"
    },
    "tags": []
   },
   "outputs": [],
   "source": [
    "train_dataloader = DataLoader(train_dataset, batch_size=batch_size)"
   ]
  },
  {
   "cell_type": "markdown",
   "id": "2bd3ccb5",
   "metadata": {
    "papermill": {
     "duration": 0.010252,
     "end_time": "2024-06-20T03:06:17.468176",
     "exception": false,
     "start_time": "2024-06-20T03:06:17.457924",
     "status": "completed"
    },
    "tags": []
   },
   "source": [
    "# GPU configuration"
   ]
  },
  {
   "cell_type": "code",
   "execution_count": 10,
   "id": "c6d69018",
   "metadata": {
    "execution": {
     "iopub.execute_input": "2024-06-20T03:06:17.490141Z",
     "iopub.status.busy": "2024-06-20T03:06:17.489867Z",
     "iopub.status.idle": "2024-06-20T03:06:17.537517Z",
     "shell.execute_reply": "2024-06-20T03:06:17.536618Z"
    },
    "papermill": {
     "duration": 0.060955,
     "end_time": "2024-06-20T03:06:17.539478",
     "exception": false,
     "start_time": "2024-06-20T03:06:17.478523",
     "status": "completed"
    },
    "tags": []
   },
   "outputs": [
    {
     "data": {
      "text/plain": [
       "device(type='cuda')"
      ]
     },
     "execution_count": 10,
     "metadata": {},
     "output_type": "execute_result"
    }
   ],
   "source": [
    "device = torch.device(\"cuda\" if torch.cuda.is_available() else \"cpu\")\n",
    "device"
   ]
  },
  {
   "cell_type": "markdown",
   "id": "fb137ff8",
   "metadata": {
    "papermill": {
     "duration": 0.010657,
     "end_time": "2024-06-20T03:06:17.560686",
     "exception": false,
     "start_time": "2024-06-20T03:06:17.550029",
     "status": "completed"
    },
    "tags": []
   },
   "source": [
    "# Function to load style image"
   ]
  },
  {
   "cell_type": "code",
   "execution_count": 11,
   "id": "c3fb9ff6",
   "metadata": {
    "execution": {
     "iopub.execute_input": "2024-06-20T03:06:17.582853Z",
     "iopub.status.busy": "2024-06-20T03:06:17.582570Z",
     "iopub.status.idle": "2024-06-20T03:06:17.587853Z",
     "shell.execute_reply": "2024-06-20T03:06:17.586662Z"
    },
    "papermill": {
     "duration": 0.01856,
     "end_time": "2024-06-20T03:06:17.589814",
     "exception": false,
     "start_time": "2024-06-20T03:06:17.571254",
     "status": "completed"
    },
    "tags": []
   },
   "outputs": [],
   "source": [
    "style_transform = transforms.Compose([\n",
    "                            transforms.ToTensor(),\n",
    "                            transforms.Lambda(lambda x: x.mul(255))\n",
    "                            ])"
   ]
  },
  {
   "cell_type": "code",
   "execution_count": 12,
   "id": "2ecdce36",
   "metadata": {
    "execution": {
     "iopub.execute_input": "2024-06-20T03:06:17.612045Z",
     "iopub.status.busy": "2024-06-20T03:06:17.611560Z",
     "iopub.status.idle": "2024-06-20T03:06:17.616235Z",
     "shell.execute_reply": "2024-06-20T03:06:17.615431Z"
    },
    "papermill": {
     "duration": 0.017718,
     "end_time": "2024-06-20T03:06:17.618041",
     "exception": false,
     "start_time": "2024-06-20T03:06:17.600323",
     "status": "completed"
    },
    "tags": []
   },
   "outputs": [],
   "source": [
    "def LoadStyleImage(path, batch_size, device):\n",
    "    style = Image.open(path).convert('RGB')\n",
    "    style = style_transform(style)\n",
    "    style = style.repeat(batch_size, 1, 1, 1)\n",
    "    style = style.to(device) \n",
    "    return style"
   ]
  },
  {
   "cell_type": "markdown",
   "id": "81c629d3",
   "metadata": {
    "papermill": {
     "duration": 0.0104,
     "end_time": "2024-06-20T03:06:17.638962",
     "exception": false,
     "start_time": "2024-06-20T03:06:17.628562",
     "status": "completed"
    },
    "tags": []
   },
   "source": [
    "# Loading Pretained VGG16 model"
   ]
  },
  {
   "cell_type": "code",
   "execution_count": 13,
   "id": "453172a8",
   "metadata": {
    "execution": {
     "iopub.execute_input": "2024-06-20T03:06:17.661336Z",
     "iopub.status.busy": "2024-06-20T03:06:17.661092Z",
     "iopub.status.idle": "2024-06-20T03:06:17.670626Z",
     "shell.execute_reply": "2024-06-20T03:06:17.669905Z"
    },
    "papermill": {
     "duration": 0.022919,
     "end_time": "2024-06-20T03:06:17.672484",
     "exception": false,
     "start_time": "2024-06-20T03:06:17.649565",
     "status": "completed"
    },
    "tags": []
   },
   "outputs": [],
   "source": [
    "class VGG16(nn.Module):\n",
    "    def __init__(self, requires_grad=False):\n",
    "        super(VGG16, self).__init__()\n",
    "        vgg_pretrained_features = models.vgg16(pretrained=True).features\n",
    "        self.slice1 = nn.Sequential()\n",
    "        self.slice2 = nn.Sequential()\n",
    "        self.slice3 = nn.Sequential()\n",
    "        self.slice4 = nn.Sequential()\n",
    "        \n",
    "        for x in range(4):\n",
    "            self.slice1.add_module(str(x), vgg_pretrained_features[x])\n",
    "        for x in range(4, 9):\n",
    "            self.slice2.add_module(str(x), vgg_pretrained_features[x])\n",
    "        for x in range(9, 16):\n",
    "            self.slice3.add_module(str(x), vgg_pretrained_features[x])\n",
    "        for x in range(16, 23):\n",
    "            self.slice4.add_module(str(x), vgg_pretrained_features[x])\n",
    "            \n",
    "        if not requires_grad:\n",
    "            for param in self.parameters():\n",
    "                param.requires_grad = False\n",
    "\n",
    "    def forward(self, X):\n",
    "        h = self.slice1(X)\n",
    "        h_relu1_2 = h\n",
    "        h = self.slice2(h)\n",
    "        h_relu2_2 = h\n",
    "        h = self.slice3(h)\n",
    "        h_relu3_3 = h\n",
    "        h = self.slice4(h)\n",
    "        h_relu4_3 = h\n",
    "        vgg_outputs = namedtuple(\"VggOutputs\", [\"relu1_2\", \"relu2_2\", \"relu3_3\", \"relu4_3\"])\n",
    "        out = vgg_outputs(h_relu1_2, h_relu2_2, h_relu3_3, h_relu4_3)\n",
    "        return out"
   ]
  },
  {
   "cell_type": "code",
   "execution_count": 14,
   "id": "bbeef9bd",
   "metadata": {
    "execution": {
     "iopub.execute_input": "2024-06-20T03:06:17.696560Z",
     "iopub.status.busy": "2024-06-20T03:06:17.696292Z",
     "iopub.status.idle": "2024-06-20T03:06:26.689622Z",
     "shell.execute_reply": "2024-06-20T03:06:26.688049Z"
    },
    "papermill": {
     "duration": 9.009942,
     "end_time": "2024-06-20T03:06:26.693000",
     "exception": false,
     "start_time": "2024-06-20T03:06:17.683058",
     "status": "completed"
    },
    "tags": []
   },
   "outputs": [
    {
     "name": "stderr",
     "output_type": "stream",
     "text": [
      "/opt/conda/lib/python3.10/site-packages/torchvision/models/_utils.py:208: UserWarning: The parameter 'pretrained' is deprecated since 0.13 and may be removed in the future, please use 'weights' instead.\n",
      "  warnings.warn(\n",
      "/opt/conda/lib/python3.10/site-packages/torchvision/models/_utils.py:223: UserWarning: Arguments other than a weight enum or `None` for 'weights' are deprecated since 0.13 and may be removed in the future. The current behavior is equivalent to passing `weights=VGG16_Weights.IMAGENET1K_V1`. You can also use `weights=VGG16_Weights.DEFAULT` to get the most up-to-date weights.\n",
      "  warnings.warn(msg)\n",
      "Downloading: \"https://download.pytorch.org/models/vgg16-397923af.pth\" to /root/.cache/torch/hub/checkpoints/vgg16-397923af.pth\n",
      "100%|██████████| 528M/528M [00:07<00:00, 77.1MB/s]\n"
     ]
    }
   ],
   "source": [
    "vgg = VGG16(requires_grad=False)"
   ]
  },
  {
   "cell_type": "code",
   "execution_count": 15,
   "id": "ea96b020",
   "metadata": {
    "execution": {
     "iopub.execute_input": "2024-06-20T03:06:26.735885Z",
     "iopub.status.busy": "2024-06-20T03:06:26.735148Z",
     "iopub.status.idle": "2024-06-20T03:06:26.892128Z",
     "shell.execute_reply": "2024-06-20T03:06:26.891358Z"
    },
    "papermill": {
     "duration": 0.17633,
     "end_time": "2024-06-20T03:06:26.894460",
     "exception": false,
     "start_time": "2024-06-20T03:06:26.718130",
     "status": "completed"
    },
    "tags": []
   },
   "outputs": [],
   "source": [
    "vgg = vgg.to(device)"
   ]
  },
  {
   "cell_type": "markdown",
   "id": "50e19c26",
   "metadata": {
    "papermill": {
     "duration": 0.01636,
     "end_time": "2024-06-20T03:06:26.927380",
     "exception": false,
     "start_time": "2024-06-20T03:06:26.911020",
     "status": "completed"
    },
    "tags": []
   },
   "source": [
    "# Defining architecture of Transformernet model"
   ]
  },
  {
   "cell_type": "code",
   "execution_count": 16,
   "id": "bbb2dfbf",
   "metadata": {
    "execution": {
     "iopub.execute_input": "2024-06-20T03:06:26.961311Z",
     "iopub.status.busy": "2024-06-20T03:06:26.960749Z",
     "iopub.status.idle": "2024-06-20T03:06:26.966838Z",
     "shell.execute_reply": "2024-06-20T03:06:26.966042Z"
    },
    "papermill": {
     "duration": 0.025241,
     "end_time": "2024-06-20T03:06:26.968639",
     "exception": false,
     "start_time": "2024-06-20T03:06:26.943398",
     "status": "completed"
    },
    "tags": []
   },
   "outputs": [],
   "source": [
    "class ConvLayer(nn.Module):\n",
    "    def __init__(self, in_channels, out_channels, kernel_size, stride):\n",
    "        super(ConvLayer, self).__init__()\n",
    "        reflection_padding = kernel_size // 2\n",
    "        self.reflection_pad = nn.ReflectionPad2d(reflection_padding)\n",
    "        self.conv2d = nn.Conv2d(in_channels, out_channels, kernel_size, stride)\n",
    "\n",
    "    def forward(self, x):\n",
    "        out = self.reflection_pad(x)\n",
    "        out = self.conv2d(out)\n",
    "        return out"
   ]
  },
  {
   "cell_type": "code",
   "execution_count": 17,
   "id": "7e2c68b4",
   "metadata": {
    "execution": {
     "iopub.execute_input": "2024-06-20T03:06:27.002085Z",
     "iopub.status.busy": "2024-06-20T03:06:27.001567Z",
     "iopub.status.idle": "2024-06-20T03:06:27.008258Z",
     "shell.execute_reply": "2024-06-20T03:06:27.007426Z"
    },
    "papermill": {
     "duration": 0.025342,
     "end_time": "2024-06-20T03:06:27.010067",
     "exception": false,
     "start_time": "2024-06-20T03:06:26.984725",
     "status": "completed"
    },
    "tags": []
   },
   "outputs": [],
   "source": [
    "class ResidualBlock(nn.Module):\n",
    "    def __init__(self, channels):\n",
    "        super(ResidualBlock, self).__init__()\n",
    "        self.conv1 = ConvLayer(channels, channels, kernel_size=3, stride=1)\n",
    "        self.in1 = nn.InstanceNorm2d(channels, affine=True)\n",
    "        self.conv2 = ConvLayer(channels, channels, kernel_size=3, stride=1)\n",
    "        self.in2 = nn.InstanceNorm2d(channels, affine=True)\n",
    "        self.relu = nn.ReLU()\n",
    "\n",
    "    def forward(self, x):\n",
    "        out = self.relu(self.in1(self.conv1(x)))\n",
    "        out = self.in2(self.conv2(out))\n",
    "        out = out + x\n",
    "        return out"
   ]
  },
  {
   "cell_type": "code",
   "execution_count": 18,
   "id": "21d06328",
   "metadata": {
    "execution": {
     "iopub.execute_input": "2024-06-20T03:06:27.043968Z",
     "iopub.status.busy": "2024-06-20T03:06:27.043477Z",
     "iopub.status.idle": "2024-06-20T03:06:27.049729Z",
     "shell.execute_reply": "2024-06-20T03:06:27.048925Z"
    },
    "papermill": {
     "duration": 0.025163,
     "end_time": "2024-06-20T03:06:27.051449",
     "exception": false,
     "start_time": "2024-06-20T03:06:27.026286",
     "status": "completed"
    },
    "tags": []
   },
   "outputs": [],
   "source": [
    "class UpsampleConvLayer(nn.Module):\n",
    "    def __init__(self, in_channels, out_channels, kernel_size, stride, upsample=None):\n",
    "        super(UpsampleConvLayer, self).__init__()\n",
    "        self.upsample = upsample\n",
    "        reflection_padding = kernel_size // 2\n",
    "        self.reflection_pad = nn.ReflectionPad2d(reflection_padding)\n",
    "        self.conv2d = nn.Conv2d(in_channels, out_channels, kernel_size, stride)\n",
    "\n",
    "    def forward(self, x):\n",
    "        if self.upsample:\n",
    "            x = nn.functional.interpolate(x, mode='nearest', scale_factor=self.upsample)\n",
    "        out = self.reflection_pad(x)\n",
    "        out = self.conv2d(out)\n",
    "        return out"
   ]
  },
  {
   "cell_type": "code",
   "execution_count": 19,
   "id": "4a0dfb5a",
   "metadata": {
    "execution": {
     "iopub.execute_input": "2024-06-20T03:06:27.084939Z",
     "iopub.status.busy": "2024-06-20T03:06:27.084399Z",
     "iopub.status.idle": "2024-06-20T03:06:27.096252Z",
     "shell.execute_reply": "2024-06-20T03:06:27.095430Z"
    },
    "papermill": {
     "duration": 0.030622,
     "end_time": "2024-06-20T03:06:27.098270",
     "exception": false,
     "start_time": "2024-06-20T03:06:27.067648",
     "status": "completed"
    },
    "tags": []
   },
   "outputs": [],
   "source": [
    "class TransformerNet(nn.Module):\n",
    "    def __init__(self):\n",
    "        super(TransformerNet, self).__init__()\n",
    "        \n",
    "        self.conv1 = ConvLayer(3, 32, kernel_size=9, stride=1)\n",
    "        self.in1 = nn.InstanceNorm2d(32, affine=True)\n",
    "        self.conv2 = ConvLayer(32, 64, kernel_size=3, stride=2)\n",
    "        self.in2 = nn.InstanceNorm2d(64, affine=True)\n",
    "        self.conv3 = ConvLayer(64, 128, kernel_size=3, stride=2)\n",
    "        self.in3 = nn.InstanceNorm2d(128, affine=True)\n",
    "        \n",
    "        self.res1 = ResidualBlock(128)\n",
    "        self.res2 = ResidualBlock(128)\n",
    "        self.res3 = ResidualBlock(128)\n",
    "        self.res4 = ResidualBlock(128)\n",
    "        self.res5 = ResidualBlock(128)\n",
    "        \n",
    "        self.deconv1 = UpsampleConvLayer(128, 64, kernel_size=3, stride=1, upsample=2)\n",
    "        self.in4 = nn.InstanceNorm2d(64, affine=True)\n",
    "        self.deconv2 = UpsampleConvLayer(64, 32, kernel_size=3, stride=1, upsample=2)\n",
    "        self.in5 = nn.InstanceNorm2d(32, affine=True)\n",
    "        self.deconv3 = ConvLayer(32, 3, kernel_size=9, stride=1)\n",
    "        \n",
    "        self.relu = nn.ReLU()\n",
    "\n",
    "    def forward(self, X):\n",
    "        y = self.relu(self.in1(self.conv1(X)))\n",
    "        y = self.relu(self.in2(self.conv2(y)))\n",
    "        y = self.relu(self.in3(self.conv3(y)))\n",
    "        y = self.res1(y)\n",
    "        y = self.res2(y)\n",
    "        y = self.res3(y)\n",
    "        y = self.res4(y)\n",
    "        y = self.res5(y)\n",
    "        y = self.relu(self.in4(self.deconv1(y)))\n",
    "        y = self.relu(self.in5(self.deconv2(y)))\n",
    "        y = self.deconv3(y)\n",
    "        return y"
   ]
  },
  {
   "cell_type": "markdown",
   "id": "e3cd5d80",
   "metadata": {
    "papermill": {
     "duration": 0.015872,
     "end_time": "2024-06-20T03:06:27.130380",
     "exception": false,
     "start_time": "2024-06-20T03:06:27.114508",
     "status": "completed"
    },
    "tags": []
   },
   "source": [
    "# Defining training helper functions"
   ]
  },
  {
   "cell_type": "code",
   "execution_count": 20,
   "id": "383d70e9",
   "metadata": {
    "execution": {
     "iopub.execute_input": "2024-06-20T03:06:27.163216Z",
     "iopub.status.busy": "2024-06-20T03:06:27.162954Z",
     "iopub.status.idle": "2024-06-20T03:06:27.167689Z",
     "shell.execute_reply": "2024-06-20T03:06:27.166946Z"
    },
    "papermill": {
     "duration": 0.023312,
     "end_time": "2024-06-20T03:06:27.169528",
     "exception": false,
     "start_time": "2024-06-20T03:06:27.146216",
     "status": "completed"
    },
    "tags": []
   },
   "outputs": [],
   "source": [
    "def gram_matrix(y):\n",
    "    (b, c, h, w) = y.size()\n",
    "    features = y.view(b, c, w * h)\n",
    "    features_t = features.transpose(1, 2)\n",
    "    gram = features.bmm(features_t) / (c * h * w)\n",
    "    return gram"
   ]
  },
  {
   "cell_type": "code",
   "execution_count": 21,
   "id": "9dbcb252",
   "metadata": {
    "execution": {
     "iopub.execute_input": "2024-06-20T03:06:27.242355Z",
     "iopub.status.busy": "2024-06-20T03:06:27.241967Z",
     "iopub.status.idle": "2024-06-20T03:06:27.247196Z",
     "shell.execute_reply": "2024-06-20T03:06:27.246416Z"
    },
    "papermill": {
     "duration": 0.02481,
     "end_time": "2024-06-20T03:06:27.249117",
     "exception": false,
     "start_time": "2024-06-20T03:06:27.224307",
     "status": "completed"
    },
    "tags": []
   },
   "outputs": [],
   "source": [
    "def normalize_batch(batch):\n",
    "    mean = batch.new_tensor([0.485, 0.456, 0.406]).view(-1, 1, 1)\n",
    "    std = batch.new_tensor([0.229, 0.224, 0.225]).view(-1, 1, 1)\n",
    "    batch = batch.div_(255.0)\n",
    "    return (batch - mean) / std"
   ]
  },
  {
   "cell_type": "markdown",
   "id": "86d27441",
   "metadata": {
    "papermill": {
     "duration": 0.016057,
     "end_time": "2024-06-20T03:06:27.281357",
     "exception": false,
     "start_time": "2024-06-20T03:06:27.265300",
     "status": "completed"
    },
    "tags": []
   },
   "source": [
    "# Training on given style image"
   ]
  },
  {
   "cell_type": "code",
   "execution_count": 22,
   "id": "4744b549",
   "metadata": {
    "execution": {
     "iopub.execute_input": "2024-06-20T03:06:27.314609Z",
     "iopub.status.busy": "2024-06-20T03:06:27.314325Z",
     "iopub.status.idle": "2024-06-20T03:06:27.326285Z",
     "shell.execute_reply": "2024-06-20T03:06:27.325470Z"
    },
    "papermill": {
     "duration": 0.030842,
     "end_time": "2024-06-20T03:06:27.328201",
     "exception": false,
     "start_time": "2024-06-20T03:06:27.297359",
     "status": "completed"
    },
    "tags": []
   },
   "outputs": [],
   "source": [
    "def TrainTransformerNet(style_path, vgg, device, train_dataloader, batch_size, epochs=1, lr=1e-3, content_weight = 1e5, style_weight = 1e10):\n",
    "    \n",
    "    style_image = LoadStyleImage(style_path, batch_size, device) ## Getting style image\n",
    "    features_style = vgg(normalize_batch(style_image)) ## getting features maps of style image\n",
    "    gram_style = [gram_matrix(y) for y in features_style] ## creating gram matrix of style features\n",
    "    \n",
    "    transformer = TransformerNet()\n",
    "    transformer = transformer.to(device)\n",
    "    optimizer = torch.optim.Adam(transformer.parameters(), lr=lr)\n",
    "    criterion = nn.MSELoss()\n",
    "    \n",
    "    loss = []\n",
    "    style_loss_ = []\n",
    "    content_loss_ = []\n",
    "    \n",
    "    for epoch in range(epochs):\n",
    "        \n",
    "        transformer.train()\n",
    "        agg_content_loss = 0.\n",
    "        agg_style_loss = 0.\n",
    "        \n",
    "        for x, _ in tqdm(train_dataloader):\n",
    "            optimizer.zero_grad()\n",
    "\n",
    "            x = x.to(device)\n",
    "            y = transformer(x)\n",
    "\n",
    "            y = normalize_batch(y)\n",
    "            x = normalize_batch(x)\n",
    "\n",
    "            features_y = vgg(y)\n",
    "            features_x = vgg(x)\n",
    "\n",
    "            content_loss = content_weight * criterion(features_y.relu2_2, features_x.relu2_2)\n",
    "\n",
    "            style_loss = 0.\n",
    "            n_batch = len(x)\n",
    "            for ft_y, gm_s in zip(features_y, gram_style):\n",
    "                gm_y = gram_matrix(ft_y)\n",
    "                style_loss += criterion(gm_y, gm_s[:n_batch, :, :])\n",
    "            style_loss *= style_weight\n",
    "\n",
    "            total_loss_b = content_loss + style_loss\n",
    "            total_loss_b.backward()\n",
    "            optimizer.step()\n",
    "\n",
    "            agg_content_loss += content_loss.item()\n",
    "            agg_style_loss += style_loss.item() \n",
    "            \n",
    "            style_loss_.append(style_loss.item())\n",
    "            content_loss_.append(content_loss.item())\n",
    "            loss.append(style_loss.item() + content_loss.item())\n",
    "        \n",
    "        avg_content_loss = agg_content_loss / len(train_dataloader)\n",
    "        avg_style_loss = agg_style_loss / len(train_dataloader)\n",
    "        avg_loss = avg_content_loss + avg_style_loss\n",
    "        \n",
    "        print(f\" {epoch +1} / {epochs} Style Loss : {avg_style_loss:.4f}, Content Loss : {avg_content_loss:.4f}, Total Loss : {avg_loss:.4f}\")\n",
    "            \n",
    "        \n",
    "    return transformer, loss, style_loss_, content_loss_"
   ]
  },
  {
   "cell_type": "code",
   "execution_count": 23,
   "id": "cfe077f9",
   "metadata": {
    "execution": {
     "iopub.execute_input": "2024-06-20T03:06:27.362170Z",
     "iopub.status.busy": "2024-06-20T03:06:27.361871Z",
     "iopub.status.idle": "2024-06-20T03:06:27.365679Z",
     "shell.execute_reply": "2024-06-20T03:06:27.364953Z"
    },
    "papermill": {
     "duration": 0.022992,
     "end_time": "2024-06-20T03:06:27.367537",
     "exception": false,
     "start_time": "2024-06-20T03:06:27.344545",
     "status": "completed"
    },
    "tags": []
   },
   "outputs": [],
   "source": [
    "style_name = \"American Steam Train Travel\""
   ]
  },
  {
   "cell_type": "code",
   "execution_count": 24,
   "id": "1d9051af",
   "metadata": {
    "execution": {
     "iopub.execute_input": "2024-06-20T03:06:27.401595Z",
     "iopub.status.busy": "2024-06-20T03:06:27.400938Z",
     "iopub.status.idle": "2024-06-20T03:06:27.405114Z",
     "shell.execute_reply": "2024-06-20T03:06:27.404238Z"
    },
    "papermill": {
     "duration": 0.02295,
     "end_time": "2024-06-20T03:06:27.406991",
     "exception": false,
     "start_time": "2024-06-20T03:06:27.384041",
     "status": "completed"
    },
    "tags": []
   },
   "outputs": [],
   "source": [
    "input_dir = \"/kaggle/input/style-images-for-neural-style-transfer/Style Images for Neural Style Transfer\""
   ]
  },
  {
   "cell_type": "code",
   "execution_count": 25,
   "id": "0ea07f48",
   "metadata": {
    "execution": {
     "iopub.execute_input": "2024-06-20T03:06:27.440335Z",
     "iopub.status.busy": "2024-06-20T03:06:27.440073Z",
     "iopub.status.idle": "2024-06-20T03:06:27.443917Z",
     "shell.execute_reply": "2024-06-20T03:06:27.443208Z"
    },
    "papermill": {
     "duration": 0.022534,
     "end_time": "2024-06-20T03:06:27.445843",
     "exception": false,
     "start_time": "2024-06-20T03:06:27.423309",
     "status": "completed"
    },
    "tags": []
   },
   "outputs": [],
   "source": [
    "style_path = os.path.join(input_dir, style_name)\n",
    "style_path += \".jpg\""
   ]
  },
  {
   "cell_type": "code",
   "execution_count": 26,
   "id": "61d0326b",
   "metadata": {
    "execution": {
     "iopub.execute_input": "2024-06-20T03:06:27.479928Z",
     "iopub.status.busy": "2024-06-20T03:06:27.479375Z",
     "iopub.status.idle": "2024-06-20T03:40:05.898346Z",
     "shell.execute_reply": "2024-06-20T03:40:05.897517Z"
    },
    "papermill": {
     "duration": 2018.438484,
     "end_time": "2024-06-20T03:40:05.900425",
     "exception": false,
     "start_time": "2024-06-20T03:06:27.461941",
     "status": "completed"
    },
    "tags": []
   },
   "outputs": [
    {
     "data": {
      "application/vnd.jupyter.widget-view+json": {
       "model_id": "37a1050d57744d2bb8c90764fe0669aa",
       "version_major": 2,
       "version_minor": 0
      },
      "text/plain": [
       "  0%|          | 0/10000 [00:00<?, ?it/s]"
      ]
     },
     "metadata": {},
     "output_type": "display_data"
    },
    {
     "name": "stdout",
     "output_type": "stream",
     "text": [
      " 1 / 1 Style Loss : 155936.3755, Content Loss : 283764.0417, Total Loss : 439700.4172\n"
     ]
    }
   ],
   "source": [
    "trained_model, loss, style_loss, content_loss = TrainTransformerNet(style_path, vgg, device, train_dataloader, batch_size, epochs=1, lr=1e-3, content_weight = 1e5, style_weight = 1e10)"
   ]
  },
  {
   "cell_type": "markdown",
   "id": "f8084306",
   "metadata": {
    "papermill": {
     "duration": 0.01617,
     "end_time": "2024-06-20T03:40:05.933224",
     "exception": false,
     "start_time": "2024-06-20T03:40:05.917054",
     "status": "completed"
    },
    "tags": []
   },
   "source": [
    "# Plotting losses"
   ]
  },
  {
   "cell_type": "code",
   "execution_count": 27,
   "id": "ebc7c6dc",
   "metadata": {
    "execution": {
     "iopub.execute_input": "2024-06-20T03:40:05.967347Z",
     "iopub.status.busy": "2024-06-20T03:40:05.967025Z",
     "iopub.status.idle": "2024-06-20T03:40:05.972682Z",
     "shell.execute_reply": "2024-06-20T03:40:05.971899Z"
    },
    "papermill": {
     "duration": 0.02475,
     "end_time": "2024-06-20T03:40:05.974437",
     "exception": false,
     "start_time": "2024-06-20T03:40:05.949687",
     "status": "completed"
    },
    "tags": []
   },
   "outputs": [],
   "source": [
    "def plot_losses(loss, style_loss, content_loss):\n",
    "    plt.figure(figsize=(10, 5))\n",
    "    plt.plot(loss, label='Total Loss')\n",
    "    plt.plot(style_loss, label='Style Loss')\n",
    "    plt.plot(content_loss, label='Content Loss')\n",
    "    plt.title('Training Losses')\n",
    "    plt.xlabel('Per 4 samples')\n",
    "    plt.ylabel('Loss')\n",
    "    plt.legend()\n",
    "    plt.grid(True)\n",
    "    plt.show()"
   ]
  },
  {
   "cell_type": "code",
   "execution_count": 28,
   "id": "54cb94f2",
   "metadata": {
    "execution": {
     "iopub.execute_input": "2024-06-20T03:40:06.008366Z",
     "iopub.status.busy": "2024-06-20T03:40:06.008072Z",
     "iopub.status.idle": "2024-06-20T03:40:06.331361Z",
     "shell.execute_reply": "2024-06-20T03:40:06.330464Z"
    },
    "papermill": {
     "duration": 0.342535,
     "end_time": "2024-06-20T03:40:06.333474",
     "exception": false,
     "start_time": "2024-06-20T03:40:05.990939",
     "status": "completed"
    },
    "tags": []
   },
   "outputs": [
    {
     "data": {
      "image/png": "[encoded data removed]",
      "text/plain": [
       "<Figure size 1000x500 with 1 Axes>"
      ]
     },
     "metadata": {},
     "output_type": "display_data"
    }
   ],
   "source": [
    "plot_losses(loss, style_loss, content_loss)"
   ]
  },
  {
   "cell_type": "markdown",
   "id": "f17567e3",
   "metadata": {
    "papermill": {
     "duration": 0.017268,
     "end_time": "2024-06-20T03:40:06.368376",
     "exception": false,
     "start_time": "2024-06-20T03:40:06.351108",
     "status": "completed"
    },
    "tags": []
   },
   "source": [
    "# Saving the trained Model"
   ]
  },
  {
   "cell_type": "code",
   "execution_count": 29,
   "id": "74e5cfec",
   "metadata": {
    "execution": {
     "iopub.execute_input": "2024-06-20T03:40:06.404600Z",
     "iopub.status.busy": "2024-06-20T03:40:06.403681Z",
     "iopub.status.idle": "2024-06-20T03:40:06.417186Z",
     "shell.execute_reply": "2024-06-20T03:40:06.416466Z"
    },
    "papermill": {
     "duration": 0.03316,
     "end_time": "2024-06-20T03:40:06.418955",
     "exception": false,
     "start_time": "2024-06-20T03:40:06.385795",
     "status": "completed"
    },
    "tags": []
   },
   "outputs": [],
   "source": [
    "trained_model = trained_model.to(\"cpu\")"
   ]
  },
  {
   "cell_type": "code",
   "execution_count": 30,
   "id": "9a22cc67",
   "metadata": {
    "execution": {
     "iopub.execute_input": "2024-06-20T03:40:06.455647Z",
     "iopub.status.busy": "2024-06-20T03:40:06.455353Z",
     "iopub.status.idle": "2024-06-20T03:40:06.459330Z",
     "shell.execute_reply": "2024-06-20T03:40:06.458467Z"
    },
    "papermill": {
     "duration": 0.025171,
     "end_time": "2024-06-20T03:40:06.461112",
     "exception": false,
     "start_time": "2024-06-20T03:40:06.435941",
     "status": "completed"
    },
    "tags": []
   },
   "outputs": [],
   "source": [
    "model_name = style_name + \".model\""
   ]
  },
  {
   "cell_type": "code",
   "execution_count": 31,
   "id": "ce726fe8",
   "metadata": {
    "execution": {
     "iopub.execute_input": "2024-06-20T03:40:06.496692Z",
     "iopub.status.busy": "2024-06-20T03:40:06.496026Z",
     "iopub.status.idle": "2024-06-20T03:40:06.512749Z",
     "shell.execute_reply": "2024-06-20T03:40:06.512083Z"
    },
    "papermill": {
     "duration": 0.036365,
     "end_time": "2024-06-20T03:40:06.514506",
     "exception": false,
     "start_time": "2024-06-20T03:40:06.478141",
     "status": "completed"
    },
    "tags": []
   },
   "outputs": [],
   "source": [
    "torch.save(trained_model.state_dict(), model_name)"
   ]
  }
 ],
 "metadata": {
  "kaggle": {
   "accelerator": "gpu",
   "dataSources": [
    {
     "datasetId": 857191,
     "sourceId": 1462296,
     "sourceType": "datasetVersion"
    },
    {
     "datasetId": 5241921,
     "sourceId": 8733509,
     "sourceType": "datasetVersion"
    }
   ],
   "isGpuEnabled": true,
   "isInternetEnabled": true,
   "language": "python",
   "sourceType": "notebook"
  },
  "kernelspec": {
   "display_name": "Python 3",
   "language": "python",
   "name": "python3"
  },
  "language_info": {
   "codemirror_mode": {
    "name": "ipython",
    "version": 3
   },
   "file_extension": ".py",
   "mimetype": "text/x-python",
   "name": "python",
   "nbconvert_exporter": "python",
   "pygments_lexer": "ipython3",
   "version": "3.10.13"
  },
  "papermill": {
   "default_parameters": {},
   "duration": 2039.486253,
   "end_time": "2024-06-20T03:40:07.857548",
   "environment_variables": {},
   "exception": null,
   "input_path": "__notebook__.ipynb",
   "output_path": "__notebook__.ipynb",
   "parameters": {},
   "start_time": "2024-06-20T03:06:08.371295",
   "version": "2.5.0"
  },
  "widgets": {
   "application/vnd.jupyter.widget-state+json": {
    "state": {
     "12d45cbe6b6342378069b05aedc3fbf7": {
      "model_module": "@jupyter-widgets/base",
      "model_module_version": "1.2.0",
      "model_name": "LayoutModel",
      "state": {
       "_model_module": "@jupyter-widgets/base",
       "_model_module_version": "1.2.0",
       "_model_name": "LayoutModel",
       "_view_count": null,
       "_view_module": "@jupyter-widgets/base",
       "_view_module_version": "1.2.0",
       "_view_name": "LayoutView",
       "align_content": null,
       "align_items": null,
       "align_self": null,
       "border": null,
       "bottom": null,
       "display": null,
       "flex": null,
       "flex_flow": null,
       "grid_area": null,
       "grid_auto_columns": null,
       "grid_auto_flow": null,
       "grid_auto_rows": null,
       "grid_column": null,
       "grid_gap": null,
       "grid_row": null,
       "grid_template_areas": null,
       "grid_template_columns": null,
       "grid_template_rows": null,
       "height": null,
       "justify_content": null,
       "justify_items": null,
       "left": null,
       "margin": null,
       "max_height": null,
       "max_width": null,
       "min_height": null,
       "min_width": null,
       "object_fit": null,
       "object_position": null,
       "order": null,
       "overflow": null,
       "overflow_x": null,
       "overflow_y": null,
       "padding": null,
       "right": null,
       "top": null,
       "visibility": null,
       "width": null
      }
     },
     "37a1050d57744d2bb8c90764fe0669aa": {
      "model_module": "@jupyter-widgets/controls",
      "model_module_version": "1.5.0",
      "model_name": "HBoxModel",
      "state": {
       "_dom_classes": [],
       "_model_module": "@jupyter-widgets/controls",
       "_model_module_version": "1.5.0",
       "_model_name": "HBoxModel",
       "_view_count": null,
       "_view_module": "@jupyter-widgets/controls",
       "_view_module_version": "1.5.0",
       "_view_name": "HBoxView",
       "box_style": "",
       "children": [
        "IPY_MODEL_f5d34523de544938b7f0dcdfe5e795ab",
        "IPY_MODEL_4227804ca1f746279d4a9500403a22f5",
        "IPY_MODEL_cc79cd0c13d042478a1470de745cd7e1"
       ],
       "layout": "IPY_MODEL_ba856f01355c4e93ba69fa77f6b92eb5"
      }
     },
     "38511513e7f745da81c664bd45be2f8e": {
      "model_module": "@jupyter-widgets/controls",
      "model_module_version": "1.5.0",
      "model_name": "DescriptionStyleModel",
      "state": {
       "_model_module": "@jupyter-widgets/controls",
       "_model_module_version": "1.5.0",
       "_model_name": "DescriptionStyleModel",
       "_view_count": null,
       "_view_module": "@jupyter-widgets/base",
       "_view_module_version": "1.2.0",
       "_view_name": "StyleView",
       "description_width": ""
      }
     },
     "39afd0105d3b49c897c24b7bcfee15b5": {
      "model_module": "@jupyter-widgets/base",
      "model_module_version": "1.2.0",
      "model_name": "LayoutModel",
      "state": {
       "_model_module": "@jupyter-widgets/base",
       "_model_module_version": "1.2.0",
       "_model_name": "LayoutModel",
       "_view_count": null,
       "_view_module": "@jupyter-widgets/base",
       "_view_module_version": "1.2.0",
       "_view_name": "LayoutView",
       "align_content": null,
       "align_items": null,
       "align_self": null,
       "border": null,
       "bottom": null,
       "display": null,
       "flex": null,
       "flex_flow": null,
       "grid_area": null,
       "grid_auto_columns": null,
       "grid_auto_flow": null,
       "grid_auto_rows": null,
       "grid_column": null,
       "grid_gap": null,
       "grid_row": null,
       "grid_template_areas": null,
       "grid_template_columns": null,
       "grid_template_rows": null,
       "height": null,
       "justify_content": null,
       "justify_items": null,
       "left": null,
       "margin": null,
       "max_height": null,
       "max_width": null,
       "min_height": null,
       "min_width": null,
       "object_fit": null,
       "object_position": null,
       "order": null,
       "overflow": null,
       "overflow_x": null,
       "overflow_y": null,
       "padding": null,
       "right": null,
       "top": null,
       "visibility": null,
       "width": null
      }
     },
     "4227804ca1f746279d4a9500403a22f5": {
      "model_module": "@jupyter-widgets/controls",
      "model_module_version": "1.5.0",
      "model_name": "FloatProgressModel",
      "state": {
       "_dom_classes": [],
       "_model_module": "@jupyter-widgets/controls",
       "_model_module_version": "1.5.0",
       "_model_name": "FloatProgressModel",
       "_view_count": null,
       "_view_module": "@jupyter-widgets/controls",
       "_view_module_version": "1.5.0",
       "_view_name": "ProgressView",
       "bar_style": "success",
       "description": "",
       "description_tooltip": null,
       "layout": "IPY_MODEL_39afd0105d3b49c897c24b7bcfee15b5",
       "max": 10000.0,
       "min": 0.0,
       "orientation": "horizontal",
       "style": "IPY_MODEL_626cf0206fbb46a581f7fc838355b36c",
       "value": 10000.0
      }
     },
     "626cf0206fbb46a581f7fc838355b36c": {
      "model_module": "@jupyter-widgets/controls",
      "model_module_version": "1.5.0",
      "model_name": "ProgressStyleModel",
      "state": {
       "_model_module": "@jupyter-widgets/controls",
       "_model_module_version": "1.5.0",
       "_model_name": "ProgressStyleModel",
       "_view_count": null,
       "_view_module": "@jupyter-widgets/base",
       "_view_module_version": "1.2.0",
       "_view_name": "StyleView",
       "bar_color": null,
       "description_width": ""
      }
     },
     "6411d7d3c79c49daa94d5f44229d7e91": {
      "model_module": "@jupyter-widgets/base",
      "model_module_version": "1.2.0",
      "model_name": "LayoutModel",
      "state": {
       "_model_module": "@jupyter-widgets/base",
       "_model_module_version": "1.2.0",
       "_model_name": "LayoutModel",
       "_view_count": null,
       "_view_module": "@jupyter-widgets/base",
       "_view_module_version": "1.2.0",
       "_view_name": "LayoutView",
       "align_content": null,
       "align_items": null,
       "align_self": null,
       "border": null,
       "bottom": null,
       "display": null,
       "flex": null,
       "flex_flow": null,
       "grid_area": null,
       "grid_auto_columns": null,
       "grid_auto_flow": null,
       "grid_auto_rows": null,
       "grid_column": null,
       "grid_gap": null,
       "grid_row": null,
       "grid_template_areas": null,
       "grid_template_columns": null,
       "grid_template_rows": null,
       "height": null,
       "justify_content": null,
       "justify_items": null,
       "left": null,
       "margin": null,
       "max_height": null,
       "max_width": null,
       "min_height": null,
       "min_width": null,
       "object_fit": null,
       "object_position": null,
       "order": null,
       "overflow": null,
       "overflow_x": null,
       "overflow_y": null,
       "padding": null,
       "right": null,
       "top": null,
       "visibility": null,
       "width": null
      }
     },
     "75e4eb52e38f4926b5c8086aa1a92fd0": {
      "model_module": "@jupyter-widgets/controls",
      "model_module_version": "1.5.0",
      "model_name": "DescriptionStyleModel",
      "state": {
       "_model_module": "@jupyter-widgets/controls",
       "_model_module_version": "1.5.0",
       "_model_name": "DescriptionStyleModel",
       "_view_count": null,
       "_view_module": "@jupyter-widgets/base",
       "_view_module_version": "1.2.0",
       "_view_name": "StyleView",
       "description_width": ""
      }
     },
     "ba856f01355c4e93ba69fa77f6b92eb5": {
      "model_module": "@jupyter-widgets/base",
      "model_module_version": "1.2.0",
      "model_name": "LayoutModel",
      "state": {
       "_model_module": "@jupyter-widgets/base",
       "_model_module_version": "1.2.0",
       "_model_name": "LayoutModel",
       "_view_count": null,
       "_view_module": "@jupyter-widgets/base",
       "_view_module_version": "1.2.0",
       "_view_name": "LayoutView",
       "align_content": null,
       "align_items": null,
       "align_self": null,
       "border": null,
       "bottom": null,
       "display": null,
       "flex": null,
       "flex_flow": null,
       "grid_area": null,
       "grid_auto_columns": null,
       "grid_auto_flow": null,
       "grid_auto_rows": null,
       "grid_column": null,
       "grid_gap": null,
       "grid_row": null,
       "grid_template_areas": null,
       "grid_template_columns": null,
       "grid_template_rows": null,
       "height": null,
       "justify_content": null,
       "justify_items": null,
       "left": null,
       "margin": null,
       "max_height": null,
       "max_width": null,
       "min_height": null,
       "min_width": null,
       "object_fit": null,
       "object_position": null,
       "order": null,
       "overflow": null,
       "overflow_x": null,
       "overflow_y": null,
       "padding": null,
       "right": null,
       "top": null,
       "visibility": null,
       "width": null
      }
     },
     "cc79cd0c13d042478a1470de745cd7e1": {
      "model_module": "@jupyter-widgets/controls",
      "model_module_version": "1.5.0",
      "model_name": "HTMLModel",
      "state": {
       "_dom_classes": [],
       "_model_module": "@jupyter-widgets/controls",
       "_model_module_version": "1.5.0",
       "_model_name": "HTMLModel",
       "_view_count": null,
       "_view_module": "@jupyter-widgets/controls",
       "_view_module_version": "1.5.0",
       "_view_name": "HTMLView",
       "description": "",
       "description_tooltip": null,
       "layout": "IPY_MODEL_12d45cbe6b6342378069b05aedc3fbf7",
       "placeholder": "​",
       "style": "IPY_MODEL_38511513e7f745da81c664bd45be2f8e",
       "value": " 10000/10000 [33:35&lt;00:00,  4.89it/s]"
      }
     },
     "f5d34523de544938b7f0dcdfe5e795ab": {
      "model_module": "@jupyter-widgets/controls",
      "model_module_version": "1.5.0",
      "model_name": "HTMLModel",
      "state": {
       "_dom_classes": [],
       "_model_module": "@jupyter-widgets/controls",
       "_model_module_version": "1.5.0",
       "_model_name": "HTMLModel",
       "_view_count": null,
       "_view_module": "@jupyter-widgets/controls",
       "_view_module_version": "1.5.0",
       "_view_name": "HTMLView",
       "description": "",
       "description_tooltip": null,
       "layout": "IPY_MODEL_6411d7d3c79c49daa94d5f44229d7e91",
       "placeholder": "​",
       "style": "IPY_MODEL_75e4eb52e38f4926b5c8086aa1a92fd0",
       "value": "100%"
      }
     }
    },
    "version_major": 2,
    "version_minor": 0
   }
  }
 },
 "nbformat": 4,
 "nbformat_minor": 5
}

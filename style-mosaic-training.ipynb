{
 "cells": [
  {
   "cell_type": "markdown",
   "id": "d56f66ed",
   "metadata": {
    "papermill": {
     "duration": 0.013425,
     "end_time": "2024-06-20T04:16:38.398133",
     "exception": false,
     "start_time": "2024-06-20T04:16:38.384708",
     "status": "completed"
    },
    "tags": []
   },
   "source": [
    "# Importing libraries"
   ]
  },
  {
   "cell_type": "code",
   "execution_count": 1,
   "id": "0018fb88",
   "metadata": {
    "execution": {
     "iopub.execute_input": "2024-06-20T04:16:38.425109Z",
     "iopub.status.busy": "2024-06-20T04:16:38.424741Z",
     "iopub.status.idle": "2024-06-20T04:16:43.504266Z",
     "shell.execute_reply": "2024-06-20T04:16:43.503404Z"
    },
    "papermill": {
     "duration": 5.095632,
     "end_time": "2024-06-20T04:16:43.506673",
     "exception": false,
     "start_time": "2024-06-20T04:16:38.411041",
     "status": "completed"
    },
    "tags": []
   },
   "outputs": [],
   "source": [
    "import os\n",
    "from torch.utils.data import Dataset, DataLoader\n",
    "from torchvision import transforms, models\n",
    "from PIL import Image\n",
    "import torch\n",
    "import torch.nn as nn\n",
    "from tqdm.autonotebook import tqdm\n",
    "from collections import namedtuple\n",
    "import matplotlib.pyplot as plt"
   ]
  },
  {
   "cell_type": "markdown",
   "id": "e0a8a7f6",
   "metadata": {
    "papermill": {
     "duration": 0.013056,
     "end_time": "2024-06-20T04:16:43.532869",
     "exception": false,
     "start_time": "2024-06-20T04:16:43.519813",
     "status": "completed"
    },
    "tags": []
   },
   "source": [
    "# Loading the COCO dataset"
   ]
  },
  {
   "cell_type": "markdown",
   "id": "507bdc50",
   "metadata": {
    "papermill": {
     "duration": 0.013554,
     "end_time": "2024-06-20T04:16:43.559045",
     "exception": false,
     "start_time": "2024-06-20T04:16:43.545491",
     "status": "completed"
    },
    "tags": []
   },
   "source": [
    "**Function that return the path of training images**"
   ]
  },
  {
   "cell_type": "code",
   "execution_count": 2,
   "id": "5c187c4b",
   "metadata": {
    "execution": {
     "iopub.execute_input": "2024-06-20T04:16:43.595044Z",
     "iopub.status.busy": "2024-06-20T04:16:43.592094Z",
     "iopub.status.idle": "2024-06-20T04:16:43.601576Z",
     "shell.execute_reply": "2024-06-20T04:16:43.600889Z"
    },
    "papermill": {
     "duration": 0.029729,
     "end_time": "2024-06-20T04:16:43.604270",
     "exception": false,
     "start_time": "2024-06-20T04:16:43.574541",
     "status": "completed"
    },
    "tags": []
   },
   "outputs": [],
   "source": [
    "def TrainImagesPath(path):\n",
    "    images_path = []\n",
    "    for file in os.listdir(path):\n",
    "        if file == \"test2017\":\n",
    "            file_path = os.path.join(path, file)\n",
    "            for f in os.listdir(file_path):\n",
    "                image_path = os.path.join(file_path, f)\n",
    "                images_path.append(image_path)\n",
    "                if len(images_path) == 40000:\n",
    "                    break\n",
    "    return images_path"
   ]
  },
  {
   "cell_type": "markdown",
   "id": "5c789ff8",
   "metadata": {
    "papermill": {
     "duration": 0.01313,
     "end_time": "2024-06-20T04:16:43.633769",
     "exception": false,
     "start_time": "2024-06-20T04:16:43.620639",
     "status": "completed"
    },
    "tags": []
   },
   "source": [
    "**Getting images paths**"
   ]
  },
  {
   "cell_type": "code",
   "execution_count": 3,
   "id": "3733e1bb",
   "metadata": {
    "execution": {
     "iopub.execute_input": "2024-06-20T04:16:43.661523Z",
     "iopub.status.busy": "2024-06-20T04:16:43.661140Z",
     "iopub.status.idle": "2024-06-20T04:16:44.223440Z",
     "shell.execute_reply": "2024-06-20T04:16:44.222614Z"
    },
    "papermill": {
     "duration": 0.57877,
     "end_time": "2024-06-20T04:16:44.225861",
     "exception": false,
     "start_time": "2024-06-20T04:16:43.647091",
     "status": "completed"
    },
    "tags": []
   },
   "outputs": [],
   "source": [
    "path = \"/kaggle/input/coco-2017-dataset/coco2017\"\n",
    "train_images_path = TrainImagesPath(path)"
   ]
  },
  {
   "cell_type": "markdown",
   "id": "87ac0913",
   "metadata": {
    "papermill": {
     "duration": 0.012499,
     "end_time": "2024-06-20T04:16:44.251609",
     "exception": false,
     "start_time": "2024-06-20T04:16:44.239110",
     "status": "completed"
    },
    "tags": []
   },
   "source": [
    "**Creating Custom Dataset and Dataloader**"
   ]
  },
  {
   "cell_type": "code",
   "execution_count": 4,
   "id": "969544d8",
   "metadata": {
    "execution": {
     "iopub.execute_input": "2024-06-20T04:16:44.279971Z",
     "iopub.status.busy": "2024-06-20T04:16:44.279136Z",
     "iopub.status.idle": "2024-06-20T04:16:44.285822Z",
     "shell.execute_reply": "2024-06-20T04:16:44.284879Z"
    },
    "papermill": {
     "duration": 0.022924,
     "end_time": "2024-06-20T04:16:44.287925",
     "exception": false,
     "start_time": "2024-06-20T04:16:44.265001",
     "status": "completed"
    },
    "tags": []
   },
   "outputs": [],
   "source": [
    "class CustomDataset(Dataset):\n",
    "    def __init__(self, images_path, labels, transform=None):\n",
    "        self.images_path = images_path\n",
    "        self.labels = labels\n",
    "        self.transform = transform\n",
    "        \n",
    "    def __len__(self):\n",
    "        return len(self.images_path)\n",
    "        \n",
    "    def __getitem__(self, idx):\n",
    "        image = Image.open(self.images_path[idx]).convert('RGB') \n",
    "        if self.transform:\n",
    "            image = self.transform(image)\n",
    "        label = self.labels[idx]\n",
    "        return image, label"
   ]
  },
  {
   "cell_type": "code",
   "execution_count": 5,
   "id": "6ba95b65",
   "metadata": {
    "execution": {
     "iopub.execute_input": "2024-06-20T04:16:44.316447Z",
     "iopub.status.busy": "2024-06-20T04:16:44.315840Z",
     "iopub.status.idle": "2024-06-20T04:16:44.321119Z",
     "shell.execute_reply": "2024-06-20T04:16:44.320193Z"
    },
    "papermill": {
     "duration": 0.02163,
     "end_time": "2024-06-20T04:16:44.323149",
     "exception": false,
     "start_time": "2024-06-20T04:16:44.301519",
     "status": "completed"
    },
    "tags": []
   },
   "outputs": [],
   "source": [
    "train_transform = transforms.Compose([\n",
    "                                transforms.Resize((256, 256)),\n",
    "                                transforms.CenterCrop((256, 256)),\n",
    "                                transforms.ToTensor(),\n",
    "                                transforms.Lambda(lambda x: x.mul(255))\n",
    "                                    ])"
   ]
  },
  {
   "cell_type": "code",
   "execution_count": 6,
   "id": "f5991dea",
   "metadata": {
    "execution": {
     "iopub.execute_input": "2024-06-20T04:16:44.352363Z",
     "iopub.status.busy": "2024-06-20T04:16:44.351316Z",
     "iopub.status.idle": "2024-06-20T04:16:44.356407Z",
     "shell.execute_reply": "2024-06-20T04:16:44.355698Z"
    },
    "papermill": {
     "duration": 0.021761,
     "end_time": "2024-06-20T04:16:44.358439",
     "exception": false,
     "start_time": "2024-06-20T04:16:44.336678",
     "status": "completed"
    },
    "tags": []
   },
   "outputs": [],
   "source": [
    "train_dataset = CustomDataset(train_images_path, [0]*len(train_images_path), train_transform)"
   ]
  },
  {
   "cell_type": "code",
   "execution_count": 7,
   "id": "22d4b564",
   "metadata": {
    "execution": {
     "iopub.execute_input": "2024-06-20T04:16:44.386018Z",
     "iopub.status.busy": "2024-06-20T04:16:44.385655Z",
     "iopub.status.idle": "2024-06-20T04:16:44.392484Z",
     "shell.execute_reply": "2024-06-20T04:16:44.391571Z"
    },
    "papermill": {
     "duration": 0.023001,
     "end_time": "2024-06-20T04:16:44.394615",
     "exception": false,
     "start_time": "2024-06-20T04:16:44.371614",
     "status": "completed"
    },
    "tags": []
   },
   "outputs": [
    {
     "data": {
      "text/plain": [
       "40000"
      ]
     },
     "execution_count": 7,
     "metadata": {},
     "output_type": "execute_result"
    }
   ],
   "source": [
    "len(train_images_path)"
   ]
  },
  {
   "cell_type": "code",
   "execution_count": 8,
   "id": "72703064",
   "metadata": {
    "execution": {
     "iopub.execute_input": "2024-06-20T04:16:44.421883Z",
     "iopub.status.busy": "2024-06-20T04:16:44.421524Z",
     "iopub.status.idle": "2024-06-20T04:16:44.425726Z",
     "shell.execute_reply": "2024-06-20T04:16:44.424889Z"
    },
    "papermill": {
     "duration": 0.0203,
     "end_time": "2024-06-20T04:16:44.427724",
     "exception": false,
     "start_time": "2024-06-20T04:16:44.407424",
     "status": "completed"
    },
    "tags": []
   },
   "outputs": [],
   "source": [
    "batch_size = 4"
   ]
  },
  {
   "cell_type": "code",
   "execution_count": 9,
   "id": "0fd1d8be",
   "metadata": {
    "execution": {
     "iopub.execute_input": "2024-06-20T04:16:44.455815Z",
     "iopub.status.busy": "2024-06-20T04:16:44.455092Z",
     "iopub.status.idle": "2024-06-20T04:16:44.459611Z",
     "shell.execute_reply": "2024-06-20T04:16:44.458777Z"
    },
    "papermill": {
     "duration": 0.020944,
     "end_time": "2024-06-20T04:16:44.461810",
     "exception": false,
     "start_time": "2024-06-20T04:16:44.440866",
     "status": "completed"
    },
    "tags": []
   },
   "outputs": [],
   "source": [
    "train_dataloader = DataLoader(train_dataset, batch_size=batch_size)"
   ]
  },
  {
   "cell_type": "markdown",
   "id": "b4351023",
   "metadata": {
    "papermill": {
     "duration": 0.013947,
     "end_time": "2024-06-20T04:16:44.493151",
     "exception": false,
     "start_time": "2024-06-20T04:16:44.479204",
     "status": "completed"
    },
    "tags": []
   },
   "source": [
    "# GPU configuration"
   ]
  },
  {
   "cell_type": "code",
   "execution_count": 10,
   "id": "9b3b6db4",
   "metadata": {
    "execution": {
     "iopub.execute_input": "2024-06-20T04:16:44.521703Z",
     "iopub.status.busy": "2024-06-20T04:16:44.520653Z",
     "iopub.status.idle": "2024-06-20T04:16:44.569199Z",
     "shell.execute_reply": "2024-06-20T04:16:44.568269Z"
    },
    "papermill": {
     "duration": 0.064832,
     "end_time": "2024-06-20T04:16:44.571275",
     "exception": false,
     "start_time": "2024-06-20T04:16:44.506443",
     "status": "completed"
    },
    "tags": []
   },
   "outputs": [
    {
     "data": {
      "text/plain": [
       "device(type='cuda')"
      ]
     },
     "execution_count": 10,
     "metadata": {},
     "output_type": "execute_result"
    }
   ],
   "source": [
    "device = torch.device(\"cuda\" if torch.cuda.is_available() else \"cpu\")\n",
    "device"
   ]
  },
  {
   "cell_type": "markdown",
   "id": "d66ce8b5",
   "metadata": {
    "papermill": {
     "duration": 0.013044,
     "end_time": "2024-06-20T04:16:44.597859",
     "exception": false,
     "start_time": "2024-06-20T04:16:44.584815",
     "status": "completed"
    },
    "tags": []
   },
   "source": [
    "# Function to load style image"
   ]
  },
  {
   "cell_type": "code",
   "execution_count": 11,
   "id": "fdc9e4f8",
   "metadata": {
    "execution": {
     "iopub.execute_input": "2024-06-20T04:16:44.628531Z",
     "iopub.status.busy": "2024-06-20T04:16:44.627650Z",
     "iopub.status.idle": "2024-06-20T04:16:44.632649Z",
     "shell.execute_reply": "2024-06-20T04:16:44.631746Z"
    },
    "papermill": {
     "duration": 0.021865,
     "end_time": "2024-06-20T04:16:44.634751",
     "exception": false,
     "start_time": "2024-06-20T04:16:44.612886",
     "status": "completed"
    },
    "tags": []
   },
   "outputs": [],
   "source": [
    "style_transform = transforms.Compose([\n",
    "                            transforms.ToTensor(),\n",
    "                            transforms.Lambda(lambda x: x.mul(255))\n",
    "                            ])"
   ]
  },
  {
   "cell_type": "code",
   "execution_count": 12,
   "id": "4312837c",
   "metadata": {
    "execution": {
     "iopub.execute_input": "2024-06-20T04:16:44.662364Z",
     "iopub.status.busy": "2024-06-20T04:16:44.662033Z",
     "iopub.status.idle": "2024-06-20T04:16:44.667960Z",
     "shell.execute_reply": "2024-06-20T04:16:44.667301Z"
    },
    "papermill": {
     "duration": 0.022208,
     "end_time": "2024-06-20T04:16:44.669944",
     "exception": false,
     "start_time": "2024-06-20T04:16:44.647736",
     "status": "completed"
    },
    "tags": []
   },
   "outputs": [],
   "source": [
    "def LoadStyleImage(path, batch_size, device):\n",
    "    style = Image.open(path).convert('RGB')\n",
    "    style = style_transform(style)\n",
    "    style = style.repeat(batch_size, 1, 1, 1)\n",
    "    style = style.to(device) \n",
    "    return style"
   ]
  },
  {
   "cell_type": "markdown",
   "id": "430bf746",
   "metadata": {
    "papermill": {
     "duration": 0.013244,
     "end_time": "2024-06-20T04:16:44.696467",
     "exception": false,
     "start_time": "2024-06-20T04:16:44.683223",
     "status": "completed"
    },
    "tags": []
   },
   "source": [
    "# Loading Pretained VGG16 model"
   ]
  },
  {
   "cell_type": "code",
   "execution_count": 13,
   "id": "edb3018c",
   "metadata": {
    "execution": {
     "iopub.execute_input": "2024-06-20T04:16:44.725320Z",
     "iopub.status.busy": "2024-06-20T04:16:44.724506Z",
     "iopub.status.idle": "2024-06-20T04:16:44.734937Z",
     "shell.execute_reply": "2024-06-20T04:16:44.734026Z"
    },
    "papermill": {
     "duration": 0.027418,
     "end_time": "2024-06-20T04:16:44.737008",
     "exception": false,
     "start_time": "2024-06-20T04:16:44.709590",
     "status": "completed"
    },
    "tags": []
   },
   "outputs": [],
   "source": [
    "class VGG16(nn.Module):\n",
    "    def __init__(self, requires_grad=False):\n",
    "        super(VGG16, self).__init__()\n",
    "        vgg_pretrained_features = models.vgg16(pretrained=True).features\n",
    "        self.slice1 = nn.Sequential()\n",
    "        self.slice2 = nn.Sequential()\n",
    "        self.slice3 = nn.Sequential()\n",
    "        self.slice4 = nn.Sequential()\n",
    "        \n",
    "        for x in range(4):\n",
    "            self.slice1.add_module(str(x), vgg_pretrained_features[x])\n",
    "        for x in range(4, 9):\n",
    "            self.slice2.add_module(str(x), vgg_pretrained_features[x])\n",
    "        for x in range(9, 16):\n",
    "            self.slice3.add_module(str(x), vgg_pretrained_features[x])\n",
    "        for x in range(16, 23):\n",
    "            self.slice4.add_module(str(x), vgg_pretrained_features[x])\n",
    "            \n",
    "        if not requires_grad:\n",
    "            for param in self.parameters():\n",
    "                param.requires_grad = False\n",
    "\n",
    "    def forward(self, X):\n",
    "        h = self.slice1(X)\n",
    "        h_relu1_2 = h\n",
    "        h = self.slice2(h)\n",
    "        h_relu2_2 = h\n",
    "        h = self.slice3(h)\n",
    "        h_relu3_3 = h\n",
    "        h = self.slice4(h)\n",
    "        h_relu4_3 = h\n",
    "        vgg_outputs = namedtuple(\"VggOutputs\", [\"relu1_2\", \"relu2_2\", \"relu3_3\", \"relu4_3\"])\n",
    "        out = vgg_outputs(h_relu1_2, h_relu2_2, h_relu3_3, h_relu4_3)\n",
    "        return out"
   ]
  },
  {
   "cell_type": "code",
   "execution_count": 14,
   "id": "06f3e23f",
   "metadata": {
    "execution": {
     "iopub.execute_input": "2024-06-20T04:16:44.766214Z",
     "iopub.status.busy": "2024-06-20T04:16:44.765391Z",
     "iopub.status.idle": "2024-06-20T04:16:50.235163Z",
     "shell.execute_reply": "2024-06-20T04:16:50.234341Z"
    },
    "papermill": {
     "duration": 5.48658,
     "end_time": "2024-06-20T04:16:50.237468",
     "exception": false,
     "start_time": "2024-06-20T04:16:44.750888",
     "status": "completed"
    },
    "tags": []
   },
   "outputs": [
    {
     "name": "stderr",
     "output_type": "stream",
     "text": [
      "/opt/conda/lib/python3.10/site-packages/torchvision/models/_utils.py:208: UserWarning: The parameter 'pretrained' is deprecated since 0.13 and may be removed in the future, please use 'weights' instead.\n",
      "  warnings.warn(\n",
      "/opt/conda/lib/python3.10/site-packages/torchvision/models/_utils.py:223: UserWarning: Arguments other than a weight enum or `None` for 'weights' are deprecated since 0.13 and may be removed in the future. The current behavior is equivalent to passing `weights=VGG16_Weights.IMAGENET1K_V1`. You can also use `weights=VGG16_Weights.DEFAULT` to get the most up-to-date weights.\n",
      "  warnings.warn(msg)\n",
      "Downloading: \"https://download.pytorch.org/models/vgg16-397923af.pth\" to /root/.cache/torch/hub/checkpoints/vgg16-397923af.pth\n",
      "100%|██████████| 528M/528M [00:03<00:00, 155MB/s]\n"
     ]
    }
   ],
   "source": [
    "vgg = VGG16(requires_grad=False)"
   ]
  },
  {
   "cell_type": "code",
   "execution_count": 15,
   "id": "33784aa7",
   "metadata": {
    "execution": {
     "iopub.execute_input": "2024-06-20T04:16:50.272477Z",
     "iopub.status.busy": "2024-06-20T04:16:50.271842Z",
     "iopub.status.idle": "2024-06-20T04:16:50.423573Z",
     "shell.execute_reply": "2024-06-20T04:16:50.422608Z"
    },
    "papermill": {
     "duration": 0.172064,
     "end_time": "2024-06-20T04:16:50.426113",
     "exception": false,
     "start_time": "2024-06-20T04:16:50.254049",
     "status": "completed"
    },
    "tags": []
   },
   "outputs": [],
   "source": [
    "vgg = vgg.to(device)"
   ]
  },
  {
   "cell_type": "markdown",
   "id": "1e359bdd",
   "metadata": {
    "papermill": {
     "duration": 0.016024,
     "end_time": "2024-06-20T04:16:50.458519",
     "exception": false,
     "start_time": "2024-06-20T04:16:50.442495",
     "status": "completed"
    },
    "tags": []
   },
   "source": [
    "# Defining architecture of Transformernet model"
   ]
  },
  {
   "cell_type": "code",
   "execution_count": 16,
   "id": "cceb4242",
   "metadata": {
    "execution": {
     "iopub.execute_input": "2024-06-20T04:16:50.492581Z",
     "iopub.status.busy": "2024-06-20T04:16:50.492226Z",
     "iopub.status.idle": "2024-06-20T04:16:50.498528Z",
     "shell.execute_reply": "2024-06-20T04:16:50.497632Z"
    },
    "papermill": {
     "duration": 0.025811,
     "end_time": "2024-06-20T04:16:50.500501",
     "exception": false,
     "start_time": "2024-06-20T04:16:50.474690",
     "status": "completed"
    },
    "tags": []
   },
   "outputs": [],
   "source": [
    "class ConvLayer(nn.Module):\n",
    "    def __init__(self, in_channels, out_channels, kernel_size, stride):\n",
    "        super(ConvLayer, self).__init__()\n",
    "        reflection_padding = kernel_size // 2\n",
    "        self.reflection_pad = nn.ReflectionPad2d(reflection_padding)\n",
    "        self.conv2d = nn.Conv2d(in_channels, out_channels, kernel_size, stride)\n",
    "\n",
    "    def forward(self, x):\n",
    "        out = self.reflection_pad(x)\n",
    "        out = self.conv2d(out)\n",
    "        return out"
   ]
  },
  {
   "cell_type": "code",
   "execution_count": 17,
   "id": "71480643",
   "metadata": {
    "execution": {
     "iopub.execute_input": "2024-06-20T04:16:50.584598Z",
     "iopub.status.busy": "2024-06-20T04:16:50.584259Z",
     "iopub.status.idle": "2024-06-20T04:16:50.591582Z",
     "shell.execute_reply": "2024-06-20T04:16:50.590629Z"
    },
    "papermill": {
     "duration": 0.076171,
     "end_time": "2024-06-20T04:16:50.593527",
     "exception": false,
     "start_time": "2024-06-20T04:16:50.517356",
     "status": "completed"
    },
    "tags": []
   },
   "outputs": [],
   "source": [
    "class ResidualBlock(nn.Module):\n",
    "    def __init__(self, channels):\n",
    "        super(ResidualBlock, self).__init__()\n",
    "        self.conv1 = ConvLayer(channels, channels, kernel_size=3, stride=1)\n",
    "        self.in1 = nn.InstanceNorm2d(channels, affine=True)\n",
    "        self.conv2 = ConvLayer(channels, channels, kernel_size=3, stride=1)\n",
    "        self.in2 = nn.InstanceNorm2d(channels, affine=True)\n",
    "        self.relu = nn.ReLU()\n",
    "\n",
    "    def forward(self, x):\n",
    "        out = self.relu(self.in1(self.conv1(x)))\n",
    "        out = self.in2(self.conv2(out))\n",
    "        out = out + x\n",
    "        return out"
   ]
  },
  {
   "cell_type": "code",
   "execution_count": 18,
   "id": "fc3f8983",
   "metadata": {
    "execution": {
     "iopub.execute_input": "2024-06-20T04:16:50.628828Z",
     "iopub.status.busy": "2024-06-20T04:16:50.628247Z",
     "iopub.status.idle": "2024-06-20T04:16:50.635603Z",
     "shell.execute_reply": "2024-06-20T04:16:50.634667Z"
    },
    "papermill": {
     "duration": 0.027567,
     "end_time": "2024-06-20T04:16:50.637516",
     "exception": false,
     "start_time": "2024-06-20T04:16:50.609949",
     "status": "completed"
    },
    "tags": []
   },
   "outputs": [],
   "source": [
    "class UpsampleConvLayer(nn.Module):\n",
    "    def __init__(self, in_channels, out_channels, kernel_size, stride, upsample=None):\n",
    "        super(UpsampleConvLayer, self).__init__()\n",
    "        self.upsample = upsample\n",
    "        reflection_padding = kernel_size // 2\n",
    "        self.reflection_pad = nn.ReflectionPad2d(reflection_padding)\n",
    "        self.conv2d = nn.Conv2d(in_channels, out_channels, kernel_size, stride)\n",
    "\n",
    "    def forward(self, x):\n",
    "        if self.upsample:\n",
    "            x = nn.functional.interpolate(x, mode='nearest', scale_factor=self.upsample)\n",
    "        out = self.reflection_pad(x)\n",
    "        out = self.conv2d(out)\n",
    "        return out"
   ]
  },
  {
   "cell_type": "code",
   "execution_count": 19,
   "id": "cf100210",
   "metadata": {
    "execution": {
     "iopub.execute_input": "2024-06-20T04:16:50.671953Z",
     "iopub.status.busy": "2024-06-20T04:16:50.671592Z",
     "iopub.status.idle": "2024-06-20T04:16:50.683692Z",
     "shell.execute_reply": "2024-06-20T04:16:50.682937Z"
    },
    "papermill": {
     "duration": 0.031422,
     "end_time": "2024-06-20T04:16:50.685578",
     "exception": false,
     "start_time": "2024-06-20T04:16:50.654156",
     "status": "completed"
    },
    "tags": []
   },
   "outputs": [],
   "source": [
    "class TransformerNet(nn.Module):\n",
    "    def __init__(self):\n",
    "        super(TransformerNet, self).__init__()\n",
    "        \n",
    "        self.conv1 = ConvLayer(3, 32, kernel_size=9, stride=1)\n",
    "        self.in1 = nn.InstanceNorm2d(32, affine=True)\n",
    "        self.conv2 = ConvLayer(32, 64, kernel_size=3, stride=2)\n",
    "        self.in2 = nn.InstanceNorm2d(64, affine=True)\n",
    "        self.conv3 = ConvLayer(64, 128, kernel_size=3, stride=2)\n",
    "        self.in3 = nn.InstanceNorm2d(128, affine=True)\n",
    "        \n",
    "        self.res1 = ResidualBlock(128)\n",
    "        self.res2 = ResidualBlock(128)\n",
    "        self.res3 = ResidualBlock(128)\n",
    "        self.res4 = ResidualBlock(128)\n",
    "        self.res5 = ResidualBlock(128)\n",
    "        \n",
    "        self.deconv1 = UpsampleConvLayer(128, 64, kernel_size=3, stride=1, upsample=2)\n",
    "        self.in4 = nn.InstanceNorm2d(64, affine=True)\n",
    "        self.deconv2 = UpsampleConvLayer(64, 32, kernel_size=3, stride=1, upsample=2)\n",
    "        self.in5 = nn.InstanceNorm2d(32, affine=True)\n",
    "        self.deconv3 = ConvLayer(32, 3, kernel_size=9, stride=1)\n",
    "        \n",
    "        self.relu = nn.ReLU()\n",
    "\n",
    "    def forward(self, X):\n",
    "        y = self.relu(self.in1(self.conv1(X)))\n",
    "        y = self.relu(self.in2(self.conv2(y)))\n",
    "        y = self.relu(self.in3(self.conv3(y)))\n",
    "        y = self.res1(y)\n",
    "        y = self.res2(y)\n",
    "        y = self.res3(y)\n",
    "        y = self.res4(y)\n",
    "        y = self.res5(y)\n",
    "        y = self.relu(self.in4(self.deconv1(y)))\n",
    "        y = self.relu(self.in5(self.deconv2(y)))\n",
    "        y = self.deconv3(y)\n",
    "        return y"
   ]
  },
  {
   "cell_type": "markdown",
   "id": "6e1bb26c",
   "metadata": {
    "papermill": {
     "duration": 0.016472,
     "end_time": "2024-06-20T04:16:50.718277",
     "exception": false,
     "start_time": "2024-06-20T04:16:50.701805",
     "status": "completed"
    },
    "tags": []
   },
   "source": [
    "# Defining training helper functions"
   ]
  },
  {
   "cell_type": "code",
   "execution_count": 20,
   "id": "e1df54fd",
   "metadata": {
    "execution": {
     "iopub.execute_input": "2024-06-20T04:16:50.752431Z",
     "iopub.status.busy": "2024-06-20T04:16:50.752076Z",
     "iopub.status.idle": "2024-06-20T04:16:50.757748Z",
     "shell.execute_reply": "2024-06-20T04:16:50.756904Z"
    },
    "papermill": {
     "duration": 0.024893,
     "end_time": "2024-06-20T04:16:50.759631",
     "exception": false,
     "start_time": "2024-06-20T04:16:50.734738",
     "status": "completed"
    },
    "tags": []
   },
   "outputs": [],
   "source": [
    "def gram_matrix(y):\n",
    "    (b, c, h, w) = y.size()\n",
    "    features = y.view(b, c, w * h)\n",
    "    features_t = features.transpose(1, 2)\n",
    "    gram = features.bmm(features_t) / (c * h * w)\n",
    "    return gram"
   ]
  },
  {
   "cell_type": "code",
   "execution_count": 21,
   "id": "9246762c",
   "metadata": {
    "execution": {
     "iopub.execute_input": "2024-06-20T04:16:50.794614Z",
     "iopub.status.busy": "2024-06-20T04:16:50.793628Z",
     "iopub.status.idle": "2024-06-20T04:16:50.799711Z",
     "shell.execute_reply": "2024-06-20T04:16:50.798778Z"
    },
    "papermill": {
     "duration": 0.025743,
     "end_time": "2024-06-20T04:16:50.801873",
     "exception": false,
     "start_time": "2024-06-20T04:16:50.776130",
     "status": "completed"
    },
    "tags": []
   },
   "outputs": [],
   "source": [
    "def normalize_batch(batch):\n",
    "    mean = batch.new_tensor([0.485, 0.456, 0.406]).view(-1, 1, 1)\n",
    "    std = batch.new_tensor([0.229, 0.224, 0.225]).view(-1, 1, 1)\n",
    "    batch = batch.div_(255.0)\n",
    "    return (batch - mean) / std"
   ]
  },
  {
   "cell_type": "markdown",
   "id": "a73bdd27",
   "metadata": {
    "papermill": {
     "duration": 0.016906,
     "end_time": "2024-06-20T04:16:50.835912",
     "exception": false,
     "start_time": "2024-06-20T04:16:50.819006",
     "status": "completed"
    },
    "tags": []
   },
   "source": [
    "# Training on given style image"
   ]
  },
  {
   "cell_type": "code",
   "execution_count": 22,
   "id": "c168c059",
   "metadata": {
    "execution": {
     "iopub.execute_input": "2024-06-20T04:16:50.871669Z",
     "iopub.status.busy": "2024-06-20T04:16:50.870690Z",
     "iopub.status.idle": "2024-06-20T04:16:50.883461Z",
     "shell.execute_reply": "2024-06-20T04:16:50.882597Z"
    },
    "papermill": {
     "duration": 0.03284,
     "end_time": "2024-06-20T04:16:50.885560",
     "exception": false,
     "start_time": "2024-06-20T04:16:50.852720",
     "status": "completed"
    },
    "tags": []
   },
   "outputs": [],
   "source": [
    "def TrainTransformerNet(style_path, vgg, device, train_dataloader, batch_size, epochs=1, lr=1e-3, content_weight = 1e5, style_weight = 1e10):\n",
    "    \n",
    "    style_image = LoadStyleImage(style_path, batch_size, device) ## Getting style image\n",
    "    features_style = vgg(normalize_batch(style_image)) ## getting features maps of style image\n",
    "    gram_style = [gram_matrix(y) for y in features_style] ## creating gram matrix of style features\n",
    "    \n",
    "    transformer = TransformerNet()\n",
    "    transformer = transformer.to(device)\n",
    "    optimizer = torch.optim.Adam(transformer.parameters(), lr=lr)\n",
    "    criterion = nn.MSELoss()\n",
    "    \n",
    "    loss = []\n",
    "    style_loss_ = []\n",
    "    content_loss_ = []\n",
    "    \n",
    "    for epoch in range(epochs):\n",
    "        \n",
    "        transformer.train()\n",
    "        agg_content_loss = 0.\n",
    "        agg_style_loss = 0.\n",
    "        \n",
    "        for x, _ in tqdm(train_dataloader):\n",
    "            optimizer.zero_grad()\n",
    "\n",
    "            x = x.to(device)\n",
    "            y = transformer(x)\n",
    "\n",
    "            y = normalize_batch(y)\n",
    "            x = normalize_batch(x)\n",
    "\n",
    "            features_y = vgg(y)\n",
    "            features_x = vgg(x)\n",
    "\n",
    "            content_loss = content_weight * criterion(features_y.relu2_2, features_x.relu2_2)\n",
    "\n",
    "            style_loss = 0.\n",
    "            n_batch = len(x)\n",
    "            for ft_y, gm_s in zip(features_y, gram_style):\n",
    "                gm_y = gram_matrix(ft_y)\n",
    "                style_loss += criterion(gm_y, gm_s[:n_batch, :, :])\n",
    "            style_loss *= style_weight\n",
    "\n",
    "            total_loss_b = content_loss + style_loss\n",
    "            total_loss_b.backward()\n",
    "            optimizer.step()\n",
    "\n",
    "            agg_content_loss += content_loss.item()\n",
    "            agg_style_loss += style_loss.item() \n",
    "            \n",
    "            style_loss_.append(style_loss.item())\n",
    "            content_loss_.append(content_loss.item())\n",
    "            loss.append(style_loss.item() + content_loss.item())\n",
    "        \n",
    "        avg_content_loss = agg_content_loss / len(train_dataloader)\n",
    "        avg_style_loss = agg_style_loss / len(train_dataloader)\n",
    "        avg_loss = avg_content_loss + avg_style_loss\n",
    "        \n",
    "        print(f\" {epoch +1} / {epochs} Style Loss : {avg_style_loss:.4f}, Content Loss : {avg_content_loss:.4f}, Total Loss : {avg_loss:.4f}\")\n",
    "            \n",
    "        \n",
    "    return transformer, loss, style_loss_, content_loss_"
   ]
  },
  {
   "cell_type": "code",
   "execution_count": 23,
   "id": "114f5fa0",
   "metadata": {
    "execution": {
     "iopub.execute_input": "2024-06-20T04:16:50.920946Z",
     "iopub.status.busy": "2024-06-20T04:16:50.920104Z",
     "iopub.status.idle": "2024-06-20T04:16:50.924472Z",
     "shell.execute_reply": "2024-06-20T04:16:50.923536Z"
    },
    "papermill": {
     "duration": 0.024212,
     "end_time": "2024-06-20T04:16:50.926547",
     "exception": false,
     "start_time": "2024-06-20T04:16:50.902335",
     "status": "completed"
    },
    "tags": []
   },
   "outputs": [],
   "source": [
    "style_name = \"Mosaic\""
   ]
  },
  {
   "cell_type": "code",
   "execution_count": 24,
   "id": "f07e13dd",
   "metadata": {
    "execution": {
     "iopub.execute_input": "2024-06-20T04:16:50.961455Z",
     "iopub.status.busy": "2024-06-20T04:16:50.960630Z",
     "iopub.status.idle": "2024-06-20T04:16:50.964964Z",
     "shell.execute_reply": "2024-06-20T04:16:50.964053Z"
    },
    "papermill": {
     "duration": 0.023941,
     "end_time": "2024-06-20T04:16:50.966974",
     "exception": false,
     "start_time": "2024-06-20T04:16:50.943033",
     "status": "completed"
    },
    "tags": []
   },
   "outputs": [],
   "source": [
    "input_dir = \"/kaggle/input/style-images-for-neural-style-transfer/Style Images for Neural Style Transfer\""
   ]
  },
  {
   "cell_type": "code",
   "execution_count": 25,
   "id": "7bab22e3",
   "metadata": {
    "execution": {
     "iopub.execute_input": "2024-06-20T04:16:51.001339Z",
     "iopub.status.busy": "2024-06-20T04:16:51.000990Z",
     "iopub.status.idle": "2024-06-20T04:16:51.005663Z",
     "shell.execute_reply": "2024-06-20T04:16:51.004682Z"
    },
    "papermill": {
     "duration": 0.024604,
     "end_time": "2024-06-20T04:16:51.007803",
     "exception": false,
     "start_time": "2024-06-20T04:16:50.983199",
     "status": "completed"
    },
    "tags": []
   },
   "outputs": [],
   "source": [
    "style_path = os.path.join(input_dir, style_name)\n",
    "style_path += \".jpg\""
   ]
  },
  {
   "cell_type": "code",
   "execution_count": 26,
   "id": "4d2f9a57",
   "metadata": {
    "execution": {
     "iopub.execute_input": "2024-06-20T04:16:51.042627Z",
     "iopub.status.busy": "2024-06-20T04:16:51.042266Z",
     "iopub.status.idle": "2024-06-20T04:51:34.846473Z",
     "shell.execute_reply": "2024-06-20T04:51:34.845625Z"
    },
    "papermill": {
     "duration": 2083.824079,
     "end_time": "2024-06-20T04:51:34.848550",
     "exception": false,
     "start_time": "2024-06-20T04:16:51.024471",
     "status": "completed"
    },
    "tags": []
   },
   "outputs": [
    {
     "data": {
      "application/vnd.jupyter.widget-view+json": {
       "model_id": "78f503b007054664a14cdff13d8cb869",
       "version_major": 2,
       "version_minor": 0
      },
      "text/plain": [
       "  0%|          | 0/10000 [00:00<?, ?it/s]"
      ]
     },
     "metadata": {},
     "output_type": "display_data"
    },
    {
     "name": "stdout",
     "output_type": "stream",
     "text": [
      " 1 / 1 Style Loss : 586346.4687, Content Loss : 1209568.4234, Total Loss : 1795914.8922\n"
     ]
    }
   ],
   "source": [
    "trained_model, loss, style_loss, content_loss = TrainTransformerNet(style_path, vgg, device, train_dataloader, batch_size, epochs=1, lr=1e-3, content_weight = 1e5, style_weight = 1e10)"
   ]
  },
  {
   "cell_type": "markdown",
   "id": "135511fd",
   "metadata": {
    "papermill": {
     "duration": 0.016577,
     "end_time": "2024-06-20T04:51:34.881760",
     "exception": false,
     "start_time": "2024-06-20T04:51:34.865183",
     "status": "completed"
    },
    "tags": []
   },
   "source": [
    "# Plotting losses"
   ]
  },
  {
   "cell_type": "code",
   "execution_count": 27,
   "id": "6a3a2c9f",
   "metadata": {
    "execution": {
     "iopub.execute_input": "2024-06-20T04:51:34.916683Z",
     "iopub.status.busy": "2024-06-20T04:51:34.915984Z",
     "iopub.status.idle": "2024-06-20T04:51:34.921982Z",
     "shell.execute_reply": "2024-06-20T04:51:34.921025Z"
    },
    "papermill": {
     "duration": 0.025637,
     "end_time": "2024-06-20T04:51:34.924002",
     "exception": false,
     "start_time": "2024-06-20T04:51:34.898365",
     "status": "completed"
    },
    "tags": []
   },
   "outputs": [],
   "source": [
    "def plot_losses(loss, style_loss, content_loss):\n",
    "    plt.figure(figsize=(10, 5))\n",
    "    plt.plot(loss, label='Total Loss')\n",
    "    plt.plot(style_loss, label='Style Loss')\n",
    "    plt.plot(content_loss, label='Content Loss')\n",
    "    plt.title('Training Losses')\n",
    "    plt.xlabel('Per 4 samples')\n",
    "    plt.ylabel('Loss')\n",
    "    plt.legend()\n",
    "    plt.grid(True)\n",
    "    plt.show()"
   ]
  },
  {
   "cell_type": "code",
   "execution_count": 28,
   "id": "99e94a65",
   "metadata": {
    "execution": {
     "iopub.execute_input": "2024-06-20T04:51:34.959029Z",
     "iopub.status.busy": "2024-06-20T04:51:34.958669Z",
     "iopub.status.idle": "2024-06-20T04:51:35.334216Z",
     "shell.execute_reply": "2024-06-20T04:51:35.333128Z"
    },
    "papermill": {
     "duration": 0.395663,
     "end_time": "2024-06-20T04:51:35.336674",
     "exception": false,
     "start_time": "2024-06-20T04:51:34.941011",
     "status": "completed"
    },
    "tags": []
   },
   "outputs": [
    {
     "data": {
      "image/png": "[encoded data removed]",
      "text/plain": [
       "<Figure size 1000x500 with 1 Axes>"
      ]
     },
     "metadata": {},
     "output_type": "display_data"
    }
   ],
   "source": [
    "plot_losses(loss, style_loss, content_loss)"
   ]
  },
  {
   "cell_type": "markdown",
   "id": "40779089",
   "metadata": {
    "papermill": {
     "duration": 0.01881,
     "end_time": "2024-06-20T04:51:35.374678",
     "exception": false,
     "start_time": "2024-06-20T04:51:35.355868",
     "status": "completed"
    },
    "tags": []
   },
   "source": [
    "# Saving the trained Model"
   ]
  },
  {
   "cell_type": "code",
   "execution_count": 29,
   "id": "b8f6cc8a",
   "metadata": {
    "execution": {
     "iopub.execute_input": "2024-06-20T04:51:35.414672Z",
     "iopub.status.busy": "2024-06-20T04:51:35.414277Z",
     "iopub.status.idle": "2024-06-20T04:51:35.428725Z",
     "shell.execute_reply": "2024-06-20T04:51:35.427933Z"
    },
    "papermill": {
     "duration": 0.037891,
     "end_time": "2024-06-20T04:51:35.431030",
     "exception": false,
     "start_time": "2024-06-20T04:51:35.393139",
     "status": "completed"
    },
    "tags": []
   },
   "outputs": [],
   "source": [
    "trained_model = trained_model.to(\"cpu\")"
   ]
  },
  {
   "cell_type": "code",
   "execution_count": 30,
   "id": "88a191de",
   "metadata": {
    "execution": {
     "iopub.execute_input": "2024-06-20T04:51:35.472998Z",
     "iopub.status.busy": "2024-06-20T04:51:35.472225Z",
     "iopub.status.idle": "2024-06-20T04:51:35.476850Z",
     "shell.execute_reply": "2024-06-20T04:51:35.475887Z"
    },
    "papermill": {
     "duration": 0.027503,
     "end_time": "2024-06-20T04:51:35.478900",
     "exception": false,
     "start_time": "2024-06-20T04:51:35.451397",
     "status": "completed"
    },
    "tags": []
   },
   "outputs": [],
   "source": [
    "model_name = style_name + \".model\""
   ]
  },
  {
   "cell_type": "code",
   "execution_count": 31,
   "id": "d27bf671",
   "metadata": {
    "execution": {
     "iopub.execute_input": "2024-06-20T04:51:35.519959Z",
     "iopub.status.busy": "2024-06-20T04:51:35.519217Z",
     "iopub.status.idle": "2024-06-20T04:51:35.538773Z",
     "shell.execute_reply": "2024-06-20T04:51:35.537712Z"
    },
    "papermill": {
     "duration": 0.042611,
     "end_time": "2024-06-20T04:51:35.541178",
     "exception": false,
     "start_time": "2024-06-20T04:51:35.498567",
     "status": "completed"
    },
    "tags": []
   },
   "outputs": [],
   "source": [
    "torch.save(trained_model.state_dict(), model_name)"
   ]
  }
 ],
 "metadata": {
  "kaggle": {
   "accelerator": "gpu",
   "dataSources": [
    {
     "datasetId": 857191,
     "sourceId": 1462296,
     "sourceType": "datasetVersion"
    },
    {
     "datasetId": 5241921,
     "sourceId": 8733509,
     "sourceType": "datasetVersion"
    }
   ],
   "isGpuEnabled": true,
   "isInternetEnabled": true,
   "language": "python",
   "sourceType": "notebook"
  },
  "kernelspec": {
   "display_name": "Python 3",
   "language": "python",
   "name": "python3"
  },
  "language_info": {
   "codemirror_mode": {
    "name": "ipython",
    "version": 3
   },
   "file_extension": ".py",
   "mimetype": "text/x-python",
   "name": "python",
   "nbconvert_exporter": "python",
   "pygments_lexer": "ipython3",
   "version": "3.10.13"
  },
  "papermill": {
   "default_parameters": {},
   "duration": 2101.426316,
   "end_time": "2024-06-20T04:51:36.989562",
   "environment_variables": {},
   "exception": null,
   "input_path": "__notebook__.ipynb",
   "output_path": "__notebook__.ipynb",
   "parameters": {},
   "start_time": "2024-06-20T04:16:35.563246",
   "version": "2.5.0"
  },
  "widgets": {
   "application/vnd.jupyter.widget-state+json": {
    "state": {
     "13271ceaa2b94bb29f860338276c45c4": {
      "model_module": "@jupyter-widgets/controls",
      "model_module_version": "1.5.0",
      "model_name": "DescriptionStyleModel",
      "state": {
       "_model_module": "@jupyter-widgets/controls",
       "_model_module_version": "1.5.0",
       "_model_name": "DescriptionStyleModel",
       "_view_count": null,
       "_view_module": "@jupyter-widgets/base",
       "_view_module_version": "1.2.0",
       "_view_name": "StyleView",
       "description_width": ""
      }
     },
     "229a9aef833945d6a3f95c66a72d41cd": {
      "model_module": "@jupyter-widgets/controls",
      "model_module_version": "1.5.0",
      "model_name": "HTMLModel",
      "state": {
       "_dom_classes": [],
       "_model_module": "@jupyter-widgets/controls",
       "_model_module_version": "1.5.0",
       "_model_name": "HTMLModel",
       "_view_count": null,
       "_view_module": "@jupyter-widgets/controls",
       "_view_module_version": "1.5.0",
       "_view_name": "HTMLView",
       "description": "",
       "description_tooltip": null,
       "layout": "IPY_MODEL_b3062fce89ca4342be26a92f50a779df",
       "placeholder": "​",
       "style": "IPY_MODEL_13271ceaa2b94bb29f860338276c45c4",
       "value": " 10000/10000 [34:43&lt;00:00,  3.78it/s]"
      }
     },
     "3a4d280fc5d34ad78cf8ffdb19de5fcc": {
      "model_module": "@jupyter-widgets/controls",
      "model_module_version": "1.5.0",
      "model_name": "DescriptionStyleModel",
      "state": {
       "_model_module": "@jupyter-widgets/controls",
       "_model_module_version": "1.5.0",
       "_model_name": "DescriptionStyleModel",
       "_view_count": null,
       "_view_module": "@jupyter-widgets/base",
       "_view_module_version": "1.2.0",
       "_view_name": "StyleView",
       "description_width": ""
      }
     },
     "47703c172f384211a317516ee152a789": {
      "model_module": "@jupyter-widgets/base",
      "model_module_version": "1.2.0",
      "model_name": "LayoutModel",
      "state": {
       "_model_module": "@jupyter-widgets/base",
       "_model_module_version": "1.2.0",
       "_model_name": "LayoutModel",
       "_view_count": null,
       "_view_module": "@jupyter-widgets/base",
       "_view_module_version": "1.2.0",
       "_view_name": "LayoutView",
       "align_content": null,
       "align_items": null,
       "align_self": null,
       "border": null,
       "bottom": null,
       "display": null,
       "flex": null,
       "flex_flow": null,
       "grid_area": null,
       "grid_auto_columns": null,
       "grid_auto_flow": null,
       "grid_auto_rows": null,
       "grid_column": null,
       "grid_gap": null,
       "grid_row": null,
       "grid_template_areas": null,
       "grid_template_columns": null,
       "grid_template_rows": null,
       "height": null,
       "justify_content": null,
       "justify_items": null,
       "left": null,
       "margin": null,
       "max_height": null,
       "max_width": null,
       "min_height": null,
       "min_width": null,
       "object_fit": null,
       "object_position": null,
       "order": null,
       "overflow": null,
       "overflow_x": null,
       "overflow_y": null,
       "padding": null,
       "right": null,
       "top": null,
       "visibility": null,
       "width": null
      }
     },
     "596e0ba89c6a443f8c608e9460c1b966": {
      "model_module": "@jupyter-widgets/controls",
      "model_module_version": "1.5.0",
      "model_name": "ProgressStyleModel",
      "state": {
       "_model_module": "@jupyter-widgets/controls",
       "_model_module_version": "1.5.0",
       "_model_name": "ProgressStyleModel",
       "_view_count": null,
       "_view_module": "@jupyter-widgets/base",
       "_view_module_version": "1.2.0",
       "_view_name": "StyleView",
       "bar_color": null,
       "description_width": ""
      }
     },
     "6041dd3dec154448a807125a8981fc09": {
      "model_module": "@jupyter-widgets/controls",
      "model_module_version": "1.5.0",
      "model_name": "HTMLModel",
      "state": {
       "_dom_classes": [],
       "_model_module": "@jupyter-widgets/controls",
       "_model_module_version": "1.5.0",
       "_model_name": "HTMLModel",
       "_view_count": null,
       "_view_module": "@jupyter-widgets/controls",
       "_view_module_version": "1.5.0",
       "_view_name": "HTMLView",
       "description": "",
       "description_tooltip": null,
       "layout": "IPY_MODEL_83b256d7d41b4bf69879ce14c63fe12e",
       "placeholder": "​",
       "style": "IPY_MODEL_3a4d280fc5d34ad78cf8ffdb19de5fcc",
       "value": "100%"
      }
     },
     "78f503b007054664a14cdff13d8cb869": {
      "model_module": "@jupyter-widgets/controls",
      "model_module_version": "1.5.0",
      "model_name": "HBoxModel",
      "state": {
       "_dom_classes": [],
       "_model_module": "@jupyter-widgets/controls",
       "_model_module_version": "1.5.0",
       "_model_name": "HBoxModel",
       "_view_count": null,
       "_view_module": "@jupyter-widgets/controls",
       "_view_module_version": "1.5.0",
       "_view_name": "HBoxView",
       "box_style": "",
       "children": [
        "IPY_MODEL_6041dd3dec154448a807125a8981fc09",
        "IPY_MODEL_b2d554396a204360b5821ae45003d861",
        "IPY_MODEL_229a9aef833945d6a3f95c66a72d41cd"
       ],
       "layout": "IPY_MODEL_47703c172f384211a317516ee152a789"
      }
     },
     "83b256d7d41b4bf69879ce14c63fe12e": {
      "model_module": "@jupyter-widgets/base",
      "model_module_version": "1.2.0",
      "model_name": "LayoutModel",
      "state": {
       "_model_module": "@jupyter-widgets/base",
       "_model_module_version": "1.2.0",
       "_model_name": "LayoutModel",
       "_view_count": null,
       "_view_module": "@jupyter-widgets/base",
       "_view_module_version": "1.2.0",
       "_view_name": "LayoutView",
       "align_content": null,
       "align_items": null,
       "align_self": null,
       "border": null,
       "bottom": null,
       "display": null,
       "flex": null,
       "flex_flow": null,
       "grid_area": null,
       "grid_auto_columns": null,
       "grid_auto_flow": null,
       "grid_auto_rows": null,
       "grid_column": null,
       "grid_gap": null,
       "grid_row": null,
       "grid_template_areas": null,
       "grid_template_columns": null,
       "grid_template_rows": null,
       "height": null,
       "justify_content": null,
       "justify_items": null,
       "left": null,
       "margin": null,
       "max_height": null,
       "max_width": null,
       "min_height": null,
       "min_width": null,
       "object_fit": null,
       "object_position": null,
       "order": null,
       "overflow": null,
       "overflow_x": null,
       "overflow_y": null,
       "padding": null,
       "right": null,
       "top": null,
       "visibility": null,
       "width": null
      }
     },
     "9ea5fb55165446ec8dbc9b088e6f2a51": {
      "model_module": "@jupyter-widgets/base",
      "model_module_version": "1.2.0",
      "model_name": "LayoutModel",
      "state": {
       "_model_module": "@jupyter-widgets/base",
       "_model_module_version": "1.2.0",
       "_model_name": "LayoutModel",
       "_view_count": null,
       "_view_module": "@jupyter-widgets/base",
       "_view_module_version": "1.2.0",
       "_view_name": "LayoutView",
       "align_content": null,
       "align_items": null,
       "align_self": null,
       "border": null,
       "bottom": null,
       "display": null,
       "flex": null,
       "flex_flow": null,
       "grid_area": null,
       "grid_auto_columns": null,
       "grid_auto_flow": null,
       "grid_auto_rows": null,
       "grid_column": null,
       "grid_gap": null,
       "grid_row": null,
       "grid_template_areas": null,
       "grid_template_columns": null,
       "grid_template_rows": null,
       "height": null,
       "justify_content": null,
       "justify_items": null,
       "left": null,
       "margin": null,
       "max_height": null,
       "max_width": null,
       "min_height": null,
       "min_width": null,
       "object_fit": null,
       "object_position": null,
       "order": null,
       "overflow": null,
       "overflow_x": null,
       "overflow_y": null,
       "padding": null,
       "right": null,
       "top": null,
       "visibility": null,
       "width": null
      }
     },
     "b2d554396a204360b5821ae45003d861": {
      "model_module": "@jupyter-widgets/controls",
      "model_module_version": "1.5.0",
      "model_name": "FloatProgressModel",
      "state": {
       "_dom_classes": [],
       "_model_module": "@jupyter-widgets/controls",
       "_model_module_version": "1.5.0",
       "_model_name": "FloatProgressModel",
       "_view_count": null,
       "_view_module": "@jupyter-widgets/controls",
       "_view_module_version": "1.5.0",
       "_view_name": "ProgressView",
       "bar_style": "success",
       "description": "",
       "description_tooltip": null,
       "layout": "IPY_MODEL_9ea5fb55165446ec8dbc9b088e6f2a51",
       "max": 10000.0,
       "min": 0.0,
       "orientation": "horizontal",
       "style": "IPY_MODEL_596e0ba89c6a443f8c608e9460c1b966",
       "value": 10000.0
      }
     },
     "b3062fce89ca4342be26a92f50a779df": {
      "model_module": "@jupyter-widgets/base",
      "model_module_version": "1.2.0",
      "model_name": "LayoutModel",
      "state": {
       "_model_module": "@jupyter-widgets/base",
       "_model_module_version": "1.2.0",
       "_model_name": "LayoutModel",
       "_view_count": null,
       "_view_module": "@jupyter-widgets/base",
       "_view_module_version": "1.2.0",
       "_view_name": "LayoutView",
       "align_content": null,
       "align_items": null,
       "align_self": null,
       "border": null,
       "bottom": null,
       "display": null,
       "flex": null,
       "flex_flow": null,
       "grid_area": null,
       "grid_auto_columns": null,
       "grid_auto_flow": null,
       "grid_auto_rows": null,
       "grid_column": null,
       "grid_gap": null,
       "grid_row": null,
       "grid_template_areas": null,
       "grid_template_columns": null,
       "grid_template_rows": null,
       "height": null,
       "justify_content": null,
       "justify_items": null,
       "left": null,
       "margin": null,
       "max_height": null,
       "max_width": null,
       "min_height": null,
       "min_width": null,
       "object_fit": null,
       "object_position": null,
       "order": null,
       "overflow": null,
       "overflow_x": null,
       "overflow_y": null,
       "padding": null,
       "right": null,
       "top": null,
       "visibility": null,
       "width": null
      }
     }
    },
    "version_major": 2,
    "version_minor": 0
   }
  }
 },
 "nbformat": 4,
 "nbformat_minor": 5
}

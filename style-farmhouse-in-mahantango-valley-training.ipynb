{
 "cells": [
  {
   "cell_type": "markdown",
   "id": "60eb612f",
   "metadata": {
    "papermill": {
     "duration": 0.011674,
     "end_time": "2024-06-20T02:48:26.357718",
     "exception": false,
     "start_time": "2024-06-20T02:48:26.346044",
     "status": "completed"
    },
    "tags": []
   },
   "source": [
    "# Importing libraries"
   ]
  },
  {
   "cell_type": "code",
   "execution_count": 1,
   "id": "e5144552",
   "metadata": {
    "execution": {
     "iopub.execute_input": "2024-06-20T02:48:26.380389Z",
     "iopub.status.busy": "2024-06-20T02:48:26.380047Z",
     "iopub.status.idle": "2024-06-20T02:48:31.665083Z",
     "shell.execute_reply": "2024-06-20T02:48:31.664002Z"
    },
    "papermill": {
     "duration": 5.299214,
     "end_time": "2024-06-20T02:48:31.667626",
     "exception": false,
     "start_time": "2024-06-20T02:48:26.368412",
     "status": "completed"
    },
    "tags": []
   },
   "outputs": [],
   "source": [
    "import os\n",
    "from torch.utils.data import Dataset, DataLoader\n",
    "from torchvision import transforms, models\n",
    "from PIL import Image\n",
    "import torch\n",
    "import torch.nn as nn\n",
    "from tqdm.autonotebook import tqdm\n",
    "from collections import namedtuple\n",
    "import matplotlib.pyplot as plt"
   ]
  },
  {
   "cell_type": "markdown",
   "id": "2c560dbf",
   "metadata": {
    "papermill": {
     "duration": 0.01361,
     "end_time": "2024-06-20T02:48:31.694622",
     "exception": false,
     "start_time": "2024-06-20T02:48:31.681012",
     "status": "completed"
    },
    "tags": []
   },
   "source": [
    "# Loading the COCO dataset"
   ]
  },
  {
   "cell_type": "markdown",
   "id": "12610346",
   "metadata": {
    "papermill": {
     "duration": 0.016368,
     "end_time": "2024-06-20T02:48:31.727379",
     "exception": false,
     "start_time": "2024-06-20T02:48:31.711011",
     "status": "completed"
    },
    "tags": []
   },
   "source": [
    "**Function that return the path of training images**"
   ]
  },
  {
   "cell_type": "code",
   "execution_count": 2,
   "id": "96e4f516",
   "metadata": {
    "execution": {
     "iopub.execute_input": "2024-06-20T02:48:31.756902Z",
     "iopub.status.busy": "2024-06-20T02:48:31.754316Z",
     "iopub.status.idle": "2024-06-20T02:48:31.762468Z",
     "shell.execute_reply": "2024-06-20T02:48:31.761572Z"
    },
    "papermill": {
     "duration": 0.022708,
     "end_time": "2024-06-20T02:48:31.764527",
     "exception": false,
     "start_time": "2024-06-20T02:48:31.741819",
     "status": "completed"
    },
    "tags": []
   },
   "outputs": [],
   "source": [
    "def TrainImagesPath(path):\n",
    "    images_path = []\n",
    "    for file in os.listdir(path):\n",
    "        if file == \"test2017\":\n",
    "            file_path = os.path.join(path, file)\n",
    "            for f in os.listdir(file_path):\n",
    "                image_path = os.path.join(file_path, f)\n",
    "                images_path.append(image_path)\n",
    "                if len(images_path) == 40000:\n",
    "                    break\n",
    "    return images_path"
   ]
  },
  {
   "cell_type": "markdown",
   "id": "05773b7e",
   "metadata": {
    "papermill": {
     "duration": 0.010832,
     "end_time": "2024-06-20T02:48:31.787084",
     "exception": false,
     "start_time": "2024-06-20T02:48:31.776252",
     "status": "completed"
    },
    "tags": []
   },
   "source": [
    "**Getting images paths**"
   ]
  },
  {
   "cell_type": "code",
   "execution_count": 3,
   "id": "d0f45916",
   "metadata": {
    "execution": {
     "iopub.execute_input": "2024-06-20T02:48:31.811114Z",
     "iopub.status.busy": "2024-06-20T02:48:31.810089Z",
     "iopub.status.idle": "2024-06-20T02:48:32.545522Z",
     "shell.execute_reply": "2024-06-20T02:48:32.544393Z"
    },
    "papermill": {
     "duration": 0.75025,
     "end_time": "2024-06-20T02:48:32.548109",
     "exception": false,
     "start_time": "2024-06-20T02:48:31.797859",
     "status": "completed"
    },
    "tags": []
   },
   "outputs": [],
   "source": [
    "path = \"/kaggle/input/coco-2017-dataset/coco2017\"\n",
    "train_images_path = TrainImagesPath(path)"
   ]
  },
  {
   "cell_type": "markdown",
   "id": "01d83d1d",
   "metadata": {
    "papermill": {
     "duration": 0.012134,
     "end_time": "2024-06-20T02:48:32.572762",
     "exception": false,
     "start_time": "2024-06-20T02:48:32.560628",
     "status": "completed"
    },
    "tags": []
   },
   "source": [
    "**Creating Custom Dataset and Dataloader**"
   ]
  },
  {
   "cell_type": "code",
   "execution_count": 4,
   "id": "712703e3",
   "metadata": {
    "execution": {
     "iopub.execute_input": "2024-06-20T02:48:32.598882Z",
     "iopub.status.busy": "2024-06-20T02:48:32.598483Z",
     "iopub.status.idle": "2024-06-20T02:48:32.605669Z",
     "shell.execute_reply": "2024-06-20T02:48:32.604781Z"
    },
    "papermill": {
     "duration": 0.022684,
     "end_time": "2024-06-20T02:48:32.607868",
     "exception": false,
     "start_time": "2024-06-20T02:48:32.585184",
     "status": "completed"
    },
    "tags": []
   },
   "outputs": [],
   "source": [
    "class CustomDataset(Dataset):\n",
    "    def __init__(self, images_path, labels, transform=None):\n",
    "        self.images_path = images_path\n",
    "        self.labels = labels\n",
    "        self.transform = transform\n",
    "        \n",
    "    def __len__(self):\n",
    "        return len(self.images_path)\n",
    "        \n",
    "    def __getitem__(self, idx):\n",
    "        image = Image.open(self.images_path[idx]).convert('RGB') \n",
    "        if self.transform:\n",
    "            image = self.transform(image)\n",
    "        label = self.labels[idx]\n",
    "        return image, label"
   ]
  },
  {
   "cell_type": "code",
   "execution_count": 5,
   "id": "fb228077",
   "metadata": {
    "execution": {
     "iopub.execute_input": "2024-06-20T02:48:32.635545Z",
     "iopub.status.busy": "2024-06-20T02:48:32.635210Z",
     "iopub.status.idle": "2024-06-20T02:48:32.640908Z",
     "shell.execute_reply": "2024-06-20T02:48:32.640046Z"
    },
    "papermill": {
     "duration": 0.021118,
     "end_time": "2024-06-20T02:48:32.643016",
     "exception": false,
     "start_time": "2024-06-20T02:48:32.621898",
     "status": "completed"
    },
    "tags": []
   },
   "outputs": [],
   "source": [
    "train_transform = transforms.Compose([\n",
    "                                transforms.Resize((256, 256)),\n",
    "                                transforms.CenterCrop((256, 256)),\n",
    "                                transforms.ToTensor(),\n",
    "                                transforms.Lambda(lambda x: x.mul(255))\n",
    "                                    ])"
   ]
  },
  {
   "cell_type": "code",
   "execution_count": 6,
   "id": "53fc5eb6",
   "metadata": {
    "execution": {
     "iopub.execute_input": "2024-06-20T02:48:32.668345Z",
     "iopub.status.busy": "2024-06-20T02:48:32.667985Z",
     "iopub.status.idle": "2024-06-20T02:48:32.672743Z",
     "shell.execute_reply": "2024-06-20T02:48:32.671817Z"
    },
    "papermill": {
     "duration": 0.019893,
     "end_time": "2024-06-20T02:48:32.674802",
     "exception": false,
     "start_time": "2024-06-20T02:48:32.654909",
     "status": "completed"
    },
    "tags": []
   },
   "outputs": [],
   "source": [
    "train_dataset = CustomDataset(train_images_path, [0]*len(train_images_path), train_transform)"
   ]
  },
  {
   "cell_type": "code",
   "execution_count": 7,
   "id": "816e3c85",
   "metadata": {
    "execution": {
     "iopub.execute_input": "2024-06-20T02:48:32.700539Z",
     "iopub.status.busy": "2024-06-20T02:48:32.700163Z",
     "iopub.status.idle": "2024-06-20T02:48:32.707297Z",
     "shell.execute_reply": "2024-06-20T02:48:32.706319Z"
    },
    "papermill": {
     "duration": 0.022528,
     "end_time": "2024-06-20T02:48:32.709494",
     "exception": false,
     "start_time": "2024-06-20T02:48:32.686966",
     "status": "completed"
    },
    "tags": []
   },
   "outputs": [
    {
     "data": {
      "text/plain": [
       "40000"
      ]
     },
     "execution_count": 7,
     "metadata": {},
     "output_type": "execute_result"
    }
   ],
   "source": [
    "len(train_images_path)"
   ]
  },
  {
   "cell_type": "code",
   "execution_count": 8,
   "id": "1d3a643c",
   "metadata": {
    "execution": {
     "iopub.execute_input": "2024-06-20T02:48:32.734752Z",
     "iopub.status.busy": "2024-06-20T02:48:32.734445Z",
     "iopub.status.idle": "2024-06-20T02:48:32.738770Z",
     "shell.execute_reply": "2024-06-20T02:48:32.737801Z"
    },
    "papermill": {
     "duration": 0.01902,
     "end_time": "2024-06-20T02:48:32.740645",
     "exception": false,
     "start_time": "2024-06-20T02:48:32.721625",
     "status": "completed"
    },
    "tags": []
   },
   "outputs": [],
   "source": [
    "batch_size = 4"
   ]
  },
  {
   "cell_type": "code",
   "execution_count": 9,
   "id": "aea92825",
   "metadata": {
    "execution": {
     "iopub.execute_input": "2024-06-20T02:48:32.764222Z",
     "iopub.status.busy": "2024-06-20T02:48:32.763406Z",
     "iopub.status.idle": "2024-06-20T02:48:32.767796Z",
     "shell.execute_reply": "2024-06-20T02:48:32.767062Z"
    },
    "papermill": {
     "duration": 0.018,
     "end_time": "2024-06-20T02:48:32.769796",
     "exception": false,
     "start_time": "2024-06-20T02:48:32.751796",
     "status": "completed"
    },
    "tags": []
   },
   "outputs": [],
   "source": [
    "train_dataloader = DataLoader(train_dataset, batch_size=batch_size)"
   ]
  },
  {
   "cell_type": "markdown",
   "id": "2c75749e",
   "metadata": {
    "papermill": {
     "duration": 0.011109,
     "end_time": "2024-06-20T02:48:32.791585",
     "exception": false,
     "start_time": "2024-06-20T02:48:32.780476",
     "status": "completed"
    },
    "tags": []
   },
   "source": [
    "# GPU configuration"
   ]
  },
  {
   "cell_type": "code",
   "execution_count": 10,
   "id": "527bab8f",
   "metadata": {
    "execution": {
     "iopub.execute_input": "2024-06-20T02:48:32.815491Z",
     "iopub.status.busy": "2024-06-20T02:48:32.815130Z",
     "iopub.status.idle": "2024-06-20T02:48:32.865914Z",
     "shell.execute_reply": "2024-06-20T02:48:32.865034Z"
    },
    "papermill": {
     "duration": 0.065068,
     "end_time": "2024-06-20T02:48:32.867872",
     "exception": false,
     "start_time": "2024-06-20T02:48:32.802804",
     "status": "completed"
    },
    "tags": []
   },
   "outputs": [
    {
     "data": {
      "text/plain": [
       "device(type='cuda')"
      ]
     },
     "execution_count": 10,
     "metadata": {},
     "output_type": "execute_result"
    }
   ],
   "source": [
    "device = torch.device(\"cuda\" if torch.cuda.is_available() else \"cpu\")\n",
    "device"
   ]
  },
  {
   "cell_type": "markdown",
   "id": "0e404c73",
   "metadata": {
    "papermill": {
     "duration": 0.010613,
     "end_time": "2024-06-20T02:48:32.889279",
     "exception": false,
     "start_time": "2024-06-20T02:48:32.878666",
     "status": "completed"
    },
    "tags": []
   },
   "source": [
    "# Function to load style image"
   ]
  },
  {
   "cell_type": "code",
   "execution_count": 11,
   "id": "7cf29966",
   "metadata": {
    "execution": {
     "iopub.execute_input": "2024-06-20T02:48:32.912284Z",
     "iopub.status.busy": "2024-06-20T02:48:32.911940Z",
     "iopub.status.idle": "2024-06-20T02:48:32.916265Z",
     "shell.execute_reply": "2024-06-20T02:48:32.915419Z"
    },
    "papermill": {
     "duration": 0.018361,
     "end_time": "2024-06-20T02:48:32.918297",
     "exception": false,
     "start_time": "2024-06-20T02:48:32.899936",
     "status": "completed"
    },
    "tags": []
   },
   "outputs": [],
   "source": [
    "style_transform = transforms.Compose([\n",
    "                            transforms.ToTensor(),\n",
    "                            transforms.Lambda(lambda x: x.mul(255))\n",
    "                            ])"
   ]
  },
  {
   "cell_type": "code",
   "execution_count": 12,
   "id": "12d81f98",
   "metadata": {
    "execution": {
     "iopub.execute_input": "2024-06-20T02:48:32.941625Z",
     "iopub.status.busy": "2024-06-20T02:48:32.941315Z",
     "iopub.status.idle": "2024-06-20T02:48:32.946252Z",
     "shell.execute_reply": "2024-06-20T02:48:32.945400Z"
    },
    "papermill": {
     "duration": 0.018681,
     "end_time": "2024-06-20T02:48:32.948104",
     "exception": false,
     "start_time": "2024-06-20T02:48:32.929423",
     "status": "completed"
    },
    "tags": []
   },
   "outputs": [],
   "source": [
    "def LoadStyleImage(path, batch_size, device):\n",
    "    style = Image.open(path).convert('RGB')\n",
    "    style = style_transform(style)\n",
    "    style = style.repeat(batch_size, 1, 1, 1)\n",
    "    style = style.to(device) \n",
    "    return style"
   ]
  },
  {
   "cell_type": "markdown",
   "id": "00820b45",
   "metadata": {
    "papermill": {
     "duration": 0.010798,
     "end_time": "2024-06-20T02:48:32.970031",
     "exception": false,
     "start_time": "2024-06-20T02:48:32.959233",
     "status": "completed"
    },
    "tags": []
   },
   "source": [
    "# Loading Pretained VGG16 model"
   ]
  },
  {
   "cell_type": "code",
   "execution_count": 13,
   "id": "1a5584b5",
   "metadata": {
    "execution": {
     "iopub.execute_input": "2024-06-20T02:48:32.993576Z",
     "iopub.status.busy": "2024-06-20T02:48:32.993242Z",
     "iopub.status.idle": "2024-06-20T02:48:33.004203Z",
     "shell.execute_reply": "2024-06-20T02:48:33.003041Z"
    },
    "papermill": {
     "duration": 0.025505,
     "end_time": "2024-06-20T02:48:33.006444",
     "exception": false,
     "start_time": "2024-06-20T02:48:32.980939",
     "status": "completed"
    },
    "tags": []
   },
   "outputs": [],
   "source": [
    "class VGG16(nn.Module):\n",
    "    def __init__(self, requires_grad=False):\n",
    "        super(VGG16, self).__init__()\n",
    "        vgg_pretrained_features = models.vgg16(pretrained=True).features\n",
    "        self.slice1 = nn.Sequential()\n",
    "        self.slice2 = nn.Sequential()\n",
    "        self.slice3 = nn.Sequential()\n",
    "        self.slice4 = nn.Sequential()\n",
    "        \n",
    "        for x in range(4):\n",
    "            self.slice1.add_module(str(x), vgg_pretrained_features[x])\n",
    "        for x in range(4, 9):\n",
    "            self.slice2.add_module(str(x), vgg_pretrained_features[x])\n",
    "        for x in range(9, 16):\n",
    "            self.slice3.add_module(str(x), vgg_pretrained_features[x])\n",
    "        for x in range(16, 23):\n",
    "            self.slice4.add_module(str(x), vgg_pretrained_features[x])\n",
    "            \n",
    "        if not requires_grad:\n",
    "            for param in self.parameters():\n",
    "                param.requires_grad = False\n",
    "\n",
    "    def forward(self, X):\n",
    "        h = self.slice1(X)\n",
    "        h_relu1_2 = h\n",
    "        h = self.slice2(h)\n",
    "        h_relu2_2 = h\n",
    "        h = self.slice3(h)\n",
    "        h_relu3_3 = h\n",
    "        h = self.slice4(h)\n",
    "        h_relu4_3 = h\n",
    "        vgg_outputs = namedtuple(\"VggOutputs\", [\"relu1_2\", \"relu2_2\", \"relu3_3\", \"relu4_3\"])\n",
    "        out = vgg_outputs(h_relu1_2, h_relu2_2, h_relu3_3, h_relu4_3)\n",
    "        return out"
   ]
  },
  {
   "cell_type": "code",
   "execution_count": 14,
   "id": "5008e8e2",
   "metadata": {
    "execution": {
     "iopub.execute_input": "2024-06-20T02:48:33.030140Z",
     "iopub.status.busy": "2024-06-20T02:48:33.029554Z",
     "iopub.status.idle": "2024-06-20T02:48:38.131082Z",
     "shell.execute_reply": "2024-06-20T02:48:38.130222Z"
    },
    "papermill": {
     "duration": 5.115812,
     "end_time": "2024-06-20T02:48:38.133371",
     "exception": false,
     "start_time": "2024-06-20T02:48:33.017559",
     "status": "completed"
    },
    "tags": []
   },
   "outputs": [
    {
     "name": "stderr",
     "output_type": "stream",
     "text": [
      "/opt/conda/lib/python3.10/site-packages/torchvision/models/_utils.py:208: UserWarning: The parameter 'pretrained' is deprecated since 0.13 and may be removed in the future, please use 'weights' instead.\n",
      "  warnings.warn(\n",
      "/opt/conda/lib/python3.10/site-packages/torchvision/models/_utils.py:223: UserWarning: Arguments other than a weight enum or `None` for 'weights' are deprecated since 0.13 and may be removed in the future. The current behavior is equivalent to passing `weights=VGG16_Weights.IMAGENET1K_V1`. You can also use `weights=VGG16_Weights.DEFAULT` to get the most up-to-date weights.\n",
      "  warnings.warn(msg)\n",
      "Downloading: \"https://download.pytorch.org/models/vgg16-397923af.pth\" to /root/.cache/torch/hub/checkpoints/vgg16-397923af.pth\n",
      "100%|██████████| 528M/528M [00:03<00:00, 169MB/s]\n"
     ]
    }
   ],
   "source": [
    "vgg = VGG16(requires_grad=False)"
   ]
  },
  {
   "cell_type": "code",
   "execution_count": 15,
   "id": "6be5e2a2",
   "metadata": {
    "execution": {
     "iopub.execute_input": "2024-06-20T02:48:38.162563Z",
     "iopub.status.busy": "2024-06-20T02:48:38.162226Z",
     "iopub.status.idle": "2024-06-20T02:48:38.317876Z",
     "shell.execute_reply": "2024-06-20T02:48:38.316874Z"
    },
    "papermill": {
     "duration": 0.172993,
     "end_time": "2024-06-20T02:48:38.320293",
     "exception": false,
     "start_time": "2024-06-20T02:48:38.147300",
     "status": "completed"
    },
    "tags": []
   },
   "outputs": [],
   "source": [
    "vgg = vgg.to(device)"
   ]
  },
  {
   "cell_type": "markdown",
   "id": "ac360624",
   "metadata": {
    "papermill": {
     "duration": 0.013951,
     "end_time": "2024-06-20T02:48:38.348314",
     "exception": false,
     "start_time": "2024-06-20T02:48:38.334363",
     "status": "completed"
    },
    "tags": []
   },
   "source": [
    "# Defining architecture of Transformernet model"
   ]
  },
  {
   "cell_type": "code",
   "execution_count": 16,
   "id": "65a19d8f",
   "metadata": {
    "execution": {
     "iopub.execute_input": "2024-06-20T02:48:38.377940Z",
     "iopub.status.busy": "2024-06-20T02:48:38.377078Z",
     "iopub.status.idle": "2024-06-20T02:48:38.383495Z",
     "shell.execute_reply": "2024-06-20T02:48:38.382597Z"
    },
    "papermill": {
     "duration": 0.023452,
     "end_time": "2024-06-20T02:48:38.385646",
     "exception": false,
     "start_time": "2024-06-20T02:48:38.362194",
     "status": "completed"
    },
    "tags": []
   },
   "outputs": [],
   "source": [
    "class ConvLayer(nn.Module):\n",
    "    def __init__(self, in_channels, out_channels, kernel_size, stride):\n",
    "        super(ConvLayer, self).__init__()\n",
    "        reflection_padding = kernel_size // 2\n",
    "        self.reflection_pad = nn.ReflectionPad2d(reflection_padding)\n",
    "        self.conv2d = nn.Conv2d(in_channels, out_channels, kernel_size, stride)\n",
    "\n",
    "    def forward(self, x):\n",
    "        out = self.reflection_pad(x)\n",
    "        out = self.conv2d(out)\n",
    "        return out"
   ]
  },
  {
   "cell_type": "code",
   "execution_count": 17,
   "id": "e04a4d70",
   "metadata": {
    "execution": {
     "iopub.execute_input": "2024-06-20T02:48:38.414658Z",
     "iopub.status.busy": "2024-06-20T02:48:38.414342Z",
     "iopub.status.idle": "2024-06-20T02:48:38.420887Z",
     "shell.execute_reply": "2024-06-20T02:48:38.420039Z"
    },
    "papermill": {
     "duration": 0.023293,
     "end_time": "2024-06-20T02:48:38.422839",
     "exception": false,
     "start_time": "2024-06-20T02:48:38.399546",
     "status": "completed"
    },
    "tags": []
   },
   "outputs": [],
   "source": [
    "class ResidualBlock(nn.Module):\n",
    "    def __init__(self, channels):\n",
    "        super(ResidualBlock, self).__init__()\n",
    "        self.conv1 = ConvLayer(channels, channels, kernel_size=3, stride=1)\n",
    "        self.in1 = nn.InstanceNorm2d(channels, affine=True)\n",
    "        self.conv2 = ConvLayer(channels, channels, kernel_size=3, stride=1)\n",
    "        self.in2 = nn.InstanceNorm2d(channels, affine=True)\n",
    "        self.relu = nn.ReLU()\n",
    "\n",
    "    def forward(self, x):\n",
    "        out = self.relu(self.in1(self.conv1(x)))\n",
    "        out = self.in2(self.conv2(out))\n",
    "        out = out + x\n",
    "        return out"
   ]
  },
  {
   "cell_type": "code",
   "execution_count": 18,
   "id": "27c04d49",
   "metadata": {
    "execution": {
     "iopub.execute_input": "2024-06-20T02:48:38.451589Z",
     "iopub.status.busy": "2024-06-20T02:48:38.451281Z",
     "iopub.status.idle": "2024-06-20T02:48:38.457971Z",
     "shell.execute_reply": "2024-06-20T02:48:38.457022Z"
    },
    "papermill": {
     "duration": 0.02374,
     "end_time": "2024-06-20T02:48:38.460317",
     "exception": false,
     "start_time": "2024-06-20T02:48:38.436577",
     "status": "completed"
    },
    "tags": []
   },
   "outputs": [],
   "source": [
    "class UpsampleConvLayer(nn.Module):\n",
    "    def __init__(self, in_channels, out_channels, kernel_size, stride, upsample=None):\n",
    "        super(UpsampleConvLayer, self).__init__()\n",
    "        self.upsample = upsample\n",
    "        reflection_padding = kernel_size // 2\n",
    "        self.reflection_pad = nn.ReflectionPad2d(reflection_padding)\n",
    "        self.conv2d = nn.Conv2d(in_channels, out_channels, kernel_size, stride)\n",
    "\n",
    "    def forward(self, x):\n",
    "        if self.upsample:\n",
    "            x = nn.functional.interpolate(x, mode='nearest', scale_factor=self.upsample)\n",
    "        out = self.reflection_pad(x)\n",
    "        out = self.conv2d(out)\n",
    "        return out"
   ]
  },
  {
   "cell_type": "code",
   "execution_count": 19,
   "id": "b2f6dbfb",
   "metadata": {
    "execution": {
     "iopub.execute_input": "2024-06-20T02:48:38.489605Z",
     "iopub.status.busy": "2024-06-20T02:48:38.489292Z",
     "iopub.status.idle": "2024-06-20T02:48:38.501273Z",
     "shell.execute_reply": "2024-06-20T02:48:38.500520Z"
    },
    "papermill": {
     "duration": 0.028908,
     "end_time": "2024-06-20T02:48:38.503142",
     "exception": false,
     "start_time": "2024-06-20T02:48:38.474234",
     "status": "completed"
    },
    "tags": []
   },
   "outputs": [],
   "source": [
    "class TransformerNet(nn.Module):\n",
    "    def __init__(self):\n",
    "        super(TransformerNet, self).__init__()\n",
    "        \n",
    "        self.conv1 = ConvLayer(3, 32, kernel_size=9, stride=1)\n",
    "        self.in1 = nn.InstanceNorm2d(32, affine=True)\n",
    "        self.conv2 = ConvLayer(32, 64, kernel_size=3, stride=2)\n",
    "        self.in2 = nn.InstanceNorm2d(64, affine=True)\n",
    "        self.conv3 = ConvLayer(64, 128, kernel_size=3, stride=2)\n",
    "        self.in3 = nn.InstanceNorm2d(128, affine=True)\n",
    "        \n",
    "        self.res1 = ResidualBlock(128)\n",
    "        self.res2 = ResidualBlock(128)\n",
    "        self.res3 = ResidualBlock(128)\n",
    "        self.res4 = ResidualBlock(128)\n",
    "        self.res5 = ResidualBlock(128)\n",
    "        \n",
    "        self.deconv1 = UpsampleConvLayer(128, 64, kernel_size=3, stride=1, upsample=2)\n",
    "        self.in4 = nn.InstanceNorm2d(64, affine=True)\n",
    "        self.deconv2 = UpsampleConvLayer(64, 32, kernel_size=3, stride=1, upsample=2)\n",
    "        self.in5 = nn.InstanceNorm2d(32, affine=True)\n",
    "        self.deconv3 = ConvLayer(32, 3, kernel_size=9, stride=1)\n",
    "        \n",
    "        self.relu = nn.ReLU()\n",
    "\n",
    "    def forward(self, X):\n",
    "        y = self.relu(self.in1(self.conv1(X)))\n",
    "        y = self.relu(self.in2(self.conv2(y)))\n",
    "        y = self.relu(self.in3(self.conv3(y)))\n",
    "        y = self.res1(y)\n",
    "        y = self.res2(y)\n",
    "        y = self.res3(y)\n",
    "        y = self.res4(y)\n",
    "        y = self.res5(y)\n",
    "        y = self.relu(self.in4(self.deconv1(y)))\n",
    "        y = self.relu(self.in5(self.deconv2(y)))\n",
    "        y = self.deconv3(y)\n",
    "        return y"
   ]
  },
  {
   "cell_type": "markdown",
   "id": "d65b0b0b",
   "metadata": {
    "papermill": {
     "duration": 0.014012,
     "end_time": "2024-06-20T02:48:38.531074",
     "exception": false,
     "start_time": "2024-06-20T02:48:38.517062",
     "status": "completed"
    },
    "tags": []
   },
   "source": [
    "# Defining training helper functions"
   ]
  },
  {
   "cell_type": "code",
   "execution_count": 20,
   "id": "a3003a7d",
   "metadata": {
    "execution": {
     "iopub.execute_input": "2024-06-20T02:48:38.560745Z",
     "iopub.status.busy": "2024-06-20T02:48:38.560396Z",
     "iopub.status.idle": "2024-06-20T02:48:38.565977Z",
     "shell.execute_reply": "2024-06-20T02:48:38.565047Z"
    },
    "papermill": {
     "duration": 0.022962,
     "end_time": "2024-06-20T02:48:38.568078",
     "exception": false,
     "start_time": "2024-06-20T02:48:38.545116",
     "status": "completed"
    },
    "tags": []
   },
   "outputs": [],
   "source": [
    "def gram_matrix(y):\n",
    "    (b, c, h, w) = y.size()\n",
    "    features = y.view(b, c, w * h)\n",
    "    features_t = features.transpose(1, 2)\n",
    "    gram = features.bmm(features_t) / (c * h * w)\n",
    "    return gram"
   ]
  },
  {
   "cell_type": "code",
   "execution_count": 21,
   "id": "096d4d0d",
   "metadata": {
    "execution": {
     "iopub.execute_input": "2024-06-20T02:48:38.643880Z",
     "iopub.status.busy": "2024-06-20T02:48:38.643039Z",
     "iopub.status.idle": "2024-06-20T02:48:38.648656Z",
     "shell.execute_reply": "2024-06-20T02:48:38.647768Z"
    },
    "papermill": {
     "duration": 0.023923,
     "end_time": "2024-06-20T02:48:38.650725",
     "exception": false,
     "start_time": "2024-06-20T02:48:38.626802",
     "status": "completed"
    },
    "tags": []
   },
   "outputs": [],
   "source": [
    "def normalize_batch(batch):\n",
    "    mean = batch.new_tensor([0.485, 0.456, 0.406]).view(-1, 1, 1)\n",
    "    std = batch.new_tensor([0.229, 0.224, 0.225]).view(-1, 1, 1)\n",
    "    batch = batch.div_(255.0)\n",
    "    return (batch - mean) / std"
   ]
  },
  {
   "cell_type": "markdown",
   "id": "e42d8b2a",
   "metadata": {
    "papermill": {
     "duration": 0.0137,
     "end_time": "2024-06-20T02:48:38.678621",
     "exception": false,
     "start_time": "2024-06-20T02:48:38.664921",
     "status": "completed"
    },
    "tags": []
   },
   "source": [
    "# Training on given style image"
   ]
  },
  {
   "cell_type": "code",
   "execution_count": 22,
   "id": "01dcb669",
   "metadata": {
    "execution": {
     "iopub.execute_input": "2024-06-20T02:48:38.707810Z",
     "iopub.status.busy": "2024-06-20T02:48:38.707464Z",
     "iopub.status.idle": "2024-06-20T02:48:38.719750Z",
     "shell.execute_reply": "2024-06-20T02:48:38.718803Z"
    },
    "papermill": {
     "duration": 0.029397,
     "end_time": "2024-06-20T02:48:38.721890",
     "exception": false,
     "start_time": "2024-06-20T02:48:38.692493",
     "status": "completed"
    },
    "tags": []
   },
   "outputs": [],
   "source": [
    "def TrainTransformerNet(style_path, vgg, device, train_dataloader, batch_size, epochs=1, lr=1e-3, content_weight = 1e5, style_weight = 1e10):\n",
    "    \n",
    "    style_image = LoadStyleImage(style_path, batch_size, device) ## Getting style image\n",
    "    features_style = vgg(normalize_batch(style_image)) ## getting features maps of style image\n",
    "    gram_style = [gram_matrix(y) for y in features_style] ## creating gram matrix of style features\n",
    "    \n",
    "    transformer = TransformerNet()\n",
    "    transformer = transformer.to(device)\n",
    "    optimizer = torch.optim.Adam(transformer.parameters(), lr=lr)\n",
    "    criterion = nn.MSELoss()\n",
    "    \n",
    "    loss = []\n",
    "    style_loss_ = []\n",
    "    content_loss_ = []\n",
    "    \n",
    "    for epoch in range(epochs):\n",
    "        \n",
    "        transformer.train()\n",
    "        agg_content_loss = 0.\n",
    "        agg_style_loss = 0.\n",
    "        \n",
    "        for x, _ in tqdm(train_dataloader):\n",
    "            optimizer.zero_grad()\n",
    "\n",
    "            x = x.to(device)\n",
    "            y = transformer(x)\n",
    "\n",
    "            y = normalize_batch(y)\n",
    "            x = normalize_batch(x)\n",
    "\n",
    "            features_y = vgg(y)\n",
    "            features_x = vgg(x)\n",
    "\n",
    "            content_loss = content_weight * criterion(features_y.relu2_2, features_x.relu2_2)\n",
    "\n",
    "            style_loss = 0.\n",
    "            n_batch = len(x)\n",
    "            for ft_y, gm_s in zip(features_y, gram_style):\n",
    "                gm_y = gram_matrix(ft_y)\n",
    "                style_loss += criterion(gm_y, gm_s[:n_batch, :, :])\n",
    "            style_loss *= style_weight\n",
    "\n",
    "            total_loss_b = content_loss + style_loss\n",
    "            total_loss_b.backward()\n",
    "            optimizer.step()\n",
    "\n",
    "            agg_content_loss += content_loss.item()\n",
    "            agg_style_loss += style_loss.item() \n",
    "            \n",
    "            style_loss_.append(style_loss.item())\n",
    "            content_loss_.append(content_loss.item())\n",
    "            loss.append(style_loss.item() + content_loss.item())\n",
    "        \n",
    "        avg_content_loss = agg_content_loss / len(train_dataloader)\n",
    "        avg_style_loss = agg_style_loss / len(train_dataloader)\n",
    "        avg_loss = avg_content_loss + avg_style_loss\n",
    "        \n",
    "        print(f\" {epoch +1} / {epochs} Style Loss : {avg_style_loss:.4f}, Content Loss : {avg_content_loss:.4f}, Total Loss : {avg_loss:.4f}\")\n",
    "            \n",
    "        \n",
    "    return transformer, loss, style_loss_, content_loss_"
   ]
  },
  {
   "cell_type": "code",
   "execution_count": 23,
   "id": "a3c3c228",
   "metadata": {
    "execution": {
     "iopub.execute_input": "2024-06-20T02:48:38.751408Z",
     "iopub.status.busy": "2024-06-20T02:48:38.751087Z",
     "iopub.status.idle": "2024-06-20T02:48:38.755121Z",
     "shell.execute_reply": "2024-06-20T02:48:38.754350Z"
    },
    "papermill": {
     "duration": 0.021262,
     "end_time": "2024-06-20T02:48:38.757120",
     "exception": false,
     "start_time": "2024-06-20T02:48:38.735858",
     "status": "completed"
    },
    "tags": []
   },
   "outputs": [],
   "source": [
    "style_name = \"Farmhouse in Mahantango Valley\""
   ]
  },
  {
   "cell_type": "code",
   "execution_count": 24,
   "id": "a9064018",
   "metadata": {
    "execution": {
     "iopub.execute_input": "2024-06-20T02:48:38.787156Z",
     "iopub.status.busy": "2024-06-20T02:48:38.786811Z",
     "iopub.status.idle": "2024-06-20T02:48:38.790883Z",
     "shell.execute_reply": "2024-06-20T02:48:38.790038Z"
    },
    "papermill": {
     "duration": 0.021038,
     "end_time": "2024-06-20T02:48:38.792791",
     "exception": false,
     "start_time": "2024-06-20T02:48:38.771753",
     "status": "completed"
    },
    "tags": []
   },
   "outputs": [],
   "source": [
    "input_dir = \"/kaggle/input/style-images-for-neural-style-transfer/Style Images for Neural Style Transfer\""
   ]
  },
  {
   "cell_type": "code",
   "execution_count": 25,
   "id": "e441f47a",
   "metadata": {
    "execution": {
     "iopub.execute_input": "2024-06-20T02:48:38.821752Z",
     "iopub.status.busy": "2024-06-20T02:48:38.821454Z",
     "iopub.status.idle": "2024-06-20T02:48:38.825924Z",
     "shell.execute_reply": "2024-06-20T02:48:38.825045Z"
    },
    "papermill": {
     "duration": 0.02146,
     "end_time": "2024-06-20T02:48:38.828230",
     "exception": false,
     "start_time": "2024-06-20T02:48:38.806770",
     "status": "completed"
    },
    "tags": []
   },
   "outputs": [],
   "source": [
    "style_path = os.path.join(input_dir, style_name)\n",
    "style_path += \".jpg\""
   ]
  },
  {
   "cell_type": "code",
   "execution_count": 26,
   "id": "b84d90f2",
   "metadata": {
    "execution": {
     "iopub.execute_input": "2024-06-20T02:48:38.857746Z",
     "iopub.status.busy": "2024-06-20T02:48:38.857432Z",
     "iopub.status.idle": "2024-06-20T03:21:03.219418Z",
     "shell.execute_reply": "2024-06-20T03:21:03.218589Z"
    },
    "papermill": {
     "duration": 1944.379563,
     "end_time": "2024-06-20T03:21:03.221660",
     "exception": false,
     "start_time": "2024-06-20T02:48:38.842097",
     "status": "completed"
    },
    "tags": []
   },
   "outputs": [
    {
     "data": {
      "application/vnd.jupyter.widget-view+json": {
       "model_id": "ef496143afe144b2951a0dc4d771c518",
       "version_major": 2,
       "version_minor": 0
      },
      "text/plain": [
       "  0%|          | 0/10000 [00:00<?, ?it/s]"
      ]
     },
     "metadata": {},
     "output_type": "display_data"
    },
    {
     "name": "stdout",
     "output_type": "stream",
     "text": [
      " 1 / 1 Style Loss : 150039.5834, Content Loss : 334886.8756, Total Loss : 484926.4590\n"
     ]
    }
   ],
   "source": [
    "trained_model, loss, style_loss, content_loss = TrainTransformerNet(style_path, vgg, device, train_dataloader, batch_size, epochs=1, lr=1e-3, content_weight = 1e5, style_weight = 1e10)"
   ]
  },
  {
   "cell_type": "markdown",
   "id": "30c45eb6",
   "metadata": {
    "papermill": {
     "duration": 0.013869,
     "end_time": "2024-06-20T03:21:03.249570",
     "exception": false,
     "start_time": "2024-06-20T03:21:03.235701",
     "status": "completed"
    },
    "tags": []
   },
   "source": [
    "# Plotting losses"
   ]
  },
  {
   "cell_type": "code",
   "execution_count": 27,
   "id": "4397a4a5",
   "metadata": {
    "execution": {
     "iopub.execute_input": "2024-06-20T03:21:03.278431Z",
     "iopub.status.busy": "2024-06-20T03:21:03.277831Z",
     "iopub.status.idle": "2024-06-20T03:21:03.283771Z",
     "shell.execute_reply": "2024-06-20T03:21:03.282909Z"
    },
    "papermill": {
     "duration": 0.022308,
     "end_time": "2024-06-20T03:21:03.285616",
     "exception": false,
     "start_time": "2024-06-20T03:21:03.263308",
     "status": "completed"
    },
    "tags": []
   },
   "outputs": [],
   "source": [
    "def plot_losses(loss, style_loss, content_loss):\n",
    "    plt.figure(figsize=(10, 5))\n",
    "    plt.plot(loss, label='Total Loss')\n",
    "    plt.plot(style_loss, label='Style Loss')\n",
    "    plt.plot(content_loss, label='Content Loss')\n",
    "    plt.title('Training Losses')\n",
    "    plt.xlabel('Per 4 samples')\n",
    "    plt.ylabel('Loss')\n",
    "    plt.legend()\n",
    "    plt.grid(True)\n",
    "    plt.show()"
   ]
  },
  {
   "cell_type": "code",
   "execution_count": 28,
   "id": "4b30425a",
   "metadata": {
    "execution": {
     "iopub.execute_input": "2024-06-20T03:21:03.314445Z",
     "iopub.status.busy": "2024-06-20T03:21:03.313757Z",
     "iopub.status.idle": "2024-06-20T03:21:03.684977Z",
     "shell.execute_reply": "2024-06-20T03:21:03.684129Z"
    },
    "papermill": {
     "duration": 0.388196,
     "end_time": "2024-06-20T03:21:03.687432",
     "exception": false,
     "start_time": "2024-06-20T03:21:03.299236",
     "status": "completed"
    },
    "tags": []
   },
   "outputs": [
    {
     "data": {
      "image/png": "[encoded data removed]",
      "text/plain": [
       "<Figure size 1000x500 with 1 Axes>"
      ]
     },
     "metadata": {},
     "output_type": "display_data"
    }
   ],
   "source": [
    "plot_losses(loss, style_loss, content_loss)"
   ]
  },
  {
   "cell_type": "markdown",
   "id": "c224830e",
   "metadata": {
    "papermill": {
     "duration": 0.014709,
     "end_time": "2024-06-20T03:21:03.717240",
     "exception": false,
     "start_time": "2024-06-20T03:21:03.702531",
     "status": "completed"
    },
    "tags": []
   },
   "source": [
    "# Saving the trained Model"
   ]
  },
  {
   "cell_type": "code",
   "execution_count": 29,
   "id": "0d7626b2",
   "metadata": {
    "execution": {
     "iopub.execute_input": "2024-06-20T03:21:03.747753Z",
     "iopub.status.busy": "2024-06-20T03:21:03.747433Z",
     "iopub.status.idle": "2024-06-20T03:21:03.760269Z",
     "shell.execute_reply": "2024-06-20T03:21:03.759607Z"
    },
    "papermill": {
     "duration": 0.030614,
     "end_time": "2024-06-20T03:21:03.762345",
     "exception": false,
     "start_time": "2024-06-20T03:21:03.731731",
     "status": "completed"
    },
    "tags": []
   },
   "outputs": [],
   "source": [
    "trained_model = trained_model.to(\"cpu\")"
   ]
  },
  {
   "cell_type": "code",
   "execution_count": 30,
   "id": "5297c4c3",
   "metadata": {
    "execution": {
     "iopub.execute_input": "2024-06-20T03:21:03.792276Z",
     "iopub.status.busy": "2024-06-20T03:21:03.791947Z",
     "iopub.status.idle": "2024-06-20T03:21:03.795781Z",
     "shell.execute_reply": "2024-06-20T03:21:03.795037Z"
    },
    "papermill": {
     "duration": 0.020966,
     "end_time": "2024-06-20T03:21:03.797646",
     "exception": false,
     "start_time": "2024-06-20T03:21:03.776680",
     "status": "completed"
    },
    "tags": []
   },
   "outputs": [],
   "source": [
    "model_name = style_name + \".model\""
   ]
  },
  {
   "cell_type": "code",
   "execution_count": 31,
   "id": "54dbe458",
   "metadata": {
    "execution": {
     "iopub.execute_input": "2024-06-20T03:21:03.828040Z",
     "iopub.status.busy": "2024-06-20T03:21:03.827749Z",
     "iopub.status.idle": "2024-06-20T03:21:03.844658Z",
     "shell.execute_reply": "2024-06-20T03:21:03.844021Z"
    },
    "papermill": {
     "duration": 0.034116,
     "end_time": "2024-06-20T03:21:03.846453",
     "exception": false,
     "start_time": "2024-06-20T03:21:03.812337",
     "status": "completed"
    },
    "tags": []
   },
   "outputs": [],
   "source": [
    "torch.save(trained_model.state_dict(), model_name)"
   ]
  }
 ],
 "metadata": {
  "kaggle": {
   "accelerator": "gpu",
   "dataSources": [
    {
     "datasetId": 857191,
     "sourceId": 1462296,
     "sourceType": "datasetVersion"
    },
    {
     "datasetId": 5241921,
     "sourceId": 8732771,
     "sourceType": "datasetVersion"
    }
   ],
   "dockerImageVersionId": 30733,
   "isGpuEnabled": true,
   "isInternetEnabled": true,
   "language": "python",
   "sourceType": "notebook"
  },
  "kernelspec": {
   "display_name": "Python 3",
   "language": "python",
   "name": "python3"
  },
  "language_info": {
   "codemirror_mode": {
    "name": "ipython",
    "version": 3
   },
   "file_extension": ".py",
   "mimetype": "text/x-python",
   "name": "python",
   "nbconvert_exporter": "python",
   "pygments_lexer": "ipython3",
   "version": "3.10.13"
  },
  "papermill": {
   "default_parameters": {},
   "duration": 1961.548346,
   "end_time": "2024-06-20T03:21:05.087551",
   "environment_variables": {},
   "exception": null,
   "input_path": "__notebook__.ipynb",
   "output_path": "__notebook__.ipynb",
   "parameters": {},
   "start_time": "2024-06-20T02:48:23.539205",
   "version": "2.5.0"
  },
  "widgets": {
   "application/vnd.jupyter.widget-state+json": {
    "state": {
     "0fda781bae6b452fb3660a49aec4a91a": {
      "model_module": "@jupyter-widgets/base",
      "model_module_version": "1.2.0",
      "model_name": "LayoutModel",
      "state": {
       "_model_module": "@jupyter-widgets/base",
       "_model_module_version": "1.2.0",
       "_model_name": "LayoutModel",
       "_view_count": null,
       "_view_module": "@jupyter-widgets/base",
       "_view_module_version": "1.2.0",
       "_view_name": "LayoutView",
       "align_content": null,
       "align_items": null,
       "align_self": null,
       "border": null,
       "bottom": null,
       "display": null,
       "flex": null,
       "flex_flow": null,
       "grid_area": null,
       "grid_auto_columns": null,
       "grid_auto_flow": null,
       "grid_auto_rows": null,
       "grid_column": null,
       "grid_gap": null,
       "grid_row": null,
       "grid_template_areas": null,
       "grid_template_columns": null,
       "grid_template_rows": null,
       "height": null,
       "justify_content": null,
       "justify_items": null,
       "left": null,
       "margin": null,
       "max_height": null,
       "max_width": null,
       "min_height": null,
       "min_width": null,
       "object_fit": null,
       "object_position": null,
       "order": null,
       "overflow": null,
       "overflow_x": null,
       "overflow_y": null,
       "padding": null,
       "right": null,
       "top": null,
       "visibility": null,
       "width": null
      }
     },
     "222db26df54949e58d658bbe154b029d": {
      "model_module": "@jupyter-widgets/controls",
      "model_module_version": "1.5.0",
      "model_name": "ProgressStyleModel",
      "state": {
       "_model_module": "@jupyter-widgets/controls",
       "_model_module_version": "1.5.0",
       "_model_name": "ProgressStyleModel",
       "_view_count": null,
       "_view_module": "@jupyter-widgets/base",
       "_view_module_version": "1.2.0",
       "_view_name": "StyleView",
       "bar_color": null,
       "description_width": ""
      }
     },
     "52701dde842249a58cd1e5fad91519c1": {
      "model_module": "@jupyter-widgets/controls",
      "model_module_version": "1.5.0",
      "model_name": "FloatProgressModel",
      "state": {
       "_dom_classes": [],
       "_model_module": "@jupyter-widgets/controls",
       "_model_module_version": "1.5.0",
       "_model_name": "FloatProgressModel",
       "_view_count": null,
       "_view_module": "@jupyter-widgets/controls",
       "_view_module_version": "1.5.0",
       "_view_name": "ProgressView",
       "bar_style": "success",
       "description": "",
       "description_tooltip": null,
       "layout": "IPY_MODEL_b9e451ef66b84280bbcc68bc35b56f1d",
       "max": 10000.0,
       "min": 0.0,
       "orientation": "horizontal",
       "style": "IPY_MODEL_222db26df54949e58d658bbe154b029d",
       "value": 10000.0
      }
     },
     "59caf628b99044aab566cc8d6e2190d2": {
      "model_module": "@jupyter-widgets/base",
      "model_module_version": "1.2.0",
      "model_name": "LayoutModel",
      "state": {
       "_model_module": "@jupyter-widgets/base",
       "_model_module_version": "1.2.0",
       "_model_name": "LayoutModel",
       "_view_count": null,
       "_view_module": "@jupyter-widgets/base",
       "_view_module_version": "1.2.0",
       "_view_name": "LayoutView",
       "align_content": null,
       "align_items": null,
       "align_self": null,
       "border": null,
       "bottom": null,
       "display": null,
       "flex": null,
       "flex_flow": null,
       "grid_area": null,
       "grid_auto_columns": null,
       "grid_auto_flow": null,
       "grid_auto_rows": null,
       "grid_column": null,
       "grid_gap": null,
       "grid_row": null,
       "grid_template_areas": null,
       "grid_template_columns": null,
       "grid_template_rows": null,
       "height": null,
       "justify_content": null,
       "justify_items": null,
       "left": null,
       "margin": null,
       "max_height": null,
       "max_width": null,
       "min_height": null,
       "min_width": null,
       "object_fit": null,
       "object_position": null,
       "order": null,
       "overflow": null,
       "overflow_x": null,
       "overflow_y": null,
       "padding": null,
       "right": null,
       "top": null,
       "visibility": null,
       "width": null
      }
     },
     "95c0f74671994543b5a4b33c83ac2813": {
      "model_module": "@jupyter-widgets/controls",
      "model_module_version": "1.5.0",
      "model_name": "HTMLModel",
      "state": {
       "_dom_classes": [],
       "_model_module": "@jupyter-widgets/controls",
       "_model_module_version": "1.5.0",
       "_model_name": "HTMLModel",
       "_view_count": null,
       "_view_module": "@jupyter-widgets/controls",
       "_view_module_version": "1.5.0",
       "_view_name": "HTMLView",
       "description": "",
       "description_tooltip": null,
       "layout": "IPY_MODEL_0fda781bae6b452fb3660a49aec4a91a",
       "placeholder": "​",
       "style": "IPY_MODEL_aa12a3edc31d43ffa3e87040a7293ce7",
       "value": " 10000/10000 [32:23&lt;00:00,  5.23it/s]"
      }
     },
     "9b4b9edd6e064b21b4826bc91dae07e6": {
      "model_module": "@jupyter-widgets/controls",
      "model_module_version": "1.5.0",
      "model_name": "DescriptionStyleModel",
      "state": {
       "_model_module": "@jupyter-widgets/controls",
       "_model_module_version": "1.5.0",
       "_model_name": "DescriptionStyleModel",
       "_view_count": null,
       "_view_module": "@jupyter-widgets/base",
       "_view_module_version": "1.2.0",
       "_view_name": "StyleView",
       "description_width": ""
      }
     },
     "9d7bf1ea741e49ffb588aa7ba0c096e8": {
      "model_module": "@jupyter-widgets/base",
      "model_module_version": "1.2.0",
      "model_name": "LayoutModel",
      "state": {
       "_model_module": "@jupyter-widgets/base",
       "_model_module_version": "1.2.0",
       "_model_name": "LayoutModel",
       "_view_count": null,
       "_view_module": "@jupyter-widgets/base",
       "_view_module_version": "1.2.0",
       "_view_name": "LayoutView",
       "align_content": null,
       "align_items": null,
       "align_self": null,
       "border": null,
       "bottom": null,
       "display": null,
       "flex": null,
       "flex_flow": null,
       "grid_area": null,
       "grid_auto_columns": null,
       "grid_auto_flow": null,
       "grid_auto_rows": null,
       "grid_column": null,
       "grid_gap": null,
       "grid_row": null,
       "grid_template_areas": null,
       "grid_template_columns": null,
       "grid_template_rows": null,
       "height": null,
       "justify_content": null,
       "justify_items": null,
       "left": null,
       "margin": null,
       "max_height": null,
       "max_width": null,
       "min_height": null,
       "min_width": null,
       "object_fit": null,
       "object_position": null,
       "order": null,
       "overflow": null,
       "overflow_x": null,
       "overflow_y": null,
       "padding": null,
       "right": null,
       "top": null,
       "visibility": null,
       "width": null
      }
     },
     "a7c19cae73094eb2b7f2c2d77d9ccb62": {
      "model_module": "@jupyter-widgets/controls",
      "model_module_version": "1.5.0",
      "model_name": "HTMLModel",
      "state": {
       "_dom_classes": [],
       "_model_module": "@jupyter-widgets/controls",
       "_model_module_version": "1.5.0",
       "_model_name": "HTMLModel",
       "_view_count": null,
       "_view_module": "@jupyter-widgets/controls",
       "_view_module_version": "1.5.0",
       "_view_name": "HTMLView",
       "description": "",
       "description_tooltip": null,
       "layout": "IPY_MODEL_9d7bf1ea741e49ffb588aa7ba0c096e8",
       "placeholder": "​",
       "style": "IPY_MODEL_9b4b9edd6e064b21b4826bc91dae07e6",
       "value": "100%"
      }
     },
     "aa12a3edc31d43ffa3e87040a7293ce7": {
      "model_module": "@jupyter-widgets/controls",
      "model_module_version": "1.5.0",
      "model_name": "DescriptionStyleModel",
      "state": {
       "_model_module": "@jupyter-widgets/controls",
       "_model_module_version": "1.5.0",
       "_model_name": "DescriptionStyleModel",
       "_view_count": null,
       "_view_module": "@jupyter-widgets/base",
       "_view_module_version": "1.2.0",
       "_view_name": "StyleView",
       "description_width": ""
      }
     },
     "b9e451ef66b84280bbcc68bc35b56f1d": {
      "model_module": "@jupyter-widgets/base",
      "model_module_version": "1.2.0",
      "model_name": "LayoutModel",
      "state": {
       "_model_module": "@jupyter-widgets/base",
       "_model_module_version": "1.2.0",
       "_model_name": "LayoutModel",
       "_view_count": null,
       "_view_module": "@jupyter-widgets/base",
       "_view_module_version": "1.2.0",
       "_view_name": "LayoutView",
       "align_content": null,
       "align_items": null,
       "align_self": null,
       "border": null,
       "bottom": null,
       "display": null,
       "flex": null,
       "flex_flow": null,
       "grid_area": null,
       "grid_auto_columns": null,
       "grid_auto_flow": null,
       "grid_auto_rows": null,
       "grid_column": null,
       "grid_gap": null,
       "grid_row": null,
       "grid_template_areas": null,
       "grid_template_columns": null,
       "grid_template_rows": null,
       "height": null,
       "justify_content": null,
       "justify_items": null,
       "left": null,
       "margin": null,
       "max_height": null,
       "max_width": null,
       "min_height": null,
       "min_width": null,
       "object_fit": null,
       "object_position": null,
       "order": null,
       "overflow": null,
       "overflow_x": null,
       "overflow_y": null,
       "padding": null,
       "right": null,
       "top": null,
       "visibility": null,
       "width": null
      }
     },
     "ef496143afe144b2951a0dc4d771c518": {
      "model_module": "@jupyter-widgets/controls",
      "model_module_version": "1.5.0",
      "model_name": "HBoxModel",
      "state": {
       "_dom_classes": [],
       "_model_module": "@jupyter-widgets/controls",
       "_model_module_version": "1.5.0",
       "_model_name": "HBoxModel",
       "_view_count": null,
       "_view_module": "@jupyter-widgets/controls",
       "_view_module_version": "1.5.0",
       "_view_name": "HBoxView",
       "box_style": "",
       "children": [
        "IPY_MODEL_a7c19cae73094eb2b7f2c2d77d9ccb62",
        "IPY_MODEL_52701dde842249a58cd1e5fad91519c1",
        "IPY_MODEL_95c0f74671994543b5a4b33c83ac2813"
       ],
       "layout": "IPY_MODEL_59caf628b99044aab566cc8d6e2190d2"
      }
     }
    },
    "version_major": 2,
    "version_minor": 0
   }
  }
 },
 "nbformat": 4,
 "nbformat_minor": 5
}

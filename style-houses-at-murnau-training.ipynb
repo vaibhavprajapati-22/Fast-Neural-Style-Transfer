{
 "cells": [
  {
   "cell_type": "markdown",
   "id": "1025f6d8",
   "metadata": {
    "papermill": {
     "duration": 0.013236,
     "end_time": "2024-06-20T04:10:20.397249",
     "exception": false,
     "start_time": "2024-06-20T04:10:20.384013",
     "status": "completed"
    },
    "tags": []
   },
   "source": [
    "# Importing libraries"
   ]
  },
  {
   "cell_type": "code",
   "execution_count": 1,
   "id": "2800c454",
   "metadata": {
    "execution": {
     "iopub.execute_input": "2024-06-20T04:10:20.424376Z",
     "iopub.status.busy": "2024-06-20T04:10:20.424037Z",
     "iopub.status.idle": "2024-06-20T04:10:25.685822Z",
     "shell.execute_reply": "2024-06-20T04:10:25.684874Z"
    },
    "papermill": {
     "duration": 5.277836,
     "end_time": "2024-06-20T04:10:25.688031",
     "exception": false,
     "start_time": "2024-06-20T04:10:20.410195",
     "status": "completed"
    },
    "tags": []
   },
   "outputs": [],
   "source": [
    "import os\n",
    "from torch.utils.data import Dataset, DataLoader\n",
    "from torchvision import transforms, models\n",
    "from PIL import Image\n",
    "import torch\n",
    "import torch.nn as nn\n",
    "from tqdm.autonotebook import tqdm\n",
    "from collections import namedtuple\n",
    "import matplotlib.pyplot as plt"
   ]
  },
  {
   "cell_type": "markdown",
   "id": "72f5e600",
   "metadata": {
    "papermill": {
     "duration": 0.012923,
     "end_time": "2024-06-20T04:10:25.714117",
     "exception": false,
     "start_time": "2024-06-20T04:10:25.701194",
     "status": "completed"
    },
    "tags": []
   },
   "source": [
    "# Loading the COCO dataset"
   ]
  },
  {
   "cell_type": "markdown",
   "id": "9c30631a",
   "metadata": {
    "papermill": {
     "duration": 0.013415,
     "end_time": "2024-06-20T04:10:25.740136",
     "exception": false,
     "start_time": "2024-06-20T04:10:25.726721",
     "status": "completed"
    },
    "tags": []
   },
   "source": [
    "**Function that return the path of training images**"
   ]
  },
  {
   "cell_type": "code",
   "execution_count": 2,
   "id": "04d71c85",
   "metadata": {
    "execution": {
     "iopub.execute_input": "2024-06-20T04:10:25.768186Z",
     "iopub.status.busy": "2024-06-20T04:10:25.766393Z",
     "iopub.status.idle": "2024-06-20T04:10:25.773818Z",
     "shell.execute_reply": "2024-06-20T04:10:25.772967Z"
    },
    "papermill": {
     "duration": 0.023026,
     "end_time": "2024-06-20T04:10:25.775656",
     "exception": false,
     "start_time": "2024-06-20T04:10:25.752630",
     "status": "completed"
    },
    "tags": []
   },
   "outputs": [],
   "source": [
    "def TrainImagesPath(path):\n",
    "    images_path = []\n",
    "    for file in os.listdir(path):\n",
    "        if file == \"test2017\":\n",
    "            file_path = os.path.join(path, file)\n",
    "            for f in os.listdir(file_path):\n",
    "                image_path = os.path.join(file_path, f)\n",
    "                images_path.append(image_path)\n",
    "                if len(images_path) == 40000:\n",
    "                    break\n",
    "    return images_path"
   ]
  },
  {
   "cell_type": "markdown",
   "id": "5a7df7d1",
   "metadata": {
    "papermill": {
     "duration": 0.012278,
     "end_time": "2024-06-20T04:10:25.800624",
     "exception": false,
     "start_time": "2024-06-20T04:10:25.788346",
     "status": "completed"
    },
    "tags": []
   },
   "source": [
    "**Getting images paths**"
   ]
  },
  {
   "cell_type": "code",
   "execution_count": 3,
   "id": "e5f3779c",
   "metadata": {
    "execution": {
     "iopub.execute_input": "2024-06-20T04:10:25.827228Z",
     "iopub.status.busy": "2024-06-20T04:10:25.826638Z",
     "iopub.status.idle": "2024-06-20T04:10:26.136755Z",
     "shell.execute_reply": "2024-06-20T04:10:26.135866Z"
    },
    "papermill": {
     "duration": 0.32591,
     "end_time": "2024-06-20T04:10:26.139124",
     "exception": false,
     "start_time": "2024-06-20T04:10:25.813214",
     "status": "completed"
    },
    "tags": []
   },
   "outputs": [],
   "source": [
    "path = \"/kaggle/input/coco-2017-dataset/coco2017\"\n",
    "train_images_path = TrainImagesPath(path)"
   ]
  },
  {
   "cell_type": "markdown",
   "id": "633b165e",
   "metadata": {
    "papermill": {
     "duration": 0.013072,
     "end_time": "2024-06-20T04:10:26.165880",
     "exception": false,
     "start_time": "2024-06-20T04:10:26.152808",
     "status": "completed"
    },
    "tags": []
   },
   "source": [
    "**Creating Custom Dataset and Dataloader**"
   ]
  },
  {
   "cell_type": "code",
   "execution_count": 4,
   "id": "6ad4e59d",
   "metadata": {
    "execution": {
     "iopub.execute_input": "2024-06-20T04:10:26.194187Z",
     "iopub.status.busy": "2024-06-20T04:10:26.193465Z",
     "iopub.status.idle": "2024-06-20T04:10:26.199968Z",
     "shell.execute_reply": "2024-06-20T04:10:26.199026Z"
    },
    "papermill": {
     "duration": 0.022947,
     "end_time": "2024-06-20T04:10:26.201952",
     "exception": false,
     "start_time": "2024-06-20T04:10:26.179005",
     "status": "completed"
    },
    "tags": []
   },
   "outputs": [],
   "source": [
    "class CustomDataset(Dataset):\n",
    "    def __init__(self, images_path, labels, transform=None):\n",
    "        self.images_path = images_path\n",
    "        self.labels = labels\n",
    "        self.transform = transform\n",
    "        \n",
    "    def __len__(self):\n",
    "        return len(self.images_path)\n",
    "        \n",
    "    def __getitem__(self, idx):\n",
    "        image = Image.open(self.images_path[idx]).convert('RGB') \n",
    "        if self.transform:\n",
    "            image = self.transform(image)\n",
    "        label = self.labels[idx]\n",
    "        return image, label"
   ]
  },
  {
   "cell_type": "code",
   "execution_count": 5,
   "id": "5e0b70b2",
   "metadata": {
    "execution": {
     "iopub.execute_input": "2024-06-20T04:10:26.229845Z",
     "iopub.status.busy": "2024-06-20T04:10:26.229219Z",
     "iopub.status.idle": "2024-06-20T04:10:26.234441Z",
     "shell.execute_reply": "2024-06-20T04:10:26.233533Z"
    },
    "papermill": {
     "duration": 0.021487,
     "end_time": "2024-06-20T04:10:26.236515",
     "exception": false,
     "start_time": "2024-06-20T04:10:26.215028",
     "status": "completed"
    },
    "tags": []
   },
   "outputs": [],
   "source": [
    "train_transform = transforms.Compose([\n",
    "                                transforms.Resize((256, 256)),\n",
    "                                transforms.CenterCrop((256, 256)),\n",
    "                                transforms.ToTensor(),\n",
    "                                transforms.Lambda(lambda x: x.mul(255))\n",
    "                                    ])"
   ]
  },
  {
   "cell_type": "code",
   "execution_count": 6,
   "id": "ce22824d",
   "metadata": {
    "execution": {
     "iopub.execute_input": "2024-06-20T04:10:26.264208Z",
     "iopub.status.busy": "2024-06-20T04:10:26.263873Z",
     "iopub.status.idle": "2024-06-20T04:10:26.268347Z",
     "shell.execute_reply": "2024-06-20T04:10:26.267478Z"
    },
    "papermill": {
     "duration": 0.02047,
     "end_time": "2024-06-20T04:10:26.270194",
     "exception": false,
     "start_time": "2024-06-20T04:10:26.249724",
     "status": "completed"
    },
    "tags": []
   },
   "outputs": [],
   "source": [
    "train_dataset = CustomDataset(train_images_path, [0]*len(train_images_path), train_transform)"
   ]
  },
  {
   "cell_type": "code",
   "execution_count": 7,
   "id": "413a909c",
   "metadata": {
    "execution": {
     "iopub.execute_input": "2024-06-20T04:10:26.296873Z",
     "iopub.status.busy": "2024-06-20T04:10:26.296388Z",
     "iopub.status.idle": "2024-06-20T04:10:26.302525Z",
     "shell.execute_reply": "2024-06-20T04:10:26.301729Z"
    },
    "papermill": {
     "duration": 0.021332,
     "end_time": "2024-06-20T04:10:26.304395",
     "exception": false,
     "start_time": "2024-06-20T04:10:26.283063",
     "status": "completed"
    },
    "tags": []
   },
   "outputs": [
    {
     "data": {
      "text/plain": [
       "40000"
      ]
     },
     "execution_count": 7,
     "metadata": {},
     "output_type": "execute_result"
    }
   ],
   "source": [
    "len(train_images_path)"
   ]
  },
  {
   "cell_type": "code",
   "execution_count": 8,
   "id": "13b205ba",
   "metadata": {
    "execution": {
     "iopub.execute_input": "2024-06-20T04:10:26.330791Z",
     "iopub.status.busy": "2024-06-20T04:10:26.330517Z",
     "iopub.status.idle": "2024-06-20T04:10:26.334103Z",
     "shell.execute_reply": "2024-06-20T04:10:26.333304Z"
    },
    "papermill": {
     "duration": 0.018831,
     "end_time": "2024-06-20T04:10:26.335862",
     "exception": false,
     "start_time": "2024-06-20T04:10:26.317031",
     "status": "completed"
    },
    "tags": []
   },
   "outputs": [],
   "source": [
    "batch_size = 4"
   ]
  },
  {
   "cell_type": "code",
   "execution_count": 9,
   "id": "9414b641",
   "metadata": {
    "execution": {
     "iopub.execute_input": "2024-06-20T04:10:26.362428Z",
     "iopub.status.busy": "2024-06-20T04:10:26.362163Z",
     "iopub.status.idle": "2024-06-20T04:10:26.366315Z",
     "shell.execute_reply": "2024-06-20T04:10:26.365462Z"
    },
    "papermill": {
     "duration": 0.019653,
     "end_time": "2024-06-20T04:10:26.368254",
     "exception": false,
     "start_time": "2024-06-20T04:10:26.348601",
     "status": "completed"
    },
    "tags": []
   },
   "outputs": [],
   "source": [
    "train_dataloader = DataLoader(train_dataset, batch_size=batch_size)"
   ]
  },
  {
   "cell_type": "markdown",
   "id": "532116e4",
   "metadata": {
    "papermill": {
     "duration": 0.012382,
     "end_time": "2024-06-20T04:10:26.393325",
     "exception": false,
     "start_time": "2024-06-20T04:10:26.380943",
     "status": "completed"
    },
    "tags": []
   },
   "source": [
    "# GPU configuration"
   ]
  },
  {
   "cell_type": "code",
   "execution_count": 10,
   "id": "86895813",
   "metadata": {
    "execution": {
     "iopub.execute_input": "2024-06-20T04:10:26.419882Z",
     "iopub.status.busy": "2024-06-20T04:10:26.419417Z",
     "iopub.status.idle": "2024-06-20T04:10:26.478100Z",
     "shell.execute_reply": "2024-06-20T04:10:26.477198Z"
    },
    "papermill": {
     "duration": 0.074055,
     "end_time": "2024-06-20T04:10:26.480080",
     "exception": false,
     "start_time": "2024-06-20T04:10:26.406025",
     "status": "completed"
    },
    "tags": []
   },
   "outputs": [
    {
     "data": {
      "text/plain": [
       "device(type='cuda')"
      ]
     },
     "execution_count": 10,
     "metadata": {},
     "output_type": "execute_result"
    }
   ],
   "source": [
    "device = torch.device(\"cuda\" if torch.cuda.is_available() else \"cpu\")\n",
    "device"
   ]
  },
  {
   "cell_type": "markdown",
   "id": "ad264512",
   "metadata": {
    "papermill": {
     "duration": 0.013249,
     "end_time": "2024-06-20T04:10:26.506889",
     "exception": false,
     "start_time": "2024-06-20T04:10:26.493640",
     "status": "completed"
    },
    "tags": []
   },
   "source": [
    "# Function to load style image"
   ]
  },
  {
   "cell_type": "code",
   "execution_count": 11,
   "id": "d3ffb364",
   "metadata": {
    "execution": {
     "iopub.execute_input": "2024-06-20T04:10:26.535387Z",
     "iopub.status.busy": "2024-06-20T04:10:26.534871Z",
     "iopub.status.idle": "2024-06-20T04:10:26.539753Z",
     "shell.execute_reply": "2024-06-20T04:10:26.538850Z"
    },
    "papermill": {
     "duration": 0.021416,
     "end_time": "2024-06-20T04:10:26.541725",
     "exception": false,
     "start_time": "2024-06-20T04:10:26.520309",
     "status": "completed"
    },
    "tags": []
   },
   "outputs": [],
   "source": [
    "style_transform = transforms.Compose([\n",
    "                            transforms.ToTensor(),\n",
    "                            transforms.Lambda(lambda x: x.mul(255))\n",
    "                            ])"
   ]
  },
  {
   "cell_type": "code",
   "execution_count": 12,
   "id": "89e0ce75",
   "metadata": {
    "execution": {
     "iopub.execute_input": "2024-06-20T04:10:26.569330Z",
     "iopub.status.busy": "2024-06-20T04:10:26.569004Z",
     "iopub.status.idle": "2024-06-20T04:10:26.574404Z",
     "shell.execute_reply": "2024-06-20T04:10:26.573548Z"
    },
    "papermill": {
     "duration": 0.021462,
     "end_time": "2024-06-20T04:10:26.576386",
     "exception": false,
     "start_time": "2024-06-20T04:10:26.554924",
     "status": "completed"
    },
    "tags": []
   },
   "outputs": [],
   "source": [
    "def LoadStyleImage(path, batch_size, device):\n",
    "    style = Image.open(path).convert('RGB')\n",
    "    style = style.resize((512, 512))\n",
    "    style = style_transform(style)\n",
    "    style = style.repeat(batch_size, 1, 1, 1)\n",
    "    style = style.to(device) \n",
    "    return style"
   ]
  },
  {
   "cell_type": "markdown",
   "id": "9fb4f27b",
   "metadata": {
    "papermill": {
     "duration": 0.012883,
     "end_time": "2024-06-20T04:10:26.602439",
     "exception": false,
     "start_time": "2024-06-20T04:10:26.589556",
     "status": "completed"
    },
    "tags": []
   },
   "source": [
    "# Loading Pretained VGG16 model"
   ]
  },
  {
   "cell_type": "code",
   "execution_count": 13,
   "id": "7849cdee",
   "metadata": {
    "execution": {
     "iopub.execute_input": "2024-06-20T04:10:26.629250Z",
     "iopub.status.busy": "2024-06-20T04:10:26.628989Z",
     "iopub.status.idle": "2024-06-20T04:10:26.638623Z",
     "shell.execute_reply": "2024-06-20T04:10:26.637828Z"
    },
    "papermill": {
     "duration": 0.025301,
     "end_time": "2024-06-20T04:10:26.640541",
     "exception": false,
     "start_time": "2024-06-20T04:10:26.615240",
     "status": "completed"
    },
    "tags": []
   },
   "outputs": [],
   "source": [
    "class VGG16(nn.Module):\n",
    "    def __init__(self, requires_grad=False):\n",
    "        super(VGG16, self).__init__()\n",
    "        vgg_pretrained_features = models.vgg16(pretrained=True).features\n",
    "        self.slice1 = nn.Sequential()\n",
    "        self.slice2 = nn.Sequential()\n",
    "        self.slice3 = nn.Sequential()\n",
    "        self.slice4 = nn.Sequential()\n",
    "        \n",
    "        for x in range(4):\n",
    "            self.slice1.add_module(str(x), vgg_pretrained_features[x])\n",
    "        for x in range(4, 9):\n",
    "            self.slice2.add_module(str(x), vgg_pretrained_features[x])\n",
    "        for x in range(9, 16):\n",
    "            self.slice3.add_module(str(x), vgg_pretrained_features[x])\n",
    "        for x in range(16, 23):\n",
    "            self.slice4.add_module(str(x), vgg_pretrained_features[x])\n",
    "            \n",
    "        if not requires_grad:\n",
    "            for param in self.parameters():\n",
    "                param.requires_grad = False\n",
    "\n",
    "    def forward(self, X):\n",
    "        h = self.slice1(X)\n",
    "        h_relu1_2 = h\n",
    "        h = self.slice2(h)\n",
    "        h_relu2_2 = h\n",
    "        h = self.slice3(h)\n",
    "        h_relu3_3 = h\n",
    "        h = self.slice4(h)\n",
    "        h_relu4_3 = h\n",
    "        vgg_outputs = namedtuple(\"VggOutputs\", [\"relu1_2\", \"relu2_2\", \"relu3_3\", \"relu4_3\"])\n",
    "        out = vgg_outputs(h_relu1_2, h_relu2_2, h_relu3_3, h_relu4_3)\n",
    "        return out"
   ]
  },
  {
   "cell_type": "code",
   "execution_count": 14,
   "id": "ceea5a1f",
   "metadata": {
    "execution": {
     "iopub.execute_input": "2024-06-20T04:10:26.667232Z",
     "iopub.status.busy": "2024-06-20T04:10:26.666953Z",
     "iopub.status.idle": "2024-06-20T04:10:31.857363Z",
     "shell.execute_reply": "2024-06-20T04:10:31.856346Z"
    },
    "papermill": {
     "duration": 5.20652,
     "end_time": "2024-06-20T04:10:31.859700",
     "exception": false,
     "start_time": "2024-06-20T04:10:26.653180",
     "status": "completed"
    },
    "tags": []
   },
   "outputs": [
    {
     "name": "stderr",
     "output_type": "stream",
     "text": [
      "/opt/conda/lib/python3.10/site-packages/torchvision/models/_utils.py:208: UserWarning: The parameter 'pretrained' is deprecated since 0.13 and may be removed in the future, please use 'weights' instead.\n",
      "  warnings.warn(\n",
      "/opt/conda/lib/python3.10/site-packages/torchvision/models/_utils.py:223: UserWarning: Arguments other than a weight enum or `None` for 'weights' are deprecated since 0.13 and may be removed in the future. The current behavior is equivalent to passing `weights=VGG16_Weights.IMAGENET1K_V1`. You can also use `weights=VGG16_Weights.DEFAULT` to get the most up-to-date weights.\n",
      "  warnings.warn(msg)\n",
      "Downloading: \"https://download.pytorch.org/models/vgg16-397923af.pth\" to /root/.cache/torch/hub/checkpoints/vgg16-397923af.pth\n",
      "100%|██████████| 528M/528M [00:03<00:00, 164MB/s]\n"
     ]
    }
   ],
   "source": [
    "vgg = VGG16(requires_grad=False)"
   ]
  },
  {
   "cell_type": "code",
   "execution_count": 15,
   "id": "b999e8c5",
   "metadata": {
    "execution": {
     "iopub.execute_input": "2024-06-20T04:10:31.893863Z",
     "iopub.status.busy": "2024-06-20T04:10:31.893506Z",
     "iopub.status.idle": "2024-06-20T04:10:32.052740Z",
     "shell.execute_reply": "2024-06-20T04:10:32.051709Z"
    },
    "papermill": {
     "duration": 0.179229,
     "end_time": "2024-06-20T04:10:32.055328",
     "exception": false,
     "start_time": "2024-06-20T04:10:31.876099",
     "status": "completed"
    },
    "tags": []
   },
   "outputs": [],
   "source": [
    "vgg = vgg.to(device)"
   ]
  },
  {
   "cell_type": "markdown",
   "id": "b041334a",
   "metadata": {
    "papermill": {
     "duration": 0.015828,
     "end_time": "2024-06-20T04:10:32.087913",
     "exception": false,
     "start_time": "2024-06-20T04:10:32.072085",
     "status": "completed"
    },
    "tags": []
   },
   "source": [
    "# Defining architecture of Transformernet model"
   ]
  },
  {
   "cell_type": "code",
   "execution_count": 16,
   "id": "d75337f7",
   "metadata": {
    "execution": {
     "iopub.execute_input": "2024-06-20T04:10:32.121118Z",
     "iopub.status.busy": "2024-06-20T04:10:32.120448Z",
     "iopub.status.idle": "2024-06-20T04:10:32.126599Z",
     "shell.execute_reply": "2024-06-20T04:10:32.125781Z"
    },
    "papermill": {
     "duration": 0.024823,
     "end_time": "2024-06-20T04:10:32.128464",
     "exception": false,
     "start_time": "2024-06-20T04:10:32.103641",
     "status": "completed"
    },
    "tags": []
   },
   "outputs": [],
   "source": [
    "class ConvLayer(nn.Module):\n",
    "    def __init__(self, in_channels, out_channels, kernel_size, stride):\n",
    "        super(ConvLayer, self).__init__()\n",
    "        reflection_padding = kernel_size // 2\n",
    "        self.reflection_pad = nn.ReflectionPad2d(reflection_padding)\n",
    "        self.conv2d = nn.Conv2d(in_channels, out_channels, kernel_size, stride)\n",
    "\n",
    "    def forward(self, x):\n",
    "        out = self.reflection_pad(x)\n",
    "        out = self.conv2d(out)\n",
    "        return out"
   ]
  },
  {
   "cell_type": "code",
   "execution_count": 17,
   "id": "7b7bdb01",
   "metadata": {
    "execution": {
     "iopub.execute_input": "2024-06-20T04:10:32.215366Z",
     "iopub.status.busy": "2024-06-20T04:10:32.214519Z",
     "iopub.status.idle": "2024-06-20T04:10:32.221834Z",
     "shell.execute_reply": "2024-06-20T04:10:32.221012Z"
    },
    "papermill": {
     "duration": 0.079272,
     "end_time": "2024-06-20T04:10:32.223772",
     "exception": false,
     "start_time": "2024-06-20T04:10:32.144500",
     "status": "completed"
    },
    "tags": []
   },
   "outputs": [],
   "source": [
    "class ResidualBlock(nn.Module):\n",
    "    def __init__(self, channels):\n",
    "        super(ResidualBlock, self).__init__()\n",
    "        self.conv1 = ConvLayer(channels, channels, kernel_size=3, stride=1)\n",
    "        self.in1 = nn.InstanceNorm2d(channels, affine=True)\n",
    "        self.conv2 = ConvLayer(channels, channels, kernel_size=3, stride=1)\n",
    "        self.in2 = nn.InstanceNorm2d(channels, affine=True)\n",
    "        self.relu = nn.ReLU()\n",
    "\n",
    "    def forward(self, x):\n",
    "        out = self.relu(self.in1(self.conv1(x)))\n",
    "        out = self.in2(self.conv2(out))\n",
    "        out = out + x\n",
    "        return out"
   ]
  },
  {
   "cell_type": "code",
   "execution_count": 18,
   "id": "9432262e",
   "metadata": {
    "execution": {
     "iopub.execute_input": "2024-06-20T04:10:32.257861Z",
     "iopub.status.busy": "2024-06-20T04:10:32.257499Z",
     "iopub.status.idle": "2024-06-20T04:10:32.264282Z",
     "shell.execute_reply": "2024-06-20T04:10:32.263429Z"
    },
    "papermill": {
     "duration": 0.02588,
     "end_time": "2024-06-20T04:10:32.266145",
     "exception": false,
     "start_time": "2024-06-20T04:10:32.240265",
     "status": "completed"
    },
    "tags": []
   },
   "outputs": [],
   "source": [
    "class UpsampleConvLayer(nn.Module):\n",
    "    def __init__(self, in_channels, out_channels, kernel_size, stride, upsample=None):\n",
    "        super(UpsampleConvLayer, self).__init__()\n",
    "        self.upsample = upsample\n",
    "        reflection_padding = kernel_size // 2\n",
    "        self.reflection_pad = nn.ReflectionPad2d(reflection_padding)\n",
    "        self.conv2d = nn.Conv2d(in_channels, out_channels, kernel_size, stride)\n",
    "\n",
    "    def forward(self, x):\n",
    "        if self.upsample:\n",
    "            x = nn.functional.interpolate(x, mode='nearest', scale_factor=self.upsample)\n",
    "        out = self.reflection_pad(x)\n",
    "        out = self.conv2d(out)\n",
    "        return out"
   ]
  },
  {
   "cell_type": "code",
   "execution_count": 19,
   "id": "ffa9197d",
   "metadata": {
    "execution": {
     "iopub.execute_input": "2024-06-20T04:10:32.299369Z",
     "iopub.status.busy": "2024-06-20T04:10:32.299105Z",
     "iopub.status.idle": "2024-06-20T04:10:32.310814Z",
     "shell.execute_reply": "2024-06-20T04:10:32.309996Z"
    },
    "papermill": {
     "duration": 0.030398,
     "end_time": "2024-06-20T04:10:32.312921",
     "exception": false,
     "start_time": "2024-06-20T04:10:32.282523",
     "status": "completed"
    },
    "tags": []
   },
   "outputs": [],
   "source": [
    "class TransformerNet(nn.Module):\n",
    "    def __init__(self):\n",
    "        super(TransformerNet, self).__init__()\n",
    "        \n",
    "        self.conv1 = ConvLayer(3, 32, kernel_size=9, stride=1)\n",
    "        self.in1 = nn.InstanceNorm2d(32, affine=True)\n",
    "        self.conv2 = ConvLayer(32, 64, kernel_size=3, stride=2)\n",
    "        self.in2 = nn.InstanceNorm2d(64, affine=True)\n",
    "        self.conv3 = ConvLayer(64, 128, kernel_size=3, stride=2)\n",
    "        self.in3 = nn.InstanceNorm2d(128, affine=True)\n",
    "        \n",
    "        self.res1 = ResidualBlock(128)\n",
    "        self.res2 = ResidualBlock(128)\n",
    "        self.res3 = ResidualBlock(128)\n",
    "        self.res4 = ResidualBlock(128)\n",
    "        self.res5 = ResidualBlock(128)\n",
    "        \n",
    "        self.deconv1 = UpsampleConvLayer(128, 64, kernel_size=3, stride=1, upsample=2)\n",
    "        self.in4 = nn.InstanceNorm2d(64, affine=True)\n",
    "        self.deconv2 = UpsampleConvLayer(64, 32, kernel_size=3, stride=1, upsample=2)\n",
    "        self.in5 = nn.InstanceNorm2d(32, affine=True)\n",
    "        self.deconv3 = ConvLayer(32, 3, kernel_size=9, stride=1)\n",
    "        \n",
    "        self.relu = nn.ReLU()\n",
    "\n",
    "    def forward(self, X):\n",
    "        y = self.relu(self.in1(self.conv1(X)))\n",
    "        y = self.relu(self.in2(self.conv2(y)))\n",
    "        y = self.relu(self.in3(self.conv3(y)))\n",
    "        y = self.res1(y)\n",
    "        y = self.res2(y)\n",
    "        y = self.res3(y)\n",
    "        y = self.res4(y)\n",
    "        y = self.res5(y)\n",
    "        y = self.relu(self.in4(self.deconv1(y)))\n",
    "        y = self.relu(self.in5(self.deconv2(y)))\n",
    "        y = self.deconv3(y)\n",
    "        return y"
   ]
  },
  {
   "cell_type": "markdown",
   "id": "29e2b99d",
   "metadata": {
    "papermill": {
     "duration": 0.015397,
     "end_time": "2024-06-20T04:10:32.343926",
     "exception": false,
     "start_time": "2024-06-20T04:10:32.328529",
     "status": "completed"
    },
    "tags": []
   },
   "source": [
    "# Defining training helper functions"
   ]
  },
  {
   "cell_type": "code",
   "execution_count": 20,
   "id": "650cc817",
   "metadata": {
    "execution": {
     "iopub.execute_input": "2024-06-20T04:10:32.376107Z",
     "iopub.status.busy": "2024-06-20T04:10:32.375831Z",
     "iopub.status.idle": "2024-06-20T04:10:32.380565Z",
     "shell.execute_reply": "2024-06-20T04:10:32.379824Z"
    },
    "papermill": {
     "duration": 0.02296,
     "end_time": "2024-06-20T04:10:32.382410",
     "exception": false,
     "start_time": "2024-06-20T04:10:32.359450",
     "status": "completed"
    },
    "tags": []
   },
   "outputs": [],
   "source": [
    "def gram_matrix(y):\n",
    "    (b, c, h, w) = y.size()\n",
    "    features = y.view(b, c, w * h)\n",
    "    features_t = features.transpose(1, 2)\n",
    "    gram = features.bmm(features_t) / (c * h * w)\n",
    "    return gram"
   ]
  },
  {
   "cell_type": "code",
   "execution_count": 21,
   "id": "c385d7ae",
   "metadata": {
    "execution": {
     "iopub.execute_input": "2024-06-20T04:10:32.414705Z",
     "iopub.status.busy": "2024-06-20T04:10:32.414425Z",
     "iopub.status.idle": "2024-06-20T04:10:32.419501Z",
     "shell.execute_reply": "2024-06-20T04:10:32.418716Z"
    },
    "papermill": {
     "duration": 0.023362,
     "end_time": "2024-06-20T04:10:32.421438",
     "exception": false,
     "start_time": "2024-06-20T04:10:32.398076",
     "status": "completed"
    },
    "tags": []
   },
   "outputs": [],
   "source": [
    "def normalize_batch(batch):\n",
    "    mean = batch.new_tensor([0.485, 0.456, 0.406]).view(-1, 1, 1)\n",
    "    std = batch.new_tensor([0.229, 0.224, 0.225]).view(-1, 1, 1)\n",
    "    batch = batch.div_(255.0)\n",
    "    return (batch - mean) / std"
   ]
  },
  {
   "cell_type": "markdown",
   "id": "1a3bd908",
   "metadata": {
    "papermill": {
     "duration": 0.015921,
     "end_time": "2024-06-20T04:10:32.453183",
     "exception": false,
     "start_time": "2024-06-20T04:10:32.437262",
     "status": "completed"
    },
    "tags": []
   },
   "source": [
    "# Training on given style image"
   ]
  },
  {
   "cell_type": "code",
   "execution_count": 22,
   "id": "a457ac16",
   "metadata": {
    "execution": {
     "iopub.execute_input": "2024-06-20T04:10:32.487845Z",
     "iopub.status.busy": "2024-06-20T04:10:32.487463Z",
     "iopub.status.idle": "2024-06-20T04:10:32.500208Z",
     "shell.execute_reply": "2024-06-20T04:10:32.499226Z"
    },
    "papermill": {
     "duration": 0.032515,
     "end_time": "2024-06-20T04:10:32.502315",
     "exception": false,
     "start_time": "2024-06-20T04:10:32.469800",
     "status": "completed"
    },
    "tags": []
   },
   "outputs": [],
   "source": [
    "def TrainTransformerNet(style_path, vgg, device, train_dataloader, batch_size, epochs=1, lr=1e-3, content_weight = 1e5, style_weight = 1e10):\n",
    "    \n",
    "    style_image = LoadStyleImage(style_path, batch_size, device) ## Getting style image\n",
    "    features_style = vgg(normalize_batch(style_image)) ## getting features maps of style image\n",
    "    gram_style = [gram_matrix(y) for y in features_style] ## creating gram matrix of style features\n",
    "    \n",
    "    transformer = TransformerNet()\n",
    "    transformer = transformer.to(device)\n",
    "    optimizer = torch.optim.Adam(transformer.parameters(), lr=lr)\n",
    "    criterion = nn.MSELoss()\n",
    "    \n",
    "    loss = []\n",
    "    style_loss_ = []\n",
    "    content_loss_ = []\n",
    "    \n",
    "    for epoch in range(epochs):\n",
    "        \n",
    "        transformer.train()\n",
    "        agg_content_loss = 0.\n",
    "        agg_style_loss = 0.\n",
    "        \n",
    "        for x, _ in tqdm(train_dataloader):\n",
    "            optimizer.zero_grad()\n",
    "\n",
    "            x = x.to(device)\n",
    "            y = transformer(x)\n",
    "\n",
    "            y = normalize_batch(y)\n",
    "            x = normalize_batch(x)\n",
    "\n",
    "            features_y = vgg(y)\n",
    "            features_x = vgg(x)\n",
    "\n",
    "            content_loss = content_weight * criterion(features_y.relu2_2, features_x.relu2_2)\n",
    "\n",
    "            style_loss = 0.\n",
    "            n_batch = len(x)\n",
    "            for ft_y, gm_s in zip(features_y, gram_style):\n",
    "                gm_y = gram_matrix(ft_y)\n",
    "                style_loss += criterion(gm_y, gm_s[:n_batch, :, :])\n",
    "            style_loss *= style_weight\n",
    "\n",
    "            total_loss_b = content_loss + style_loss\n",
    "            total_loss_b.backward()\n",
    "            optimizer.step()\n",
    "\n",
    "            agg_content_loss += content_loss.item()\n",
    "            agg_style_loss += style_loss.item() \n",
    "            \n",
    "            style_loss_.append(style_loss.item())\n",
    "            content_loss_.append(content_loss.item())\n",
    "            loss.append(style_loss.item() + content_loss.item())\n",
    "        \n",
    "        avg_content_loss = agg_content_loss / len(train_dataloader)\n",
    "        avg_style_loss = agg_style_loss / len(train_dataloader)\n",
    "        avg_loss = avg_content_loss + avg_style_loss\n",
    "        \n",
    "        print(f\" {epoch +1} / {epochs} Style Loss : {avg_style_loss:.4f}, Content Loss : {avg_content_loss:.4f}, Total Loss : {avg_loss:.4f}\")\n",
    "            \n",
    "        \n",
    "    return transformer, loss, style_loss_, content_loss_"
   ]
  },
  {
   "cell_type": "code",
   "execution_count": 23,
   "id": "5ede408e",
   "metadata": {
    "execution": {
     "iopub.execute_input": "2024-06-20T04:10:32.536961Z",
     "iopub.status.busy": "2024-06-20T04:10:32.536162Z",
     "iopub.status.idle": "2024-06-20T04:10:32.540366Z",
     "shell.execute_reply": "2024-06-20T04:10:32.539456Z"
    },
    "papermill": {
     "duration": 0.023805,
     "end_time": "2024-06-20T04:10:32.542464",
     "exception": false,
     "start_time": "2024-06-20T04:10:32.518659",
     "status": "completed"
    },
    "tags": []
   },
   "outputs": [],
   "source": [
    "style_name = \"Houses at Murnau\""
   ]
  },
  {
   "cell_type": "code",
   "execution_count": 24,
   "id": "9c036a25",
   "metadata": {
    "execution": {
     "iopub.execute_input": "2024-06-20T04:10:32.575744Z",
     "iopub.status.busy": "2024-06-20T04:10:32.575460Z",
     "iopub.status.idle": "2024-06-20T04:10:32.579449Z",
     "shell.execute_reply": "2024-06-20T04:10:32.578692Z"
    },
    "papermill": {
     "duration": 0.02291,
     "end_time": "2024-06-20T04:10:32.581349",
     "exception": false,
     "start_time": "2024-06-20T04:10:32.558439",
     "status": "completed"
    },
    "tags": []
   },
   "outputs": [],
   "source": [
    "input_dir = \"/kaggle/input/style-images-for-neural-style-transfer/Style Images for Neural Style Transfer\""
   ]
  },
  {
   "cell_type": "code",
   "execution_count": 25,
   "id": "6e4c8387",
   "metadata": {
    "execution": {
     "iopub.execute_input": "2024-06-20T04:10:32.614275Z",
     "iopub.status.busy": "2024-06-20T04:10:32.614013Z",
     "iopub.status.idle": "2024-06-20T04:10:32.617906Z",
     "shell.execute_reply": "2024-06-20T04:10:32.617184Z"
    },
    "papermill": {
     "duration": 0.02243,
     "end_time": "2024-06-20T04:10:32.619689",
     "exception": false,
     "start_time": "2024-06-20T04:10:32.597259",
     "status": "completed"
    },
    "tags": []
   },
   "outputs": [],
   "source": [
    "style_path = os.path.join(input_dir, style_name)\n",
    "style_path += \".jpg\""
   ]
  },
  {
   "cell_type": "code",
   "execution_count": 26,
   "id": "4c9ab0d3",
   "metadata": {
    "execution": {
     "iopub.execute_input": "2024-06-20T04:10:32.652258Z",
     "iopub.status.busy": "2024-06-20T04:10:32.651974Z",
     "iopub.status.idle": "2024-06-20T04:42:31.325889Z",
     "shell.execute_reply": "2024-06-20T04:42:31.325046Z"
    },
    "papermill": {
     "duration": 1918.692424,
     "end_time": "2024-06-20T04:42:31.327862",
     "exception": false,
     "start_time": "2024-06-20T04:10:32.635438",
     "status": "completed"
    },
    "tags": []
   },
   "outputs": [
    {
     "data": {
      "application/vnd.jupyter.widget-view+json": {
       "model_id": "a91cdf5f6b5a4f9297b89e1d133cacf5",
       "version_major": 2,
       "version_minor": 0
      },
      "text/plain": [
       "  0%|          | 0/10000 [00:00<?, ?it/s]"
      ]
     },
     "metadata": {},
     "output_type": "display_data"
    },
    {
     "name": "stdout",
     "output_type": "stream",
     "text": [
      " 1 / 1 Style Loss : 170660.5303, Content Loss : 440263.5065, Total Loss : 610924.0368\n"
     ]
    }
   ],
   "source": [
    "trained_model, loss, style_loss, content_loss = TrainTransformerNet(style_path, vgg, device, train_dataloader, batch_size, epochs=1, lr=1e-3, content_weight = 1e5, style_weight = 1e10)"
   ]
  },
  {
   "cell_type": "markdown",
   "id": "70963a27",
   "metadata": {
    "papermill": {
     "duration": 0.015853,
     "end_time": "2024-06-20T04:42:31.360462",
     "exception": false,
     "start_time": "2024-06-20T04:42:31.344609",
     "status": "completed"
    },
    "tags": []
   },
   "source": [
    "# Plotting losses"
   ]
  },
  {
   "cell_type": "code",
   "execution_count": 27,
   "id": "644a681f",
   "metadata": {
    "execution": {
     "iopub.execute_input": "2024-06-20T04:42:31.394051Z",
     "iopub.status.busy": "2024-06-20T04:42:31.393714Z",
     "iopub.status.idle": "2024-06-20T04:42:31.399569Z",
     "shell.execute_reply": "2024-06-20T04:42:31.398703Z"
    },
    "papermill": {
     "duration": 0.025112,
     "end_time": "2024-06-20T04:42:31.401571",
     "exception": false,
     "start_time": "2024-06-20T04:42:31.376459",
     "status": "completed"
    },
    "tags": []
   },
   "outputs": [],
   "source": [
    "def plot_losses(loss, style_loss, content_loss):\n",
    "    plt.figure(figsize=(10, 5))\n",
    "    plt.plot(loss, label='Total Loss')\n",
    "    plt.plot(style_loss, label='Style Loss')\n",
    "    plt.plot(content_loss, label='Content Loss')\n",
    "    plt.title('Training Losses')\n",
    "    plt.xlabel('Per 4 samples')\n",
    "    plt.ylabel('Loss')\n",
    "    plt.legend()\n",
    "    plt.grid(True)\n",
    "    plt.show()"
   ]
  },
  {
   "cell_type": "code",
   "execution_count": 28,
   "id": "b27c5720",
   "metadata": {
    "execution": {
     "iopub.execute_input": "2024-06-20T04:42:31.435016Z",
     "iopub.status.busy": "2024-06-20T04:42:31.434725Z",
     "iopub.status.idle": "2024-06-20T04:42:31.831965Z",
     "shell.execute_reply": "2024-06-20T04:42:31.831041Z"
    },
    "papermill": {
     "duration": 0.416439,
     "end_time": "2024-06-20T04:42:31.833948",
     "exception": false,
     "start_time": "2024-06-20T04:42:31.417509",
     "status": "completed"
    },
    "tags": []
   },
   "outputs": [
    {
     "data": {
      "image/png": "[encoded data removed]",
      "text/plain": [
       "<Figure size 1000x500 with 1 Axes>"
      ]
     },
     "metadata": {},
     "output_type": "display_data"
    }
   ],
   "source": [
    "plot_losses(loss, style_loss, content_loss)"
   ]
  },
  {
   "cell_type": "markdown",
   "id": "c5781a77",
   "metadata": {
    "papermill": {
     "duration": 0.017053,
     "end_time": "2024-06-20T04:42:31.868467",
     "exception": false,
     "start_time": "2024-06-20T04:42:31.851414",
     "status": "completed"
    },
    "tags": []
   },
   "source": [
    "# Saving the trained Model"
   ]
  },
  {
   "cell_type": "code",
   "execution_count": 29,
   "id": "427c7714",
   "metadata": {
    "execution": {
     "iopub.execute_input": "2024-06-20T04:42:31.904647Z",
     "iopub.status.busy": "2024-06-20T04:42:31.904249Z",
     "iopub.status.idle": "2024-06-20T04:42:31.917212Z",
     "shell.execute_reply": "2024-06-20T04:42:31.916464Z"
    },
    "papermill": {
     "duration": 0.033806,
     "end_time": "2024-06-20T04:42:31.919350",
     "exception": false,
     "start_time": "2024-06-20T04:42:31.885544",
     "status": "completed"
    },
    "tags": []
   },
   "outputs": [],
   "source": [
    "trained_model = trained_model.to(\"cpu\")"
   ]
  },
  {
   "cell_type": "code",
   "execution_count": 30,
   "id": "f4d8a510",
   "metadata": {
    "execution": {
     "iopub.execute_input": "2024-06-20T04:42:31.956538Z",
     "iopub.status.busy": "2024-06-20T04:42:31.955801Z",
     "iopub.status.idle": "2024-06-20T04:42:31.960322Z",
     "shell.execute_reply": "2024-06-20T04:42:31.959366Z"
    },
    "papermill": {
     "duration": 0.025123,
     "end_time": "2024-06-20T04:42:31.962311",
     "exception": false,
     "start_time": "2024-06-20T04:42:31.937188",
     "status": "completed"
    },
    "tags": []
   },
   "outputs": [],
   "source": [
    "model_name = style_name + \".model\""
   ]
  },
  {
   "cell_type": "code",
   "execution_count": 31,
   "id": "cf42cd95",
   "metadata": {
    "execution": {
     "iopub.execute_input": "2024-06-20T04:42:31.998603Z",
     "iopub.status.busy": "2024-06-20T04:42:31.998248Z",
     "iopub.status.idle": "2024-06-20T04:42:32.016672Z",
     "shell.execute_reply": "2024-06-20T04:42:32.015706Z"
    },
    "papermill": {
     "duration": 0.039202,
     "end_time": "2024-06-20T04:42:32.019054",
     "exception": false,
     "start_time": "2024-06-20T04:42:31.979852",
     "status": "completed"
    },
    "tags": []
   },
   "outputs": [],
   "source": [
    "torch.save(trained_model.state_dict(), model_name)"
   ]
  }
 ],
 "metadata": {
  "kaggle": {
   "accelerator": "gpu",
   "dataSources": [
    {
     "datasetId": 857191,
     "sourceId": 1462296,
     "sourceType": "datasetVersion"
    },
    {
     "datasetId": 5241921,
     "sourceId": 8733509,
     "sourceType": "datasetVersion"
    }
   ],
   "dockerImageVersionId": 30733,
   "isGpuEnabled": true,
   "isInternetEnabled": true,
   "language": "python",
   "sourceType": "notebook"
  },
  "kernelspec": {
   "display_name": "Python 3",
   "language": "python",
   "name": "python3"
  },
  "language_info": {
   "codemirror_mode": {
    "name": "ipython",
    "version": 3
   },
   "file_extension": ".py",
   "mimetype": "text/x-python",
   "name": "python",
   "nbconvert_exporter": "python",
   "pygments_lexer": "ipython3",
   "version": "3.10.13"
  },
  "papermill": {
   "default_parameters": {},
   "duration": 1935.879284,
   "end_time": "2024-06-20T04:42:33.464724",
   "environment_variables": {},
   "exception": null,
   "input_path": "__notebook__.ipynb",
   "output_path": "__notebook__.ipynb",
   "parameters": {},
   "start_time": "2024-06-20T04:10:17.585440",
   "version": "2.5.0"
  },
  "widgets": {
   "application/vnd.jupyter.widget-state+json": {
    "state": {
     "458fc76d88344550b12e09ad42c77749": {
      "model_module": "@jupyter-widgets/controls",
      "model_module_version": "1.5.0",
      "model_name": "DescriptionStyleModel",
      "state": {
       "_model_module": "@jupyter-widgets/controls",
       "_model_module_version": "1.5.0",
       "_model_name": "DescriptionStyleModel",
       "_view_count": null,
       "_view_module": "@jupyter-widgets/base",
       "_view_module_version": "1.2.0",
       "_view_name": "StyleView",
       "description_width": ""
      }
     },
     "51f5cf24f01e4bb08d7680571e1badab": {
      "model_module": "@jupyter-widgets/controls",
      "model_module_version": "1.5.0",
      "model_name": "DescriptionStyleModel",
      "state": {
       "_model_module": "@jupyter-widgets/controls",
       "_model_module_version": "1.5.0",
       "_model_name": "DescriptionStyleModel",
       "_view_count": null,
       "_view_module": "@jupyter-widgets/base",
       "_view_module_version": "1.2.0",
       "_view_name": "StyleView",
       "description_width": ""
      }
     },
     "6028a4c96965435fadb0f2c8e1b9781e": {
      "model_module": "@jupyter-widgets/base",
      "model_module_version": "1.2.0",
      "model_name": "LayoutModel",
      "state": {
       "_model_module": "@jupyter-widgets/base",
       "_model_module_version": "1.2.0",
       "_model_name": "LayoutModel",
       "_view_count": null,
       "_view_module": "@jupyter-widgets/base",
       "_view_module_version": "1.2.0",
       "_view_name": "LayoutView",
       "align_content": null,
       "align_items": null,
       "align_self": null,
       "border": null,
       "bottom": null,
       "display": null,
       "flex": null,
       "flex_flow": null,
       "grid_area": null,
       "grid_auto_columns": null,
       "grid_auto_flow": null,
       "grid_auto_rows": null,
       "grid_column": null,
       "grid_gap": null,
       "grid_row": null,
       "grid_template_areas": null,
       "grid_template_columns": null,
       "grid_template_rows": null,
       "height": null,
       "justify_content": null,
       "justify_items": null,
       "left": null,
       "margin": null,
       "max_height": null,
       "max_width": null,
       "min_height": null,
       "min_width": null,
       "object_fit": null,
       "object_position": null,
       "order": null,
       "overflow": null,
       "overflow_x": null,
       "overflow_y": null,
       "padding": null,
       "right": null,
       "top": null,
       "visibility": null,
       "width": null
      }
     },
     "8d885d7ad8ac4f85b924aede503d9299": {
      "model_module": "@jupyter-widgets/controls",
      "model_module_version": "1.5.0",
      "model_name": "FloatProgressModel",
      "state": {
       "_dom_classes": [],
       "_model_module": "@jupyter-widgets/controls",
       "_model_module_version": "1.5.0",
       "_model_name": "FloatProgressModel",
       "_view_count": null,
       "_view_module": "@jupyter-widgets/controls",
       "_view_module_version": "1.5.0",
       "_view_name": "ProgressView",
       "bar_style": "success",
       "description": "",
       "description_tooltip": null,
       "layout": "IPY_MODEL_6028a4c96965435fadb0f2c8e1b9781e",
       "max": 10000.0,
       "min": 0.0,
       "orientation": "horizontal",
       "style": "IPY_MODEL_f5428a3deb014c2d808e94d85d19a74f",
       "value": 10000.0
      }
     },
     "a33016e2c9bd48359b35c9fef97892fc": {
      "model_module": "@jupyter-widgets/base",
      "model_module_version": "1.2.0",
      "model_name": "LayoutModel",
      "state": {
       "_model_module": "@jupyter-widgets/base",
       "_model_module_version": "1.2.0",
       "_model_name": "LayoutModel",
       "_view_count": null,
       "_view_module": "@jupyter-widgets/base",
       "_view_module_version": "1.2.0",
       "_view_name": "LayoutView",
       "align_content": null,
       "align_items": null,
       "align_self": null,
       "border": null,
       "bottom": null,
       "display": null,
       "flex": null,
       "flex_flow": null,
       "grid_area": null,
       "grid_auto_columns": null,
       "grid_auto_flow": null,
       "grid_auto_rows": null,
       "grid_column": null,
       "grid_gap": null,
       "grid_row": null,
       "grid_template_areas": null,
       "grid_template_columns": null,
       "grid_template_rows": null,
       "height": null,
       "justify_content": null,
       "justify_items": null,
       "left": null,
       "margin": null,
       "max_height": null,
       "max_width": null,
       "min_height": null,
       "min_width": null,
       "object_fit": null,
       "object_position": null,
       "order": null,
       "overflow": null,
       "overflow_x": null,
       "overflow_y": null,
       "padding": null,
       "right": null,
       "top": null,
       "visibility": null,
       "width": null
      }
     },
     "a91cdf5f6b5a4f9297b89e1d133cacf5": {
      "model_module": "@jupyter-widgets/controls",
      "model_module_version": "1.5.0",
      "model_name": "HBoxModel",
      "state": {
       "_dom_classes": [],
       "_model_module": "@jupyter-widgets/controls",
       "_model_module_version": "1.5.0",
       "_model_name": "HBoxModel",
       "_view_count": null,
       "_view_module": "@jupyter-widgets/controls",
       "_view_module_version": "1.5.0",
       "_view_name": "HBoxView",
       "box_style": "",
       "children": [
        "IPY_MODEL_b0b52e2aaecb4b1da855137c32ecfb9a",
        "IPY_MODEL_8d885d7ad8ac4f85b924aede503d9299",
        "IPY_MODEL_baf194c4bd66467383798efd27f5e4d1"
       ],
       "layout": "IPY_MODEL_e02b3767d7c8409ebfeca68a31875946"
      }
     },
     "b0b52e2aaecb4b1da855137c32ecfb9a": {
      "model_module": "@jupyter-widgets/controls",
      "model_module_version": "1.5.0",
      "model_name": "HTMLModel",
      "state": {
       "_dom_classes": [],
       "_model_module": "@jupyter-widgets/controls",
       "_model_module_version": "1.5.0",
       "_model_name": "HTMLModel",
       "_view_count": null,
       "_view_module": "@jupyter-widgets/controls",
       "_view_module_version": "1.5.0",
       "_view_name": "HTMLView",
       "description": "",
       "description_tooltip": null,
       "layout": "IPY_MODEL_a33016e2c9bd48359b35c9fef97892fc",
       "placeholder": "​",
       "style": "IPY_MODEL_51f5cf24f01e4bb08d7680571e1badab",
       "value": "100%"
      }
     },
     "baf194c4bd66467383798efd27f5e4d1": {
      "model_module": "@jupyter-widgets/controls",
      "model_module_version": "1.5.0",
      "model_name": "HTMLModel",
      "state": {
       "_dom_classes": [],
       "_model_module": "@jupyter-widgets/controls",
       "_model_module_version": "1.5.0",
       "_model_name": "HTMLModel",
       "_view_count": null,
       "_view_module": "@jupyter-widgets/controls",
       "_view_module_version": "1.5.0",
       "_view_name": "HTMLView",
       "description": "",
       "description_tooltip": null,
       "layout": "IPY_MODEL_f580663f69ef430091429d15f66acfce",
       "placeholder": "​",
       "style": "IPY_MODEL_458fc76d88344550b12e09ad42c77749",
       "value": " 10000/10000 [31:57&lt;00:00,  5.21it/s]"
      }
     },
     "e02b3767d7c8409ebfeca68a31875946": {
      "model_module": "@jupyter-widgets/base",
      "model_module_version": "1.2.0",
      "model_name": "LayoutModel",
      "state": {
       "_model_module": "@jupyter-widgets/base",
       "_model_module_version": "1.2.0",
       "_model_name": "LayoutModel",
       "_view_count": null,
       "_view_module": "@jupyter-widgets/base",
       "_view_module_version": "1.2.0",
       "_view_name": "LayoutView",
       "align_content": null,
       "align_items": null,
       "align_self": null,
       "border": null,
       "bottom": null,
       "display": null,
       "flex": null,
       "flex_flow": null,
       "grid_area": null,
       "grid_auto_columns": null,
       "grid_auto_flow": null,
       "grid_auto_rows": null,
       "grid_column": null,
       "grid_gap": null,
       "grid_row": null,
       "grid_template_areas": null,
       "grid_template_columns": null,
       "grid_template_rows": null,
       "height": null,
       "justify_content": null,
       "justify_items": null,
       "left": null,
       "margin": null,
       "max_height": null,
       "max_width": null,
       "min_height": null,
       "min_width": null,
       "object_fit": null,
       "object_position": null,
       "order": null,
       "overflow": null,
       "overflow_x": null,
       "overflow_y": null,
       "padding": null,
       "right": null,
       "top": null,
       "visibility": null,
       "width": null
      }
     },
     "f5428a3deb014c2d808e94d85d19a74f": {
      "model_module": "@jupyter-widgets/controls",
      "model_module_version": "1.5.0",
      "model_name": "ProgressStyleModel",
      "state": {
       "_model_module": "@jupyter-widgets/controls",
       "_model_module_version": "1.5.0",
       "_model_name": "ProgressStyleModel",
       "_view_count": null,
       "_view_module": "@jupyter-widgets/base",
       "_view_module_version": "1.2.0",
       "_view_name": "StyleView",
       "bar_color": null,
       "description_width": ""
      }
     },
     "f580663f69ef430091429d15f66acfce": {
      "model_module": "@jupyter-widgets/base",
      "model_module_version": "1.2.0",
      "model_name": "LayoutModel",
      "state": {
       "_model_module": "@jupyter-widgets/base",
       "_model_module_version": "1.2.0",
       "_model_name": "LayoutModel",
       "_view_count": null,
       "_view_module": "@jupyter-widgets/base",
       "_view_module_version": "1.2.0",
       "_view_name": "LayoutView",
       "align_content": null,
       "align_items": null,
       "align_self": null,
       "border": null,
       "bottom": null,
       "display": null,
       "flex": null,
       "flex_flow": null,
       "grid_area": null,
       "grid_auto_columns": null,
       "grid_auto_flow": null,
       "grid_auto_rows": null,
       "grid_column": null,
       "grid_gap": null,
       "grid_row": null,
       "grid_template_areas": null,
       "grid_template_columns": null,
       "grid_template_rows": null,
       "height": null,
       "justify_content": null,
       "justify_items": null,
       "left": null,
       "margin": null,
       "max_height": null,
       "max_width": null,
       "min_height": null,
       "min_width": null,
       "object_fit": null,
       "object_position": null,
       "order": null,
       "overflow": null,
       "overflow_x": null,
       "overflow_y": null,
       "padding": null,
       "right": null,
       "top": null,
       "visibility": null,
       "width": null
      }
     }
    },
    "version_major": 2,
    "version_minor": 0
   }
  }
 },
 "nbformat": 4,
 "nbformat_minor": 5
}

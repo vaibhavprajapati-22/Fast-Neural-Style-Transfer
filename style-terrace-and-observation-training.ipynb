{
 "cells": [
  {
   "cell_type": "markdown",
   "id": "8809ba27",
   "metadata": {
    "papermill": {
     "duration": 0.013668,
     "end_time": "2024-06-20T05:00:32.988438",
     "exception": false,
     "start_time": "2024-06-20T05:00:32.974770",
     "status": "completed"
    },
    "tags": []
   },
   "source": [
    "# Importing libraries"
   ]
  },
  {
   "cell_type": "code",
   "execution_count": 1,
   "id": "b4c5ada6",
   "metadata": {
    "execution": {
     "iopub.execute_input": "2024-06-20T05:00:33.017293Z",
     "iopub.status.busy": "2024-06-20T05:00:33.016890Z",
     "iopub.status.idle": "2024-06-20T05:00:38.304493Z",
     "shell.execute_reply": "2024-06-20T05:00:38.303332Z"
    },
    "papermill": {
     "duration": 5.305757,
     "end_time": "2024-06-20T05:00:38.307927",
     "exception": false,
     "start_time": "2024-06-20T05:00:33.002170",
     "status": "completed"
    },
    "tags": []
   },
   "outputs": [],
   "source": [
    "import os\n",
    "from torch.utils.data import Dataset, DataLoader\n",
    "from torchvision import transforms, models\n",
    "from PIL import Image\n",
    "import torch\n",
    "import torch.nn as nn\n",
    "from tqdm.autonotebook import tqdm\n",
    "from collections import namedtuple\n",
    "import matplotlib.pyplot as plt"
   ]
  },
  {
   "cell_type": "markdown",
   "id": "4aa80898",
   "metadata": {
    "papermill": {
     "duration": 0.014119,
     "end_time": "2024-06-20T05:00:38.344636",
     "exception": false,
     "start_time": "2024-06-20T05:00:38.330517",
     "status": "completed"
    },
    "tags": []
   },
   "source": [
    "# Loading the COCO dataset"
   ]
  },
  {
   "cell_type": "markdown",
   "id": "1c85a645",
   "metadata": {
    "papermill": {
     "duration": 0.014566,
     "end_time": "2024-06-20T05:00:38.373193",
     "exception": false,
     "start_time": "2024-06-20T05:00:38.358627",
     "status": "completed"
    },
    "tags": []
   },
   "source": [
    "**Function that return the path of training images**"
   ]
  },
  {
   "cell_type": "code",
   "execution_count": 2,
   "id": "c8d340e9",
   "metadata": {
    "execution": {
     "iopub.execute_input": "2024-06-20T05:00:38.411902Z",
     "iopub.status.busy": "2024-06-20T05:00:38.408681Z",
     "iopub.status.idle": "2024-06-20T05:00:38.420378Z",
     "shell.execute_reply": "2024-06-20T05:00:38.418979Z"
    },
    "papermill": {
     "duration": 0.033956,
     "end_time": "2024-06-20T05:00:38.423598",
     "exception": false,
     "start_time": "2024-06-20T05:00:38.389642",
     "status": "completed"
    },
    "tags": []
   },
   "outputs": [],
   "source": [
    "def TrainImagesPath(path):\n",
    "    images_path = []\n",
    "    for file in os.listdir(path):\n",
    "        if file == \"test2017\":\n",
    "            file_path = os.path.join(path, file)\n",
    "            for f in os.listdir(file_path):\n",
    "                image_path = os.path.join(file_path, f)\n",
    "                images_path.append(image_path)\n",
    "                if len(images_path) == 40000:\n",
    "                    break\n",
    "    return images_path"
   ]
  },
  {
   "cell_type": "markdown",
   "id": "bdd55098",
   "metadata": {
    "papermill": {
     "duration": 0.018219,
     "end_time": "2024-06-20T05:00:38.457073",
     "exception": false,
     "start_time": "2024-06-20T05:00:38.438854",
     "status": "completed"
    },
    "tags": []
   },
   "source": [
    "**Getting images paths**"
   ]
  },
  {
   "cell_type": "code",
   "execution_count": 3,
   "id": "5bdaf311",
   "metadata": {
    "execution": {
     "iopub.execute_input": "2024-06-20T05:00:38.487827Z",
     "iopub.status.busy": "2024-06-20T05:00:38.486914Z",
     "iopub.status.idle": "2024-06-20T05:00:39.045130Z",
     "shell.execute_reply": "2024-06-20T05:00:39.044246Z"
    },
    "papermill": {
     "duration": 0.575815,
     "end_time": "2024-06-20T05:00:39.047623",
     "exception": false,
     "start_time": "2024-06-20T05:00:38.471808",
     "status": "completed"
    },
    "tags": []
   },
   "outputs": [],
   "source": [
    "path = \"/kaggle/input/coco-2017-dataset/coco2017\"\n",
    "train_images_path = TrainImagesPath(path)"
   ]
  },
  {
   "cell_type": "markdown",
   "id": "4c288719",
   "metadata": {
    "papermill": {
     "duration": 0.012828,
     "end_time": "2024-06-20T05:00:39.074211",
     "exception": false,
     "start_time": "2024-06-20T05:00:39.061383",
     "status": "completed"
    },
    "tags": []
   },
   "source": [
    "**Creating Custom Dataset and Dataloader**"
   ]
  },
  {
   "cell_type": "code",
   "execution_count": 4,
   "id": "6dca2300",
   "metadata": {
    "execution": {
     "iopub.execute_input": "2024-06-20T05:00:39.104416Z",
     "iopub.status.busy": "2024-06-20T05:00:39.103735Z",
     "iopub.status.idle": "2024-06-20T05:00:39.113289Z",
     "shell.execute_reply": "2024-06-20T05:00:39.111985Z"
    },
    "papermill": {
     "duration": 0.028633,
     "end_time": "2024-06-20T05:00:39.115984",
     "exception": false,
     "start_time": "2024-06-20T05:00:39.087351",
     "status": "completed"
    },
    "tags": []
   },
   "outputs": [],
   "source": [
    "class CustomDataset(Dataset):\n",
    "    def __init__(self, images_path, labels, transform=None):\n",
    "        self.images_path = images_path\n",
    "        self.labels = labels\n",
    "        self.transform = transform\n",
    "        \n",
    "    def __len__(self):\n",
    "        return len(self.images_path)\n",
    "        \n",
    "    def __getitem__(self, idx):\n",
    "        image = Image.open(self.images_path[idx]).convert('RGB') \n",
    "        if self.transform:\n",
    "            image = self.transform(image)\n",
    "        label = self.labels[idx]\n",
    "        return image, label"
   ]
  },
  {
   "cell_type": "code",
   "execution_count": 5,
   "id": "0ffef3de",
   "metadata": {
    "execution": {
     "iopub.execute_input": "2024-06-20T05:00:39.147899Z",
     "iopub.status.busy": "2024-06-20T05:00:39.147244Z",
     "iopub.status.idle": "2024-06-20T05:00:39.153328Z",
     "shell.execute_reply": "2024-06-20T05:00:39.152320Z"
    },
    "papermill": {
     "duration": 0.023838,
     "end_time": "2024-06-20T05:00:39.155695",
     "exception": false,
     "start_time": "2024-06-20T05:00:39.131857",
     "status": "completed"
    },
    "tags": []
   },
   "outputs": [],
   "source": [
    "train_transform = transforms.Compose([\n",
    "                                transforms.Resize((256, 256)),\n",
    "                                transforms.CenterCrop((256, 256)),\n",
    "                                transforms.ToTensor(),\n",
    "                                transforms.Lambda(lambda x: x.mul(255))\n",
    "                                    ])"
   ]
  },
  {
   "cell_type": "code",
   "execution_count": 6,
   "id": "08780aba",
   "metadata": {
    "execution": {
     "iopub.execute_input": "2024-06-20T05:00:39.189724Z",
     "iopub.status.busy": "2024-06-20T05:00:39.189401Z",
     "iopub.status.idle": "2024-06-20T05:00:39.193995Z",
     "shell.execute_reply": "2024-06-20T05:00:39.193079Z"
    },
    "papermill": {
     "duration": 0.023694,
     "end_time": "2024-06-20T05:00:39.196082",
     "exception": false,
     "start_time": "2024-06-20T05:00:39.172388",
     "status": "completed"
    },
    "tags": []
   },
   "outputs": [],
   "source": [
    "train_dataset = CustomDataset(train_images_path, [0]*len(train_images_path), train_transform)"
   ]
  },
  {
   "cell_type": "code",
   "execution_count": 7,
   "id": "fc91fa73",
   "metadata": {
    "execution": {
     "iopub.execute_input": "2024-06-20T05:00:39.225013Z",
     "iopub.status.busy": "2024-06-20T05:00:39.224672Z",
     "iopub.status.idle": "2024-06-20T05:00:39.231355Z",
     "shell.execute_reply": "2024-06-20T05:00:39.230579Z"
    },
    "papermill": {
     "duration": 0.023267,
     "end_time": "2024-06-20T05:00:39.233372",
     "exception": false,
     "start_time": "2024-06-20T05:00:39.210105",
     "status": "completed"
    },
    "tags": []
   },
   "outputs": [
    {
     "data": {
      "text/plain": [
       "40000"
      ]
     },
     "execution_count": 7,
     "metadata": {},
     "output_type": "execute_result"
    }
   ],
   "source": [
    "len(train_images_path)"
   ]
  },
  {
   "cell_type": "code",
   "execution_count": 8,
   "id": "d6716e96",
   "metadata": {
    "execution": {
     "iopub.execute_input": "2024-06-20T05:00:39.262712Z",
     "iopub.status.busy": "2024-06-20T05:00:39.262427Z",
     "iopub.status.idle": "2024-06-20T05:00:39.266446Z",
     "shell.execute_reply": "2024-06-20T05:00:39.265608Z"
    },
    "papermill": {
     "duration": 0.020747,
     "end_time": "2024-06-20T05:00:39.268510",
     "exception": false,
     "start_time": "2024-06-20T05:00:39.247763",
     "status": "completed"
    },
    "tags": []
   },
   "outputs": [],
   "source": [
    "batch_size = 4"
   ]
  },
  {
   "cell_type": "code",
   "execution_count": 9,
   "id": "0e6e4910",
   "metadata": {
    "execution": {
     "iopub.execute_input": "2024-06-20T05:00:39.296969Z",
     "iopub.status.busy": "2024-06-20T05:00:39.296333Z",
     "iopub.status.idle": "2024-06-20T05:00:39.300875Z",
     "shell.execute_reply": "2024-06-20T05:00:39.299895Z"
    },
    "papermill": {
     "duration": 0.021378,
     "end_time": "2024-06-20T05:00:39.302935",
     "exception": false,
     "start_time": "2024-06-20T05:00:39.281557",
     "status": "completed"
    },
    "tags": []
   },
   "outputs": [],
   "source": [
    "train_dataloader = DataLoader(train_dataset, batch_size=batch_size)"
   ]
  },
  {
   "cell_type": "markdown",
   "id": "5cc3c671",
   "metadata": {
    "papermill": {
     "duration": 0.014157,
     "end_time": "2024-06-20T05:00:39.332463",
     "exception": false,
     "start_time": "2024-06-20T05:00:39.318306",
     "status": "completed"
    },
    "tags": []
   },
   "source": [
    "# GPU configuration"
   ]
  },
  {
   "cell_type": "code",
   "execution_count": 10,
   "id": "4a25b946",
   "metadata": {
    "execution": {
     "iopub.execute_input": "2024-06-20T05:00:39.361730Z",
     "iopub.status.busy": "2024-06-20T05:00:39.361015Z",
     "iopub.status.idle": "2024-06-20T05:00:39.413290Z",
     "shell.execute_reply": "2024-06-20T05:00:39.412185Z"
    },
    "papermill": {
     "duration": 0.069014,
     "end_time": "2024-06-20T05:00:39.415300",
     "exception": false,
     "start_time": "2024-06-20T05:00:39.346286",
     "status": "completed"
    },
    "tags": []
   },
   "outputs": [
    {
     "data": {
      "text/plain": [
       "device(type='cuda')"
      ]
     },
     "execution_count": 10,
     "metadata": {},
     "output_type": "execute_result"
    }
   ],
   "source": [
    "device = torch.device(\"cuda\" if torch.cuda.is_available() else \"cpu\")\n",
    "device"
   ]
  },
  {
   "cell_type": "markdown",
   "id": "2088afce",
   "metadata": {
    "papermill": {
     "duration": 0.013846,
     "end_time": "2024-06-20T05:00:39.443484",
     "exception": false,
     "start_time": "2024-06-20T05:00:39.429638",
     "status": "completed"
    },
    "tags": []
   },
   "source": [
    "# Function to load style image"
   ]
  },
  {
   "cell_type": "code",
   "execution_count": 11,
   "id": "072204f9",
   "metadata": {
    "execution": {
     "iopub.execute_input": "2024-06-20T05:00:39.473897Z",
     "iopub.status.busy": "2024-06-20T05:00:39.473134Z",
     "iopub.status.idle": "2024-06-20T05:00:39.478134Z",
     "shell.execute_reply": "2024-06-20T05:00:39.477015Z"
    },
    "papermill": {
     "duration": 0.022516,
     "end_time": "2024-06-20T05:00:39.480289",
     "exception": false,
     "start_time": "2024-06-20T05:00:39.457773",
     "status": "completed"
    },
    "tags": []
   },
   "outputs": [],
   "source": [
    "style_transform = transforms.Compose([\n",
    "                            transforms.ToTensor(),\n",
    "                            transforms.Lambda(lambda x: x.mul(255))\n",
    "                            ])"
   ]
  },
  {
   "cell_type": "code",
   "execution_count": 12,
   "id": "86fd6e8c",
   "metadata": {
    "execution": {
     "iopub.execute_input": "2024-06-20T05:00:39.510235Z",
     "iopub.status.busy": "2024-06-20T05:00:39.509860Z",
     "iopub.status.idle": "2024-06-20T05:00:39.515667Z",
     "shell.execute_reply": "2024-06-20T05:00:39.514695Z"
    },
    "papermill": {
     "duration": 0.023199,
     "end_time": "2024-06-20T05:00:39.517736",
     "exception": false,
     "start_time": "2024-06-20T05:00:39.494537",
     "status": "completed"
    },
    "tags": []
   },
   "outputs": [],
   "source": [
    "def LoadStyleImage(path, batch_size, device):\n",
    "    style = Image.open(path).convert('RGB')\n",
    "    style = style.resize((256, 256))\n",
    "    style = style_transform(style)\n",
    "    style = style.repeat(batch_size, 1, 1, 1)\n",
    "    style = style.to(device) \n",
    "    return style"
   ]
  },
  {
   "cell_type": "markdown",
   "id": "a1a3bad8",
   "metadata": {
    "papermill": {
     "duration": 0.013518,
     "end_time": "2024-06-20T05:00:39.545303",
     "exception": false,
     "start_time": "2024-06-20T05:00:39.531785",
     "status": "completed"
    },
    "tags": []
   },
   "source": [
    "# Loading Pretained VGG16 model"
   ]
  },
  {
   "cell_type": "code",
   "execution_count": 13,
   "id": "f01b807a",
   "metadata": {
    "execution": {
     "iopub.execute_input": "2024-06-20T05:00:39.574133Z",
     "iopub.status.busy": "2024-06-20T05:00:39.573406Z",
     "iopub.status.idle": "2024-06-20T05:00:39.583739Z",
     "shell.execute_reply": "2024-06-20T05:00:39.582803Z"
    },
    "papermill": {
     "duration": 0.026859,
     "end_time": "2024-06-20T05:00:39.585799",
     "exception": false,
     "start_time": "2024-06-20T05:00:39.558940",
     "status": "completed"
    },
    "tags": []
   },
   "outputs": [],
   "source": [
    "class VGG16(nn.Module):\n",
    "    def __init__(self, requires_grad=False):\n",
    "        super(VGG16, self).__init__()\n",
    "        vgg_pretrained_features = models.vgg16(pretrained=True).features\n",
    "        self.slice1 = nn.Sequential()\n",
    "        self.slice2 = nn.Sequential()\n",
    "        self.slice3 = nn.Sequential()\n",
    "        self.slice4 = nn.Sequential()\n",
    "        \n",
    "        for x in range(4):\n",
    "            self.slice1.add_module(str(x), vgg_pretrained_features[x])\n",
    "        for x in range(4, 9):\n",
    "            self.slice2.add_module(str(x), vgg_pretrained_features[x])\n",
    "        for x in range(9, 16):\n",
    "            self.slice3.add_module(str(x), vgg_pretrained_features[x])\n",
    "        for x in range(16, 23):\n",
    "            self.slice4.add_module(str(x), vgg_pretrained_features[x])\n",
    "            \n",
    "        if not requires_grad:\n",
    "            for param in self.parameters():\n",
    "                param.requires_grad = False\n",
    "\n",
    "    def forward(self, X):\n",
    "        h = self.slice1(X)\n",
    "        h_relu1_2 = h\n",
    "        h = self.slice2(h)\n",
    "        h_relu2_2 = h\n",
    "        h = self.slice3(h)\n",
    "        h_relu3_3 = h\n",
    "        h = self.slice4(h)\n",
    "        h_relu4_3 = h\n",
    "        vgg_outputs = namedtuple(\"VggOutputs\", [\"relu1_2\", \"relu2_2\", \"relu3_3\", \"relu4_3\"])\n",
    "        out = vgg_outputs(h_relu1_2, h_relu2_2, h_relu3_3, h_relu4_3)\n",
    "        return out"
   ]
  },
  {
   "cell_type": "code",
   "execution_count": 14,
   "id": "d5613532",
   "metadata": {
    "execution": {
     "iopub.execute_input": "2024-06-20T05:00:39.614263Z",
     "iopub.status.busy": "2024-06-20T05:00:39.613659Z",
     "iopub.status.idle": "2024-06-20T05:00:44.857731Z",
     "shell.execute_reply": "2024-06-20T05:00:44.856645Z"
    },
    "papermill": {
     "duration": 5.261219,
     "end_time": "2024-06-20T05:00:44.860318",
     "exception": false,
     "start_time": "2024-06-20T05:00:39.599099",
     "status": "completed"
    },
    "tags": []
   },
   "outputs": [
    {
     "name": "stderr",
     "output_type": "stream",
     "text": [
      "/opt/conda/lib/python3.10/site-packages/torchvision/models/_utils.py:208: UserWarning: The parameter 'pretrained' is deprecated since 0.13 and may be removed in the future, please use 'weights' instead.\n",
      "  warnings.warn(\n",
      "/opt/conda/lib/python3.10/site-packages/torchvision/models/_utils.py:223: UserWarning: Arguments other than a weight enum or `None` for 'weights' are deprecated since 0.13 and may be removed in the future. The current behavior is equivalent to passing `weights=VGG16_Weights.IMAGENET1K_V1`. You can also use `weights=VGG16_Weights.DEFAULT` to get the most up-to-date weights.\n",
      "  warnings.warn(msg)\n",
      "Downloading: \"https://download.pytorch.org/models/vgg16-397923af.pth\" to /root/.cache/torch/hub/checkpoints/vgg16-397923af.pth\n",
      "100%|██████████| 528M/528M [00:03<00:00, 168MB/s]\n"
     ]
    }
   ],
   "source": [
    "vgg = VGG16(requires_grad=False)"
   ]
  },
  {
   "cell_type": "code",
   "execution_count": 15,
   "id": "0b6beeaf",
   "metadata": {
    "execution": {
     "iopub.execute_input": "2024-06-20T05:00:44.895453Z",
     "iopub.status.busy": "2024-06-20T05:00:44.894827Z",
     "iopub.status.idle": "2024-06-20T05:00:45.050304Z",
     "shell.execute_reply": "2024-06-20T05:00:45.049256Z"
    },
    "papermill": {
     "duration": 0.175373,
     "end_time": "2024-06-20T05:00:45.052879",
     "exception": false,
     "start_time": "2024-06-20T05:00:44.877506",
     "status": "completed"
    },
    "tags": []
   },
   "outputs": [],
   "source": [
    "vgg = vgg.to(device)"
   ]
  },
  {
   "cell_type": "markdown",
   "id": "6eff931f",
   "metadata": {
    "papermill": {
     "duration": 0.017027,
     "end_time": "2024-06-20T05:00:45.087262",
     "exception": false,
     "start_time": "2024-06-20T05:00:45.070235",
     "status": "completed"
    },
    "tags": []
   },
   "source": [
    "# Defining architecture of Transformernet model"
   ]
  },
  {
   "cell_type": "code",
   "execution_count": 16,
   "id": "e207856b",
   "metadata": {
    "execution": {
     "iopub.execute_input": "2024-06-20T05:00:45.121480Z",
     "iopub.status.busy": "2024-06-20T05:00:45.121131Z",
     "iopub.status.idle": "2024-06-20T05:00:45.127596Z",
     "shell.execute_reply": "2024-06-20T05:00:45.126647Z"
    },
    "papermill": {
     "duration": 0.025776,
     "end_time": "2024-06-20T05:00:45.129453",
     "exception": false,
     "start_time": "2024-06-20T05:00:45.103677",
     "status": "completed"
    },
    "tags": []
   },
   "outputs": [],
   "source": [
    "class ConvLayer(nn.Module):\n",
    "    def __init__(self, in_channels, out_channels, kernel_size, stride):\n",
    "        super(ConvLayer, self).__init__()\n",
    "        reflection_padding = kernel_size // 2\n",
    "        self.reflection_pad = nn.ReflectionPad2d(reflection_padding)\n",
    "        self.conv2d = nn.Conv2d(in_channels, out_channels, kernel_size, stride)\n",
    "\n",
    "    def forward(self, x):\n",
    "        out = self.reflection_pad(x)\n",
    "        out = self.conv2d(out)\n",
    "        return out"
   ]
  },
  {
   "cell_type": "code",
   "execution_count": 17,
   "id": "a9b68657",
   "metadata": {
    "execution": {
     "iopub.execute_input": "2024-06-20T05:00:45.207940Z",
     "iopub.status.busy": "2024-06-20T05:00:45.207031Z",
     "iopub.status.idle": "2024-06-20T05:00:45.214654Z",
     "shell.execute_reply": "2024-06-20T05:00:45.213750Z"
    },
    "papermill": {
     "duration": 0.071034,
     "end_time": "2024-06-20T05:00:45.216635",
     "exception": false,
     "start_time": "2024-06-20T05:00:45.145601",
     "status": "completed"
    },
    "tags": []
   },
   "outputs": [],
   "source": [
    "class ResidualBlock(nn.Module):\n",
    "    def __init__(self, channels):\n",
    "        super(ResidualBlock, self).__init__()\n",
    "        self.conv1 = ConvLayer(channels, channels, kernel_size=3, stride=1)\n",
    "        self.in1 = nn.InstanceNorm2d(channels, affine=True)\n",
    "        self.conv2 = ConvLayer(channels, channels, kernel_size=3, stride=1)\n",
    "        self.in2 = nn.InstanceNorm2d(channels, affine=True)\n",
    "        self.relu = nn.ReLU()\n",
    "\n",
    "    def forward(self, x):\n",
    "        out = self.relu(self.in1(self.conv1(x)))\n",
    "        out = self.in2(self.conv2(out))\n",
    "        out = out + x\n",
    "        return out"
   ]
  },
  {
   "cell_type": "code",
   "execution_count": 18,
   "id": "31df1951",
   "metadata": {
    "execution": {
     "iopub.execute_input": "2024-06-20T05:00:45.250926Z",
     "iopub.status.busy": "2024-06-20T05:00:45.250529Z",
     "iopub.status.idle": "2024-06-20T05:00:45.257717Z",
     "shell.execute_reply": "2024-06-20T05:00:45.256818Z"
    },
    "papermill": {
     "duration": 0.026595,
     "end_time": "2024-06-20T05:00:45.259757",
     "exception": false,
     "start_time": "2024-06-20T05:00:45.233162",
     "status": "completed"
    },
    "tags": []
   },
   "outputs": [],
   "source": [
    "class UpsampleConvLayer(nn.Module):\n",
    "    def __init__(self, in_channels, out_channels, kernel_size, stride, upsample=None):\n",
    "        super(UpsampleConvLayer, self).__init__()\n",
    "        self.upsample = upsample\n",
    "        reflection_padding = kernel_size // 2\n",
    "        self.reflection_pad = nn.ReflectionPad2d(reflection_padding)\n",
    "        self.conv2d = nn.Conv2d(in_channels, out_channels, kernel_size, stride)\n",
    "\n",
    "    def forward(self, x):\n",
    "        if self.upsample:\n",
    "            x = nn.functional.interpolate(x, mode='nearest', scale_factor=self.upsample)\n",
    "        out = self.reflection_pad(x)\n",
    "        out = self.conv2d(out)\n",
    "        return out"
   ]
  },
  {
   "cell_type": "code",
   "execution_count": 19,
   "id": "122be9b9",
   "metadata": {
    "execution": {
     "iopub.execute_input": "2024-06-20T05:00:45.296497Z",
     "iopub.status.busy": "2024-06-20T05:00:45.295774Z",
     "iopub.status.idle": "2024-06-20T05:00:45.308818Z",
     "shell.execute_reply": "2024-06-20T05:00:45.307926Z"
    },
    "papermill": {
     "duration": 0.033747,
     "end_time": "2024-06-20T05:00:45.310893",
     "exception": false,
     "start_time": "2024-06-20T05:00:45.277146",
     "status": "completed"
    },
    "tags": []
   },
   "outputs": [],
   "source": [
    "class TransformerNet(nn.Module):\n",
    "    def __init__(self):\n",
    "        super(TransformerNet, self).__init__()\n",
    "        \n",
    "        self.conv1 = ConvLayer(3, 32, kernel_size=9, stride=1)\n",
    "        self.in1 = nn.InstanceNorm2d(32, affine=True)\n",
    "        self.conv2 = ConvLayer(32, 64, kernel_size=3, stride=2)\n",
    "        self.in2 = nn.InstanceNorm2d(64, affine=True)\n",
    "        self.conv3 = ConvLayer(64, 128, kernel_size=3, stride=2)\n",
    "        self.in3 = nn.InstanceNorm2d(128, affine=True)\n",
    "        \n",
    "        self.res1 = ResidualBlock(128)\n",
    "        self.res2 = ResidualBlock(128)\n",
    "        self.res3 = ResidualBlock(128)\n",
    "        self.res4 = ResidualBlock(128)\n",
    "        self.res5 = ResidualBlock(128)\n",
    "        \n",
    "        self.deconv1 = UpsampleConvLayer(128, 64, kernel_size=3, stride=1, upsample=2)\n",
    "        self.in4 = nn.InstanceNorm2d(64, affine=True)\n",
    "        self.deconv2 = UpsampleConvLayer(64, 32, kernel_size=3, stride=1, upsample=2)\n",
    "        self.in5 = nn.InstanceNorm2d(32, affine=True)\n",
    "        self.deconv3 = ConvLayer(32, 3, kernel_size=9, stride=1)\n",
    "        \n",
    "        self.relu = nn.ReLU()\n",
    "\n",
    "    def forward(self, X):\n",
    "        y = self.relu(self.in1(self.conv1(X)))\n",
    "        y = self.relu(self.in2(self.conv2(y)))\n",
    "        y = self.relu(self.in3(self.conv3(y)))\n",
    "        y = self.res1(y)\n",
    "        y = self.res2(y)\n",
    "        y = self.res3(y)\n",
    "        y = self.res4(y)\n",
    "        y = self.res5(y)\n",
    "        y = self.relu(self.in4(self.deconv1(y)))\n",
    "        y = self.relu(self.in5(self.deconv2(y)))\n",
    "        y = self.deconv3(y)\n",
    "        return y"
   ]
  },
  {
   "cell_type": "markdown",
   "id": "840acfc9",
   "metadata": {
    "papermill": {
     "duration": 0.017785,
     "end_time": "2024-06-20T05:00:45.345154",
     "exception": false,
     "start_time": "2024-06-20T05:00:45.327369",
     "status": "completed"
    },
    "tags": []
   },
   "source": [
    "# Defining training helper functions"
   ]
  },
  {
   "cell_type": "code",
   "execution_count": 20,
   "id": "04ca5bac",
   "metadata": {
    "execution": {
     "iopub.execute_input": "2024-06-20T05:00:45.380286Z",
     "iopub.status.busy": "2024-06-20T05:00:45.379426Z",
     "iopub.status.idle": "2024-06-20T05:00:45.385057Z",
     "shell.execute_reply": "2024-06-20T05:00:45.384130Z"
    },
    "papermill": {
     "duration": 0.025772,
     "end_time": "2024-06-20T05:00:45.387172",
     "exception": false,
     "start_time": "2024-06-20T05:00:45.361400",
     "status": "completed"
    },
    "tags": []
   },
   "outputs": [],
   "source": [
    "def gram_matrix(y):\n",
    "    (b, c, h, w) = y.size()\n",
    "    features = y.view(b, c, w * h)\n",
    "    features_t = features.transpose(1, 2)\n",
    "    gram = features.bmm(features_t) / (c * h * w)\n",
    "    return gram"
   ]
  },
  {
   "cell_type": "code",
   "execution_count": 21,
   "id": "78debc06",
   "metadata": {
    "execution": {
     "iopub.execute_input": "2024-06-20T05:00:45.422821Z",
     "iopub.status.busy": "2024-06-20T05:00:45.421799Z",
     "iopub.status.idle": "2024-06-20T05:00:45.427580Z",
     "shell.execute_reply": "2024-06-20T05:00:45.426762Z"
    },
    "papermill": {
     "duration": 0.025681,
     "end_time": "2024-06-20T05:00:45.429490",
     "exception": false,
     "start_time": "2024-06-20T05:00:45.403809",
     "status": "completed"
    },
    "tags": []
   },
   "outputs": [],
   "source": [
    "def normalize_batch(batch):\n",
    "    mean = batch.new_tensor([0.485, 0.456, 0.406]).view(-1, 1, 1)\n",
    "    std = batch.new_tensor([0.229, 0.224, 0.225]).view(-1, 1, 1)\n",
    "    batch = batch.div_(255.0)\n",
    "    return (batch - mean) / std"
   ]
  },
  {
   "cell_type": "markdown",
   "id": "9c30ea00",
   "metadata": {
    "papermill": {
     "duration": 0.016602,
     "end_time": "2024-06-20T05:00:45.463386",
     "exception": false,
     "start_time": "2024-06-20T05:00:45.446784",
     "status": "completed"
    },
    "tags": []
   },
   "source": [
    "# Training on given style image"
   ]
  },
  {
   "cell_type": "code",
   "execution_count": 22,
   "id": "f279dda8",
   "metadata": {
    "execution": {
     "iopub.execute_input": "2024-06-20T05:00:45.498993Z",
     "iopub.status.busy": "2024-06-20T05:00:45.498630Z",
     "iopub.status.idle": "2024-06-20T05:00:45.511887Z",
     "shell.execute_reply": "2024-06-20T05:00:45.510982Z"
    },
    "papermill": {
     "duration": 0.033539,
     "end_time": "2024-06-20T05:00:45.513884",
     "exception": false,
     "start_time": "2024-06-20T05:00:45.480345",
     "status": "completed"
    },
    "tags": []
   },
   "outputs": [],
   "source": [
    "def TrainTransformerNet(style_path, vgg, device, train_dataloader, batch_size, epochs=1, lr=1e-3, content_weight = 1e5, style_weight = 1e10):\n",
    "    \n",
    "    style_image = LoadStyleImage(style_path, batch_size, device) ## Getting style image\n",
    "    features_style = vgg(normalize_batch(style_image)) ## getting features maps of style image\n",
    "    gram_style = [gram_matrix(y) for y in features_style] ## creating gram matrix of style features\n",
    "    \n",
    "    transformer = TransformerNet()\n",
    "    transformer = transformer.to(device)\n",
    "    optimizer = torch.optim.Adam(transformer.parameters(), lr=lr)\n",
    "    criterion = nn.MSELoss()\n",
    "    \n",
    "    loss = []\n",
    "    style_loss_ = []\n",
    "    content_loss_ = []\n",
    "    \n",
    "    for epoch in range(epochs):\n",
    "        \n",
    "        transformer.train()\n",
    "        agg_content_loss = 0.\n",
    "        agg_style_loss = 0.\n",
    "        \n",
    "        for x, _ in tqdm(train_dataloader):\n",
    "            optimizer.zero_grad()\n",
    "\n",
    "            x = x.to(device)\n",
    "            y = transformer(x)\n",
    "\n",
    "            y = normalize_batch(y)\n",
    "            x = normalize_batch(x)\n",
    "\n",
    "            features_y = vgg(y)\n",
    "            features_x = vgg(x)\n",
    "\n",
    "            content_loss = content_weight * criterion(features_y.relu2_2, features_x.relu2_2)\n",
    "\n",
    "            style_loss = 0.\n",
    "            n_batch = len(x)\n",
    "            for ft_y, gm_s in zip(features_y, gram_style):\n",
    "                gm_y = gram_matrix(ft_y)\n",
    "                style_loss += criterion(gm_y, gm_s[:n_batch, :, :])\n",
    "            style_loss *= style_weight\n",
    "\n",
    "            total_loss_b = content_loss + style_loss\n",
    "            total_loss_b.backward()\n",
    "            optimizer.step()\n",
    "\n",
    "            agg_content_loss += content_loss.item()\n",
    "            agg_style_loss += style_loss.item() \n",
    "            \n",
    "            style_loss_.append(style_loss.item())\n",
    "            content_loss_.append(content_loss.item())\n",
    "            loss.append(style_loss.item() + content_loss.item())\n",
    "        \n",
    "        avg_content_loss = agg_content_loss / len(train_dataloader)\n",
    "        avg_style_loss = agg_style_loss / len(train_dataloader)\n",
    "        avg_loss = avg_content_loss + avg_style_loss\n",
    "        \n",
    "        print(f\" {epoch +1} / {epochs} Style Loss : {avg_style_loss:.4f}, Content Loss : {avg_content_loss:.4f}, Total Loss : {avg_loss:.4f}\")\n",
    "            \n",
    "        \n",
    "    return transformer, loss, style_loss_, content_loss_"
   ]
  },
  {
   "cell_type": "code",
   "execution_count": 23,
   "id": "97e66823",
   "metadata": {
    "execution": {
     "iopub.execute_input": "2024-06-20T05:00:45.549143Z",
     "iopub.status.busy": "2024-06-20T05:00:45.548804Z",
     "iopub.status.idle": "2024-06-20T05:00:45.553232Z",
     "shell.execute_reply": "2024-06-20T05:00:45.552177Z"
    },
    "papermill": {
     "duration": 0.024607,
     "end_time": "2024-06-20T05:00:45.555289",
     "exception": false,
     "start_time": "2024-06-20T05:00:45.530682",
     "status": "completed"
    },
    "tags": []
   },
   "outputs": [],
   "source": [
    "style_name = \"Terrace and Observation Deck at the Moulin de Blute-Fin Montmartre\""
   ]
  },
  {
   "cell_type": "code",
   "execution_count": 24,
   "id": "60299669",
   "metadata": {
    "execution": {
     "iopub.execute_input": "2024-06-20T05:00:45.591648Z",
     "iopub.status.busy": "2024-06-20T05:00:45.591285Z",
     "iopub.status.idle": "2024-06-20T05:00:45.595532Z",
     "shell.execute_reply": "2024-06-20T05:00:45.594659Z"
    },
    "papermill": {
     "duration": 0.024599,
     "end_time": "2024-06-20T05:00:45.597535",
     "exception": false,
     "start_time": "2024-06-20T05:00:45.572936",
     "status": "completed"
    },
    "tags": []
   },
   "outputs": [],
   "source": [
    "input_dir = \"/kaggle/input/style-images-for-neural-style-transfer/Style Images for Neural Style Transfer\""
   ]
  },
  {
   "cell_type": "code",
   "execution_count": 25,
   "id": "b5c5cc29",
   "metadata": {
    "execution": {
     "iopub.execute_input": "2024-06-20T05:00:45.633032Z",
     "iopub.status.busy": "2024-06-20T05:00:45.632694Z",
     "iopub.status.idle": "2024-06-20T05:00:45.637000Z",
     "shell.execute_reply": "2024-06-20T05:00:45.636152Z"
    },
    "papermill": {
     "duration": 0.024164,
     "end_time": "2024-06-20T05:00:45.639000",
     "exception": false,
     "start_time": "2024-06-20T05:00:45.614836",
     "status": "completed"
    },
    "tags": []
   },
   "outputs": [],
   "source": [
    "style_path = os.path.join(input_dir, style_name)\n",
    "style_path += \".jpg\""
   ]
  },
  {
   "cell_type": "code",
   "execution_count": 26,
   "id": "14c59f46",
   "metadata": {
    "execution": {
     "iopub.execute_input": "2024-06-20T05:00:45.675554Z",
     "iopub.status.busy": "2024-06-20T05:00:45.674747Z",
     "iopub.status.idle": "2024-06-20T05:32:25.136367Z",
     "shell.execute_reply": "2024-06-20T05:32:25.135452Z"
    },
    "papermill": {
     "duration": 1899.482429,
     "end_time": "2024-06-20T05:32:25.138508",
     "exception": false,
     "start_time": "2024-06-20T05:00:45.656079",
     "status": "completed"
    },
    "tags": []
   },
   "outputs": [
    {
     "data": {
      "application/vnd.jupyter.widget-view+json": {
       "model_id": "fe643fe1d93d4964b6936177fc5a3e55",
       "version_major": 2,
       "version_minor": 0
      },
      "text/plain": [
       "  0%|          | 0/10000 [00:00<?, ?it/s]"
      ]
     },
     "metadata": {},
     "output_type": "display_data"
    },
    {
     "name": "stdout",
     "output_type": "stream",
     "text": [
      " 1 / 1 Style Loss : 109871.1232, Content Loss : 212466.5639, Total Loss : 322337.6871\n"
     ]
    }
   ],
   "source": [
    "trained_model, loss, style_loss, content_loss = TrainTransformerNet(style_path, vgg, device, train_dataloader, batch_size, epochs=1, lr=1e-3, content_weight = 1e5, style_weight = 1e10)"
   ]
  },
  {
   "cell_type": "markdown",
   "id": "d8a4911f",
   "metadata": {
    "papermill": {
     "duration": 0.015946,
     "end_time": "2024-06-20T05:32:25.170648",
     "exception": false,
     "start_time": "2024-06-20T05:32:25.154702",
     "status": "completed"
    },
    "tags": []
   },
   "source": [
    "# Plotting losses"
   ]
  },
  {
   "cell_type": "code",
   "execution_count": 27,
   "id": "68df3473",
   "metadata": {
    "execution": {
     "iopub.execute_input": "2024-06-20T05:32:25.204114Z",
     "iopub.status.busy": "2024-06-20T05:32:25.203792Z",
     "iopub.status.idle": "2024-06-20T05:32:25.209514Z",
     "shell.execute_reply": "2024-06-20T05:32:25.208684Z"
    },
    "papermill": {
     "duration": 0.024621,
     "end_time": "2024-06-20T05:32:25.211493",
     "exception": false,
     "start_time": "2024-06-20T05:32:25.186872",
     "status": "completed"
    },
    "tags": []
   },
   "outputs": [],
   "source": [
    "def plot_losses(loss, style_loss, content_loss):\n",
    "    plt.figure(figsize=(10, 5))\n",
    "    plt.plot(loss, label='Total Loss')\n",
    "    plt.plot(style_loss, label='Style Loss')\n",
    "    plt.plot(content_loss, label='Content Loss')\n",
    "    plt.title('Training Losses')\n",
    "    plt.xlabel('Per 4 samples')\n",
    "    plt.ylabel('Loss')\n",
    "    plt.legend()\n",
    "    plt.grid(True)\n",
    "    plt.show()"
   ]
  },
  {
   "cell_type": "code",
   "execution_count": 28,
   "id": "9d1ecfc7",
   "metadata": {
    "execution": {
     "iopub.execute_input": "2024-06-20T05:32:25.244526Z",
     "iopub.status.busy": "2024-06-20T05:32:25.244238Z",
     "iopub.status.idle": "2024-06-20T05:32:25.632086Z",
     "shell.execute_reply": "2024-06-20T05:32:25.631008Z"
    },
    "papermill": {
     "duration": 0.406477,
     "end_time": "2024-06-20T05:32:25.634044",
     "exception": false,
     "start_time": "2024-06-20T05:32:25.227567",
     "status": "completed"
    },
    "tags": []
   },
   "outputs": [
    {
     "data": {
      "image/png": "[encoded data removed]",
      "text/plain": [
       "<Figure size 1000x500 with 1 Axes>"
      ]
     },
     "metadata": {},
     "output_type": "display_data"
    }
   ],
   "source": [
    "plot_losses(loss, style_loss, content_loss)"
   ]
  },
  {
   "cell_type": "markdown",
   "id": "556eaa8d",
   "metadata": {
    "papermill": {
     "duration": 0.01653,
     "end_time": "2024-06-20T05:32:25.667514",
     "exception": false,
     "start_time": "2024-06-20T05:32:25.650984",
     "status": "completed"
    },
    "tags": []
   },
   "source": [
    "# Saving the trained Model"
   ]
  },
  {
   "cell_type": "code",
   "execution_count": 29,
   "id": "51257932",
   "metadata": {
    "execution": {
     "iopub.execute_input": "2024-06-20T05:32:25.702400Z",
     "iopub.status.busy": "2024-06-20T05:32:25.702061Z",
     "iopub.status.idle": "2024-06-20T05:32:25.715038Z",
     "shell.execute_reply": "2024-06-20T05:32:25.714164Z"
    },
    "papermill": {
     "duration": 0.032766,
     "end_time": "2024-06-20T05:32:25.716947",
     "exception": false,
     "start_time": "2024-06-20T05:32:25.684181",
     "status": "completed"
    },
    "tags": []
   },
   "outputs": [],
   "source": [
    "trained_model = trained_model.to(\"cpu\")"
   ]
  },
  {
   "cell_type": "code",
   "execution_count": 30,
   "id": "26ddc6b8",
   "metadata": {
    "execution": {
     "iopub.execute_input": "2024-06-20T05:32:25.751538Z",
     "iopub.status.busy": "2024-06-20T05:32:25.751246Z",
     "iopub.status.idle": "2024-06-20T05:32:25.755256Z",
     "shell.execute_reply": "2024-06-20T05:32:25.754433Z"
    },
    "papermill": {
     "duration": 0.023461,
     "end_time": "2024-06-20T05:32:25.757028",
     "exception": false,
     "start_time": "2024-06-20T05:32:25.733567",
     "status": "completed"
    },
    "tags": []
   },
   "outputs": [],
   "source": [
    "model_name = style_name + \".model\""
   ]
  },
  {
   "cell_type": "code",
   "execution_count": 31,
   "id": "8853f71b",
   "metadata": {
    "execution": {
     "iopub.execute_input": "2024-06-20T05:32:25.791598Z",
     "iopub.status.busy": "2024-06-20T05:32:25.791313Z",
     "iopub.status.idle": "2024-06-20T05:32:25.808672Z",
     "shell.execute_reply": "2024-06-20T05:32:25.807806Z"
    },
    "papermill": {
     "duration": 0.037007,
     "end_time": "2024-06-20T05:32:25.810600",
     "exception": false,
     "start_time": "2024-06-20T05:32:25.773593",
     "status": "completed"
    },
    "tags": []
   },
   "outputs": [],
   "source": [
    "torch.save(trained_model.state_dict(), model_name)"
   ]
  }
 ],
 "metadata": {
  "kaggle": {
   "accelerator": "gpu",
   "dataSources": [
    {
     "datasetId": 857191,
     "sourceId": 1462296,
     "sourceType": "datasetVersion"
    },
    {
     "datasetId": 5241921,
     "sourceId": 8733509,
     "sourceType": "datasetVersion"
    }
   ],
   "isGpuEnabled": true,
   "isInternetEnabled": true,
   "language": "python",
   "sourceType": "notebook"
  },
  "kernelspec": {
   "display_name": "Python 3",
   "language": "python",
   "name": "python3"
  },
  "language_info": {
   "codemirror_mode": {
    "name": "ipython",
    "version": 3
   },
   "file_extension": ".py",
   "mimetype": "text/x-python",
   "name": "python",
   "nbconvert_exporter": "python",
   "pygments_lexer": "ipython3",
   "version": "3.10.13"
  },
  "papermill": {
   "default_parameters": {},
   "duration": 1916.957034,
   "end_time": "2024-06-20T05:32:27.053900",
   "environment_variables": {},
   "exception": null,
   "input_path": "__notebook__.ipynb",
   "output_path": "__notebook__.ipynb",
   "parameters": {},
   "start_time": "2024-06-20T05:00:30.096866",
   "version": "2.5.0"
  },
  "widgets": {
   "application/vnd.jupyter.widget-state+json": {
    "state": {
     "3520e43bf80b4866a58fdc4c5c6c9f39": {
      "model_module": "@jupyter-widgets/base",
      "model_module_version": "1.2.0",
      "model_name": "LayoutModel",
      "state": {
       "_model_module": "@jupyter-widgets/base",
       "_model_module_version": "1.2.0",
       "_model_name": "LayoutModel",
       "_view_count": null,
       "_view_module": "@jupyter-widgets/base",
       "_view_module_version": "1.2.0",
       "_view_name": "LayoutView",
       "align_content": null,
       "align_items": null,
       "align_self": null,
       "border": null,
       "bottom": null,
       "display": null,
       "flex": null,
       "flex_flow": null,
       "grid_area": null,
       "grid_auto_columns": null,
       "grid_auto_flow": null,
       "grid_auto_rows": null,
       "grid_column": null,
       "grid_gap": null,
       "grid_row": null,
       "grid_template_areas": null,
       "grid_template_columns": null,
       "grid_template_rows": null,
       "height": null,
       "justify_content": null,
       "justify_items": null,
       "left": null,
       "margin": null,
       "max_height": null,
       "max_width": null,
       "min_height": null,
       "min_width": null,
       "object_fit": null,
       "object_position": null,
       "order": null,
       "overflow": null,
       "overflow_x": null,
       "overflow_y": null,
       "padding": null,
       "right": null,
       "top": null,
       "visibility": null,
       "width": null
      }
     },
     "4e78d97ca35f4b2cbd8f4afdb4a83a13": {
      "model_module": "@jupyter-widgets/controls",
      "model_module_version": "1.5.0",
      "model_name": "HTMLModel",
      "state": {
       "_dom_classes": [],
       "_model_module": "@jupyter-widgets/controls",
       "_model_module_version": "1.5.0",
       "_model_name": "HTMLModel",
       "_view_count": null,
       "_view_module": "@jupyter-widgets/controls",
       "_view_module_version": "1.5.0",
       "_view_name": "HTMLView",
       "description": "",
       "description_tooltip": null,
       "layout": "IPY_MODEL_94e68de6ee944cd89cc057b106aa11a5",
       "placeholder": "​",
       "style": "IPY_MODEL_dc7d0ddf437c4158979bb4a626a1d9a7",
       "value": " 10000/10000 [31:38&lt;00:00,  5.32it/s]"
      }
     },
     "4ed11fa096aa42e8a01f3456f908ff88": {
      "model_module": "@jupyter-widgets/controls",
      "model_module_version": "1.5.0",
      "model_name": "FloatProgressModel",
      "state": {
       "_dom_classes": [],
       "_model_module": "@jupyter-widgets/controls",
       "_model_module_version": "1.5.0",
       "_model_name": "FloatProgressModel",
       "_view_count": null,
       "_view_module": "@jupyter-widgets/controls",
       "_view_module_version": "1.5.0",
       "_view_name": "ProgressView",
       "bar_style": "success",
       "description": "",
       "description_tooltip": null,
       "layout": "IPY_MODEL_97d3d17d5f7843478348c764fa5edfdc",
       "max": 10000.0,
       "min": 0.0,
       "orientation": "horizontal",
       "style": "IPY_MODEL_d03872c3f0594c5ea9723c09836e8a6e",
       "value": 10000.0
      }
     },
     "5dc4c028dd9c41faa4277e5c4ff481e1": {
      "model_module": "@jupyter-widgets/controls",
      "model_module_version": "1.5.0",
      "model_name": "DescriptionStyleModel",
      "state": {
       "_model_module": "@jupyter-widgets/controls",
       "_model_module_version": "1.5.0",
       "_model_name": "DescriptionStyleModel",
       "_view_count": null,
       "_view_module": "@jupyter-widgets/base",
       "_view_module_version": "1.2.0",
       "_view_name": "StyleView",
       "description_width": ""
      }
     },
     "66b9fbaf9a3f4e38bdf7099aaf76770f": {
      "model_module": "@jupyter-widgets/controls",
      "model_module_version": "1.5.0",
      "model_name": "HTMLModel",
      "state": {
       "_dom_classes": [],
       "_model_module": "@jupyter-widgets/controls",
       "_model_module_version": "1.5.0",
       "_model_name": "HTMLModel",
       "_view_count": null,
       "_view_module": "@jupyter-widgets/controls",
       "_view_module_version": "1.5.0",
       "_view_name": "HTMLView",
       "description": "",
       "description_tooltip": null,
       "layout": "IPY_MODEL_963913e5389647abb0eca0c5427ed7c5",
       "placeholder": "​",
       "style": "IPY_MODEL_5dc4c028dd9c41faa4277e5c4ff481e1",
       "value": "100%"
      }
     },
     "94e68de6ee944cd89cc057b106aa11a5": {
      "model_module": "@jupyter-widgets/base",
      "model_module_version": "1.2.0",
      "model_name": "LayoutModel",
      "state": {
       "_model_module": "@jupyter-widgets/base",
       "_model_module_version": "1.2.0",
       "_model_name": "LayoutModel",
       "_view_count": null,
       "_view_module": "@jupyter-widgets/base",
       "_view_module_version": "1.2.0",
       "_view_name": "LayoutView",
       "align_content": null,
       "align_items": null,
       "align_self": null,
       "border": null,
       "bottom": null,
       "display": null,
       "flex": null,
       "flex_flow": null,
       "grid_area": null,
       "grid_auto_columns": null,
       "grid_auto_flow": null,
       "grid_auto_rows": null,
       "grid_column": null,
       "grid_gap": null,
       "grid_row": null,
       "grid_template_areas": null,
       "grid_template_columns": null,
       "grid_template_rows": null,
       "height": null,
       "justify_content": null,
       "justify_items": null,
       "left": null,
       "margin": null,
       "max_height": null,
       "max_width": null,
       "min_height": null,
       "min_width": null,
       "object_fit": null,
       "object_position": null,
       "order": null,
       "overflow": null,
       "overflow_x": null,
       "overflow_y": null,
       "padding": null,
       "right": null,
       "top": null,
       "visibility": null,
       "width": null
      }
     },
     "963913e5389647abb0eca0c5427ed7c5": {
      "model_module": "@jupyter-widgets/base",
      "model_module_version": "1.2.0",
      "model_name": "LayoutModel",
      "state": {
       "_model_module": "@jupyter-widgets/base",
       "_model_module_version": "1.2.0",
       "_model_name": "LayoutModel",
       "_view_count": null,
       "_view_module": "@jupyter-widgets/base",
       "_view_module_version": "1.2.0",
       "_view_name": "LayoutView",
       "align_content": null,
       "align_items": null,
       "align_self": null,
       "border": null,
       "bottom": null,
       "display": null,
       "flex": null,
       "flex_flow": null,
       "grid_area": null,
       "grid_auto_columns": null,
       "grid_auto_flow": null,
       "grid_auto_rows": null,
       "grid_column": null,
       "grid_gap": null,
       "grid_row": null,
       "grid_template_areas": null,
       "grid_template_columns": null,
       "grid_template_rows": null,
       "height": null,
       "justify_content": null,
       "justify_items": null,
       "left": null,
       "margin": null,
       "max_height": null,
       "max_width": null,
       "min_height": null,
       "min_width": null,
       "object_fit": null,
       "object_position": null,
       "order": null,
       "overflow": null,
       "overflow_x": null,
       "overflow_y": null,
       "padding": null,
       "right": null,
       "top": null,
       "visibility": null,
       "width": null
      }
     },
     "97d3d17d5f7843478348c764fa5edfdc": {
      "model_module": "@jupyter-widgets/base",
      "model_module_version": "1.2.0",
      "model_name": "LayoutModel",
      "state": {
       "_model_module": "@jupyter-widgets/base",
       "_model_module_version": "1.2.0",
       "_model_name": "LayoutModel",
       "_view_count": null,
       "_view_module": "@jupyter-widgets/base",
       "_view_module_version": "1.2.0",
       "_view_name": "LayoutView",
       "align_content": null,
       "align_items": null,
       "align_self": null,
       "border": null,
       "bottom": null,
       "display": null,
       "flex": null,
       "flex_flow": null,
       "grid_area": null,
       "grid_auto_columns": null,
       "grid_auto_flow": null,
       "grid_auto_rows": null,
       "grid_column": null,
       "grid_gap": null,
       "grid_row": null,
       "grid_template_areas": null,
       "grid_template_columns": null,
       "grid_template_rows": null,
       "height": null,
       "justify_content": null,
       "justify_items": null,
       "left": null,
       "margin": null,
       "max_height": null,
       "max_width": null,
       "min_height": null,
       "min_width": null,
       "object_fit": null,
       "object_position": null,
       "order": null,
       "overflow": null,
       "overflow_x": null,
       "overflow_y": null,
       "padding": null,
       "right": null,
       "top": null,
       "visibility": null,
       "width": null
      }
     },
     "d03872c3f0594c5ea9723c09836e8a6e": {
      "model_module": "@jupyter-widgets/controls",
      "model_module_version": "1.5.0",
      "model_name": "ProgressStyleModel",
      "state": {
       "_model_module": "@jupyter-widgets/controls",
       "_model_module_version": "1.5.0",
       "_model_name": "ProgressStyleModel",
       "_view_count": null,
       "_view_module": "@jupyter-widgets/base",
       "_view_module_version": "1.2.0",
       "_view_name": "StyleView",
       "bar_color": null,
       "description_width": ""
      }
     },
     "dc7d0ddf437c4158979bb4a626a1d9a7": {
      "model_module": "@jupyter-widgets/controls",
      "model_module_version": "1.5.0",
      "model_name": "DescriptionStyleModel",
      "state": {
       "_model_module": "@jupyter-widgets/controls",
       "_model_module_version": "1.5.0",
       "_model_name": "DescriptionStyleModel",
       "_view_count": null,
       "_view_module": "@jupyter-widgets/base",
       "_view_module_version": "1.2.0",
       "_view_name": "StyleView",
       "description_width": ""
      }
     },
     "fe643fe1d93d4964b6936177fc5a3e55": {
      "model_module": "@jupyter-widgets/controls",
      "model_module_version": "1.5.0",
      "model_name": "HBoxModel",
      "state": {
       "_dom_classes": [],
       "_model_module": "@jupyter-widgets/controls",
       "_model_module_version": "1.5.0",
       "_model_name": "HBoxModel",
       "_view_count": null,
       "_view_module": "@jupyter-widgets/controls",
       "_view_module_version": "1.5.0",
       "_view_name": "HBoxView",
       "box_style": "",
       "children": [
        "IPY_MODEL_66b9fbaf9a3f4e38bdf7099aaf76770f",
        "IPY_MODEL_4ed11fa096aa42e8a01f3456f908ff88",
        "IPY_MODEL_4e78d97ca35f4b2cbd8f4afdb4a83a13"
       ],
       "layout": "IPY_MODEL_3520e43bf80b4866a58fdc4c5c6c9f39"
      }
     }
    },
    "version_major": 2,
    "version_minor": 0
   }
  }
 },
 "nbformat": 4,
 "nbformat_minor": 5
}

{
 "cells": [
  {
   "cell_type": "markdown",
   "id": "ada2e81f",
   "metadata": {
    "papermill": {
     "duration": 0.013097,
     "end_time": "2024-06-20T05:25:13.375305",
     "exception": false,
     "start_time": "2024-06-20T05:25:13.362208",
     "status": "completed"
    },
    "tags": []
   },
   "source": [
    "# Importing libraries"
   ]
  },
  {
   "cell_type": "code",
   "execution_count": 1,
   "id": "a1bc16df",
   "metadata": {
    "execution": {
     "iopub.execute_input": "2024-06-20T05:25:13.402605Z",
     "iopub.status.busy": "2024-06-20T05:25:13.401858Z",
     "iopub.status.idle": "2024-06-20T05:25:18.236099Z",
     "shell.execute_reply": "2024-06-20T05:25:18.235134Z"
    },
    "papermill": {
     "duration": 4.850337,
     "end_time": "2024-06-20T05:25:18.238478",
     "exception": false,
     "start_time": "2024-06-20T05:25:13.388141",
     "status": "completed"
    },
    "tags": []
   },
   "outputs": [],
   "source": [
    "import os\n",
    "from torch.utils.data import Dataset, DataLoader\n",
    "from torchvision import transforms, models\n",
    "from PIL import Image\n",
    "import torch\n",
    "import torch.nn as nn\n",
    "from tqdm.autonotebook import tqdm\n",
    "from collections import namedtuple\n",
    "import matplotlib.pyplot as plt"
   ]
  },
  {
   "cell_type": "markdown",
   "id": "b8052c2d",
   "metadata": {
    "papermill": {
     "duration": 0.012268,
     "end_time": "2024-06-20T05:25:18.264124",
     "exception": false,
     "start_time": "2024-06-20T05:25:18.251856",
     "status": "completed"
    },
    "tags": []
   },
   "source": [
    "# Loading the COCO dataset"
   ]
  },
  {
   "cell_type": "markdown",
   "id": "cc063739",
   "metadata": {
    "papermill": {
     "duration": 0.013204,
     "end_time": "2024-06-20T05:25:18.289742",
     "exception": false,
     "start_time": "2024-06-20T05:25:18.276538",
     "status": "completed"
    },
    "tags": []
   },
   "source": [
    "**Function that return the path of training images**"
   ]
  },
  {
   "cell_type": "code",
   "execution_count": 2,
   "id": "c8c12b92",
   "metadata": {
    "execution": {
     "iopub.execute_input": "2024-06-20T05:25:18.317990Z",
     "iopub.status.busy": "2024-06-20T05:25:18.315714Z",
     "iopub.status.idle": "2024-06-20T05:25:18.323113Z",
     "shell.execute_reply": "2024-06-20T05:25:18.322280Z"
    },
    "papermill": {
     "duration": 0.022833,
     "end_time": "2024-06-20T05:25:18.324976",
     "exception": false,
     "start_time": "2024-06-20T05:25:18.302143",
     "status": "completed"
    },
    "tags": []
   },
   "outputs": [],
   "source": [
    "def TrainImagesPath(path):\n",
    "    images_path = []\n",
    "    for file in os.listdir(path):\n",
    "        if file == \"test2017\":\n",
    "            file_path = os.path.join(path, file)\n",
    "            for f in os.listdir(file_path):\n",
    "                image_path = os.path.join(file_path, f)\n",
    "                images_path.append(image_path)\n",
    "                if len(images_path) == 40000:\n",
    "                    break\n",
    "    return images_path"
   ]
  },
  {
   "cell_type": "markdown",
   "id": "717217fa",
   "metadata": {
    "papermill": {
     "duration": 0.012071,
     "end_time": "2024-06-20T05:25:18.349413",
     "exception": false,
     "start_time": "2024-06-20T05:25:18.337342",
     "status": "completed"
    },
    "tags": []
   },
   "source": [
    "**Getting images paths**"
   ]
  },
  {
   "cell_type": "code",
   "execution_count": 3,
   "id": "b0cd0e55",
   "metadata": {
    "execution": {
     "iopub.execute_input": "2024-06-20T05:25:18.375793Z",
     "iopub.status.busy": "2024-06-20T05:25:18.375054Z",
     "iopub.status.idle": "2024-06-20T05:25:18.844841Z",
     "shell.execute_reply": "2024-06-20T05:25:18.844055Z"
    },
    "papermill": {
     "duration": 0.485166,
     "end_time": "2024-06-20T05:25:18.846999",
     "exception": false,
     "start_time": "2024-06-20T05:25:18.361833",
     "status": "completed"
    },
    "tags": []
   },
   "outputs": [],
   "source": [
    "path = \"/kaggle/input/coco-2017-dataset/coco2017\"\n",
    "train_images_path = TrainImagesPath(path)"
   ]
  },
  {
   "cell_type": "markdown",
   "id": "34a7d071",
   "metadata": {
    "papermill": {
     "duration": 0.017567,
     "end_time": "2024-06-20T05:25:18.877643",
     "exception": false,
     "start_time": "2024-06-20T05:25:18.860076",
     "status": "completed"
    },
    "tags": []
   },
   "source": [
    "**Creating Custom Dataset and Dataloader**"
   ]
  },
  {
   "cell_type": "code",
   "execution_count": 4,
   "id": "b5558ae2",
   "metadata": {
    "execution": {
     "iopub.execute_input": "2024-06-20T05:25:18.912762Z",
     "iopub.status.busy": "2024-06-20T05:25:18.912027Z",
     "iopub.status.idle": "2024-06-20T05:25:18.919001Z",
     "shell.execute_reply": "2024-06-20T05:25:18.918297Z"
    },
    "papermill": {
     "duration": 0.027553,
     "end_time": "2024-06-20T05:25:18.921406",
     "exception": false,
     "start_time": "2024-06-20T05:25:18.893853",
     "status": "completed"
    },
    "tags": []
   },
   "outputs": [],
   "source": [
    "class CustomDataset(Dataset):\n",
    "    def __init__(self, images_path, labels, transform=None):\n",
    "        self.images_path = images_path\n",
    "        self.labels = labels\n",
    "        self.transform = transform\n",
    "        \n",
    "    def __len__(self):\n",
    "        return len(self.images_path)\n",
    "        \n",
    "    def __getitem__(self, idx):\n",
    "        image = Image.open(self.images_path[idx]).convert('RGB') \n",
    "        if self.transform:\n",
    "            image = self.transform(image)\n",
    "        label = self.labels[idx]\n",
    "        return image, label"
   ]
  },
  {
   "cell_type": "code",
   "execution_count": 5,
   "id": "4893aee8",
   "metadata": {
    "execution": {
     "iopub.execute_input": "2024-06-20T05:25:18.951098Z",
     "iopub.status.busy": "2024-06-20T05:25:18.950405Z",
     "iopub.status.idle": "2024-06-20T05:25:18.955452Z",
     "shell.execute_reply": "2024-06-20T05:25:18.954641Z"
    },
    "papermill": {
     "duration": 0.020305,
     "end_time": "2024-06-20T05:25:18.957306",
     "exception": false,
     "start_time": "2024-06-20T05:25:18.937001",
     "status": "completed"
    },
    "tags": []
   },
   "outputs": [],
   "source": [
    "train_transform = transforms.Compose([\n",
    "                                transforms.Resize((256, 256)),\n",
    "                                transforms.CenterCrop((256, 256)),\n",
    "                                transforms.ToTensor(),\n",
    "                                transforms.Lambda(lambda x: x.mul(255))\n",
    "                                    ])"
   ]
  },
  {
   "cell_type": "code",
   "execution_count": 6,
   "id": "ae127c35",
   "metadata": {
    "execution": {
     "iopub.execute_input": "2024-06-20T05:25:18.983718Z",
     "iopub.status.busy": "2024-06-20T05:25:18.983418Z",
     "iopub.status.idle": "2024-06-20T05:25:18.987565Z",
     "shell.execute_reply": "2024-06-20T05:25:18.986769Z"
    },
    "papermill": {
     "duration": 0.01928,
     "end_time": "2024-06-20T05:25:18.989427",
     "exception": false,
     "start_time": "2024-06-20T05:25:18.970147",
     "status": "completed"
    },
    "tags": []
   },
   "outputs": [],
   "source": [
    "train_dataset = CustomDataset(train_images_path, [0]*len(train_images_path), train_transform)"
   ]
  },
  {
   "cell_type": "code",
   "execution_count": 7,
   "id": "41f6021d",
   "metadata": {
    "execution": {
     "iopub.execute_input": "2024-06-20T05:25:19.015763Z",
     "iopub.status.busy": "2024-06-20T05:25:19.015117Z",
     "iopub.status.idle": "2024-06-20T05:25:19.021358Z",
     "shell.execute_reply": "2024-06-20T05:25:19.020522Z"
    },
    "papermill": {
     "duration": 0.021395,
     "end_time": "2024-06-20T05:25:19.023325",
     "exception": false,
     "start_time": "2024-06-20T05:25:19.001930",
     "status": "completed"
    },
    "tags": []
   },
   "outputs": [
    {
     "data": {
      "text/plain": [
       "40000"
      ]
     },
     "execution_count": 7,
     "metadata": {},
     "output_type": "execute_result"
    }
   ],
   "source": [
    "len(train_images_path)"
   ]
  },
  {
   "cell_type": "code",
   "execution_count": 8,
   "id": "f970d41f",
   "metadata": {
    "execution": {
     "iopub.execute_input": "2024-06-20T05:25:19.051027Z",
     "iopub.status.busy": "2024-06-20T05:25:19.049587Z",
     "iopub.status.idle": "2024-06-20T05:25:19.055065Z",
     "shell.execute_reply": "2024-06-20T05:25:19.053974Z"
    },
    "papermill": {
     "duration": 0.021853,
     "end_time": "2024-06-20T05:25:19.057820",
     "exception": false,
     "start_time": "2024-06-20T05:25:19.035967",
     "status": "completed"
    },
    "tags": []
   },
   "outputs": [],
   "source": [
    "batch_size = 4"
   ]
  },
  {
   "cell_type": "code",
   "execution_count": 9,
   "id": "5fedf9b0",
   "metadata": {
    "execution": {
     "iopub.execute_input": "2024-06-20T05:25:19.088114Z",
     "iopub.status.busy": "2024-06-20T05:25:19.087464Z",
     "iopub.status.idle": "2024-06-20T05:25:19.092180Z",
     "shell.execute_reply": "2024-06-20T05:25:19.091214Z"
    },
    "papermill": {
     "duration": 0.021678,
     "end_time": "2024-06-20T05:25:19.094563",
     "exception": false,
     "start_time": "2024-06-20T05:25:19.072885",
     "status": "completed"
    },
    "tags": []
   },
   "outputs": [],
   "source": [
    "train_dataloader = DataLoader(train_dataset, batch_size=batch_size)"
   ]
  },
  {
   "cell_type": "markdown",
   "id": "32942af6",
   "metadata": {
    "papermill": {
     "duration": 0.014754,
     "end_time": "2024-06-20T05:25:19.125946",
     "exception": false,
     "start_time": "2024-06-20T05:25:19.111192",
     "status": "completed"
    },
    "tags": []
   },
   "source": [
    "# GPU configuration"
   ]
  },
  {
   "cell_type": "code",
   "execution_count": 10,
   "id": "2ec2a74d",
   "metadata": {
    "execution": {
     "iopub.execute_input": "2024-06-20T05:25:19.154316Z",
     "iopub.status.busy": "2024-06-20T05:25:19.154001Z",
     "iopub.status.idle": "2024-06-20T05:25:19.199727Z",
     "shell.execute_reply": "2024-06-20T05:25:19.198873Z"
    },
    "papermill": {
     "duration": 0.06131,
     "end_time": "2024-06-20T05:25:19.201655",
     "exception": false,
     "start_time": "2024-06-20T05:25:19.140345",
     "status": "completed"
    },
    "tags": []
   },
   "outputs": [
    {
     "data": {
      "text/plain": [
       "device(type='cuda')"
      ]
     },
     "execution_count": 10,
     "metadata": {},
     "output_type": "execute_result"
    }
   ],
   "source": [
    "device = torch.device(\"cuda\" if torch.cuda.is_available() else \"cpu\")\n",
    "device"
   ]
  },
  {
   "cell_type": "markdown",
   "id": "fc2b38c2",
   "metadata": {
    "papermill": {
     "duration": 0.01262,
     "end_time": "2024-06-20T05:25:19.227145",
     "exception": false,
     "start_time": "2024-06-20T05:25:19.214525",
     "status": "completed"
    },
    "tags": []
   },
   "source": [
    "# Function to load style image"
   ]
  },
  {
   "cell_type": "code",
   "execution_count": 11,
   "id": "21c4e6ab",
   "metadata": {
    "execution": {
     "iopub.execute_input": "2024-06-20T05:25:19.253710Z",
     "iopub.status.busy": "2024-06-20T05:25:19.253389Z",
     "iopub.status.idle": "2024-06-20T05:25:19.257778Z",
     "shell.execute_reply": "2024-06-20T05:25:19.256959Z"
    },
    "papermill": {
     "duration": 0.019822,
     "end_time": "2024-06-20T05:25:19.259573",
     "exception": false,
     "start_time": "2024-06-20T05:25:19.239751",
     "status": "completed"
    },
    "tags": []
   },
   "outputs": [],
   "source": [
    "style_transform = transforms.Compose([\n",
    "                            transforms.ToTensor(),\n",
    "                            transforms.Lambda(lambda x: x.mul(255))\n",
    "                            ])"
   ]
  },
  {
   "cell_type": "code",
   "execution_count": 12,
   "id": "e5a05497",
   "metadata": {
    "execution": {
     "iopub.execute_input": "2024-06-20T05:25:19.285860Z",
     "iopub.status.busy": "2024-06-20T05:25:19.285590Z",
     "iopub.status.idle": "2024-06-20T05:25:19.290456Z",
     "shell.execute_reply": "2024-06-20T05:25:19.289639Z"
    },
    "papermill": {
     "duration": 0.020174,
     "end_time": "2024-06-20T05:25:19.292314",
     "exception": false,
     "start_time": "2024-06-20T05:25:19.272140",
     "status": "completed"
    },
    "tags": []
   },
   "outputs": [],
   "source": [
    "def LoadStyleImage(path, batch_size, device):\n",
    "    style = Image.open(path).convert('RGB')\n",
    "    style = style.resize((256, 256))\n",
    "    style = style_transform(style)\n",
    "    style = style.repeat(batch_size, 1, 1, 1)\n",
    "    style = style.to(device) \n",
    "    return style"
   ]
  },
  {
   "cell_type": "markdown",
   "id": "7a2038f0",
   "metadata": {
    "papermill": {
     "duration": 0.012473,
     "end_time": "2024-06-20T05:25:19.317513",
     "exception": false,
     "start_time": "2024-06-20T05:25:19.305040",
     "status": "completed"
    },
    "tags": []
   },
   "source": [
    "# Loading Pretained VGG16 model"
   ]
  },
  {
   "cell_type": "code",
   "execution_count": 13,
   "id": "95f1e61d",
   "metadata": {
    "execution": {
     "iopub.execute_input": "2024-06-20T05:25:19.344140Z",
     "iopub.status.busy": "2024-06-20T05:25:19.343830Z",
     "iopub.status.idle": "2024-06-20T05:25:19.353545Z",
     "shell.execute_reply": "2024-06-20T05:25:19.352794Z"
    },
    "papermill": {
     "duration": 0.025312,
     "end_time": "2024-06-20T05:25:19.355426",
     "exception": false,
     "start_time": "2024-06-20T05:25:19.330114",
     "status": "completed"
    },
    "tags": []
   },
   "outputs": [],
   "source": [
    "class VGG16(nn.Module):\n",
    "    def __init__(self, requires_grad=False):\n",
    "        super(VGG16, self).__init__()\n",
    "        vgg_pretrained_features = models.vgg16(pretrained=True).features\n",
    "        self.slice1 = nn.Sequential()\n",
    "        self.slice2 = nn.Sequential()\n",
    "        self.slice3 = nn.Sequential()\n",
    "        self.slice4 = nn.Sequential()\n",
    "        \n",
    "        for x in range(4):\n",
    "            self.slice1.add_module(str(x), vgg_pretrained_features[x])\n",
    "        for x in range(4, 9):\n",
    "            self.slice2.add_module(str(x), vgg_pretrained_features[x])\n",
    "        for x in range(9, 16):\n",
    "            self.slice3.add_module(str(x), vgg_pretrained_features[x])\n",
    "        for x in range(16, 23):\n",
    "            self.slice4.add_module(str(x), vgg_pretrained_features[x])\n",
    "            \n",
    "        if not requires_grad:\n",
    "            for param in self.parameters():\n",
    "                param.requires_grad = False\n",
    "\n",
    "    def forward(self, X):\n",
    "        h = self.slice1(X)\n",
    "        h_relu1_2 = h\n",
    "        h = self.slice2(h)\n",
    "        h_relu2_2 = h\n",
    "        h = self.slice3(h)\n",
    "        h_relu3_3 = h\n",
    "        h = self.slice4(h)\n",
    "        h_relu4_3 = h\n",
    "        vgg_outputs = namedtuple(\"VggOutputs\", [\"relu1_2\", \"relu2_2\", \"relu3_3\", \"relu4_3\"])\n",
    "        out = vgg_outputs(h_relu1_2, h_relu2_2, h_relu3_3, h_relu4_3)\n",
    "        return out"
   ]
  },
  {
   "cell_type": "code",
   "execution_count": 14,
   "id": "1a3ddb53",
   "metadata": {
    "execution": {
     "iopub.execute_input": "2024-06-20T05:25:19.382145Z",
     "iopub.status.busy": "2024-06-20T05:25:19.381613Z",
     "iopub.status.idle": "2024-06-20T05:25:24.561334Z",
     "shell.execute_reply": "2024-06-20T05:25:24.560545Z"
    },
    "papermill": {
     "duration": 5.195603,
     "end_time": "2024-06-20T05:25:24.563645",
     "exception": false,
     "start_time": "2024-06-20T05:25:19.368042",
     "status": "completed"
    },
    "tags": []
   },
   "outputs": [
    {
     "name": "stderr",
     "output_type": "stream",
     "text": [
      "/opt/conda/lib/python3.10/site-packages/torchvision/models/_utils.py:208: UserWarning: The parameter 'pretrained' is deprecated since 0.13 and may be removed in the future, please use 'weights' instead.\n",
      "  warnings.warn(\n",
      "/opt/conda/lib/python3.10/site-packages/torchvision/models/_utils.py:223: UserWarning: Arguments other than a weight enum or `None` for 'weights' are deprecated since 0.13 and may be removed in the future. The current behavior is equivalent to passing `weights=VGG16_Weights.IMAGENET1K_V1`. You can also use `weights=VGG16_Weights.DEFAULT` to get the most up-to-date weights.\n",
      "  warnings.warn(msg)\n",
      "Downloading: \"https://download.pytorch.org/models/vgg16-397923af.pth\" to /root/.cache/torch/hub/checkpoints/vgg16-397923af.pth\n",
      "100%|██████████| 528M/528M [00:03<00:00, 166MB/s]\n"
     ]
    }
   ],
   "source": [
    "vgg = VGG16(requires_grad=False)"
   ]
  },
  {
   "cell_type": "code",
   "execution_count": 15,
   "id": "3e6d2db8",
   "metadata": {
    "execution": {
     "iopub.execute_input": "2024-06-20T05:25:24.597723Z",
     "iopub.status.busy": "2024-06-20T05:25:24.597179Z",
     "iopub.status.idle": "2024-06-20T05:25:24.750340Z",
     "shell.execute_reply": "2024-06-20T05:25:24.749525Z"
    },
    "papermill": {
     "duration": 0.172702,
     "end_time": "2024-06-20T05:25:24.752821",
     "exception": false,
     "start_time": "2024-06-20T05:25:24.580119",
     "status": "completed"
    },
    "tags": []
   },
   "outputs": [],
   "source": [
    "vgg = vgg.to(device)"
   ]
  },
  {
   "cell_type": "markdown",
   "id": "a9ffdc44",
   "metadata": {
    "papermill": {
     "duration": 0.015966,
     "end_time": "2024-06-20T05:25:24.785014",
     "exception": false,
     "start_time": "2024-06-20T05:25:24.769048",
     "status": "completed"
    },
    "tags": []
   },
   "source": [
    "# Defining architecture of Transformernet model"
   ]
  },
  {
   "cell_type": "code",
   "execution_count": 16,
   "id": "4118c3ce",
   "metadata": {
    "execution": {
     "iopub.execute_input": "2024-06-20T05:25:24.819721Z",
     "iopub.status.busy": "2024-06-20T05:25:24.818929Z",
     "iopub.status.idle": "2024-06-20T05:25:24.825119Z",
     "shell.execute_reply": "2024-06-20T05:25:24.824235Z"
    },
    "papermill": {
     "duration": 0.025998,
     "end_time": "2024-06-20T05:25:24.827047",
     "exception": false,
     "start_time": "2024-06-20T05:25:24.801049",
     "status": "completed"
    },
    "tags": []
   },
   "outputs": [],
   "source": [
    "class ConvLayer(nn.Module):\n",
    "    def __init__(self, in_channels, out_channels, kernel_size, stride):\n",
    "        super(ConvLayer, self).__init__()\n",
    "        reflection_padding = kernel_size // 2\n",
    "        self.reflection_pad = nn.ReflectionPad2d(reflection_padding)\n",
    "        self.conv2d = nn.Conv2d(in_channels, out_channels, kernel_size, stride)\n",
    "\n",
    "    def forward(self, x):\n",
    "        out = self.reflection_pad(x)\n",
    "        out = self.conv2d(out)\n",
    "        return out"
   ]
  },
  {
   "cell_type": "code",
   "execution_count": 17,
   "id": "11647bac",
   "metadata": {
    "execution": {
     "iopub.execute_input": "2024-06-20T05:25:24.903382Z",
     "iopub.status.busy": "2024-06-20T05:25:24.903019Z",
     "iopub.status.idle": "2024-06-20T05:25:24.910266Z",
     "shell.execute_reply": "2024-06-20T05:25:24.909522Z"
    },
    "papermill": {
     "duration": 0.069515,
     "end_time": "2024-06-20T05:25:24.912174",
     "exception": false,
     "start_time": "2024-06-20T05:25:24.842659",
     "status": "completed"
    },
    "tags": []
   },
   "outputs": [],
   "source": [
    "class ResidualBlock(nn.Module):\n",
    "    def __init__(self, channels):\n",
    "        super(ResidualBlock, self).__init__()\n",
    "        self.conv1 = ConvLayer(channels, channels, kernel_size=3, stride=1)\n",
    "        self.in1 = nn.InstanceNorm2d(channels, affine=True)\n",
    "        self.conv2 = ConvLayer(channels, channels, kernel_size=3, stride=1)\n",
    "        self.in2 = nn.InstanceNorm2d(channels, affine=True)\n",
    "        self.relu = nn.ReLU()\n",
    "\n",
    "    def forward(self, x):\n",
    "        out = self.relu(self.in1(self.conv1(x)))\n",
    "        out = self.in2(self.conv2(out))\n",
    "        out = out + x\n",
    "        return out"
   ]
  },
  {
   "cell_type": "code",
   "execution_count": 18,
   "id": "659451c0",
   "metadata": {
    "execution": {
     "iopub.execute_input": "2024-06-20T05:25:24.945213Z",
     "iopub.status.busy": "2024-06-20T05:25:24.944914Z",
     "iopub.status.idle": "2024-06-20T05:25:24.951426Z",
     "shell.execute_reply": "2024-06-20T05:25:24.950552Z"
    },
    "papermill": {
     "duration": 0.025014,
     "end_time": "2024-06-20T05:25:24.953296",
     "exception": false,
     "start_time": "2024-06-20T05:25:24.928282",
     "status": "completed"
    },
    "tags": []
   },
   "outputs": [],
   "source": [
    "class UpsampleConvLayer(nn.Module):\n",
    "    def __init__(self, in_channels, out_channels, kernel_size, stride, upsample=None):\n",
    "        super(UpsampleConvLayer, self).__init__()\n",
    "        self.upsample = upsample\n",
    "        reflection_padding = kernel_size // 2\n",
    "        self.reflection_pad = nn.ReflectionPad2d(reflection_padding)\n",
    "        self.conv2d = nn.Conv2d(in_channels, out_channels, kernel_size, stride)\n",
    "\n",
    "    def forward(self, x):\n",
    "        if self.upsample:\n",
    "            x = nn.functional.interpolate(x, mode='nearest', scale_factor=self.upsample)\n",
    "        out = self.reflection_pad(x)\n",
    "        out = self.conv2d(out)\n",
    "        return out"
   ]
  },
  {
   "cell_type": "code",
   "execution_count": 19,
   "id": "85339cce",
   "metadata": {
    "execution": {
     "iopub.execute_input": "2024-06-20T05:25:24.985771Z",
     "iopub.status.busy": "2024-06-20T05:25:24.985471Z",
     "iopub.status.idle": "2024-06-20T05:25:24.997123Z",
     "shell.execute_reply": "2024-06-20T05:25:24.996307Z"
    },
    "papermill": {
     "duration": 0.030054,
     "end_time": "2024-06-20T05:25:24.998990",
     "exception": false,
     "start_time": "2024-06-20T05:25:24.968936",
     "status": "completed"
    },
    "tags": []
   },
   "outputs": [],
   "source": [
    "class TransformerNet(nn.Module):\n",
    "    def __init__(self):\n",
    "        super(TransformerNet, self).__init__()\n",
    "        \n",
    "        self.conv1 = ConvLayer(3, 32, kernel_size=9, stride=1)\n",
    "        self.in1 = nn.InstanceNorm2d(32, affine=True)\n",
    "        self.conv2 = ConvLayer(32, 64, kernel_size=3, stride=2)\n",
    "        self.in2 = nn.InstanceNorm2d(64, affine=True)\n",
    "        self.conv3 = ConvLayer(64, 128, kernel_size=3, stride=2)\n",
    "        self.in3 = nn.InstanceNorm2d(128, affine=True)\n",
    "        \n",
    "        self.res1 = ResidualBlock(128)\n",
    "        self.res2 = ResidualBlock(128)\n",
    "        self.res3 = ResidualBlock(128)\n",
    "        self.res4 = ResidualBlock(128)\n",
    "        self.res5 = ResidualBlock(128)\n",
    "        \n",
    "        self.deconv1 = UpsampleConvLayer(128, 64, kernel_size=3, stride=1, upsample=2)\n",
    "        self.in4 = nn.InstanceNorm2d(64, affine=True)\n",
    "        self.deconv2 = UpsampleConvLayer(64, 32, kernel_size=3, stride=1, upsample=2)\n",
    "        self.in5 = nn.InstanceNorm2d(32, affine=True)\n",
    "        self.deconv3 = ConvLayer(32, 3, kernel_size=9, stride=1)\n",
    "        \n",
    "        self.relu = nn.ReLU()\n",
    "\n",
    "    def forward(self, X):\n",
    "        y = self.relu(self.in1(self.conv1(X)))\n",
    "        y = self.relu(self.in2(self.conv2(y)))\n",
    "        y = self.relu(self.in3(self.conv3(y)))\n",
    "        y = self.res1(y)\n",
    "        y = self.res2(y)\n",
    "        y = self.res3(y)\n",
    "        y = self.res4(y)\n",
    "        y = self.res5(y)\n",
    "        y = self.relu(self.in4(self.deconv1(y)))\n",
    "        y = self.relu(self.in5(self.deconv2(y)))\n",
    "        y = self.deconv3(y)\n",
    "        return y"
   ]
  },
  {
   "cell_type": "markdown",
   "id": "bd025ea0",
   "metadata": {
    "papermill": {
     "duration": 0.015417,
     "end_time": "2024-06-20T05:25:25.029955",
     "exception": false,
     "start_time": "2024-06-20T05:25:25.014538",
     "status": "completed"
    },
    "tags": []
   },
   "source": [
    "# Defining training helper functions"
   ]
  },
  {
   "cell_type": "code",
   "execution_count": 20,
   "id": "13c7ef8d",
   "metadata": {
    "execution": {
     "iopub.execute_input": "2024-06-20T05:25:25.062822Z",
     "iopub.status.busy": "2024-06-20T05:25:25.062369Z",
     "iopub.status.idle": "2024-06-20T05:25:25.067597Z",
     "shell.execute_reply": "2024-06-20T05:25:25.066717Z"
    },
    "papermill": {
     "duration": 0.024039,
     "end_time": "2024-06-20T05:25:25.069589",
     "exception": false,
     "start_time": "2024-06-20T05:25:25.045550",
     "status": "completed"
    },
    "tags": []
   },
   "outputs": [],
   "source": [
    "def gram_matrix(y):\n",
    "    (b, c, h, w) = y.size()\n",
    "    features = y.view(b, c, w * h)\n",
    "    features_t = features.transpose(1, 2)\n",
    "    gram = features.bmm(features_t) / (c * h * w)\n",
    "    return gram"
   ]
  },
  {
   "cell_type": "code",
   "execution_count": 21,
   "id": "9a685029",
   "metadata": {
    "execution": {
     "iopub.execute_input": "2024-06-20T05:25:25.102384Z",
     "iopub.status.busy": "2024-06-20T05:25:25.101848Z",
     "iopub.status.idle": "2024-06-20T05:25:25.107140Z",
     "shell.execute_reply": "2024-06-20T05:25:25.106336Z"
    },
    "papermill": {
     "duration": 0.02365,
     "end_time": "2024-06-20T05:25:25.108920",
     "exception": false,
     "start_time": "2024-06-20T05:25:25.085270",
     "status": "completed"
    },
    "tags": []
   },
   "outputs": [],
   "source": [
    "def normalize_batch(batch):\n",
    "    mean = batch.new_tensor([0.485, 0.456, 0.406]).view(-1, 1, 1)\n",
    "    std = batch.new_tensor([0.229, 0.224, 0.225]).view(-1, 1, 1)\n",
    "    batch = batch.div_(255.0)\n",
    "    return (batch - mean) / std"
   ]
  },
  {
   "cell_type": "markdown",
   "id": "167047f3",
   "metadata": {
    "papermill": {
     "duration": 0.015381,
     "end_time": "2024-06-20T05:25:25.140117",
     "exception": false,
     "start_time": "2024-06-20T05:25:25.124736",
     "status": "completed"
    },
    "tags": []
   },
   "source": [
    "# Training on given style image"
   ]
  },
  {
   "cell_type": "code",
   "execution_count": 22,
   "id": "debb2cc0",
   "metadata": {
    "execution": {
     "iopub.execute_input": "2024-06-20T05:25:25.172585Z",
     "iopub.status.busy": "2024-06-20T05:25:25.172270Z",
     "iopub.status.idle": "2024-06-20T05:25:25.184330Z",
     "shell.execute_reply": "2024-06-20T05:25:25.183473Z"
    },
    "papermill": {
     "duration": 0.030587,
     "end_time": "2024-06-20T05:25:25.186281",
     "exception": false,
     "start_time": "2024-06-20T05:25:25.155694",
     "status": "completed"
    },
    "tags": []
   },
   "outputs": [],
   "source": [
    "def TrainTransformerNet(style_path, vgg, device, train_dataloader, batch_size, epochs=1, lr=1e-3, content_weight = 1e5, style_weight = 1e10):\n",
    "    \n",
    "    style_image = LoadStyleImage(style_path, batch_size, device) ## Getting style image\n",
    "    features_style = vgg(normalize_batch(style_image)) ## getting features maps of style image\n",
    "    gram_style = [gram_matrix(y) for y in features_style] ## creating gram matrix of style features\n",
    "    \n",
    "    transformer = TransformerNet()\n",
    "    transformer = transformer.to(device)\n",
    "    optimizer = torch.optim.Adam(transformer.parameters(), lr=lr)\n",
    "    criterion = nn.MSELoss()\n",
    "    \n",
    "    loss = []\n",
    "    style_loss_ = []\n",
    "    content_loss_ = []\n",
    "    \n",
    "    for epoch in range(epochs):\n",
    "        \n",
    "        transformer.train()\n",
    "        agg_content_loss = 0.\n",
    "        agg_style_loss = 0.\n",
    "        \n",
    "        for x, _ in tqdm(train_dataloader):\n",
    "            optimizer.zero_grad()\n",
    "\n",
    "            x = x.to(device)\n",
    "            y = transformer(x)\n",
    "\n",
    "            y = normalize_batch(y)\n",
    "            x = normalize_batch(x)\n",
    "\n",
    "            features_y = vgg(y)\n",
    "            features_x = vgg(x)\n",
    "\n",
    "            content_loss = content_weight * criterion(features_y.relu2_2, features_x.relu2_2)\n",
    "\n",
    "            style_loss = 0.\n",
    "            n_batch = len(x)\n",
    "            for ft_y, gm_s in zip(features_y, gram_style):\n",
    "                gm_y = gram_matrix(ft_y)\n",
    "                style_loss += criterion(gm_y, gm_s[:n_batch, :, :])\n",
    "            style_loss *= style_weight\n",
    "\n",
    "            total_loss_b = content_loss + style_loss\n",
    "            total_loss_b.backward()\n",
    "            optimizer.step()\n",
    "\n",
    "            agg_content_loss += content_loss.item()\n",
    "            agg_style_loss += style_loss.item() \n",
    "            \n",
    "            style_loss_.append(style_loss.item())\n",
    "            content_loss_.append(content_loss.item())\n",
    "            loss.append(style_loss.item() + content_loss.item())\n",
    "        \n",
    "        avg_content_loss = agg_content_loss / len(train_dataloader)\n",
    "        avg_style_loss = agg_style_loss / len(train_dataloader)\n",
    "        avg_loss = avg_content_loss + avg_style_loss\n",
    "        \n",
    "        print(f\" {epoch +1} / {epochs} Style Loss : {avg_style_loss:.4f}, Content Loss : {avg_content_loss:.4f}, Total Loss : {avg_loss:.4f}\")\n",
    "            \n",
    "        \n",
    "    return transformer, loss, style_loss_, content_loss_"
   ]
  },
  {
   "cell_type": "code",
   "execution_count": 23,
   "id": "f82600df",
   "metadata": {
    "execution": {
     "iopub.execute_input": "2024-06-20T05:25:25.218738Z",
     "iopub.status.busy": "2024-06-20T05:25:25.218431Z",
     "iopub.status.idle": "2024-06-20T05:25:25.222562Z",
     "shell.execute_reply": "2024-06-20T05:25:25.221675Z"
    },
    "papermill": {
     "duration": 0.022634,
     "end_time": "2024-06-20T05:25:25.224536",
     "exception": false,
     "start_time": "2024-06-20T05:25:25.201902",
     "status": "completed"
    },
    "tags": []
   },
   "outputs": [],
   "source": [
    "style_name = \"Under the Wave off Kanagawa\""
   ]
  },
  {
   "cell_type": "code",
   "execution_count": 24,
   "id": "97f1de7e",
   "metadata": {
    "execution": {
     "iopub.execute_input": "2024-06-20T05:25:25.256819Z",
     "iopub.status.busy": "2024-06-20T05:25:25.256492Z",
     "iopub.status.idle": "2024-06-20T05:25:25.260339Z",
     "shell.execute_reply": "2024-06-20T05:25:25.259557Z"
    },
    "papermill": {
     "duration": 0.022139,
     "end_time": "2024-06-20T05:25:25.262215",
     "exception": false,
     "start_time": "2024-06-20T05:25:25.240076",
     "status": "completed"
    },
    "tags": []
   },
   "outputs": [],
   "source": [
    "input_dir = \"/kaggle/input/style-images-for-neural-style-transfer/Style Images for Neural Style Transfer\""
   ]
  },
  {
   "cell_type": "code",
   "execution_count": 25,
   "id": "9f114eab",
   "metadata": {
    "execution": {
     "iopub.execute_input": "2024-06-20T05:25:25.294771Z",
     "iopub.status.busy": "2024-06-20T05:25:25.294466Z",
     "iopub.status.idle": "2024-06-20T05:25:25.298651Z",
     "shell.execute_reply": "2024-06-20T05:25:25.297797Z"
    },
    "papermill": {
     "duration": 0.022498,
     "end_time": "2024-06-20T05:25:25.300477",
     "exception": false,
     "start_time": "2024-06-20T05:25:25.277979",
     "status": "completed"
    },
    "tags": []
   },
   "outputs": [],
   "source": [
    "style_path = os.path.join(input_dir, style_name)\n",
    "style_path += \".jpg\""
   ]
  },
  {
   "cell_type": "code",
   "execution_count": 26,
   "id": "9db6cf7e",
   "metadata": {
    "execution": {
     "iopub.execute_input": "2024-06-20T05:25:25.332699Z",
     "iopub.status.busy": "2024-06-20T05:25:25.332401Z",
     "iopub.status.idle": "2024-06-20T05:57:14.883216Z",
     "shell.execute_reply": "2024-06-20T05:57:14.882173Z"
    },
    "papermill": {
     "duration": 1909.569245,
     "end_time": "2024-06-20T05:57:14.885251",
     "exception": false,
     "start_time": "2024-06-20T05:25:25.316006",
     "status": "completed"
    },
    "tags": []
   },
   "outputs": [
    {
     "data": {
      "application/vnd.jupyter.widget-view+json": {
       "model_id": "ddf44a4d7f354d558bbb91a17bfe3997",
       "version_major": 2,
       "version_minor": 0
      },
      "text/plain": [
       "  0%|          | 0/10000 [00:00<?, ?it/s]"
      ]
     },
     "metadata": {},
     "output_type": "display_data"
    },
    {
     "name": "stdout",
     "output_type": "stream",
     "text": [
      " 1 / 1 Style Loss : 243578.4082, Content Loss : 527069.1894, Total Loss : 770647.5976\n"
     ]
    }
   ],
   "source": [
    "trained_model, loss, style_loss, content_loss = TrainTransformerNet(style_path, vgg, device, train_dataloader, batch_size, epochs=1, lr=1e-3, content_weight = 1e5, style_weight = 1e10)"
   ]
  },
  {
   "cell_type": "markdown",
   "id": "c86d0454",
   "metadata": {
    "papermill": {
     "duration": 0.01604,
     "end_time": "2024-06-20T05:57:14.917710",
     "exception": false,
     "start_time": "2024-06-20T05:57:14.901670",
     "status": "completed"
    },
    "tags": []
   },
   "source": [
    "# Plotting losses"
   ]
  },
  {
   "cell_type": "code",
   "execution_count": 27,
   "id": "9b40ab67",
   "metadata": {
    "execution": {
     "iopub.execute_input": "2024-06-20T05:57:14.952406Z",
     "iopub.status.busy": "2024-06-20T05:57:14.951571Z",
     "iopub.status.idle": "2024-06-20T05:57:14.957775Z",
     "shell.execute_reply": "2024-06-20T05:57:14.956899Z"
    },
    "papermill": {
     "duration": 0.025519,
     "end_time": "2024-06-20T05:57:14.959599",
     "exception": false,
     "start_time": "2024-06-20T05:57:14.934080",
     "status": "completed"
    },
    "tags": []
   },
   "outputs": [],
   "source": [
    "def plot_losses(loss, style_loss, content_loss):\n",
    "    plt.figure(figsize=(10, 5))\n",
    "    plt.plot(loss, label='Total Loss')\n",
    "    plt.plot(style_loss, label='Style Loss')\n",
    "    plt.plot(content_loss, label='Content Loss')\n",
    "    plt.title('Training Losses')\n",
    "    plt.xlabel('Per 4 samples')\n",
    "    plt.ylabel('Loss')\n",
    "    plt.legend()\n",
    "    plt.grid(True)\n",
    "    plt.show()"
   ]
  },
  {
   "cell_type": "code",
   "execution_count": 28,
   "id": "e8e618c7",
   "metadata": {
    "execution": {
     "iopub.execute_input": "2024-06-20T05:57:14.994360Z",
     "iopub.status.busy": "2024-06-20T05:57:14.993922Z",
     "iopub.status.idle": "2024-06-20T05:57:15.337065Z",
     "shell.execute_reply": "2024-06-20T05:57:15.336184Z"
    },
    "papermill": {
     "duration": 0.363192,
     "end_time": "2024-06-20T05:57:15.338990",
     "exception": false,
     "start_time": "2024-06-20T05:57:14.975798",
     "status": "completed"
    },
    "tags": []
   },
   "outputs": [
    {
     "data": {
      "image/png": "[encoded data removed]",
      "text/plain": [
       "<Figure size 1000x500 with 1 Axes>"
      ]
     },
     "metadata": {},
     "output_type": "display_data"
    }
   ],
   "source": [
    "plot_losses(loss, style_loss, content_loss)"
   ]
  },
  {
   "cell_type": "markdown",
   "id": "1697c360",
   "metadata": {
    "papermill": {
     "duration": 0.017003,
     "end_time": "2024-06-20T05:57:15.373234",
     "exception": false,
     "start_time": "2024-06-20T05:57:15.356231",
     "status": "completed"
    },
    "tags": []
   },
   "source": [
    "# Saving the trained Model"
   ]
  },
  {
   "cell_type": "code",
   "execution_count": 29,
   "id": "766bc833",
   "metadata": {
    "execution": {
     "iopub.execute_input": "2024-06-20T05:57:15.408971Z",
     "iopub.status.busy": "2024-06-20T05:57:15.408615Z",
     "iopub.status.idle": "2024-06-20T05:57:15.421836Z",
     "shell.execute_reply": "2024-06-20T05:57:15.420910Z"
    },
    "papermill": {
     "duration": 0.03367,
     "end_time": "2024-06-20T05:57:15.423986",
     "exception": false,
     "start_time": "2024-06-20T05:57:15.390316",
     "status": "completed"
    },
    "tags": []
   },
   "outputs": [],
   "source": [
    "trained_model = trained_model.to(\"cpu\")"
   ]
  },
  {
   "cell_type": "code",
   "execution_count": 30,
   "id": "9949ff8d",
   "metadata": {
    "execution": {
     "iopub.execute_input": "2024-06-20T05:57:15.460049Z",
     "iopub.status.busy": "2024-06-20T05:57:15.459711Z",
     "iopub.status.idle": "2024-06-20T05:57:15.464001Z",
     "shell.execute_reply": "2024-06-20T05:57:15.463197Z"
    },
    "papermill": {
     "duration": 0.024618,
     "end_time": "2024-06-20T05:57:15.465952",
     "exception": false,
     "start_time": "2024-06-20T05:57:15.441334",
     "status": "completed"
    },
    "tags": []
   },
   "outputs": [],
   "source": [
    "model_name = style_name + \".model\""
   ]
  },
  {
   "cell_type": "code",
   "execution_count": 31,
   "id": "cfad8b74",
   "metadata": {
    "execution": {
     "iopub.execute_input": "2024-06-20T05:57:15.502171Z",
     "iopub.status.busy": "2024-06-20T05:57:15.501553Z",
     "iopub.status.idle": "2024-06-20T05:57:15.519287Z",
     "shell.execute_reply": "2024-06-20T05:57:15.518549Z"
    },
    "papermill": {
     "duration": 0.037994,
     "end_time": "2024-06-20T05:57:15.521369",
     "exception": false,
     "start_time": "2024-06-20T05:57:15.483375",
     "status": "completed"
    },
    "tags": []
   },
   "outputs": [],
   "source": [
    "torch.save(trained_model.state_dict(), model_name)"
   ]
  }
 ],
 "metadata": {
  "kaggle": {
   "accelerator": "gpu",
   "dataSources": [
    {
     "datasetId": 857191,
     "sourceId": 1462296,
     "sourceType": "datasetVersion"
    },
    {
     "datasetId": 5241921,
     "sourceId": 8733509,
     "sourceType": "datasetVersion"
    }
   ],
   "isGpuEnabled": true,
   "isInternetEnabled": true,
   "language": "python",
   "sourceType": "notebook"
  },
  "kernelspec": {
   "display_name": "Python 3",
   "language": "python",
   "name": "python3"
  },
  "language_info": {
   "codemirror_mode": {
    "name": "ipython",
    "version": 3
   },
   "file_extension": ".py",
   "mimetype": "text/x-python",
   "name": "python",
   "nbconvert_exporter": "python",
   "pygments_lexer": "ipython3",
   "version": "3.10.13"
  },
  "papermill": {
   "default_parameters": {},
   "duration": 1926.269586,
   "end_time": "2024-06-20T05:57:16.867158",
   "environment_variables": {},
   "exception": null,
   "input_path": "__notebook__.ipynb",
   "output_path": "__notebook__.ipynb",
   "parameters": {},
   "start_time": "2024-06-20T05:25:10.597572",
   "version": "2.5.0"
  },
  "widgets": {
   "application/vnd.jupyter.widget-state+json": {
    "state": {
     "1c3ebcd4b6d94e44b709fbb83cbe291f": {
      "model_module": "@jupyter-widgets/base",
      "model_module_version": "1.2.0",
      "model_name": "LayoutModel",
      "state": {
       "_model_module": "@jupyter-widgets/base",
       "_model_module_version": "1.2.0",
       "_model_name": "LayoutModel",
       "_view_count": null,
       "_view_module": "@jupyter-widgets/base",
       "_view_module_version": "1.2.0",
       "_view_name": "LayoutView",
       "align_content": null,
       "align_items": null,
       "align_self": null,
       "border": null,
       "bottom": null,
       "display": null,
       "flex": null,
       "flex_flow": null,
       "grid_area": null,
       "grid_auto_columns": null,
       "grid_auto_flow": null,
       "grid_auto_rows": null,
       "grid_column": null,
       "grid_gap": null,
       "grid_row": null,
       "grid_template_areas": null,
       "grid_template_columns": null,
       "grid_template_rows": null,
       "height": null,
       "justify_content": null,
       "justify_items": null,
       "left": null,
       "margin": null,
       "max_height": null,
       "max_width": null,
       "min_height": null,
       "min_width": null,
       "object_fit": null,
       "object_position": null,
       "order": null,
       "overflow": null,
       "overflow_x": null,
       "overflow_y": null,
       "padding": null,
       "right": null,
       "top": null,
       "visibility": null,
       "width": null
      }
     },
     "2a07740dda304a9ab79bb6a97b5187fd": {
      "model_module": "@jupyter-widgets/controls",
      "model_module_version": "1.5.0",
      "model_name": "DescriptionStyleModel",
      "state": {
       "_model_module": "@jupyter-widgets/controls",
       "_model_module_version": "1.5.0",
       "_model_name": "DescriptionStyleModel",
       "_view_count": null,
       "_view_module": "@jupyter-widgets/base",
       "_view_module_version": "1.2.0",
       "_view_name": "StyleView",
       "description_width": ""
      }
     },
     "4e24e9ea55bf46fd8afb2f2f2704d5f7": {
      "model_module": "@jupyter-widgets/base",
      "model_module_version": "1.2.0",
      "model_name": "LayoutModel",
      "state": {
       "_model_module": "@jupyter-widgets/base",
       "_model_module_version": "1.2.0",
       "_model_name": "LayoutModel",
       "_view_count": null,
       "_view_module": "@jupyter-widgets/base",
       "_view_module_version": "1.2.0",
       "_view_name": "LayoutView",
       "align_content": null,
       "align_items": null,
       "align_self": null,
       "border": null,
       "bottom": null,
       "display": null,
       "flex": null,
       "flex_flow": null,
       "grid_area": null,
       "grid_auto_columns": null,
       "grid_auto_flow": null,
       "grid_auto_rows": null,
       "grid_column": null,
       "grid_gap": null,
       "grid_row": null,
       "grid_template_areas": null,
       "grid_template_columns": null,
       "grid_template_rows": null,
       "height": null,
       "justify_content": null,
       "justify_items": null,
       "left": null,
       "margin": null,
       "max_height": null,
       "max_width": null,
       "min_height": null,
       "min_width": null,
       "object_fit": null,
       "object_position": null,
       "order": null,
       "overflow": null,
       "overflow_x": null,
       "overflow_y": null,
       "padding": null,
       "right": null,
       "top": null,
       "visibility": null,
       "width": null
      }
     },
     "563cab45bc5b49178becc94539a2d8cc": {
      "model_module": "@jupyter-widgets/controls",
      "model_module_version": "1.5.0",
      "model_name": "FloatProgressModel",
      "state": {
       "_dom_classes": [],
       "_model_module": "@jupyter-widgets/controls",
       "_model_module_version": "1.5.0",
       "_model_name": "FloatProgressModel",
       "_view_count": null,
       "_view_module": "@jupyter-widgets/controls",
       "_view_module_version": "1.5.0",
       "_view_name": "ProgressView",
       "bar_style": "success",
       "description": "",
       "description_tooltip": null,
       "layout": "IPY_MODEL_1c3ebcd4b6d94e44b709fbb83cbe291f",
       "max": 10000.0,
       "min": 0.0,
       "orientation": "horizontal",
       "style": "IPY_MODEL_6fc31a72f7d64f809070ed8bd945cfe5",
       "value": 10000.0
      }
     },
     "6cab98986efe4d1e8421a0c3ad92a86b": {
      "model_module": "@jupyter-widgets/base",
      "model_module_version": "1.2.0",
      "model_name": "LayoutModel",
      "state": {
       "_model_module": "@jupyter-widgets/base",
       "_model_module_version": "1.2.0",
       "_model_name": "LayoutModel",
       "_view_count": null,
       "_view_module": "@jupyter-widgets/base",
       "_view_module_version": "1.2.0",
       "_view_name": "LayoutView",
       "align_content": null,
       "align_items": null,
       "align_self": null,
       "border": null,
       "bottom": null,
       "display": null,
       "flex": null,
       "flex_flow": null,
       "grid_area": null,
       "grid_auto_columns": null,
       "grid_auto_flow": null,
       "grid_auto_rows": null,
       "grid_column": null,
       "grid_gap": null,
       "grid_row": null,
       "grid_template_areas": null,
       "grid_template_columns": null,
       "grid_template_rows": null,
       "height": null,
       "justify_content": null,
       "justify_items": null,
       "left": null,
       "margin": null,
       "max_height": null,
       "max_width": null,
       "min_height": null,
       "min_width": null,
       "object_fit": null,
       "object_position": null,
       "order": null,
       "overflow": null,
       "overflow_x": null,
       "overflow_y": null,
       "padding": null,
       "right": null,
       "top": null,
       "visibility": null,
       "width": null
      }
     },
     "6fc31a72f7d64f809070ed8bd945cfe5": {
      "model_module": "@jupyter-widgets/controls",
      "model_module_version": "1.5.0",
      "model_name": "ProgressStyleModel",
      "state": {
       "_model_module": "@jupyter-widgets/controls",
       "_model_module_version": "1.5.0",
       "_model_name": "ProgressStyleModel",
       "_view_count": null,
       "_view_module": "@jupyter-widgets/base",
       "_view_module_version": "1.2.0",
       "_view_name": "StyleView",
       "bar_color": null,
       "description_width": ""
      }
     },
     "7058fef59569400f8785ec5b084765a1": {
      "model_module": "@jupyter-widgets/controls",
      "model_module_version": "1.5.0",
      "model_name": "HTMLModel",
      "state": {
       "_dom_classes": [],
       "_model_module": "@jupyter-widgets/controls",
       "_model_module_version": "1.5.0",
       "_model_name": "HTMLModel",
       "_view_count": null,
       "_view_module": "@jupyter-widgets/controls",
       "_view_module_version": "1.5.0",
       "_view_name": "HTMLView",
       "description": "",
       "description_tooltip": null,
       "layout": "IPY_MODEL_9eb0225f08af4a109fbb788bdbc34d44",
       "placeholder": "​",
       "style": "IPY_MODEL_2a07740dda304a9ab79bb6a97b5187fd",
       "value": "100%"
      }
     },
     "9eb0225f08af4a109fbb788bdbc34d44": {
      "model_module": "@jupyter-widgets/base",
      "model_module_version": "1.2.0",
      "model_name": "LayoutModel",
      "state": {
       "_model_module": "@jupyter-widgets/base",
       "_model_module_version": "1.2.0",
       "_model_name": "LayoutModel",
       "_view_count": null,
       "_view_module": "@jupyter-widgets/base",
       "_view_module_version": "1.2.0",
       "_view_name": "LayoutView",
       "align_content": null,
       "align_items": null,
       "align_self": null,
       "border": null,
       "bottom": null,
       "display": null,
       "flex": null,
       "flex_flow": null,
       "grid_area": null,
       "grid_auto_columns": null,
       "grid_auto_flow": null,
       "grid_auto_rows": null,
       "grid_column": null,
       "grid_gap": null,
       "grid_row": null,
       "grid_template_areas": null,
       "grid_template_columns": null,
       "grid_template_rows": null,
       "height": null,
       "justify_content": null,
       "justify_items": null,
       "left": null,
       "margin": null,
       "max_height": null,
       "max_width": null,
       "min_height": null,
       "min_width": null,
       "object_fit": null,
       "object_position": null,
       "order": null,
       "overflow": null,
       "overflow_x": null,
       "overflow_y": null,
       "padding": null,
       "right": null,
       "top": null,
       "visibility": null,
       "width": null
      }
     },
     "d375e23331a34cf2b44a83468f3bbbc4": {
      "model_module": "@jupyter-widgets/controls",
      "model_module_version": "1.5.0",
      "model_name": "DescriptionStyleModel",
      "state": {
       "_model_module": "@jupyter-widgets/controls",
       "_model_module_version": "1.5.0",
       "_model_name": "DescriptionStyleModel",
       "_view_count": null,
       "_view_module": "@jupyter-widgets/base",
       "_view_module_version": "1.2.0",
       "_view_name": "StyleView",
       "description_width": ""
      }
     },
     "ddf44a4d7f354d558bbb91a17bfe3997": {
      "model_module": "@jupyter-widgets/controls",
      "model_module_version": "1.5.0",
      "model_name": "HBoxModel",
      "state": {
       "_dom_classes": [],
       "_model_module": "@jupyter-widgets/controls",
       "_model_module_version": "1.5.0",
       "_model_name": "HBoxModel",
       "_view_count": null,
       "_view_module": "@jupyter-widgets/controls",
       "_view_module_version": "1.5.0",
       "_view_name": "HBoxView",
       "box_style": "",
       "children": [
        "IPY_MODEL_7058fef59569400f8785ec5b084765a1",
        "IPY_MODEL_563cab45bc5b49178becc94539a2d8cc",
        "IPY_MODEL_f9323330ca404cdcab21a4d3f34464c1"
       ],
       "layout": "IPY_MODEL_6cab98986efe4d1e8421a0c3ad92a86b"
      }
     },
     "f9323330ca404cdcab21a4d3f34464c1": {
      "model_module": "@jupyter-widgets/controls",
      "model_module_version": "1.5.0",
      "model_name": "HTMLModel",
      "state": {
       "_dom_classes": [],
       "_model_module": "@jupyter-widgets/controls",
       "_model_module_version": "1.5.0",
       "_model_name": "HTMLModel",
       "_view_count": null,
       "_view_module": "@jupyter-widgets/controls",
       "_view_module_version": "1.5.0",
       "_view_name": "HTMLView",
       "description": "",
       "description_tooltip": null,
       "layout": "IPY_MODEL_4e24e9ea55bf46fd8afb2f2f2704d5f7",
       "placeholder": "​",
       "style": "IPY_MODEL_d375e23331a34cf2b44a83468f3bbbc4",
       "value": " 10000/10000 [31:48&lt;00:00,  5.28it/s]"
      }
     }
    },
    "version_major": 2,
    "version_minor": 0
   }
  }
 },
 "nbformat": 4,
 "nbformat_minor": 5
}

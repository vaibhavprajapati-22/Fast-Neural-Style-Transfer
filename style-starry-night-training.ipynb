{
 "cells": [
  {
   "cell_type": "markdown",
   "id": "f15e5479",
   "metadata": {
    "papermill": {
     "duration": 0.013329,
     "end_time": "2024-06-20T04:46:47.356900",
     "exception": false,
     "start_time": "2024-06-20T04:46:47.343571",
     "status": "completed"
    },
    "tags": []
   },
   "source": [
    "# Importing libraries"
   ]
  },
  {
   "cell_type": "code",
   "execution_count": 1,
   "id": "83a08d12",
   "metadata": {
    "execution": {
     "iopub.execute_input": "2024-06-20T04:46:47.384866Z",
     "iopub.status.busy": "2024-06-20T04:46:47.384518Z",
     "iopub.status.idle": "2024-06-20T04:46:52.377827Z",
     "shell.execute_reply": "2024-06-20T04:46:52.376986Z"
    },
    "papermill": {
     "duration": 5.010078,
     "end_time": "2024-06-20T04:46:52.380146",
     "exception": false,
     "start_time": "2024-06-20T04:46:47.370068",
     "status": "completed"
    },
    "tags": []
   },
   "outputs": [],
   "source": [
    "import os\n",
    "from torch.utils.data import Dataset, DataLoader\n",
    "from torchvision import transforms, models\n",
    "from PIL import Image\n",
    "import torch\n",
    "import torch.nn as nn\n",
    "from tqdm.autonotebook import tqdm\n",
    "from collections import namedtuple\n",
    "import matplotlib.pyplot as plt"
   ]
  },
  {
   "cell_type": "markdown",
   "id": "c54a823f",
   "metadata": {
    "papermill": {
     "duration": 0.012562,
     "end_time": "2024-06-20T04:46:52.405628",
     "exception": false,
     "start_time": "2024-06-20T04:46:52.393066",
     "status": "completed"
    },
    "tags": []
   },
   "source": [
    "# Loading the COCO dataset"
   ]
  },
  {
   "cell_type": "markdown",
   "id": "26fd724e",
   "metadata": {
    "papermill": {
     "duration": 0.013344,
     "end_time": "2024-06-20T04:46:52.431843",
     "exception": false,
     "start_time": "2024-06-20T04:46:52.418499",
     "status": "completed"
    },
    "tags": []
   },
   "source": [
    "**Function that return the path of training images**"
   ]
  },
  {
   "cell_type": "code",
   "execution_count": 2,
   "id": "5d18712d",
   "metadata": {
    "execution": {
     "iopub.execute_input": "2024-06-20T04:46:52.460548Z",
     "iopub.status.busy": "2024-06-20T04:46:52.458293Z",
     "iopub.status.idle": "2024-06-20T04:46:52.465899Z",
     "shell.execute_reply": "2024-06-20T04:46:52.465006Z"
    },
    "papermill": {
     "duration": 0.023435,
     "end_time": "2024-06-20T04:46:52.467949",
     "exception": false,
     "start_time": "2024-06-20T04:46:52.444514",
     "status": "completed"
    },
    "tags": []
   },
   "outputs": [],
   "source": [
    "def TrainImagesPath(path):\n",
    "    images_path = []\n",
    "    for file in os.listdir(path):\n",
    "        if file == \"test2017\":\n",
    "            file_path = os.path.join(path, file)\n",
    "            for f in os.listdir(file_path):\n",
    "                image_path = os.path.join(file_path, f)\n",
    "                images_path.append(image_path)\n",
    "                if len(images_path) == 40000:\n",
    "                    break\n",
    "    return images_path"
   ]
  },
  {
   "cell_type": "markdown",
   "id": "4319d277",
   "metadata": {
    "papermill": {
     "duration": 0.013646,
     "end_time": "2024-06-20T04:46:52.494560",
     "exception": false,
     "start_time": "2024-06-20T04:46:52.480914",
     "status": "completed"
    },
    "tags": []
   },
   "source": [
    "**Getting images paths**"
   ]
  },
  {
   "cell_type": "code",
   "execution_count": 3,
   "id": "6b536ab7",
   "metadata": {
    "execution": {
     "iopub.execute_input": "2024-06-20T04:46:52.530357Z",
     "iopub.status.busy": "2024-06-20T04:46:52.529833Z",
     "iopub.status.idle": "2024-06-20T04:46:53.153034Z",
     "shell.execute_reply": "2024-06-20T04:46:53.151973Z"
    },
    "papermill": {
     "duration": 0.64342,
     "end_time": "2024-06-20T04:46:53.155484",
     "exception": false,
     "start_time": "2024-06-20T04:46:52.512064",
     "status": "completed"
    },
    "tags": []
   },
   "outputs": [],
   "source": [
    "path = \"/kaggle/input/coco-2017-dataset/coco2017\"\n",
    "train_images_path = TrainImagesPath(path)"
   ]
  },
  {
   "cell_type": "markdown",
   "id": "0e90a62a",
   "metadata": {
    "papermill": {
     "duration": 0.012426,
     "end_time": "2024-06-20T04:46:53.180844",
     "exception": false,
     "start_time": "2024-06-20T04:46:53.168418",
     "status": "completed"
    },
    "tags": []
   },
   "source": [
    "**Creating Custom Dataset and Dataloader**"
   ]
  },
  {
   "cell_type": "code",
   "execution_count": 4,
   "id": "30548e32",
   "metadata": {
    "execution": {
     "iopub.execute_input": "2024-06-20T04:46:53.208764Z",
     "iopub.status.busy": "2024-06-20T04:46:53.208058Z",
     "iopub.status.idle": "2024-06-20T04:46:53.214479Z",
     "shell.execute_reply": "2024-06-20T04:46:53.213677Z"
    },
    "papermill": {
     "duration": 0.022391,
     "end_time": "2024-06-20T04:46:53.216460",
     "exception": false,
     "start_time": "2024-06-20T04:46:53.194069",
     "status": "completed"
    },
    "tags": []
   },
   "outputs": [],
   "source": [
    "class CustomDataset(Dataset):\n",
    "    def __init__(self, images_path, labels, transform=None):\n",
    "        self.images_path = images_path\n",
    "        self.labels = labels\n",
    "        self.transform = transform\n",
    "        \n",
    "    def __len__(self):\n",
    "        return len(self.images_path)\n",
    "        \n",
    "    def __getitem__(self, idx):\n",
    "        image = Image.open(self.images_path[idx]).convert('RGB') \n",
    "        if self.transform:\n",
    "            image = self.transform(image)\n",
    "        label = self.labels[idx]\n",
    "        return image, label"
   ]
  },
  {
   "cell_type": "code",
   "execution_count": 5,
   "id": "743bf442",
   "metadata": {
    "execution": {
     "iopub.execute_input": "2024-06-20T04:46:53.243629Z",
     "iopub.status.busy": "2024-06-20T04:46:53.242822Z",
     "iopub.status.idle": "2024-06-20T04:46:53.247953Z",
     "shell.execute_reply": "2024-06-20T04:46:53.247271Z"
    },
    "papermill": {
     "duration": 0.020424,
     "end_time": "2024-06-20T04:46:53.249917",
     "exception": false,
     "start_time": "2024-06-20T04:46:53.229493",
     "status": "completed"
    },
    "tags": []
   },
   "outputs": [],
   "source": [
    "train_transform = transforms.Compose([\n",
    "                                transforms.Resize((256, 256)),\n",
    "                                transforms.CenterCrop((256, 256)),\n",
    "                                transforms.ToTensor(),\n",
    "                                transforms.Lambda(lambda x: x.mul(255))\n",
    "                                    ])"
   ]
  },
  {
   "cell_type": "code",
   "execution_count": 6,
   "id": "ecbb7954",
   "metadata": {
    "execution": {
     "iopub.execute_input": "2024-06-20T04:46:53.276856Z",
     "iopub.status.busy": "2024-06-20T04:46:53.276551Z",
     "iopub.status.idle": "2024-06-20T04:46:53.280764Z",
     "shell.execute_reply": "2024-06-20T04:46:53.279873Z"
    },
    "papermill": {
     "duration": 0.019865,
     "end_time": "2024-06-20T04:46:53.282684",
     "exception": false,
     "start_time": "2024-06-20T04:46:53.262819",
     "status": "completed"
    },
    "tags": []
   },
   "outputs": [],
   "source": [
    "train_dataset = CustomDataset(train_images_path, [0]*len(train_images_path), train_transform)"
   ]
  },
  {
   "cell_type": "code",
   "execution_count": 7,
   "id": "dc19a77d",
   "metadata": {
    "execution": {
     "iopub.execute_input": "2024-06-20T04:46:53.310256Z",
     "iopub.status.busy": "2024-06-20T04:46:53.309700Z",
     "iopub.status.idle": "2024-06-20T04:46:53.316380Z",
     "shell.execute_reply": "2024-06-20T04:46:53.315483Z"
    },
    "papermill": {
     "duration": 0.0229,
     "end_time": "2024-06-20T04:46:53.318434",
     "exception": false,
     "start_time": "2024-06-20T04:46:53.295534",
     "status": "completed"
    },
    "tags": []
   },
   "outputs": [
    {
     "data": {
      "text/plain": [
       "40000"
      ]
     },
     "execution_count": 7,
     "metadata": {},
     "output_type": "execute_result"
    }
   ],
   "source": [
    "len(train_images_path)"
   ]
  },
  {
   "cell_type": "code",
   "execution_count": 8,
   "id": "f00f6e18",
   "metadata": {
    "execution": {
     "iopub.execute_input": "2024-06-20T04:46:53.346555Z",
     "iopub.status.busy": "2024-06-20T04:46:53.345775Z",
     "iopub.status.idle": "2024-06-20T04:46:53.349985Z",
     "shell.execute_reply": "2024-06-20T04:46:53.349175Z"
    },
    "papermill": {
     "duration": 0.019876,
     "end_time": "2024-06-20T04:46:53.351827",
     "exception": false,
     "start_time": "2024-06-20T04:46:53.331951",
     "status": "completed"
    },
    "tags": []
   },
   "outputs": [],
   "source": [
    "batch_size = 4"
   ]
  },
  {
   "cell_type": "code",
   "execution_count": 9,
   "id": "ea51cf2e",
   "metadata": {
    "execution": {
     "iopub.execute_input": "2024-06-20T04:46:53.379055Z",
     "iopub.status.busy": "2024-06-20T04:46:53.378756Z",
     "iopub.status.idle": "2024-06-20T04:46:53.383154Z",
     "shell.execute_reply": "2024-06-20T04:46:53.382322Z"
    },
    "papermill": {
     "duration": 0.020063,
     "end_time": "2024-06-20T04:46:53.385012",
     "exception": false,
     "start_time": "2024-06-20T04:46:53.364949",
     "status": "completed"
    },
    "tags": []
   },
   "outputs": [],
   "source": [
    "train_dataloader = DataLoader(train_dataset, batch_size=batch_size)"
   ]
  },
  {
   "cell_type": "markdown",
   "id": "787c3c39",
   "metadata": {
    "papermill": {
     "duration": 0.018511,
     "end_time": "2024-06-20T04:46:53.416122",
     "exception": false,
     "start_time": "2024-06-20T04:46:53.397611",
     "status": "completed"
    },
    "tags": []
   },
   "source": [
    "# GPU configuration"
   ]
  },
  {
   "cell_type": "code",
   "execution_count": 10,
   "id": "8991c311",
   "metadata": {
    "execution": {
     "iopub.execute_input": "2024-06-20T04:46:53.447182Z",
     "iopub.status.busy": "2024-06-20T04:46:53.446357Z",
     "iopub.status.idle": "2024-06-20T04:46:53.498188Z",
     "shell.execute_reply": "2024-06-20T04:46:53.497062Z"
    },
    "papermill": {
     "duration": 0.068698,
     "end_time": "2024-06-20T04:46:53.500459",
     "exception": false,
     "start_time": "2024-06-20T04:46:53.431761",
     "status": "completed"
    },
    "tags": []
   },
   "outputs": [
    {
     "data": {
      "text/plain": [
       "device(type='cuda')"
      ]
     },
     "execution_count": 10,
     "metadata": {},
     "output_type": "execute_result"
    }
   ],
   "source": [
    "device = torch.device(\"cuda\" if torch.cuda.is_available() else \"cpu\")\n",
    "device"
   ]
  },
  {
   "cell_type": "markdown",
   "id": "b6939a6e",
   "metadata": {
    "papermill": {
     "duration": 0.014199,
     "end_time": "2024-06-20T04:46:53.529632",
     "exception": false,
     "start_time": "2024-06-20T04:46:53.515433",
     "status": "completed"
    },
    "tags": []
   },
   "source": [
    "# Function to load style image"
   ]
  },
  {
   "cell_type": "code",
   "execution_count": 11,
   "id": "d0e8eb4b",
   "metadata": {
    "execution": {
     "iopub.execute_input": "2024-06-20T04:46:53.559856Z",
     "iopub.status.busy": "2024-06-20T04:46:53.559429Z",
     "iopub.status.idle": "2024-06-20T04:46:53.564266Z",
     "shell.execute_reply": "2024-06-20T04:46:53.563389Z"
    },
    "papermill": {
     "duration": 0.021012,
     "end_time": "2024-06-20T04:46:53.566135",
     "exception": false,
     "start_time": "2024-06-20T04:46:53.545123",
     "status": "completed"
    },
    "tags": []
   },
   "outputs": [],
   "source": [
    "style_transform = transforms.Compose([\n",
    "                            transforms.ToTensor(),\n",
    "                            transforms.Lambda(lambda x: x.mul(255))\n",
    "                            ])"
   ]
  },
  {
   "cell_type": "code",
   "execution_count": 12,
   "id": "a5fc2f56",
   "metadata": {
    "execution": {
     "iopub.execute_input": "2024-06-20T04:46:53.594734Z",
     "iopub.status.busy": "2024-06-20T04:46:53.593860Z",
     "iopub.status.idle": "2024-06-20T04:46:53.599116Z",
     "shell.execute_reply": "2024-06-20T04:46:53.598244Z"
    },
    "papermill": {
     "duration": 0.021604,
     "end_time": "2024-06-20T04:46:53.601009",
     "exception": false,
     "start_time": "2024-06-20T04:46:53.579405",
     "status": "completed"
    },
    "tags": []
   },
   "outputs": [],
   "source": [
    "def LoadStyleImage(path, batch_size, device):\n",
    "    style = Image.open(path).convert('RGB')\n",
    "    style = style_transform(style)\n",
    "    style = style.repeat(batch_size, 1, 1, 1)\n",
    "    style = style.to(device) \n",
    "    return style"
   ]
  },
  {
   "cell_type": "markdown",
   "id": "e18673a8",
   "metadata": {
    "papermill": {
     "duration": 0.012777,
     "end_time": "2024-06-20T04:46:53.626871",
     "exception": false,
     "start_time": "2024-06-20T04:46:53.614094",
     "status": "completed"
    },
    "tags": []
   },
   "source": [
    "# Loading Pretained VGG16 model"
   ]
  },
  {
   "cell_type": "code",
   "execution_count": 13,
   "id": "4252cd6e",
   "metadata": {
    "execution": {
     "iopub.execute_input": "2024-06-20T04:46:53.654202Z",
     "iopub.status.busy": "2024-06-20T04:46:53.653772Z",
     "iopub.status.idle": "2024-06-20T04:46:53.663966Z",
     "shell.execute_reply": "2024-06-20T04:46:53.663107Z"
    },
    "papermill": {
     "duration": 0.025923,
     "end_time": "2024-06-20T04:46:53.665874",
     "exception": false,
     "start_time": "2024-06-20T04:46:53.639951",
     "status": "completed"
    },
    "tags": []
   },
   "outputs": [],
   "source": [
    "class VGG16(nn.Module):\n",
    "    def __init__(self, requires_grad=False):\n",
    "        super(VGG16, self).__init__()\n",
    "        vgg_pretrained_features = models.vgg16(pretrained=True).features\n",
    "        self.slice1 = nn.Sequential()\n",
    "        self.slice2 = nn.Sequential()\n",
    "        self.slice3 = nn.Sequential()\n",
    "        self.slice4 = nn.Sequential()\n",
    "        \n",
    "        for x in range(4):\n",
    "            self.slice1.add_module(str(x), vgg_pretrained_features[x])\n",
    "        for x in range(4, 9):\n",
    "            self.slice2.add_module(str(x), vgg_pretrained_features[x])\n",
    "        for x in range(9, 16):\n",
    "            self.slice3.add_module(str(x), vgg_pretrained_features[x])\n",
    "        for x in range(16, 23):\n",
    "            self.slice4.add_module(str(x), vgg_pretrained_features[x])\n",
    "            \n",
    "        if not requires_grad:\n",
    "            for param in self.parameters():\n",
    "                param.requires_grad = False\n",
    "\n",
    "    def forward(self, X):\n",
    "        h = self.slice1(X)\n",
    "        h_relu1_2 = h\n",
    "        h = self.slice2(h)\n",
    "        h_relu2_2 = h\n",
    "        h = self.slice3(h)\n",
    "        h_relu3_3 = h\n",
    "        h = self.slice4(h)\n",
    "        h_relu4_3 = h\n",
    "        vgg_outputs = namedtuple(\"VggOutputs\", [\"relu1_2\", \"relu2_2\", \"relu3_3\", \"relu4_3\"])\n",
    "        out = vgg_outputs(h_relu1_2, h_relu2_2, h_relu3_3, h_relu4_3)\n",
    "        return out"
   ]
  },
  {
   "cell_type": "code",
   "execution_count": 14,
   "id": "5b512232",
   "metadata": {
    "execution": {
     "iopub.execute_input": "2024-06-20T04:46:53.692693Z",
     "iopub.status.busy": "2024-06-20T04:46:53.692401Z",
     "iopub.status.idle": "2024-06-20T04:46:58.910891Z",
     "shell.execute_reply": "2024-06-20T04:46:58.910114Z"
    },
    "papermill": {
     "duration": 5.234445,
     "end_time": "2024-06-20T04:46:58.913108",
     "exception": false,
     "start_time": "2024-06-20T04:46:53.678663",
     "status": "completed"
    },
    "tags": []
   },
   "outputs": [
    {
     "name": "stderr",
     "output_type": "stream",
     "text": [
      "/opt/conda/lib/python3.10/site-packages/torchvision/models/_utils.py:208: UserWarning: The parameter 'pretrained' is deprecated since 0.13 and may be removed in the future, please use 'weights' instead.\n",
      "  warnings.warn(\n",
      "/opt/conda/lib/python3.10/site-packages/torchvision/models/_utils.py:223: UserWarning: Arguments other than a weight enum or `None` for 'weights' are deprecated since 0.13 and may be removed in the future. The current behavior is equivalent to passing `weights=VGG16_Weights.IMAGENET1K_V1`. You can also use `weights=VGG16_Weights.DEFAULT` to get the most up-to-date weights.\n",
      "  warnings.warn(msg)\n",
      "Downloading: \"https://download.pytorch.org/models/vgg16-397923af.pth\" to /root/.cache/torch/hub/checkpoints/vgg16-397923af.pth\n",
      "100%|██████████| 528M/528M [00:03<00:00, 164MB/s]\n"
     ]
    }
   ],
   "source": [
    "vgg = VGG16(requires_grad=False)"
   ]
  },
  {
   "cell_type": "code",
   "execution_count": 15,
   "id": "71e9f325",
   "metadata": {
    "execution": {
     "iopub.execute_input": "2024-06-20T04:46:58.947717Z",
     "iopub.status.busy": "2024-06-20T04:46:58.947390Z",
     "iopub.status.idle": "2024-06-20T04:46:59.102232Z",
     "shell.execute_reply": "2024-06-20T04:46:59.101441Z"
    },
    "papermill": {
     "duration": 0.174888,
     "end_time": "2024-06-20T04:46:59.104723",
     "exception": false,
     "start_time": "2024-06-20T04:46:58.929835",
     "status": "completed"
    },
    "tags": []
   },
   "outputs": [],
   "source": [
    "vgg = vgg.to(device)"
   ]
  },
  {
   "cell_type": "markdown",
   "id": "9588e8df",
   "metadata": {
    "papermill": {
     "duration": 0.016485,
     "end_time": "2024-06-20T04:46:59.137615",
     "exception": false,
     "start_time": "2024-06-20T04:46:59.121130",
     "status": "completed"
    },
    "tags": []
   },
   "source": [
    "# Defining architecture of Transformernet model"
   ]
  },
  {
   "cell_type": "code",
   "execution_count": 16,
   "id": "43d1ed2e",
   "metadata": {
    "execution": {
     "iopub.execute_input": "2024-06-20T04:46:59.171424Z",
     "iopub.status.busy": "2024-06-20T04:46:59.171066Z",
     "iopub.status.idle": "2024-06-20T04:46:59.177288Z",
     "shell.execute_reply": "2024-06-20T04:46:59.176404Z"
    },
    "papermill": {
     "duration": 0.025385,
     "end_time": "2024-06-20T04:46:59.179162",
     "exception": false,
     "start_time": "2024-06-20T04:46:59.153777",
     "status": "completed"
    },
    "tags": []
   },
   "outputs": [],
   "source": [
    "class ConvLayer(nn.Module):\n",
    "    def __init__(self, in_channels, out_channels, kernel_size, stride):\n",
    "        super(ConvLayer, self).__init__()\n",
    "        reflection_padding = kernel_size // 2\n",
    "        self.reflection_pad = nn.ReflectionPad2d(reflection_padding)\n",
    "        self.conv2d = nn.Conv2d(in_channels, out_channels, kernel_size, stride)\n",
    "\n",
    "    def forward(self, x):\n",
    "        out = self.reflection_pad(x)\n",
    "        out = self.conv2d(out)\n",
    "        return out"
   ]
  },
  {
   "cell_type": "code",
   "execution_count": 17,
   "id": "1dfba66e",
   "metadata": {
    "execution": {
     "iopub.execute_input": "2024-06-20T04:46:59.263282Z",
     "iopub.status.busy": "2024-06-20T04:46:59.262256Z",
     "iopub.status.idle": "2024-06-20T04:46:59.273347Z",
     "shell.execute_reply": "2024-06-20T04:46:59.272261Z"
    },
    "papermill": {
     "duration": 0.080577,
     "end_time": "2024-06-20T04:46:59.275722",
     "exception": false,
     "start_time": "2024-06-20T04:46:59.195145",
     "status": "completed"
    },
    "tags": []
   },
   "outputs": [],
   "source": [
    "class ResidualBlock(nn.Module):\n",
    "    def __init__(self, channels):\n",
    "        super(ResidualBlock, self).__init__()\n",
    "        self.conv1 = ConvLayer(channels, channels, kernel_size=3, stride=1)\n",
    "        self.in1 = nn.InstanceNorm2d(channels, affine=True)\n",
    "        self.conv2 = ConvLayer(channels, channels, kernel_size=3, stride=1)\n",
    "        self.in2 = nn.InstanceNorm2d(channels, affine=True)\n",
    "        self.relu = nn.ReLU()\n",
    "\n",
    "    def forward(self, x):\n",
    "        out = self.relu(self.in1(self.conv1(x)))\n",
    "        out = self.in2(self.conv2(out))\n",
    "        out = out + x\n",
    "        return out"
   ]
  },
  {
   "cell_type": "code",
   "execution_count": 18,
   "id": "48c357f3",
   "metadata": {
    "execution": {
     "iopub.execute_input": "2024-06-20T04:46:59.316980Z",
     "iopub.status.busy": "2024-06-20T04:46:59.316010Z",
     "iopub.status.idle": "2024-06-20T04:46:59.323898Z",
     "shell.execute_reply": "2024-06-20T04:46:59.322922Z"
    },
    "papermill": {
     "duration": 0.030437,
     "end_time": "2024-06-20T04:46:59.326106",
     "exception": false,
     "start_time": "2024-06-20T04:46:59.295669",
     "status": "completed"
    },
    "tags": []
   },
   "outputs": [],
   "source": [
    "class UpsampleConvLayer(nn.Module):\n",
    "    def __init__(self, in_channels, out_channels, kernel_size, stride, upsample=None):\n",
    "        super(UpsampleConvLayer, self).__init__()\n",
    "        self.upsample = upsample\n",
    "        reflection_padding = kernel_size // 2\n",
    "        self.reflection_pad = nn.ReflectionPad2d(reflection_padding)\n",
    "        self.conv2d = nn.Conv2d(in_channels, out_channels, kernel_size, stride)\n",
    "\n",
    "    def forward(self, x):\n",
    "        if self.upsample:\n",
    "            x = nn.functional.interpolate(x, mode='nearest', scale_factor=self.upsample)\n",
    "        out = self.reflection_pad(x)\n",
    "        out = self.conv2d(out)\n",
    "        return out"
   ]
  },
  {
   "cell_type": "code",
   "execution_count": 19,
   "id": "9f862b6d",
   "metadata": {
    "execution": {
     "iopub.execute_input": "2024-06-20T04:46:59.365405Z",
     "iopub.status.busy": "2024-06-20T04:46:59.365014Z",
     "iopub.status.idle": "2024-06-20T04:46:59.379378Z",
     "shell.execute_reply": "2024-06-20T04:46:59.378378Z"
    },
    "papermill": {
     "duration": 0.036695,
     "end_time": "2024-06-20T04:46:59.381759",
     "exception": false,
     "start_time": "2024-06-20T04:46:59.345064",
     "status": "completed"
    },
    "tags": []
   },
   "outputs": [],
   "source": [
    "class TransformerNet(nn.Module):\n",
    "    def __init__(self):\n",
    "        super(TransformerNet, self).__init__()\n",
    "        \n",
    "        self.conv1 = ConvLayer(3, 32, kernel_size=9, stride=1)\n",
    "        self.in1 = nn.InstanceNorm2d(32, affine=True)\n",
    "        self.conv2 = ConvLayer(32, 64, kernel_size=3, stride=2)\n",
    "        self.in2 = nn.InstanceNorm2d(64, affine=True)\n",
    "        self.conv3 = ConvLayer(64, 128, kernel_size=3, stride=2)\n",
    "        self.in3 = nn.InstanceNorm2d(128, affine=True)\n",
    "        \n",
    "        self.res1 = ResidualBlock(128)\n",
    "        self.res2 = ResidualBlock(128)\n",
    "        self.res3 = ResidualBlock(128)\n",
    "        self.res4 = ResidualBlock(128)\n",
    "        self.res5 = ResidualBlock(128)\n",
    "        \n",
    "        self.deconv1 = UpsampleConvLayer(128, 64, kernel_size=3, stride=1, upsample=2)\n",
    "        self.in4 = nn.InstanceNorm2d(64, affine=True)\n",
    "        self.deconv2 = UpsampleConvLayer(64, 32, kernel_size=3, stride=1, upsample=2)\n",
    "        self.in5 = nn.InstanceNorm2d(32, affine=True)\n",
    "        self.deconv3 = ConvLayer(32, 3, kernel_size=9, stride=1)\n",
    "        \n",
    "        self.relu = nn.ReLU()\n",
    "\n",
    "    def forward(self, X):\n",
    "        y = self.relu(self.in1(self.conv1(X)))\n",
    "        y = self.relu(self.in2(self.conv2(y)))\n",
    "        y = self.relu(self.in3(self.conv3(y)))\n",
    "        y = self.res1(y)\n",
    "        y = self.res2(y)\n",
    "        y = self.res3(y)\n",
    "        y = self.res4(y)\n",
    "        y = self.res5(y)\n",
    "        y = self.relu(self.in4(self.deconv1(y)))\n",
    "        y = self.relu(self.in5(self.deconv2(y)))\n",
    "        y = self.deconv3(y)\n",
    "        return y"
   ]
  },
  {
   "cell_type": "markdown",
   "id": "784b5ccc",
   "metadata": {
    "papermill": {
     "duration": 0.018431,
     "end_time": "2024-06-20T04:46:59.419081",
     "exception": false,
     "start_time": "2024-06-20T04:46:59.400650",
     "status": "completed"
    },
    "tags": []
   },
   "source": [
    "# Defining training helper functions"
   ]
  },
  {
   "cell_type": "code",
   "execution_count": 20,
   "id": "6380f312",
   "metadata": {
    "execution": {
     "iopub.execute_input": "2024-06-20T04:46:59.459362Z",
     "iopub.status.busy": "2024-06-20T04:46:59.458395Z",
     "iopub.status.idle": "2024-06-20T04:46:59.464375Z",
     "shell.execute_reply": "2024-06-20T04:46:59.463428Z"
    },
    "papermill": {
     "duration": 0.028216,
     "end_time": "2024-06-20T04:46:59.466645",
     "exception": false,
     "start_time": "2024-06-20T04:46:59.438429",
     "status": "completed"
    },
    "tags": []
   },
   "outputs": [],
   "source": [
    "def gram_matrix(y):\n",
    "    (b, c, h, w) = y.size()\n",
    "    features = y.view(b, c, w * h)\n",
    "    features_t = features.transpose(1, 2)\n",
    "    gram = features.bmm(features_t) / (c * h * w)\n",
    "    return gram"
   ]
  },
  {
   "cell_type": "code",
   "execution_count": 21,
   "id": "a5fbdc8a",
   "metadata": {
    "execution": {
     "iopub.execute_input": "2024-06-20T04:46:59.505325Z",
     "iopub.status.busy": "2024-06-20T04:46:59.504535Z",
     "iopub.status.idle": "2024-06-20T04:46:59.510016Z",
     "shell.execute_reply": "2024-06-20T04:46:59.509160Z"
    },
    "papermill": {
     "duration": 0.026509,
     "end_time": "2024-06-20T04:46:59.511944",
     "exception": false,
     "start_time": "2024-06-20T04:46:59.485435",
     "status": "completed"
    },
    "tags": []
   },
   "outputs": [],
   "source": [
    "def normalize_batch(batch):\n",
    "    mean = batch.new_tensor([0.485, 0.456, 0.406]).view(-1, 1, 1)\n",
    "    std = batch.new_tensor([0.229, 0.224, 0.225]).view(-1, 1, 1)\n",
    "    batch = batch.div_(255.0)\n",
    "    return (batch - mean) / std"
   ]
  },
  {
   "cell_type": "markdown",
   "id": "0256c21f",
   "metadata": {
    "papermill": {
     "duration": 0.016035,
     "end_time": "2024-06-20T04:46:59.544517",
     "exception": false,
     "start_time": "2024-06-20T04:46:59.528482",
     "status": "completed"
    },
    "tags": []
   },
   "source": [
    "# Training on given style image"
   ]
  },
  {
   "cell_type": "code",
   "execution_count": 22,
   "id": "a6ab3c7e",
   "metadata": {
    "execution": {
     "iopub.execute_input": "2024-06-20T04:46:59.582117Z",
     "iopub.status.busy": "2024-06-20T04:46:59.581376Z",
     "iopub.status.idle": "2024-06-20T04:46:59.594424Z",
     "shell.execute_reply": "2024-06-20T04:46:59.593459Z"
    },
    "papermill": {
     "duration": 0.033652,
     "end_time": "2024-06-20T04:46:59.596379",
     "exception": false,
     "start_time": "2024-06-20T04:46:59.562727",
     "status": "completed"
    },
    "tags": []
   },
   "outputs": [],
   "source": [
    "def TrainTransformerNet(style_path, vgg, device, train_dataloader, batch_size, epochs=1, lr=1e-3, content_weight = 1e5, style_weight = 1e10):\n",
    "    \n",
    "    style_image = LoadStyleImage(style_path, batch_size, device) ## Getting style image\n",
    "    features_style = vgg(normalize_batch(style_image)) ## getting features maps of style image\n",
    "    gram_style = [gram_matrix(y) for y in features_style] ## creating gram matrix of style features\n",
    "    \n",
    "    transformer = TransformerNet()\n",
    "    transformer = transformer.to(device)\n",
    "    optimizer = torch.optim.Adam(transformer.parameters(), lr=lr)\n",
    "    criterion = nn.MSELoss()\n",
    "    \n",
    "    loss = []\n",
    "    style_loss_ = []\n",
    "    content_loss_ = []\n",
    "    \n",
    "    for epoch in range(epochs):\n",
    "        \n",
    "        transformer.train()\n",
    "        agg_content_loss = 0.\n",
    "        agg_style_loss = 0.\n",
    "        \n",
    "        for x, _ in tqdm(train_dataloader):\n",
    "            optimizer.zero_grad()\n",
    "\n",
    "            x = x.to(device)\n",
    "            y = transformer(x)\n",
    "\n",
    "            y = normalize_batch(y)\n",
    "            x = normalize_batch(x)\n",
    "\n",
    "            features_y = vgg(y)\n",
    "            features_x = vgg(x)\n",
    "\n",
    "            content_loss = content_weight * criterion(features_y.relu2_2, features_x.relu2_2)\n",
    "\n",
    "            style_loss = 0.\n",
    "            n_batch = len(x)\n",
    "            for ft_y, gm_s in zip(features_y, gram_style):\n",
    "                gm_y = gram_matrix(ft_y)\n",
    "                style_loss += criterion(gm_y, gm_s[:n_batch, :, :])\n",
    "            style_loss *= style_weight\n",
    "\n",
    "            total_loss_b = content_loss + style_loss\n",
    "            total_loss_b.backward()\n",
    "            optimizer.step()\n",
    "\n",
    "            agg_content_loss += content_loss.item()\n",
    "            agg_style_loss += style_loss.item() \n",
    "            \n",
    "            style_loss_.append(style_loss.item())\n",
    "            content_loss_.append(content_loss.item())\n",
    "            loss.append(style_loss.item() + content_loss.item())\n",
    "        \n",
    "        avg_content_loss = agg_content_loss / len(train_dataloader)\n",
    "        avg_style_loss = agg_style_loss / len(train_dataloader)\n",
    "        avg_loss = avg_content_loss + avg_style_loss\n",
    "        \n",
    "        print(f\" {epoch +1} / {epochs} Style Loss : {avg_style_loss:.4f}, Content Loss : {avg_content_loss:.4f}, Total Loss : {avg_loss:.4f}\")\n",
    "            \n",
    "        \n",
    "    return transformer, loss, style_loss_, content_loss_"
   ]
  },
  {
   "cell_type": "code",
   "execution_count": 23,
   "id": "8c389bd2",
   "metadata": {
    "execution": {
     "iopub.execute_input": "2024-06-20T04:46:59.631013Z",
     "iopub.status.busy": "2024-06-20T04:46:59.630265Z",
     "iopub.status.idle": "2024-06-20T04:46:59.634239Z",
     "shell.execute_reply": "2024-06-20T04:46:59.633340Z"
    },
    "papermill": {
     "duration": 0.023074,
     "end_time": "2024-06-20T04:46:59.636088",
     "exception": false,
     "start_time": "2024-06-20T04:46:59.613014",
     "status": "completed"
    },
    "tags": []
   },
   "outputs": [],
   "source": [
    "style_name = \"Starry Night\""
   ]
  },
  {
   "cell_type": "code",
   "execution_count": 24,
   "id": "71c291de",
   "metadata": {
    "execution": {
     "iopub.execute_input": "2024-06-20T04:46:59.669066Z",
     "iopub.status.busy": "2024-06-20T04:46:59.668793Z",
     "iopub.status.idle": "2024-06-20T04:46:59.672699Z",
     "shell.execute_reply": "2024-06-20T04:46:59.671806Z"
    },
    "papermill": {
     "duration": 0.022701,
     "end_time": "2024-06-20T04:46:59.674773",
     "exception": false,
     "start_time": "2024-06-20T04:46:59.652072",
     "status": "completed"
    },
    "tags": []
   },
   "outputs": [],
   "source": [
    "input_dir = \"/kaggle/input/style-images-for-neural-style-transfer/Style Images for Neural Style Transfer\""
   ]
  },
  {
   "cell_type": "code",
   "execution_count": 25,
   "id": "7a2106ec",
   "metadata": {
    "execution": {
     "iopub.execute_input": "2024-06-20T04:46:59.707296Z",
     "iopub.status.busy": "2024-06-20T04:46:59.706921Z",
     "iopub.status.idle": "2024-06-20T04:46:59.711447Z",
     "shell.execute_reply": "2024-06-20T04:46:59.710533Z"
    },
    "papermill": {
     "duration": 0.023212,
     "end_time": "2024-06-20T04:46:59.713631",
     "exception": false,
     "start_time": "2024-06-20T04:46:59.690419",
     "status": "completed"
    },
    "tags": []
   },
   "outputs": [],
   "source": [
    "style_path = os.path.join(input_dir, style_name)\n",
    "style_path += \".jpg\""
   ]
  },
  {
   "cell_type": "code",
   "execution_count": 26,
   "id": "127c2c35",
   "metadata": {
    "execution": {
     "iopub.execute_input": "2024-06-20T04:46:59.750095Z",
     "iopub.status.busy": "2024-06-20T04:46:59.749735Z",
     "iopub.status.idle": "2024-06-20T05:18:02.735821Z",
     "shell.execute_reply": "2024-06-20T05:18:02.734790Z"
    },
    "papermill": {
     "duration": 1863.007639,
     "end_time": "2024-06-20T05:18:02.738387",
     "exception": false,
     "start_time": "2024-06-20T04:46:59.730748",
     "status": "completed"
    },
    "tags": []
   },
   "outputs": [
    {
     "data": {
      "application/vnd.jupyter.widget-view+json": {
       "model_id": "b321de5b296f4494b6027f55f692d576",
       "version_major": 2,
       "version_minor": 0
      },
      "text/plain": [
       "  0%|          | 0/10000 [00:00<?, ?it/s]"
      ]
     },
     "metadata": {},
     "output_type": "display_data"
    },
    {
     "name": "stdout",
     "output_type": "stream",
     "text": [
      " 1 / 1 Style Loss : 189597.0256, Content Loss : 564441.4321, Total Loss : 754038.4577\n"
     ]
    }
   ],
   "source": [
    "trained_model, loss, style_loss, content_loss = TrainTransformerNet(style_path, vgg, device, train_dataloader, batch_size, epochs=1, lr=1e-3, content_weight = 1e5, style_weight = 1e10)"
   ]
  },
  {
   "cell_type": "markdown",
   "id": "a1889caa",
   "metadata": {
    "papermill": {
     "duration": 0.017608,
     "end_time": "2024-06-20T05:18:02.775194",
     "exception": false,
     "start_time": "2024-06-20T05:18:02.757586",
     "status": "completed"
    },
    "tags": []
   },
   "source": [
    "# Plotting losses"
   ]
  },
  {
   "cell_type": "code",
   "execution_count": 27,
   "id": "27fd6079",
   "metadata": {
    "execution": {
     "iopub.execute_input": "2024-06-20T05:18:02.811614Z",
     "iopub.status.busy": "2024-06-20T05:18:02.811253Z",
     "iopub.status.idle": "2024-06-20T05:18:02.817430Z",
     "shell.execute_reply": "2024-06-20T05:18:02.816516Z"
    },
    "papermill": {
     "duration": 0.026592,
     "end_time": "2024-06-20T05:18:02.819283",
     "exception": false,
     "start_time": "2024-06-20T05:18:02.792691",
     "status": "completed"
    },
    "tags": []
   },
   "outputs": [],
   "source": [
    "def plot_losses(loss, style_loss, content_loss):\n",
    "    plt.figure(figsize=(10, 5))\n",
    "    plt.plot(loss, label='Total Loss')\n",
    "    plt.plot(style_loss, label='Style Loss')\n",
    "    plt.plot(content_loss, label='Content Loss')\n",
    "    plt.title('Training Losses')\n",
    "    plt.xlabel('Per 4 samples')\n",
    "    plt.ylabel('Loss')\n",
    "    plt.legend()\n",
    "    plt.grid(True)\n",
    "    plt.show()"
   ]
  },
  {
   "cell_type": "code",
   "execution_count": 28,
   "id": "2120fa74",
   "metadata": {
    "execution": {
     "iopub.execute_input": "2024-06-20T05:18:02.854503Z",
     "iopub.status.busy": "2024-06-20T05:18:02.854179Z",
     "iopub.status.idle": "2024-06-20T05:18:03.237558Z",
     "shell.execute_reply": "2024-06-20T05:18:03.236652Z"
    },
    "papermill": {
     "duration": 0.40367,
     "end_time": "2024-06-20T05:18:03.240061",
     "exception": false,
     "start_time": "2024-06-20T05:18:02.836391",
     "status": "completed"
    },
    "tags": []
   },
   "outputs": [
    {
     "data": {
      "image/png": "[encoded data removed]",
      "text/plain": [
       "<Figure size 1000x500 with 1 Axes>"
      ]
     },
     "metadata": {},
     "output_type": "display_data"
    }
   ],
   "source": [
    "plot_losses(loss, style_loss, content_loss)"
   ]
  },
  {
   "cell_type": "markdown",
   "id": "5de7eb62",
   "metadata": {
    "papermill": {
     "duration": 0.016786,
     "end_time": "2024-06-20T05:18:03.274200",
     "exception": false,
     "start_time": "2024-06-20T05:18:03.257414",
     "status": "completed"
    },
    "tags": []
   },
   "source": [
    "# Saving the trained Model"
   ]
  },
  {
   "cell_type": "code",
   "execution_count": 29,
   "id": "1a3e3d68",
   "metadata": {
    "execution": {
     "iopub.execute_input": "2024-06-20T05:18:03.310236Z",
     "iopub.status.busy": "2024-06-20T05:18:03.309833Z",
     "iopub.status.idle": "2024-06-20T05:18:03.323808Z",
     "shell.execute_reply": "2024-06-20T05:18:03.322937Z"
    },
    "papermill": {
     "duration": 0.034364,
     "end_time": "2024-06-20T05:18:03.325824",
     "exception": false,
     "start_time": "2024-06-20T05:18:03.291460",
     "status": "completed"
    },
    "tags": []
   },
   "outputs": [],
   "source": [
    "trained_model = trained_model.to(\"cpu\")"
   ]
  },
  {
   "cell_type": "code",
   "execution_count": 30,
   "id": "24d8d471",
   "metadata": {
    "execution": {
     "iopub.execute_input": "2024-06-20T05:18:03.361713Z",
     "iopub.status.busy": "2024-06-20T05:18:03.361412Z",
     "iopub.status.idle": "2024-06-20T05:18:03.365472Z",
     "shell.execute_reply": "2024-06-20T05:18:03.364511Z"
    },
    "papermill": {
     "duration": 0.023927,
     "end_time": "2024-06-20T05:18:03.367287",
     "exception": false,
     "start_time": "2024-06-20T05:18:03.343360",
     "status": "completed"
    },
    "tags": []
   },
   "outputs": [],
   "source": [
    "model_name = style_name + \".model\""
   ]
  },
  {
   "cell_type": "code",
   "execution_count": 31,
   "id": "39fb5da2",
   "metadata": {
    "execution": {
     "iopub.execute_input": "2024-06-20T05:18:03.403024Z",
     "iopub.status.busy": "2024-06-20T05:18:03.402209Z",
     "iopub.status.idle": "2024-06-20T05:18:03.420867Z",
     "shell.execute_reply": "2024-06-20T05:18:03.419877Z"
    },
    "papermill": {
     "duration": 0.039095,
     "end_time": "2024-06-20T05:18:03.423169",
     "exception": false,
     "start_time": "2024-06-20T05:18:03.384074",
     "status": "completed"
    },
    "tags": []
   },
   "outputs": [],
   "source": [
    "torch.save(trained_model.state_dict(), model_name)"
   ]
  }
 ],
 "metadata": {
  "kaggle": {
   "accelerator": "gpu",
   "dataSources": [
    {
     "datasetId": 857191,
     "sourceId": 1462296,
     "sourceType": "datasetVersion"
    },
    {
     "datasetId": 5241921,
     "sourceId": 8733509,
     "sourceType": "datasetVersion"
    }
   ],
   "isGpuEnabled": true,
   "isInternetEnabled": true,
   "language": "python",
   "sourceType": "notebook"
  },
  "kernelspec": {
   "display_name": "Python 3",
   "language": "python",
   "name": "python3"
  },
  "language_info": {
   "codemirror_mode": {
    "name": "ipython",
    "version": 3
   },
   "file_extension": ".py",
   "mimetype": "text/x-python",
   "name": "python",
   "nbconvert_exporter": "python",
   "pygments_lexer": "ipython3",
   "version": "3.10.13"
  },
  "papermill": {
   "default_parameters": {},
   "duration": 1880.296351,
   "end_time": "2024-06-20T05:18:04.868718",
   "environment_variables": {},
   "exception": null,
   "input_path": "__notebook__.ipynb",
   "output_path": "__notebook__.ipynb",
   "parameters": {},
   "start_time": "2024-06-20T04:46:44.572367",
   "version": "2.5.0"
  },
  "widgets": {
   "application/vnd.jupyter.widget-state+json": {
    "state": {
     "01b716eb518e4cff98098b0675ac5683": {
      "model_module": "@jupyter-widgets/controls",
      "model_module_version": "1.5.0",
      "model_name": "ProgressStyleModel",
      "state": {
       "_model_module": "@jupyter-widgets/controls",
       "_model_module_version": "1.5.0",
       "_model_name": "ProgressStyleModel",
       "_view_count": null,
       "_view_module": "@jupyter-widgets/base",
       "_view_module_version": "1.2.0",
       "_view_name": "StyleView",
       "bar_color": null,
       "description_width": ""
      }
     },
     "1e0c22ff18ff40359b2d5a160d8d707e": {
      "model_module": "@jupyter-widgets/controls",
      "model_module_version": "1.5.0",
      "model_name": "HTMLModel",
      "state": {
       "_dom_classes": [],
       "_model_module": "@jupyter-widgets/controls",
       "_model_module_version": "1.5.0",
       "_model_name": "HTMLModel",
       "_view_count": null,
       "_view_module": "@jupyter-widgets/controls",
       "_view_module_version": "1.5.0",
       "_view_name": "HTMLView",
       "description": "",
       "description_tooltip": null,
       "layout": "IPY_MODEL_bbfb78655cf04159a3b3906479bbf5d0",
       "placeholder": "​",
       "style": "IPY_MODEL_df8e45cc62d840b89c89eed4aeddc56b",
       "value": " 10000/10000 [31:02&lt;00:00,  5.34it/s]"
      }
     },
     "6635a43aa23547f6a688f40ded1cc122": {
      "model_module": "@jupyter-widgets/base",
      "model_module_version": "1.2.0",
      "model_name": "LayoutModel",
      "state": {
       "_model_module": "@jupyter-widgets/base",
       "_model_module_version": "1.2.0",
       "_model_name": "LayoutModel",
       "_view_count": null,
       "_view_module": "@jupyter-widgets/base",
       "_view_module_version": "1.2.0",
       "_view_name": "LayoutView",
       "align_content": null,
       "align_items": null,
       "align_self": null,
       "border": null,
       "bottom": null,
       "display": null,
       "flex": null,
       "flex_flow": null,
       "grid_area": null,
       "grid_auto_columns": null,
       "grid_auto_flow": null,
       "grid_auto_rows": null,
       "grid_column": null,
       "grid_gap": null,
       "grid_row": null,
       "grid_template_areas": null,
       "grid_template_columns": null,
       "grid_template_rows": null,
       "height": null,
       "justify_content": null,
       "justify_items": null,
       "left": null,
       "margin": null,
       "max_height": null,
       "max_width": null,
       "min_height": null,
       "min_width": null,
       "object_fit": null,
       "object_position": null,
       "order": null,
       "overflow": null,
       "overflow_x": null,
       "overflow_y": null,
       "padding": null,
       "right": null,
       "top": null,
       "visibility": null,
       "width": null
      }
     },
     "8bc2e9f2613f4795a80643197408ab75": {
      "model_module": "@jupyter-widgets/controls",
      "model_module_version": "1.5.0",
      "model_name": "HTMLModel",
      "state": {
       "_dom_classes": [],
       "_model_module": "@jupyter-widgets/controls",
       "_model_module_version": "1.5.0",
       "_model_name": "HTMLModel",
       "_view_count": null,
       "_view_module": "@jupyter-widgets/controls",
       "_view_module_version": "1.5.0",
       "_view_name": "HTMLView",
       "description": "",
       "description_tooltip": null,
       "layout": "IPY_MODEL_6635a43aa23547f6a688f40ded1cc122",
       "placeholder": "​",
       "style": "IPY_MODEL_c2783803556948aaa58345a0f6c02eb3",
       "value": "100%"
      }
     },
     "983072a89c1d46788642e5ad230841bf": {
      "model_module": "@jupyter-widgets/controls",
      "model_module_version": "1.5.0",
      "model_name": "FloatProgressModel",
      "state": {
       "_dom_classes": [],
       "_model_module": "@jupyter-widgets/controls",
       "_model_module_version": "1.5.0",
       "_model_name": "FloatProgressModel",
       "_view_count": null,
       "_view_module": "@jupyter-widgets/controls",
       "_view_module_version": "1.5.0",
       "_view_name": "ProgressView",
       "bar_style": "success",
       "description": "",
       "description_tooltip": null,
       "layout": "IPY_MODEL_c1aa087cbed14fdca559c29a6d05d9ee",
       "max": 10000.0,
       "min": 0.0,
       "orientation": "horizontal",
       "style": "IPY_MODEL_01b716eb518e4cff98098b0675ac5683",
       "value": 10000.0
      }
     },
     "aca0fcd933984d26926d5daebdd21b6f": {
      "model_module": "@jupyter-widgets/base",
      "model_module_version": "1.2.0",
      "model_name": "LayoutModel",
      "state": {
       "_model_module": "@jupyter-widgets/base",
       "_model_module_version": "1.2.0",
       "_model_name": "LayoutModel",
       "_view_count": null,
       "_view_module": "@jupyter-widgets/base",
       "_view_module_version": "1.2.0",
       "_view_name": "LayoutView",
       "align_content": null,
       "align_items": null,
       "align_self": null,
       "border": null,
       "bottom": null,
       "display": null,
       "flex": null,
       "flex_flow": null,
       "grid_area": null,
       "grid_auto_columns": null,
       "grid_auto_flow": null,
       "grid_auto_rows": null,
       "grid_column": null,
       "grid_gap": null,
       "grid_row": null,
       "grid_template_areas": null,
       "grid_template_columns": null,
       "grid_template_rows": null,
       "height": null,
       "justify_content": null,
       "justify_items": null,
       "left": null,
       "margin": null,
       "max_height": null,
       "max_width": null,
       "min_height": null,
       "min_width": null,
       "object_fit": null,
       "object_position": null,
       "order": null,
       "overflow": null,
       "overflow_x": null,
       "overflow_y": null,
       "padding": null,
       "right": null,
       "top": null,
       "visibility": null,
       "width": null
      }
     },
     "b321de5b296f4494b6027f55f692d576": {
      "model_module": "@jupyter-widgets/controls",
      "model_module_version": "1.5.0",
      "model_name": "HBoxModel",
      "state": {
       "_dom_classes": [],
       "_model_module": "@jupyter-widgets/controls",
       "_model_module_version": "1.5.0",
       "_model_name": "HBoxModel",
       "_view_count": null,
       "_view_module": "@jupyter-widgets/controls",
       "_view_module_version": "1.5.0",
       "_view_name": "HBoxView",
       "box_style": "",
       "children": [
        "IPY_MODEL_8bc2e9f2613f4795a80643197408ab75",
        "IPY_MODEL_983072a89c1d46788642e5ad230841bf",
        "IPY_MODEL_1e0c22ff18ff40359b2d5a160d8d707e"
       ],
       "layout": "IPY_MODEL_aca0fcd933984d26926d5daebdd21b6f"
      }
     },
     "bbfb78655cf04159a3b3906479bbf5d0": {
      "model_module": "@jupyter-widgets/base",
      "model_module_version": "1.2.0",
      "model_name": "LayoutModel",
      "state": {
       "_model_module": "@jupyter-widgets/base",
       "_model_module_version": "1.2.0",
       "_model_name": "LayoutModel",
       "_view_count": null,
       "_view_module": "@jupyter-widgets/base",
       "_view_module_version": "1.2.0",
       "_view_name": "LayoutView",
       "align_content": null,
       "align_items": null,
       "align_self": null,
       "border": null,
       "bottom": null,
       "display": null,
       "flex": null,
       "flex_flow": null,
       "grid_area": null,
       "grid_auto_columns": null,
       "grid_auto_flow": null,
       "grid_auto_rows": null,
       "grid_column": null,
       "grid_gap": null,
       "grid_row": null,
       "grid_template_areas": null,
       "grid_template_columns": null,
       "grid_template_rows": null,
       "height": null,
       "justify_content": null,
       "justify_items": null,
       "left": null,
       "margin": null,
       "max_height": null,
       "max_width": null,
       "min_height": null,
       "min_width": null,
       "object_fit": null,
       "object_position": null,
       "order": null,
       "overflow": null,
       "overflow_x": null,
       "overflow_y": null,
       "padding": null,
       "right": null,
       "top": null,
       "visibility": null,
       "width": null
      }
     },
     "c1aa087cbed14fdca559c29a6d05d9ee": {
      "model_module": "@jupyter-widgets/base",
      "model_module_version": "1.2.0",
      "model_name": "LayoutModel",
      "state": {
       "_model_module": "@jupyter-widgets/base",
       "_model_module_version": "1.2.0",
       "_model_name": "LayoutModel",
       "_view_count": null,
       "_view_module": "@jupyter-widgets/base",
       "_view_module_version": "1.2.0",
       "_view_name": "LayoutView",
       "align_content": null,
       "align_items": null,
       "align_self": null,
       "border": null,
       "bottom": null,
       "display": null,
       "flex": null,
       "flex_flow": null,
       "grid_area": null,
       "grid_auto_columns": null,
       "grid_auto_flow": null,
       "grid_auto_rows": null,
       "grid_column": null,
       "grid_gap": null,
       "grid_row": null,
       "grid_template_areas": null,
       "grid_template_columns": null,
       "grid_template_rows": null,
       "height": null,
       "justify_content": null,
       "justify_items": null,
       "left": null,
       "margin": null,
       "max_height": null,
       "max_width": null,
       "min_height": null,
       "min_width": null,
       "object_fit": null,
       "object_position": null,
       "order": null,
       "overflow": null,
       "overflow_x": null,
       "overflow_y": null,
       "padding": null,
       "right": null,
       "top": null,
       "visibility": null,
       "width": null
      }
     },
     "c2783803556948aaa58345a0f6c02eb3": {
      "model_module": "@jupyter-widgets/controls",
      "model_module_version": "1.5.0",
      "model_name": "DescriptionStyleModel",
      "state": {
       "_model_module": "@jupyter-widgets/controls",
       "_model_module_version": "1.5.0",
       "_model_name": "DescriptionStyleModel",
       "_view_count": null,
       "_view_module": "@jupyter-widgets/base",
       "_view_module_version": "1.2.0",
       "_view_name": "StyleView",
       "description_width": ""
      }
     },
     "df8e45cc62d840b89c89eed4aeddc56b": {
      "model_module": "@jupyter-widgets/controls",
      "model_module_version": "1.5.0",
      "model_name": "DescriptionStyleModel",
      "state": {
       "_model_module": "@jupyter-widgets/controls",
       "_model_module_version": "1.5.0",
       "_model_name": "DescriptionStyleModel",
       "_view_count": null,
       "_view_module": "@jupyter-widgets/base",
       "_view_module_version": "1.2.0",
       "_view_name": "StyleView",
       "description_width": ""
      }
     }
    },
    "version_major": 2,
    "version_minor": 0
   }
  }
 },
 "nbformat": 4,
 "nbformat_minor": 5
}
